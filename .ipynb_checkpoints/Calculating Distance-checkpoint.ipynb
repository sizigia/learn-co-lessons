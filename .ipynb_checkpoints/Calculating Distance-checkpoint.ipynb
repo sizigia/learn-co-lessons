{
 "cells": [
  {
   "cell_type": "markdown",
   "metadata": {},
   "source": [
    "### Calculating the distance"
   ]
  },
  {
   "cell_type": "markdown",
   "metadata": {},
   "source": [
    "Previously, we used visualizations to evaluate the closest customers to our salesperson, Bob.  Now that can work when we only have one salesperson, but when our business grows to have more salespeople, or when it becomes more difficult to approximate who is further away, we need a more formalized approach.  So let's see if there's a way that we can figure out the distance between Bob and a customer."
   ]
  },
  {
   "cell_type": "markdown",
   "metadata": {},
   "source": [
    "Once again, here are the locations of Bob and our customers:\n",
    "\n",
    "| Name | Avenue #| Block # | \n",
    "|------|------| ------     |\n",
    "| Bob    | 4  |     8     | \n",
    "| Suzie  | 1  |     11     | \n",
    "| Fred   | 5  |     8     | \n",
    "| Edgar  | 6  |     13     | \n",
    "| Steven | 3  |     6     | \n",
    "| Natalie| 5  |     4     | "
   ]
  },
  {
   "cell_type": "markdown",
   "metadata": {},
   "source": [
    "And here are these locations in the form of a scatter plot.\n",
    "![Customers and Bob](./customers-plot.png \"Customers and Bob\")"
   ]
  },
  {
   "cell_type": "markdown",
   "metadata": {},
   "source": [
    "Now, there are no labels in this particular plot, but we should be able to make sense of it anyway.  Our table says that Bob is located at avenue 4 and block 8, and when we look at where the x-axis reaches 4 and the y-axis reaches 8, we see a marker right there - that's Bob."
   ]
  },
  {
   "cell_type": "markdown",
   "metadata": {},
   "source": [
    "Now are next task is to calculate the distance between Bob and another customer.  Let's choose how far Bob at point (4, 8) is from the customer at point (3, 6)."
   ]
  },
  {
   "cell_type": "markdown",
   "metadata": {},
   "source": [
    "### Calculating distance"
   ]
  },
  {
   "cell_type": "markdown",
   "metadata": {},
   "source": [
    "Here's our first approach at calculating distance.  To go from 8th street and 4th avenue to 6th street and 3rd avenue, we simply go two blocks down and one block to the left for a distance of three blocks.  \n",
    "\n",
    "Now that's a good start, but it's not how mathematicians would calculate distance between points.  The definition of distance is the length of shortest path between two points.  So imagine, if it helps, that we made our deliveries with the help of a drone.  So then which path from (4, 8) to (3,6) is shortest? We won't prove it, but one single straight line between any two points is the shortest path between them.  So the shortest path between (4,8) and (3, 6) is a straight diagonal line between them.  \n",
    "\n",
    "![Customers and Bob](./customers-line.png \"Customers and Bob\")"
   ]
  },
  {
   "cell_type": "code",
   "execution_count": 2,
   "metadata": {},
   "outputs": [
    {
     "data": {
      "text/html": [
       "<script>requirejs.config({paths: { 'plotly': ['https://cdn.plot.ly/plotly-latest.min']},});if(!window.Plotly) {{require(['plotly'],function(plotly) {window.Plotly=plotly;});}}</script>"
      ],
      "text/vnd.plotly.v1+html": [
       "<script>requirejs.config({paths: { 'plotly': ['https://cdn.plot.ly/plotly-latest.min']},});if(!window.Plotly) {{require(['plotly'],function(plotly) {window.Plotly=plotly;});}}</script>"
      ]
     },
     "metadata": {},
     "output_type": "display_data"
    }
   ],
   "source": [
    "import plotly as py\n",
    "import plotly.graph_objs as go\n",
    "\n",
    "plotly.offline.init_notebook_mode(connected=True)\n",
    "# use offline mode to avoid initial registration"
   ]
  },
  {
   "cell_type": "markdown",
   "metadata": {},
   "source": [
    "Let's take our first shot at mapping out this data.  We'll use graph object of a scatter plot.  We've never worked with a scatter plot before, so let's start off with a scatter plot of just one point, the point 2, 3 (we choose that point for no particular reason)."
   ]
  },
  {
   "cell_type": "code",
   "execution_count": 3,
   "metadata": {},
   "outputs": [
    {
     "data": {
      "application/vnd.plotly.v1+json": {
       "data": [
        {
         "type": "scatter",
         "x": [
          2
         ],
         "y": [
          1
         ]
        }
       ],
       "layout": {}
      },
      "text/html": [
       "<div id=\"1e3770cd-c030-44d4-bf01-d51c2435fdc5\" style=\"height: 525px; width: 100%;\" class=\"plotly-graph-div\"></div><script type=\"text/javascript\">require([\"plotly\"], function(Plotly) { window.PLOTLYENV=window.PLOTLYENV || {};window.PLOTLYENV.BASE_URL=\"https://plot.ly\";Plotly.newPlot(\"1e3770cd-c030-44d4-bf01-d51c2435fdc5\", [{\"type\": \"scatter\", \"x\": [2], \"y\": [1]}], {}, {\"showLink\": true, \"linkText\": \"Export to plot.ly\"})});</script>"
      ],
      "text/vnd.plotly.v1+html": [
       "<div id=\"1e3770cd-c030-44d4-bf01-d51c2435fdc5\" style=\"height: 525px; width: 100%;\" class=\"plotly-graph-div\"></div><script type=\"text/javascript\">require([\"plotly\"], function(Plotly) { window.PLOTLYENV=window.PLOTLYENV || {};window.PLOTLYENV.BASE_URL=\"https://plot.ly\";Plotly.newPlot(\"1e3770cd-c030-44d4-bf01-d51c2435fdc5\", [{\"type\": \"scatter\", \"x\": [2], \"y\": [1]}], {}, {\"showLink\": true, \"linkText\": \"Export to plot.ly\"})});</script>"
      ]
     },
     "metadata": {},
     "output_type": "display_data"
    }
   ],
   "source": [
    "# Don't worry about understanding all of this code, we'll break it down later.\n",
    "trace0 = go.Scatter(\n",
    "    x=[2], \n",
    "    y=[1]\n",
    ")\n",
    "data = go.Data([trace0])\n",
    "py.offline.iplot([trace0])"
   ]
  },
  {
   "cell_type": "markdown",
   "metadata": {},
   "source": [
    "Ok, so let's focus on graph first and then we can take another look at the code.  In fact, its our first introduction to the **cartesian coordinate system**.  Let's take a look.  The coordinate system is used to display data along both an x and y axis.  The **x-axis** runs horizontally, from left to right, and you can see it labeled along the bottom.  The **y-axis** is runs vertically, from the bottom to the top and you can see it labeled on the far left of our graph."
   ]
  },
  {
   "cell_type": "markdown",
   "metadata": {},
   "source": [
    "Our graph starts may have the x-axis and y-axis starting from different points, but that's just the graphing library.  In reality, you can imagine the x-axis and y-axis both including all numbers from negative infinity to positive infinity.  Now, that dot in the center of our graph represents the point (2, 3).  Do you see why?  Well it's the place where the x value is 2, and the y value is three.  \n",
    "\n",
    "There are light lines running across all of the x and y points to help you visualize the points.  So to see the point's x value, we follow the vertical line down to see where it lies on the x-axis, at 2.  And to see the point's y value, we follow the horizontal line that it intersects with the y-axis at the far left.\n",
    "\n",
    "Now, test your knowledge by moving your mouse to where the point (3, 2) would be.  Did you get it?  It's the spot at the top right of the graph."
   ]
  },
  {
   "cell_type": "markdown",
   "metadata": {},
   "source": [
    "### Plotting our data"
   ]
  },
  {
   "cell_type": "markdown",
   "metadata": {},
   "source": [
    "Ok, now let's plot the data given.  \n",
    "\n",
    "| Name | Avenue #| Block # | \n",
    "|------|------| ------     |\n",
    "| bob    | 4  |     8     | \n",
    "| suzie  | 1  |     11     | \n",
    "| fred   | 5  |     8     | \n",
    "| edgar  | 6  |     13     | \n",
    "| steven | 3  |     6     | \n",
    "| natalie| 5  |     4     | \n",
    "\n",
    "We reference the graphing object module as `go`, and make a scatter plot by calling the `go.Scatter` method.  Then we pass through named arguments that set the `x` value equal to an array of x values -- notice that these match up to the in the table above.  We set the `y` value equal to an array of y values matching the block numbers.  We display this data by calling `py.offline.iplot` and passing through the `trace0` variable wrapped in an array.  "
   ]
  },
  {
   "cell_type": "code",
   "execution_count": 4,
   "metadata": {},
   "outputs": [
    {
     "data": {
      "application/vnd.plotly.v1+json": {
       "data": [
        {
         "type": "scatter",
         "x": [
          4,
          1,
          5,
          6,
          3,
          2
         ],
         "y": [
          8,
          11,
          8,
          13,
          6,
          4
         ]
        }
       ],
       "layout": {}
      },
      "text/html": [
       "<div id=\"ab386aa3-7ace-4cf9-8977-8c78ade3b5de\" style=\"height: 525px; width: 100%;\" class=\"plotly-graph-div\"></div><script type=\"text/javascript\">require([\"plotly\"], function(Plotly) { window.PLOTLYENV=window.PLOTLYENV || {};window.PLOTLYENV.BASE_URL=\"https://plot.ly\";Plotly.newPlot(\"ab386aa3-7ace-4cf9-8977-8c78ade3b5de\", [{\"type\": \"scatter\", \"x\": [4, 1, 5, 6, 3, 2], \"y\": [8, 11, 8, 13, 6, 4]}], {}, {\"showLink\": true, \"linkText\": \"Export to plot.ly\"})});</script>"
      ],
      "text/vnd.plotly.v1+html": [
       "<div id=\"ab386aa3-7ace-4cf9-8977-8c78ade3b5de\" style=\"height: 525px; width: 100%;\" class=\"plotly-graph-div\"></div><script type=\"text/javascript\">require([\"plotly\"], function(Plotly) { window.PLOTLYENV=window.PLOTLYENV || {};window.PLOTLYENV.BASE_URL=\"https://plot.ly\";Plotly.newPlot(\"ab386aa3-7ace-4cf9-8977-8c78ade3b5de\", [{\"type\": \"scatter\", \"x\": [4, 1, 5, 6, 3, 2], \"y\": [8, 11, 8, 13, 6, 4]}], {}, {\"showLink\": true, \"linkText\": \"Export to plot.ly\"})});</script>"
      ]
     },
     "metadata": {},
     "output_type": "display_data"
    }
   ],
   "source": [
    "trace0 = go.Scatter(\n",
    "    x=[4, 1, 5, 6, 3, 2],\n",
    "    y=[8, 11, 8, 13, 6, 4]\n",
    ")\n",
    "py.offline.iplot([trace0])\n",
    "\n",
    "# All that, and it doesn't even look good :("
   ]
  },
  {
   "cell_type": "markdown",
   "metadata": {},
   "source": [
    "The points were plotted correctly, but they are connected by a line, which doesn't represent anything in particular."
   ]
  },
  {
   "cell_type": "markdown",
   "metadata": {},
   "source": [
    "Let's remove the lines by setting `mode = \"markers\"`.  Then, let's also set labels to each of the dots, by setting `text` equal to an array of our names.  "
   ]
  },
  {
   "cell_type": "code",
   "execution_count": 5,
   "metadata": {},
   "outputs": [
    {
     "data": {
      "application/vnd.plotly.v1+json": {
       "data": [
        {
         "mode": "markers",
         "text": [
          "bob",
          "suzie",
          "fred",
          "edgar",
          "steven",
          "natalie"
         ],
         "type": "scatter",
         "x": [
          4,
          1,
          5,
          6,
          3,
          2
         ],
         "y": [
          8,
          11,
          8,
          13,
          6,
          4
         ]
        }
       ],
       "layout": {}
      },
      "text/html": [
       "<div id=\"b20e440c-15c6-4846-adf6-4dfdef10258f\" style=\"height: 525px; width: 100%;\" class=\"plotly-graph-div\"></div><script type=\"text/javascript\">require([\"plotly\"], function(Plotly) { window.PLOTLYENV=window.PLOTLYENV || {};window.PLOTLYENV.BASE_URL=\"https://plot.ly\";Plotly.newPlot(\"b20e440c-15c6-4846-adf6-4dfdef10258f\", [{\"type\": \"scatter\", \"text\": [\"bob\", \"suzie\", \"fred\", \"edgar\", \"steven\", \"natalie\"], \"x\": [4, 1, 5, 6, 3, 2], \"y\": [8, 11, 8, 13, 6, 4], \"mode\": \"markers\"}], {}, {\"showLink\": true, \"linkText\": \"Export to plot.ly\"})});</script>"
      ],
      "text/vnd.plotly.v1+html": [
       "<div id=\"b20e440c-15c6-4846-adf6-4dfdef10258f\" style=\"height: 525px; width: 100%;\" class=\"plotly-graph-div\"></div><script type=\"text/javascript\">require([\"plotly\"], function(Plotly) { window.PLOTLYENV=window.PLOTLYENV || {};window.PLOTLYENV.BASE_URL=\"https://plot.ly\";Plotly.newPlot(\"b20e440c-15c6-4846-adf6-4dfdef10258f\", [{\"type\": \"scatter\", \"text\": [\"bob\", \"suzie\", \"fred\", \"edgar\", \"steven\", \"natalie\"], \"x\": [4, 1, 5, 6, 3, 2], \"y\": [8, 11, 8, 13, 6, 4], \"mode\": \"markers\"}], {}, {\"showLink\": true, \"linkText\": \"Export to plot.ly\"})});</script>"
      ]
     },
     "metadata": {},
     "output_type": "display_data"
    }
   ],
   "source": [
    "trace0 = go.Scatter(\n",
    "    text=[\"bob\", \"suzie\", \"fred\", \"edgar\", \"steven\", \"natalie\"],\n",
    "    x=[4, 1, 5, 6, 3, 2],\n",
    "    y=[8, 11, 8, 13, 6, 4],\n",
    "    mode=\"markers\",\n",
    ")\n",
    "py.offline.iplot([trace0])\n",
    "\n",
    "# much better :)"
   ]
  },
  {
   "cell_type": "markdown",
   "metadata": {},
   "source": [
    "Ok, so if you move your mouse over the dots, you can see the names that correspond to each point.  Also, when we hover over the dot at the x axis of point four, we can see that is bob's point, just like it should be.  Now, who is closest to Bob?  It looks like Fred is, so that is who Bob should visit first."
   ]
  },
  {
   "cell_type": "markdown",
   "metadata": {},
   "source": [
    "### Summary"
   ]
  },
  {
   "cell_type": "markdown",
   "metadata": {},
   "source": [
    "In this section, we saw how we use data visualisations to better understand the data.  A cartesian coordinate system nicely represents two dimensional data.  It allows to represent a point's x value by placing the point horizontally at the correct spot on the x-axis.  It represents a point's y value by placing the point at the correct spot along the y-axis.\n",
    "\n",
    "To display the data with `plotly` we need to do a couple of things.  First, we install plotly by going to our terminal and running `pip install plotly`.  Then to use the library, we import the `plotly` library as well as the `graph_objects` module.  Now that we have the library to reference in our notebook, it's time to use it.  We create a scatterplot by calling the `Scatter()` from `plotly`'s `graphing_objects` module, and pass through our data in the format of `go.Scatter(x=[4, 1, 5, 6, 3, 2], y=[8, 11, 8, 13, 6, 4])` to pass through our x and y values.  To clean up the appearance we set the `mode` attribute equal to `'markers'`."
   ]
  }
 ],
 "metadata": {
  "kernelspec": {
   "display_name": "Python 3",
   "language": "python",
   "name": "python3"
  },
  "language_info": {
   "codemirror_mode": {
    "name": "ipython",
    "version": 3
   },
   "file_extension": ".py",
   "mimetype": "text/x-python",
   "name": "python",
   "nbconvert_exporter": "python",
   "pygments_lexer": "ipython3",
   "version": "3.6.1"
  }
 },
 "nbformat": 4,
 "nbformat_minor": 2
}
