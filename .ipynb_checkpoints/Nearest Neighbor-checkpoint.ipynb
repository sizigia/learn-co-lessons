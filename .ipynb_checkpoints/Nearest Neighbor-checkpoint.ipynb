{
 "cells": [
  {
   "cell_type": "markdown",
   "metadata": {},
   "source": [
    "### A common problem"
   ]
  },
  {
   "cell_type": "markdown",
   "metadata": {},
   "source": [
    "Imagine that we are selling some cupcakes out of our kitchen and we have recruited one of our top customers to sell our cupcakes part-time.  Our top customer's name is Bob and he lives near our other previous customers.  We want to tell him which of our previous customers to visit first.  "
   ]
  },
  {
   "cell_type": "markdown",
   "metadata": {},
   "source": [
    "The closer the customers are, the more you can visit - and the more likely they'll feel a connection to you.  So we give you a list of all of the locations of customers.  Here they are:"
   ]
  },
  {
   "cell_type": "markdown",
   "metadata": {},
   "source": [
    "| Name | Avenue #| Block # | \n",
    "|------|------| ------     |\n",
    "| bob    | 4  |     8     | \n",
    "| suzie  | 1  |     11     | \n",
    "| fred   | 5  |     8     | \n",
    "| edgar  | 6  |     13     | \n",
    "| steven | 3  |     6     | \n",
    "| natalie| 5  |     4     | "
   ]
  },
  {
   "cell_type": "markdown",
   "metadata": {},
   "source": [
    "If we were to give you, and ask you to find the customers closest to bob, the first thing you might do is map out these customers.  We can create a model of this, by plotting out the data.  Let's give it ago.   "
   ]
  },
  {
   "cell_type": "markdown",
   "metadata": {},
   "source": [
    "### Visualizing the Data"
   ]
  },
  {
   "cell_type": "markdown",
   "metadata": {},
   "source": [
    "There are various libraries to display data with python.  We'll use the plotly one for now.  First we need to import `plotly`, and we'll reference it as `py`.  Also from `plotly`, we will be using the `graph_objs` module, which we will reference as `go`.  We'll also import `ipywidgets`, which we'll see a little later.  \n",
    "\n",
    "By default, plotly saves all of our plots online.  This is a nice feature, but it also requires us to register as a new user, so we'll use offline mode for now, which you can see in the last line."
   ]
  },
  {
   "cell_type": "code",
   "execution_count": 3,
   "metadata": {},
   "outputs": [
    {
     "data": {
      "text/html": [
       "<script>requirejs.config({paths: { 'plotly': ['https://cdn.plot.ly/plotly-latest.min']},});if(!window.Plotly) {{require(['plotly'],function(plotly) {window.Plotly=plotly;});}}</script>"
      ],
      "text/vnd.plotly.v1+html": [
       "<script>requirejs.config({paths: { 'plotly': ['https://cdn.plot.ly/plotly-latest.min']},});if(!window.Plotly) {{require(['plotly'],function(plotly) {window.Plotly=plotly;});}}</script>"
      ]
     },
     "metadata": {},
     "output_type": "display_data"
    }
   ],
   "source": [
    "import plotly as py\n",
    "import plotly.graph_objs as go\n",
    "import ipywidgets as widgets\n",
    "\n",
    "py.offline.init_notebook_mode(connected=True)\n",
    "# use offline mode to avoid initial registration"
   ]
  },
  {
   "cell_type": "markdown",
   "metadata": {},
   "source": [
    "Let's take our first shot at mapping out this data.  We'll use graph object of a scatter plot.  We've never worked with a scatter plot before, so let's start off with a scatter plot of just one point, the point 2, 3 (we choose that point for no particular reason)."
   ]
  },
  {
   "cell_type": "code",
   "execution_count": 24,
   "metadata": {},
   "outputs": [
    {
     "data": {
      "application/vnd.plotly.v1+json": {
       "data": [
        {
         "type": "scatter",
         "x": [
          2
         ],
         "y": [
          1
         ]
        }
       ],
       "layout": {}
      },
      "text/html": [
       "<div id=\"f15654c7-9333-4940-8cd4-fb9eea3ed8aa\" style=\"height: 525px; width: 100%;\" class=\"plotly-graph-div\"></div><script type=\"text/javascript\">require([\"plotly\"], function(Plotly) { window.PLOTLYENV=window.PLOTLYENV || {};window.PLOTLYENV.BASE_URL=\"https://plot.ly\";Plotly.newPlot(\"f15654c7-9333-4940-8cd4-fb9eea3ed8aa\", [{\"type\": \"scatter\", \"x\": [2], \"y\": [1]}], {}, {\"showLink\": true, \"linkText\": \"Export to plot.ly\"})});</script>"
      ],
      "text/vnd.plotly.v1+html": [
       "<div id=\"f15654c7-9333-4940-8cd4-fb9eea3ed8aa\" style=\"height: 525px; width: 100%;\" class=\"plotly-graph-div\"></div><script type=\"text/javascript\">require([\"plotly\"], function(Plotly) { window.PLOTLYENV=window.PLOTLYENV || {};window.PLOTLYENV.BASE_URL=\"https://plot.ly\";Plotly.newPlot(\"f15654c7-9333-4940-8cd4-fb9eea3ed8aa\", [{\"type\": \"scatter\", \"x\": [2], \"y\": [1]}], {}, {\"showLink\": true, \"linkText\": \"Export to plot.ly\"})});</script>"
      ]
     },
     "metadata": {},
     "output_type": "display_data"
    }
   ],
   "source": [
    "# Don't worry about understanding all of this code, we'll break it down later.\n",
    "trace0 = go.Scatter(\n",
    "    x=[2], \n",
    "    y=[1]\n",
    ")\n",
    "data = go.Data([trace0])\n",
    "py.offline.iplot([trace0])"
   ]
  },
  {
   "cell_type": "markdown",
   "metadata": {},
   "source": [
    "Ok, so let's focus on graph first and then we can take another look at the code.  In fact, its our first introduction to the **cartesian coordinate system**.  Notice that there is "
   ]
  },
  {
   "cell_type": "code",
   "execution_count": null,
   "metadata": {
    "collapsed": true
   },
   "outputs": [],
   "source": [
    "trace0 = go.Scatter(\n",
    "    x=[4, 1, 5, 6, 3, 2],\n",
    "    y=[8, 11, 8, 13, 6, 4]\n",
    ")\n",
    "data = go.Data([trace0])\n",
    "py.offline.iplot([trace0])\n",
    "\n",
    "# not exactly there, is it.."
   ]
  },
  {
   "cell_type": "markdown",
   "metadata": {},
   "source": [
    "And we'll set our x values equal to the corresponding avenue numbers of each individual (including ourselves) and the y value in our graph equal to the corresponding block numbers.\n",
    "\n",
    "The above graph didn't work out the way that we hoped.  But we can still learn something from it.  "
   ]
  },
  {
   "cell_type": "markdown",
   "metadata": {},
   "source": [
    "The points were plotted correctly, but they are connected by a line, which doesn't represent anything in particular."
   ]
  },
  {
   "cell_type": "markdown",
   "metadata": {},
   "source": [
    "Let's remove the lines by setting `mode = \"markers\"`.  Then, let's also set labels to each of the dots, by setting `text` equal to an array of our names.  "
   ]
  },
  {
   "cell_type": "code",
   "execution_count": 19,
   "metadata": {},
   "outputs": [
    {
     "data": {
      "application/vnd.plotly.v1+json": {
       "data": [
        {
         "mode": "markers",
         "text": [
          "bob",
          "suzie",
          "fred",
          "edgar",
          "steven",
          "natalie"
         ],
         "type": "scatter",
         "x": [
          4,
          1,
          5,
          6,
          3,
          2
         ],
         "y": [
          8,
          11,
          8,
          13,
          6,
          4
         ]
        }
       ],
       "layout": {}
      },
      "text/html": [
       "<div id=\"ffd87240-fc8b-488a-9eb1-cb20024d112a\" style=\"height: 525px; width: 100%;\" class=\"plotly-graph-div\"></div><script type=\"text/javascript\">require([\"plotly\"], function(Plotly) { window.PLOTLYENV=window.PLOTLYENV || {};window.PLOTLYENV.BASE_URL=\"https://plot.ly\";Plotly.newPlot(\"ffd87240-fc8b-488a-9eb1-cb20024d112a\", [{\"type\": \"scatter\", \"text\": [\"bob\", \"suzie\", \"fred\", \"edgar\", \"steven\", \"natalie\"], \"x\": [4, 1, 5, 6, 3, 2], \"y\": [8, 11, 8, 13, 6, 4], \"mode\": \"markers\"}], {}, {\"showLink\": true, \"linkText\": \"Export to plot.ly\"})});</script>"
      ],
      "text/vnd.plotly.v1+html": [
       "<div id=\"ffd87240-fc8b-488a-9eb1-cb20024d112a\" style=\"height: 525px; width: 100%;\" class=\"plotly-graph-div\"></div><script type=\"text/javascript\">require([\"plotly\"], function(Plotly) { window.PLOTLYENV=window.PLOTLYENV || {};window.PLOTLYENV.BASE_URL=\"https://plot.ly\";Plotly.newPlot(\"ffd87240-fc8b-488a-9eb1-cb20024d112a\", [{\"type\": \"scatter\", \"text\": [\"bob\", \"suzie\", \"fred\", \"edgar\", \"steven\", \"natalie\"], \"x\": [4, 1, 5, 6, 3, 2], \"y\": [8, 11, 8, 13, 6, 4], \"mode\": \"markers\"}], {}, {\"showLink\": true, \"linkText\": \"Export to plot.ly\"})});</script>"
      ]
     },
     "metadata": {},
     "output_type": "display_data"
    }
   ],
   "source": [
    "trace0 = go.Scatter(\n",
    "    text=[\"bob\", \"suzie\", \"fred\", \"edgar\", \"steven\", \"natalie\"],\n",
    "    x=[4, 1, 5, 6, 3, 2],\n",
    "    y=[8, 11, 8, 13, 6, 4],\n",
    "    mode=\"markers\",\n",
    ")\n",
    "data = go.Data([trace0])\n",
    "py.offline.iplot([trace0])\n",
    "\n",
    "# much better :)"
   ]
  },
  {
   "cell_type": "markdown",
   "metadata": {},
   "source": [
    "Ok, so if you move your mouse over the dots, you can see the names that correspond to each point.  Also, when we hover over the dot at the x axis of point four, we can see that is bob's point, just like it should be.  Now, who is closest to Bob?  It looks like Fred is, so that is who Bob should visit first."
   ]
  },
  {
   "cell_type": "code",
   "execution_count": 7,
   "metadata": {},
   "outputs": [
    {
     "data": {
      "text/plain": [
       "{'mode': 'markers',\n",
       " 'text': ['bob', 'suzie', 'fred', 'edgar', 'steven', 'natalie'],\n",
       " 'type': 'scatter',\n",
       " 'x': [4, 1, 5, 6, 3, 2],\n",
       " 'y': [10, 11, 8, 13, 6, 4]}"
      ]
     },
     "execution_count": 7,
     "metadata": {},
     "output_type": "execute_result"
    }
   ],
   "source": [
    "trace0"
   ]
  },
  {
   "cell_type": "code",
   "execution_count": null,
   "metadata": {
    "collapsed": true
   },
   "outputs": [],
   "source": []
  }
 ],
 "metadata": {
  "kernelspec": {
   "display_name": "Python 3",
   "language": "python",
   "name": "python3"
  },
  "language_info": {
   "codemirror_mode": {
    "name": "ipython",
    "version": 3
   },
   "file_extension": ".py",
   "mimetype": "text/x-python",
   "name": "python",
   "nbconvert_exporter": "python",
   "pygments_lexer": "ipython3",
   "version": "3.6.1"
  }
 },
 "nbformat": 4,
 "nbformat_minor": 2
}
