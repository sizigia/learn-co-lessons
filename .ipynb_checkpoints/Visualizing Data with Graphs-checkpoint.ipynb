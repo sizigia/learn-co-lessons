{
 "cells": [
  {
   "cell_type": "markdown",
   "metadata": {},
   "source": [
    "### A common problem"
   ]
  },
  {
   "cell_type": "markdown",
   "metadata": {},
   "source": [
    "Imagine that our friend Molly is selling cupcakes out of her kitchen and she decides to hire her friend Bob to deliver her cupcakes to customers.  Molly asks us to figure figure out which customers are easiest and most difficult for him to visit so she can compensate him -- and let's be honest, monitor his performance --  appropriately."
   ]
  },
  {
   "cell_type": "markdown",
   "metadata": {},
   "source": [
    "Molly gives us a list of all of the customer locations, along with Bob's.  Here they are:"
   ]
  },
  {
   "cell_type": "markdown",
   "metadata": {},
   "source": [
    "| Name | Avenue #| Block # | \n",
    "|------|------| ------     |\n",
    "| Bob    | 4  |     8     | \n",
    "| Suzie  | 1  |     11     | \n",
    "| Fred   | 5  |     8     | \n",
    "| Edgar  | 6  |     13     | \n",
    "| Steven | 3  |     6     | \n",
    "| Natalie| 5  |     4     | "
   ]
  },
  {
   "cell_type": "markdown",
   "metadata": {},
   "source": [
    "Now the first thing you might do to figure out and communicate who is closest to Bob is display each of the customer locations, along with Bob's in a graph."
   ]
  },
  {
   "cell_type": "markdown",
   "metadata": {},
   "source": [
    "### Visualizing Data with Graphs"
   ]
  },
  {
   "cell_type": "markdown",
   "metadata": {},
   "source": [
    "We want to ease into graphing data, so let's start off with a scatter plot of just one point, the point (2, 1) (we choose that point for no particular reason)."
   ]
  },
  {
   "cell_type": "markdown",
   "metadata": {},
   "source": [
    "![alt text](./initial-plot.png)"
   ]
  },
  {
   "cell_type": "markdown",
   "metadata": {},
   "source": [
    "Ok so that graph above is our first introduction to the **cartesian coordinate system**.  The coordinate system is used to display data along both an x-axis and y-axis.  The **x-axis** runs horizontally, from left to right, and you can see it labeled along the bottom.  The **y-axis** runs vertically, from the bottom to the top and you can see it labeled on the far left of our graph."
   ]
  },
  {
   "cell_type": "markdown",
   "metadata": {},
   "source": [
    "Our graph may show the x-axis starting at 1 and the y-axis starting at 2, but that's just the graph.  In reality, you can imagine the x-axis and y-axis both including all numbers from negative infinity to positive infinity.  And that marker in the center of our graph represents the point (2, 1).  Do you see why?  Well it's the place where the x value is 2, and the y value is three.  So already, we can see that when expressing points the x value (by convention) comes first.\n",
    "\n",
    "There are light-gray lines forming a grid on the graph to help us see where any given **point** is on a graph.  To see the point's x value, we follow the vertical line down to see where it lies on the x-axis, at 2.  And to see the point's y value, we follow the horizontal line that it intersects with the y-axis at the far left to find the number 1.\n",
    "\n",
    "Now, test your knowledge by moving your mouse to where the point (3, 2) would be.  Did you get it?  It's the spot at the top right of the graph."
   ]
  },
  {
   "cell_type": "markdown",
   "metadata": {},
   "source": [
    "### Plotting our data"
   ]
  },
  {
   "cell_type": "markdown",
   "metadata": {},
   "source": [
    "> **Don't panic:** Plotting data will give us exposure to different parts of python: importing libraries, working with methods, and using data structures like arrays.  Don't worry.  We'll work through each of these topics in a little bit.  But for now, let's just see what we can do with a few lines of python code - even if we don't fully understand each detail.  \n",
    "\n",
    "Ok, now let's plot the data given.  \n",
    "\n",
    "\n",
    "| Name | Avenue #| Block # | \n",
    "|------|------| ------     |\n",
    "| Bob    | 4  |     8     | \n",
    "| Suzie  | 1  |     11     | \n",
    "| Fred   | 5  |     8     | \n",
    "| Edgar  | 6  |     13     | \n",
    "| Steven | 3  |     6     | \n",
    "| Natalie| 5  |     4     | \n"
   ]
  },
  {
   "cell_type": "markdown",
   "metadata": {},
   "source": [
    "We cannot graph the data with python itself, so we need to download a library from the internet.  Don't worry this is easy enough.  Simply go to your terminal and type in `pip install plotly` followed, by the enter key.  Or simply press shift enter on the cell below.  If you already have `plotly` installed, you will see a message saying that it's already installed -- which you can simply ignore."
   ]
  },
  {
   "cell_type": "code",
   "execution_count": null,
   "metadata": {
    "collapsed": true
   },
   "outputs": [],
   "source": [
    "!pip install plotly"
   ]
  },
  {
   "cell_type": "markdown",
   "metadata": {},
   "source": [
    "Now we have `plotly` on our computer, but not every program that we write will use it, so we need to specify that we will be using the library in this notebook.  We do so with the following two lines."
   ]
  },
  {
   "cell_type": "code",
   "execution_count": 3,
   "metadata": {},
   "outputs": [
    {
     "data": {
      "text/html": [
       "<script>requirejs.config({paths: { 'plotly': ['https://cdn.plot.ly/plotly-latest.min']},});if(!window.Plotly) {{require(['plotly'],function(plotly) {window.Plotly=plotly;});}}</script>"
      ],
      "text/vnd.plotly.v1+html": [
       "<script>requirejs.config({paths: { 'plotly': ['https://cdn.plot.ly/plotly-latest.min']},});if(!window.Plotly) {{require(['plotly'],function(plotly) {window.Plotly=plotly;});}}</script>"
      ]
     },
     "metadata": {},
     "output_type": "display_data"
    }
   ],
   "source": [
    "import plotly\n",
    "from plotly import graph_objs\n",
    "\n",
    "plotly.offline.init_notebook_mode(connected=True)\n",
    "# use offline mode to avoid initial registration"
   ]
  },
  {
   "cell_type": "markdown",
   "metadata": {},
   "source": [
    "We bring in the `plotly` library by using the keyword `import` followed by our library name, `plotly`.  Then, we also want to use the `graph_objs` module included in `plotly` so in the next line we use both the `from` and `import` keywords to do so. We make a scatter plot by calling the `graph_objs.Scatter` method.  Then we pass through **named arguments** that set the `x` value equal to an array of x values -- notice that these match up to the in the table above.  We set the `y` value equal to an array of y values matching the block numbers.  We display this data by referencing our scatterplot, which we set to the variable of `trace0`, and passing it through as an argument to the `plotly.offline.iplot` method.  "
   ]
  },
  {
   "cell_type": "code",
   "execution_count": 4,
   "metadata": {},
   "outputs": [
    {
     "data": {
      "application/vnd.plotly.v1+json": {
       "data": [
        {
         "type": "scatter",
         "x": [
          4,
          1,
          5,
          6,
          3,
          2
         ],
         "y": [
          8,
          11,
          8,
          13,
          6,
          4
         ]
        }
       ],
       "layout": {}
      },
      "text/html": [
       "<div id=\"e6683cbe-b943-43ee-84bc-e6081dfdd987\" style=\"height: 525px; width: 100%;\" class=\"plotly-graph-div\"></div><script type=\"text/javascript\">require([\"plotly\"], function(Plotly) { window.PLOTLYENV=window.PLOTLYENV || {};window.PLOTLYENV.BASE_URL=\"https://plot.ly\";Plotly.newPlot(\"e6683cbe-b943-43ee-84bc-e6081dfdd987\", [{\"type\": \"scatter\", \"x\": [4, 1, 5, 6, 3, 2], \"y\": [8, 11, 8, 13, 6, 4]}], {}, {\"showLink\": true, \"linkText\": \"Export to plot.ly\"})});</script>"
      ],
      "text/vnd.plotly.v1+html": [
       "<div id=\"e6683cbe-b943-43ee-84bc-e6081dfdd987\" style=\"height: 525px; width: 100%;\" class=\"plotly-graph-div\"></div><script type=\"text/javascript\">require([\"plotly\"], function(Plotly) { window.PLOTLYENV=window.PLOTLYENV || {};window.PLOTLYENV.BASE_URL=\"https://plot.ly\";Plotly.newPlot(\"e6683cbe-b943-43ee-84bc-e6081dfdd987\", [{\"type\": \"scatter\", \"x\": [4, 1, 5, 6, 3, 2], \"y\": [8, 11, 8, 13, 6, 4]}], {}, {\"showLink\": true, \"linkText\": \"Export to plot.ly\"})});</script>"
      ]
     },
     "metadata": {},
     "output_type": "display_data"
    }
   ],
   "source": [
    "trace0 = graph_objs.Scatter(\n",
    "    x=[4, 1, 5, 6, 3, 2],\n",
    "    y=[8, 11, 8, 13, 6, 4]\n",
    ")\n",
    "plotly.offline.iplot([trace0])\n",
    "\n",
    "# All that, and it doesn't even look good :("
   ]
  },
  {
   "cell_type": "markdown",
   "metadata": {},
   "source": [
    "The points were plotted correctly, but they are connected by a line, which doesn't represent anything in particular."
   ]
  },
  {
   "cell_type": "markdown",
   "metadata": {},
   "source": [
    "Let's remove the lines by setting `mode = \"markers\"`.  Then, let's also set labels to each of the dots, by setting `text` equal to an array of our names.  "
   ]
  },
  {
   "cell_type": "code",
   "execution_count": 6,
   "metadata": {},
   "outputs": [
    {
     "data": {
      "application/vnd.plotly.v1+json": {
       "data": [
        {
         "mode": "markers",
         "text": [
          "bob",
          "suzie",
          "fred",
          "edgar",
          "steven",
          "natalie"
         ],
         "type": "scatter",
         "x": [
          4,
          1,
          5,
          6,
          3,
          2
         ],
         "y": [
          8,
          11,
          8,
          13,
          6,
          4
         ]
        }
       ],
       "layout": {}
      },
      "text/html": [
       "<div id=\"90d66dc8-6e8f-4344-9bae-0fbb9eb8cd16\" style=\"height: 525px; width: 100%;\" class=\"plotly-graph-div\"></div><script type=\"text/javascript\">require([\"plotly\"], function(Plotly) { window.PLOTLYENV=window.PLOTLYENV || {};window.PLOTLYENV.BASE_URL=\"https://plot.ly\";Plotly.newPlot(\"90d66dc8-6e8f-4344-9bae-0fbb9eb8cd16\", [{\"type\": \"scatter\", \"text\": [\"bob\", \"suzie\", \"fred\", \"edgar\", \"steven\", \"natalie\"], \"x\": [4, 1, 5, 6, 3, 2], \"y\": [8, 11, 8, 13, 6, 4], \"mode\": \"markers\"}], {}, {\"showLink\": true, \"linkText\": \"Export to plot.ly\"})});</script>"
      ],
      "text/vnd.plotly.v1+html": [
       "<div id=\"90d66dc8-6e8f-4344-9bae-0fbb9eb8cd16\" style=\"height: 525px; width: 100%;\" class=\"plotly-graph-div\"></div><script type=\"text/javascript\">require([\"plotly\"], function(Plotly) { window.PLOTLYENV=window.PLOTLYENV || {};window.PLOTLYENV.BASE_URL=\"https://plot.ly\";Plotly.newPlot(\"90d66dc8-6e8f-4344-9bae-0fbb9eb8cd16\", [{\"type\": \"scatter\", \"text\": [\"bob\", \"suzie\", \"fred\", \"edgar\", \"steven\", \"natalie\"], \"x\": [4, 1, 5, 6, 3, 2], \"y\": [8, 11, 8, 13, 6, 4], \"mode\": \"markers\"}], {}, {\"showLink\": true, \"linkText\": \"Export to plot.ly\"})});</script>"
      ]
     },
     "metadata": {},
     "output_type": "display_data"
    }
   ],
   "source": [
    "trace0 = graph_objs.Scatter(\n",
    "    text=[\"bob\", \"suzie\", \"fred\", \"edgar\", \"steven\", \"natalie\"],\n",
    "    x=[4, 1, 5, 6, 3, 2],\n",
    "    y=[8, 11, 8, 13, 6, 4],\n",
    "    mode=\"markers\",\n",
    ")\n",
    "plotly.offline.iplot([trace0])\n",
    "\n",
    "# much better :)"
   ]
  },
  {
   "cell_type": "markdown",
   "metadata": {},
   "source": [
    "Ok, so if you move your mouse over the dots, you can see the names that correspond to each point.  Also, when we hover over the dot at the x axis of point four, we can see that is Bob's point, just like it should be.  Now, who is closest to Bob?  It looks like Fred is, so that is the delivery that is easiest for Bob."
   ]
  },
  {
   "cell_type": "markdown",
   "metadata": {},
   "source": [
    "### Summary"
   ]
  },
  {
   "cell_type": "markdown",
   "metadata": {},
   "source": [
    "In this section, we saw how we use data visualisations to better understand the data.  A cartesian coordinate system nicely represents two dimensional data.  It allows to represent a point's x value by placing the point horizontally at the correct spot on the x-axis.  It represents a point's y value by placing the point at the correct spot along the y-axis.\n",
    "\n",
    "To display the data with `plotly` we need to do a couple of things.  First, we install plotly by going to our terminal and running `pip install plotly`.  Then to use the library, we import the `plotly` library as well as the `graph_objects` module.  Now that we have the library to reference in our notebook, it's time to use it.  We create a scatterplot by calling the `Scatter()` from `plotly`'s `graphing_objects` module, and pass through our data in the format of `go.Scatter(x=[4, 1, 5, 6, 3, 2], y=[8, 11, 8, 13, 6, 4])` to pass through our x and y values.  To clean up the appearance we set the `mode` attribute equal to `'markers'`."
   ]
  }
 ],
 "metadata": {
  "kernelspec": {
   "display_name": "Python 3",
   "language": "python",
   "name": "python3"
  },
  "language_info": {
   "codemirror_mode": {
    "name": "ipython",
    "version": 3
   },
   "file_extension": ".py",
   "mimetype": "text/x-python",
   "name": "python",
   "nbconvert_exporter": "python",
   "pygments_lexer": "ipython3",
   "version": "3.6.1"
  }
 },
 "nbformat": 4,
 "nbformat_minor": 2
}
