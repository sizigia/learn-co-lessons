{
 "cells": [
  {
   "cell_type": "markdown",
   "metadata": {},
   "source": [
    "# Calculating Distance Lab"
   ]
  },
  {
   "cell_type": "markdown",
   "metadata": {},
   "source": [
    "### Introduction\n",
    "\n",
    "In this lab, you will write methods to calculate the distance of various students in a class from each other.  Once again, let's assume that the x coordinates represent avenues of a student, the y coordinates represent street numbers, and we will assume that the distance between each street and the distance between each avenue is the same.\n",
    "\n",
    "In this lab we will write functions to calculate the distance between students.  We will work up to a function called `nearest_neighbors` that given a student, finds the other students who are closest."
   ]
  },
  {
   "cell_type": "markdown",
   "metadata": {},
   "source": [
    "### Getting Started"
   ]
  },
  {
   "cell_type": "markdown",
   "metadata": {},
   "source": [
    "Let's declare a variable `students` and assign it to an array of dictionaries, each representing the location of a student."
   ]
  },
  {
   "cell_type": "code",
   "execution_count": 23,
   "metadata": {
    "collapsed": true
   },
   "outputs": [],
   "source": [
    "students = [{'name': 'fred', 'street': 4, 'avenue': 8}, {'name': 'daniel', 'street': 1, 'avenue': 5}, {'name': 'rachel', 'street': 2, 'avenue': 6}, {'name': 'steven', 'street': 4, 'avenue': 10}]"
   ]
  },
  {
   "cell_type": "code",
   "execution_count": 24,
   "metadata": {},
   "outputs": [
    {
     "data": {
      "text/plain": [
       "[{'avenue': 8, 'name': 'fred', 'street': 4},\n",
       " {'avenue': 5, 'name': 'daniel', 'street': 1},\n",
       " {'avenue': 6, 'name': 'rachel', 'street': 2},\n",
       " {'avenue': 10, 'name': 'steven', 'street': 4}]"
      ]
     },
     "execution_count": 24,
     "metadata": {},
     "output_type": "execute_result"
    }
   ],
   "source": [
    "students"
   ]
  },
  {
   "cell_type": "code",
   "execution_count": 25,
   "metadata": {
    "collapsed": true
   },
   "outputs": [],
   "source": [
    "fred = students[0]\n",
    "daniel = students[1]"
   ]
  },
  {
   "cell_type": "markdown",
   "metadata": {},
   "source": [
    "### Calculating the sides of the triangle"
   ]
  },
  {
   "cell_type": "markdown",
   "metadata": {},
   "source": [
    "Remember that to calculate the distance, we use the Pythagorean Theorem to calculate the two shorter sides of the right triangle, and from there can calculate the distance, that is the hypotenuse, of the triangle.  Let's start with calculating the shorter sides and then use that work to calculate the distance. "
   ]
  },
  {
   "cell_type": "markdown",
   "metadata": {},
   "source": [
    "Write a function called `street_distance` that calculates how far in streets two students are from each other."
   ]
  },
  {
   "cell_type": "code",
   "execution_count": 7,
   "metadata": {
    "collapsed": true
   },
   "outputs": [],
   "source": [
    "def street_distance(first_student, second_student):\n",
    "    return first_student['street'] - second_student['street']"
   ]
  },
  {
   "cell_type": "markdown",
   "metadata": {},
   "source": [
    "Write a function called `avenue_distance` that calculates how far in avenues two students are from each other."
   ]
  },
  {
   "cell_type": "code",
   "execution_count": 8,
   "metadata": {
    "collapsed": true
   },
   "outputs": [],
   "source": [
    "def avenue_distance(first_student, second_student):\n",
    "    return first_student['avenue'] - second_student['avenue']"
   ]
  },
  {
   "cell_type": "code",
   "execution_count": 12,
   "metadata": {},
   "outputs": [
    {
     "data": {
      "text/plain": [
       "3"
      ]
     },
     "execution_count": 12,
     "metadata": {},
     "output_type": "execute_result"
    }
   ],
   "source": [
    "avenue_distance(fred, daniel) #  == 3"
   ]
  },
  {
   "cell_type": "markdown",
   "metadata": {},
   "source": [
    "### Calculating the distance"
   ]
  },
  {
   "cell_type": "markdown",
   "metadata": {},
   "source": [
    "Now let's begin writing functions involved with calculating that hypotenuse of our right triangle.  Using the Pythagorean Theorem, write a function called `distance_between_students_squared` that calculates the length of the hypotenuse squared."
   ]
  },
  {
   "cell_type": "code",
   "execution_count": 9,
   "metadata": {
    "collapsed": true
   },
   "outputs": [],
   "source": [
    "def distance_between_students_squared(first_student, second_student):\n",
    "    return street_distance(first_student, second_student)^2 + avenue_distance(first_student, second_student)^2"
   ]
  },
  {
   "cell_type": "code",
   "execution_count": 12,
   "metadata": {},
   "outputs": [
    {
     "data": {
      "text/plain": [
       "4"
      ]
     },
     "execution_count": 12,
     "metadata": {},
     "output_type": "execute_result"
    }
   ],
   "source": [
    "distance_between_students_squared(fred, daniel) # 4"
   ]
  },
  {
   "cell_type": "markdown",
   "metadata": {},
   "source": [
    "Now take the next step, and write a function called `distance`, that given two students returns the distance between them.  "
   ]
  },
  {
   "cell_type": "code",
   "execution_count": 16,
   "metadata": {
    "collapsed": true
   },
   "outputs": [],
   "source": [
    "import math\n",
    "def distance(first_student, second_student):\n",
    "    return math.sqrt(distance_between_students_squared(first_student, second_student))"
   ]
  },
  {
   "cell_type": "code",
   "execution_count": 17,
   "metadata": {},
   "outputs": [
    {
     "data": {
      "text/plain": [
       "2.0"
      ]
     },
     "execution_count": 17,
     "metadata": {},
     "output_type": "execute_result"
    }
   ],
   "source": [
    "distance(fred, daniel)"
   ]
  },
  {
   "cell_type": "markdown",
   "metadata": {},
   "source": [
    "### Writing Our \"Nearest Neighbors\" Functions"
   ]
  },
  {
   "cell_type": "markdown",
   "metadata": {},
   "source": [
    "This next section will work up to building a `nearest_neighbor` function.  This is a function that given one student, will tell us which students are closest to him.  How do we write something like this? Can we use our calculation of distance between two students, to figure out the closest students to an individual?\n",
    "\n",
    "Sure, we first need to calculate the distances between one student and all of the others.  Next, we sort those students by their distance from the student.  Finally, we select a given number of the closest students.  Let's work through it.   "
   ]
  },
  {
   "cell_type": "markdown",
   "metadata": {},
   "source": [
    "Note that we already have a function that calculates the distance between two students.  We may think we could simply use this function to loop through our students, but that would just return an array of distances.  "
   ]
  },
  {
   "cell_type": "code",
   "execution_count": 26,
   "metadata": {},
   "outputs": [
    {
     "data": {
      "text/plain": [
       "[0.0, 2.0, 2.0, 1.4142135623730951]"
      ]
     },
     "execution_count": 26,
     "metadata": {},
     "output_type": "execute_result"
    }
   ],
   "source": [
    "distances = []\n",
    "for student in students:\n",
    "    distance_between = distance(fred, student)\n",
    "    distances.append(distance_between)\n",
    "\n",
    "distances"
   ]
  },
  {
   "cell_type": "markdown",
   "metadata": {},
   "source": [
    "The returned array from the above procedure isn't super helpful.  We need to know who each distance is associated with.  \n",
    "\n",
    "So let's accomplish this by writing a function called `distance_with_student` that works like our distance function but instead of returning an integer, returns a dictionary representing the `second_student`, and also adds in the a key value pair indicating distance from the `first_student`."
   ]
  },
  {
   "cell_type": "code",
   "execution_count": 14,
   "metadata": {
    "collapsed": true
   },
   "outputs": [],
   "source": [
    "def distance_with_student(first_student, second_student):\n",
    "    student_with_distance = second_student.copy()\n",
    "    distance = math.sqrt(distance_between_students_squared(first_student, second_student))\n",
    "    student_with_distance['distance'] = distance\n",
    "    return student_with_distance\n"
   ]
  },
  {
   "cell_type": "code",
   "execution_count": 43,
   "metadata": {},
   "outputs": [
    {
     "data": {
      "text/plain": [
       "{'avenue': 5, 'distance': 2.0, 'name': 'daniel', 'street': 1}"
      ]
     },
     "execution_count": 43,
     "metadata": {},
     "output_type": "execute_result"
    }
   ],
   "source": [
    "distance_with_student(fred, daniel)\n",
    "# {'avenue': 5, 'distance': 2.0, 'name': 'daniel', 'street': 1}"
   ]
  },
  {
   "cell_type": "markdown",
   "metadata": {},
   "source": [
    "Now write a function called `distance_all` that returns an array representing the distances between a `first_student` and the rest of the students.  The array should not return the `first_student` in its collection of students. "
   ]
  },
  {
   "cell_type": "code",
   "execution_count": 19,
   "metadata": {
    "collapsed": true
   },
   "outputs": [],
   "source": [
    "def distance_all(first_student, students):\n",
    "    remaining_students = filter(lambda student: student != first_student, students)\n",
    "    return list(map(lambda student: distance_with_student(first_student, student), remaining_students))"
   ]
  },
  {
   "cell_type": "code",
   "execution_count": 44,
   "metadata": {},
   "outputs": [
    {
     "data": {
      "text/plain": [
       "[{'avenue': 5, 'distance': 2.0, 'name': 'daniel', 'street': 1},\n",
       " {'avenue': 6, 'distance': 2.0, 'name': 'rachel', 'street': 2},\n",
       " {'avenue': 10, 'distance': 1.4142135623730951, 'name': 'steven', 'street': 4}]"
      ]
     },
     "execution_count": 44,
     "metadata": {},
     "output_type": "execute_result"
    }
   ],
   "source": [
    "distance_all(fred, classmates)\n",
    "# [{'avenue': 5, 'distance': 2.0, 'name': 'daniel', 'street': 1},\n",
    "#  {'avenue': 6, 'distance': 2.0, 'name': 'rachel', 'street': 2},\n",
    "#  {'avenue': 10, 'distance': 1.4142135623730951, 'name': 'steven', 'street': 4}]"
   ]
  },
  {
   "cell_type": "markdown",
   "metadata": {},
   "source": [
    "Finally, write a function called `nearest_neighbors` given a student, returns an array of students, ordered from closest to furthest from the student.  The function should take an optional third argument that specifies how many \"nearest\" students are returned."
   ]
  },
  {
   "cell_type": "code",
   "execution_count": 21,
   "metadata": {},
   "outputs": [],
   "source": [
    "def nearest_neighbors(first_student, students, number = None):\n",
    "    number = number or len(students) - 1\n",
    "    student_distances = distance_all(first_student, students)\n",
    "    sorted_students = sorted(student_distances, key=lambda student: student['distance'])\n",
    "    return sorted_students[:number]"
   ]
  },
  {
   "cell_type": "code",
   "execution_count": 22,
   "metadata": {},
   "outputs": [
    {
     "data": {
      "text/plain": [
       "[{'avenue': 10, 'distance': 1.4142135623730951, 'name': 'steven', 'street': 4},\n",
       " {'avenue': 5, 'distance': 2.0, 'name': 'daniel', 'street': 1}]"
      ]
     },
     "execution_count": 22,
     "metadata": {},
     "output_type": "execute_result"
    }
   ],
   "source": [
    "nearest_neighbors(fred, students, 2)\n",
    "# [{'avenue': 10, 'distance': 1.4142135623730951, 'name': 'steven', 'street': 4},\n",
    "#  {'avenue': 5, 'distance': 2.0, 'name': 'daniel', 'street': 1}]"
   ]
  },
  {
   "cell_type": "code",
   "execution_count": null,
   "metadata": {
    "collapsed": true
   },
   "outputs": [],
   "source": []
  }
 ],
 "metadata": {
  "kernelspec": {
   "display_name": "Python 3",
   "language": "python",
   "name": "python3"
  },
  "language_info": {
   "codemirror_mode": {
    "name": "ipython",
    "version": 3
   },
   "file_extension": ".py",
   "mimetype": "text/x-python",
   "name": "python",
   "nbconvert_exporter": "python",
   "pygments_lexer": "ipython3",
   "version": "3.6.1"
  }
 },
 "nbformat": 4,
 "nbformat_minor": 2
}
