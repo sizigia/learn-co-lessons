{
 "cells": [
  {
   "cell_type": "markdown",
   "metadata": {},
   "source": [
    "# Derivatives of curved lines, and the limit"
   ]
  },
  {
   "cell_type": "markdown",
   "metadata": {},
   "source": [
    "### Learning objectives"
   ]
  },
  {
   "cell_type": "markdown",
   "metadata": {},
   "source": [
    "* Understand that derivatives are the instantaneous rate of change of a function\n",
    "* Understand how to calculate a derivative \n",
    "* Understand how to express taking a derivative at a given point, and evaluating a function at a given point mathematically"
   ]
  },
  {
   "cell_type": "markdown",
   "metadata": {},
   "source": [
    "### Introduction"
   ]
  },
  {
   "cell_type": "markdown",
   "metadata": {},
   "source": [
    "In the last lesson, we saw that the derivative was the rate of change."
   ]
  },
  {
   "cell_type": "markdown",
   "metadata": {},
   "source": [
    "![](./fxderivative.png)"
   ]
  },
  {
   "cell_type": "markdown",
   "metadata": {},
   "source": [
    "We saw multiple ways of calculating this rate of change.  \n",
    "*  Essentially, the derivative is the rate of change of a function\n",
    "* Graphically this is rise over run\n",
    "* Which can be calcuated by taking two points, $(x_1, y_1)$ and $(x_2, y_2)$ and calculating $\\frac{y_2 - y_1}{x_2 - x_1}$\n",
    "\n",
    "Finally, we said that when we have a function $f(x)$, we can calculate the derivative with knowing the starting point and the change in our input, $x$: \n",
    "\n",
    "$$ \\frac{f(x_1 + \\Delta x) - f(x_1)}{\\Delta x} $$\n"
   ]
  },
  {
   "cell_type": "markdown",
   "metadata": {},
   "source": [
    "### Derivatives of non-linear functions"
   ]
  },
  {
   "cell_type": "markdown",
   "metadata": {},
   "source": [
    "So we saw previously that the derivative is the rate of change of our function.  We express this as $ f'(x) = \\frac{\\Delta f}{\\Delta x}$. So far we have only calculated the derivatives with linear functions. As we'll see, things becomes trickier when working with more complicated functions.\n",
    "\n",
    "For example, let's imagine that we are coaching our runner to perform in a track meet.  "
   ]
  },
  {
   "cell_type": "markdown",
   "metadata": {},
   "source": [
    "![](./sprint.gif)"
   ]
  },
  {
   "cell_type": "markdown",
   "metadata": {},
   "source": [
    "We may want to know how well our track start does at one part of the race, say the starting point, versus the a different point.  Then we know what to focus on in practice.  We can imagine the distance travelled by our track star's distance through time as represented by the function $f(x) = x^2$: "
   ]
  },
  {
   "cell_type": "code",
   "execution_count": 17,
   "metadata": {},
   "outputs": [
    {
     "data": {
      "text/html": [
       "<script>requirejs.config({paths: { 'plotly': ['https://cdn.plot.ly/plotly-latest.min']},});if(!window.Plotly) {{require(['plotly'],function(plotly) {window.Plotly=plotly;});}}</script>"
      ],
      "text/vnd.plotly.v1+html": [
       "<script>requirejs.config({paths: { 'plotly': ['https://cdn.plot.ly/plotly-latest.min']},});if(!window.Plotly) {{require(['plotly'],function(plotly) {window.Plotly=plotly;});}}</script>"
      ]
     },
     "metadata": {},
     "output_type": "display_data"
    },
    {
     "data": {
      "application/vnd.plotly.v1+json": {
       "data": [
        {
         "mode": "line",
         "name": "data",
         "text": [],
         "x": [
          0,
          0.25,
          0.5,
          0.75,
          1,
          1.25,
          1.5,
          1.75,
          2,
          2.25,
          2.5,
          2.75,
          3,
          3.25,
          3.5,
          3.75,
          4,
          4.25,
          4.5,
          4.75,
          5,
          5.25,
          5.5,
          5.75,
          6
         ],
         "y": [
          0,
          0.0625,
          0.25,
          0.5625,
          1,
          1.5625,
          2.25,
          3.0625,
          4,
          5.0625,
          6.25,
          7.5625,
          9,
          10.5625,
          12.25,
          14.0625,
          16,
          18.0625,
          20.25,
          22.5625,
          25,
          27.5625,
          30.25,
          33.0625,
          36
         ]
        }
       ],
       "layout": {
        "xaxis": {
         "title": "number of seconds"
        },
        "yaxis": {
         "title": "distance"
        }
       }
      },
      "text/html": [
       "<div id=\"30487992-157c-46b0-9bc3-088086502d21\" style=\"height: 525px; width: 100%;\" class=\"plotly-graph-div\"></div><script type=\"text/javascript\">require([\"plotly\"], function(Plotly) { window.PLOTLYENV=window.PLOTLYENV || {};window.PLOTLYENV.BASE_URL=\"https://plot.ly\";Plotly.newPlot(\"30487992-157c-46b0-9bc3-088086502d21\", [{\"x\": [0.0, 0.25, 0.5, 0.75, 1.0, 1.25, 1.5, 1.75, 2.0, 2.25, 2.5, 2.75, 3.0, 3.25, 3.5, 3.75, 4.0, 4.25, 4.5, 4.75, 5.0, 5.25, 5.5, 5.75, 6.0], \"y\": [0.0, 0.0625, 0.25, 0.5625, 1.0, 1.5625, 2.25, 3.0625, 4.0, 5.0625, 6.25, 7.5625, 9.0, 10.5625, 12.25, 14.0625, 16.0, 18.0625, 20.25, 22.5625, 25.0, 27.5625, 30.25, 33.0625, 36.0], \"mode\": \"line\", \"name\": \"data\", \"text\": []}], {\"xaxis\": {\"title\": \"number of seconds\"}, \"yaxis\": {\"title\": \"distance\"}}, {\"showLink\": true, \"linkText\": \"Export to plot.ly\"})});</script>"
      ],
      "text/vnd.plotly.v1+html": [
       "<div id=\"30487992-157c-46b0-9bc3-088086502d21\" style=\"height: 525px; width: 100%;\" class=\"plotly-graph-div\"></div><script type=\"text/javascript\">require([\"plotly\"], function(Plotly) { window.PLOTLYENV=window.PLOTLYENV || {};window.PLOTLYENV.BASE_URL=\"https://plot.ly\";Plotly.newPlot(\"30487992-157c-46b0-9bc3-088086502d21\", [{\"x\": [0.0, 0.25, 0.5, 0.75, 1.0, 1.25, 1.5, 1.75, 2.0, 2.25, 2.5, 2.75, 3.0, 3.25, 3.5, 3.75, 4.0, 4.25, 4.5, 4.75, 5.0, 5.25, 5.5, 5.75, 6.0], \"y\": [0.0, 0.0625, 0.25, 0.5625, 1.0, 1.5625, 2.25, 3.0625, 4.0, 5.0625, 6.25, 7.5625, 9.0, 10.5625, 12.25, 14.0625, 16.0, 18.0625, 20.25, 22.5625, 25.0, 27.5625, 30.25, 33.0625, 36.0], \"mode\": \"line\", \"name\": \"data\", \"text\": []}], {\"xaxis\": {\"title\": \"number of seconds\"}, \"yaxis\": {\"title\": \"distance\"}}, {\"showLink\": true, \"linkText\": \"Export to plot.ly\"})});</script>"
      ]
     },
     "metadata": {},
     "output_type": "display_data"
    }
   ],
   "source": [
    "import plotly\n",
    "from plotly.offline import iplot, init_notebook_mode\n",
    "init_notebook_mode(connected=True)\n",
    "\n",
    "from graph import plot\n",
    "from calculus import function_values_trace\n",
    "\n",
    "x_squared = [(1, 2)]\n",
    "range_twenty_four = list(range(0, 25))\n",
    "six = list(map(lambda x: x/4.0, range_twenty_four))\n",
    "\n",
    "trace_x_squared = function_values_trace(x_squared, six)\n",
    "layout = build_layout(x_axis = {'title': 'number of seconds'}, y_axis = {'title': 'distance'})\n",
    "plot([trace_x_squared], layout)"
   ]
  },
  {
   "cell_type": "markdown",
   "metadata": {},
   "source": [
    "> The graph shows that from seconds zero through six, our track runner gets faster over time.  \n",
    "\n",
    "\n",
    "#### Calculating speed at second two\n",
    "Now if we want to see how quickly our track star at second number two as opposed to some other second, what would we do?  Well even if we knew nothing about derivatives, we would likely get a stop watch and at second 2 would use it to calculate the speed.  Let's say that we start our stop watch at second 2 and stop our stop watch one second later."
   ]
  },
  {
   "cell_type": "code",
   "execution_count": 18,
   "metadata": {},
   "outputs": [
    {
     "data": {
      "application/vnd.plotly.v1+json": {
       "data": [
        {
         "mode": "line",
         "name": "data",
         "text": [],
         "x": [
          0,
          0.25,
          0.5,
          0.75,
          1,
          1.25,
          1.5,
          1.75,
          2,
          2.25,
          2.5,
          2.75,
          3,
          3.25,
          3.5,
          3.75,
          4,
          4.25,
          4.5,
          4.75,
          5,
          5.25,
          5.5,
          5.75,
          6
         ],
         "y": [
          0,
          0.0625,
          0.25,
          0.5625,
          1,
          1.5625,
          2.25,
          3.0625,
          4,
          5.0625,
          6.25,
          7.5625,
          9,
          10.5625,
          12.25,
          14.0625,
          16,
          18.0625,
          20.25,
          22.5625,
          25,
          27.5625,
          30.25,
          33.0625,
          36
         ]
        },
        {
         "mode": "line",
         "name": "f' (x) = 5.0",
         "text": [],
         "x": [
          1,
          2,
          3
         ],
         "y": [
          -1,
          4,
          9
         ]
        },
        {
         "mode": "line",
         "name": "delta f = 5",
         "text": [],
         "x": [
          3,
          3
         ],
         "y": [
          4,
          9
         ]
        },
        {
         "mode": "line",
         "name": "delta x = 1",
         "text": [],
         "x": [
          2,
          3
         ],
         "y": [
          4,
          4
         ]
        }
       ],
       "layout": {
        "xaxis": {
         "title": "number of seconds"
        },
        "yaxis": {
         "title": "distance"
        }
       }
      },
      "text/html": [
       "<div id=\"7a91ecde-e9b1-447a-b7c0-346980f9513c\" style=\"height: 525px; width: 100%;\" class=\"plotly-graph-div\"></div><script type=\"text/javascript\">require([\"plotly\"], function(Plotly) { window.PLOTLYENV=window.PLOTLYENV || {};window.PLOTLYENV.BASE_URL=\"https://plot.ly\";Plotly.newPlot(\"7a91ecde-e9b1-447a-b7c0-346980f9513c\", [{\"x\": [0.0, 0.25, 0.5, 0.75, 1.0, 1.25, 1.5, 1.75, 2.0, 2.25, 2.5, 2.75, 3.0, 3.25, 3.5, 3.75, 4.0, 4.25, 4.5, 4.75, 5.0, 5.25, 5.5, 5.75, 6.0], \"y\": [0.0, 0.0625, 0.25, 0.5625, 1.0, 1.5625, 2.25, 3.0625, 4.0, 5.0625, 6.25, 7.5625, 9.0, 10.5625, 12.25, 14.0625, 16.0, 18.0625, 20.25, 22.5625, 25.0, 27.5625, 30.25, 33.0625, 36.0], \"mode\": \"line\", \"name\": \"data\", \"text\": []}, {\"x\": [1.0, 2, 3.0], \"y\": [-1.0, 4, 9.0], \"mode\": \"line\", \"name\": \"f' (x) = 5.0\", \"text\": []}, {\"x\": [3, 3], \"y\": [4, 9], \"mode\": \"line\", \"name\": \"delta f = 5\", \"text\": []}, {\"x\": [2, 3], \"y\": [4, 4], \"mode\": \"line\", \"name\": \"delta x = 1\", \"text\": []}], {\"xaxis\": {\"title\": \"number of seconds\"}, \"yaxis\": {\"title\": \"distance\"}}, {\"showLink\": true, \"linkText\": \"Export to plot.ly\"})});</script>"
      ],
      "text/vnd.plotly.v1+html": [
       "<div id=\"7a91ecde-e9b1-447a-b7c0-346980f9513c\" style=\"height: 525px; width: 100%;\" class=\"plotly-graph-div\"></div><script type=\"text/javascript\">require([\"plotly\"], function(Plotly) { window.PLOTLYENV=window.PLOTLYENV || {};window.PLOTLYENV.BASE_URL=\"https://plot.ly\";Plotly.newPlot(\"7a91ecde-e9b1-447a-b7c0-346980f9513c\", [{\"x\": [0.0, 0.25, 0.5, 0.75, 1.0, 1.25, 1.5, 1.75, 2.0, 2.25, 2.5, 2.75, 3.0, 3.25, 3.5, 3.75, 4.0, 4.25, 4.5, 4.75, 5.0, 5.25, 5.5, 5.75, 6.0], \"y\": [0.0, 0.0625, 0.25, 0.5625, 1.0, 1.5625, 2.25, 3.0625, 4.0, 5.0625, 6.25, 7.5625, 9.0, 10.5625, 12.25, 14.0625, 16.0, 18.0625, 20.25, 22.5625, 25.0, 27.5625, 30.25, 33.0625, 36.0], \"mode\": \"line\", \"name\": \"data\", \"text\": []}, {\"x\": [1.0, 2, 3.0], \"y\": [-1.0, 4, 9.0], \"mode\": \"line\", \"name\": \"f' (x) = 5.0\", \"text\": []}, {\"x\": [3, 3], \"y\": [4, 9], \"mode\": \"line\", \"name\": \"delta f = 5\", \"text\": []}, {\"x\": [2, 3], \"y\": [4, 4], \"mode\": \"line\", \"name\": \"delta x = 1\", \"text\": []}], {\"xaxis\": {\"title\": \"number of seconds\"}, \"yaxis\": {\"title\": \"distance\"}}, {\"showLink\": true, \"linkText\": \"Export to plot.ly\"})});</script>"
      ]
     },
     "metadata": {},
     "output_type": "display_data"
    }
   ],
   "source": [
    "from calculus import delta_traces\n",
    "\n",
    "\n",
    "delta_layout = build_layout(x_axis = {'title': 'number of seconds'}, y_axis = {'title': 'distance'})\n",
    "x_squared_delta_traces = delta_traces(x_squared, 2, line_length = 2, delta_x = 1)\n",
    "plot([trace_x_squared, *x_squared_delta_traces], delta_layout)"
   ]
  },
  {
   "cell_type": "markdown",
   "metadata": {},
   "source": [
    "As the graph above shows, we measure the change at second two by starting our stop watch at second 2 and stopping our watch one second later.  So turning this into our formula for calculating a derivative of:  \n",
    "\n",
    "$$ f'(x) = \\frac{f(x + \\Delta x) - f(x)}{\\Delta x}  $$\n",
    "\n",
    "we do the following: \n",
    "* We set $x = 2$, as that's the point we want to calculate the rate of change at \n",
    "* We set $\\Delta x = 1$, as that's change in number of seconds we'll allow\n",
    "\n",
    "and calculating this at second number 2, with $\\Delta x = 1$ we have: \n",
    "\n",
    "$$ f'(2) =  \\frac{f(2 + 1) - f(2)}{ 1} =  \\frac{f(3) - f(2)}{1} $$ "
   ]
  },
  {
   "cell_type": "markdown",
   "metadata": {},
   "source": [
    "So our rate of change at second number 2, with a $\\Delta x = 1$ is calculated by subtracting the function's output at 2 from the function's output at 3 and dividing by delta x, one. \n",
    "\n",
    "Simplifying our calculation of $f'(x)$ further by calculating the outputs at x = 2 and x = 3 we have:"
   ]
  },
  {
   "cell_type": "markdown",
   "metadata": {},
   "source": [
    "* $f(3) = x^2 = 9$ is the output at x = 3 and \n",
    "* $f(2) = x^2 = 4$ is the output at x = 2 so \n",
    "\n",
    "$$f'(2) =  \\frac{9 - 4}{1} = \\frac{5}{1} = 5 $$"
   ]
  },
  {
   "cell_type": "code",
   "execution_count": 26,
   "metadata": {},
   "outputs": [
    {
     "data": {
      "application/vnd.plotly.v1+json": {
       "data": [
        {
         "mode": "line",
         "name": "data",
         "text": [],
         "x": [
          0,
          0.25,
          0.5,
          0.75,
          1,
          1.25,
          1.5,
          1.75,
          2,
          2.25,
          2.5,
          2.75,
          3,
          3.25,
          3.5,
          3.75,
          4,
          4.25,
          4.5,
          4.75,
          5,
          5.25,
          5.5,
          5.75,
          6
         ],
         "y": [
          0,
          0.0625,
          0.25,
          0.5625,
          1,
          1.5625,
          2.25,
          3.0625,
          4,
          5.0625,
          6.25,
          7.5625,
          9,
          10.5625,
          12.25,
          14.0625,
          16,
          18.0625,
          20.25,
          22.5625,
          25,
          27.5625,
          30.25,
          33.0625,
          36
         ]
        },
        {
         "mode": "line",
         "name": "f' (x) = 5.0",
         "text": [],
         "x": [
          0,
          2,
          4
         ],
         "y": [
          -6,
          4,
          14
         ]
        },
        {
         "mode": "line",
         "name": "delta f = 5",
         "text": [],
         "x": [
          3,
          3
         ],
         "y": [
          4,
          9
         ]
        },
        {
         "mode": "line",
         "name": "delta x = 1",
         "text": [],
         "x": [
          2,
          3
         ],
         "y": [
          4,
          4
         ]
        }
       ],
       "layout": {
        "xaxis": {
         "range": [
          1.5,
          4
         ],
         "title": "number of seconds"
        },
        "yaxis": {
         "range": [
          0,
          12
         ],
         "title": "distance"
        }
       }
      },
      "text/html": [
       "<div id=\"bf5d93f3-6e28-45d4-be15-aa3b1a6514a0\" style=\"height: 525px; width: 100%;\" class=\"plotly-graph-div\"></div><script type=\"text/javascript\">require([\"plotly\"], function(Plotly) { window.PLOTLYENV=window.PLOTLYENV || {};window.PLOTLYENV.BASE_URL=\"https://plot.ly\";Plotly.newPlot(\"bf5d93f3-6e28-45d4-be15-aa3b1a6514a0\", [{\"x\": [0.0, 0.25, 0.5, 0.75, 1.0, 1.25, 1.5, 1.75, 2.0, 2.25, 2.5, 2.75, 3.0, 3.25, 3.5, 3.75, 4.0, 4.25, 4.5, 4.75, 5.0, 5.25, 5.5, 5.75, 6.0], \"y\": [0.0, 0.0625, 0.25, 0.5625, 1.0, 1.5625, 2.25, 3.0625, 4.0, 5.0625, 6.25, 7.5625, 9.0, 10.5625, 12.25, 14.0625, 16.0, 18.0625, 20.25, 22.5625, 25.0, 27.5625, 30.25, 33.0625, 36.0], \"mode\": \"line\", \"name\": \"data\", \"text\": []}, {\"x\": [0.0, 2, 4.0], \"y\": [-6.0, 4, 14.0], \"mode\": \"line\", \"name\": \"f' (x) = 5.0\", \"text\": []}, {\"x\": [3, 3], \"y\": [4, 9], \"mode\": \"line\", \"name\": \"delta f = 5\", \"text\": []}, {\"x\": [2, 3], \"y\": [4, 4], \"mode\": \"line\", \"name\": \"delta x = 1\", \"text\": []}], {\"xaxis\": {\"title\": \"number of seconds\", \"range\": [1.5, 4]}, \"yaxis\": {\"title\": \"distance\", \"range\": [0, 12]}}, {\"showLink\": true, \"linkText\": \"Export to plot.ly\"})});</script>"
      ],
      "text/vnd.plotly.v1+html": [
       "<div id=\"bf5d93f3-6e28-45d4-be15-aa3b1a6514a0\" style=\"height: 525px; width: 100%;\" class=\"plotly-graph-div\"></div><script type=\"text/javascript\">require([\"plotly\"], function(Plotly) { window.PLOTLYENV=window.PLOTLYENV || {};window.PLOTLYENV.BASE_URL=\"https://plot.ly\";Plotly.newPlot(\"bf5d93f3-6e28-45d4-be15-aa3b1a6514a0\", [{\"x\": [0.0, 0.25, 0.5, 0.75, 1.0, 1.25, 1.5, 1.75, 2.0, 2.25, 2.5, 2.75, 3.0, 3.25, 3.5, 3.75, 4.0, 4.25, 4.5, 4.75, 5.0, 5.25, 5.5, 5.75, 6.0], \"y\": [0.0, 0.0625, 0.25, 0.5625, 1.0, 1.5625, 2.25, 3.0625, 4.0, 5.0625, 6.25, 7.5625, 9.0, 10.5625, 12.25, 14.0625, 16.0, 18.0625, 20.25, 22.5625, 25.0, 27.5625, 30.25, 33.0625, 36.0], \"mode\": \"line\", \"name\": \"data\", \"text\": []}, {\"x\": [0.0, 2, 4.0], \"y\": [-6.0, 4, 14.0], \"mode\": \"line\", \"name\": \"f' (x) = 5.0\", \"text\": []}, {\"x\": [3, 3], \"y\": [4, 9], \"mode\": \"line\", \"name\": \"delta f = 5\", \"text\": []}, {\"x\": [2, 3], \"y\": [4, 4], \"mode\": \"line\", \"name\": \"delta x = 1\", \"text\": []}], {\"xaxis\": {\"title\": \"number of seconds\", \"range\": [1.5, 4]}, \"yaxis\": {\"title\": \"distance\", \"range\": [0, 12]}}, {\"showLink\": true, \"linkText\": \"Export to plot.ly\"})});</script>"
      ]
     },
     "metadata": {},
     "output_type": "display_data"
    }
   ],
   "source": [
    "from graph import plot\n",
    "x_squared = [(1, 2)]\n",
    "\n",
    "x_squared_delta_traces = delta_traces(x_squared, 2, line_length = 4, delta_x = 1)\n",
    "\n",
    "layout = build_layout(x_axis = {'title': 'number of seconds', 'range': [1.5, 4]}, y_axis = {'title': 'distance', 'range': [0, 12]})\n",
    "plot([trace_x_squared, *x_squared_delta_traces ], layout)"
   ]
  },
  {
   "cell_type": "markdown",
   "metadata": {},
   "source": [
    "### The problem with our derivative formula"
   ]
  },
  {
   "cell_type": "markdown",
   "metadata": {},
   "source": [
    "Take a close look at the straight line in the graph above.  That straight line is a supposed to be the rate of change of the function at the point $x = 2$.  And it comes close.  But it doesn't exactly line up.  Our orange line quickly begins to move above the blue line, indicating that it has a faster rate of change than the blue line at $x = 2$.  So this means that our calculation that $f'(1) = 5 $ is a little high."
   ]
  },
  {
   "cell_type": "markdown",
   "metadata": {},
   "source": [
    "This is **the problem:**\n",
    "\n",
    "* in our formula of $ f'(x) = \\frac{f(x_1 + \\Delta x) - f(x_1)}{\\Delta x} $, we are seeing the rate of change not just where x = 2, but from the period from $x = 2$ to $x = 3$.  "
   ]
  },
  {
   "cell_type": "code",
   "execution_count": 27,
   "metadata": {},
   "outputs": [
    {
     "data": {
      "application/vnd.plotly.v1+json": {
       "data": [
        {
         "mode": "line",
         "name": "data",
         "text": [],
         "x": [
          0,
          0.25,
          0.5,
          0.75,
          1,
          1.25,
          1.5,
          1.75,
          2,
          2.25,
          2.5,
          2.75,
          3,
          3.25,
          3.5,
          3.75,
          4,
          4.25,
          4.5,
          4.75,
          5,
          5.25,
          5.5,
          5.75,
          6
         ],
         "y": [
          0,
          0.0625,
          0.25,
          0.5625,
          1,
          1.5625,
          2.25,
          3.0625,
          4,
          5.0625,
          6.25,
          7.5625,
          9,
          10.5625,
          12.25,
          14.0625,
          16,
          18.0625,
          20.25,
          22.5625,
          25,
          27.5625,
          30.25,
          33.0625,
          36
         ]
        },
        {
         "mode": "line",
         "name": "f' (x) = 5.0",
         "text": [],
         "x": [
          0,
          2,
          4
         ],
         "y": [
          -6,
          4,
          14
         ]
        },
        {
         "mode": "line",
         "name": "delta f = 5",
         "text": [],
         "x": [
          3,
          3
         ],
         "y": [
          4,
          9
         ]
        },
        {
         "mode": "line",
         "name": "delta x = 1",
         "text": [],
         "x": [
          2,
          3
         ],
         "y": [
          4,
          4
         ]
        }
       ],
       "layout": {
        "xaxis": {
         "range": [
          1.5,
          3.5
         ],
         "title": "number of seconds"
        },
        "yaxis": {
         "range": [
          0,
          12
         ],
         "title": "distance"
        }
       }
      },
      "text/html": [
       "<div id=\"4fe6f5f0-3636-4cb2-a638-83cb94ca224b\" style=\"height: 525px; width: 100%;\" class=\"plotly-graph-div\"></div><script type=\"text/javascript\">require([\"plotly\"], function(Plotly) { window.PLOTLYENV=window.PLOTLYENV || {};window.PLOTLYENV.BASE_URL=\"https://plot.ly\";Plotly.newPlot(\"4fe6f5f0-3636-4cb2-a638-83cb94ca224b\", [{\"x\": [0.0, 0.25, 0.5, 0.75, 1.0, 1.25, 1.5, 1.75, 2.0, 2.25, 2.5, 2.75, 3.0, 3.25, 3.5, 3.75, 4.0, 4.25, 4.5, 4.75, 5.0, 5.25, 5.5, 5.75, 6.0], \"y\": [0.0, 0.0625, 0.25, 0.5625, 1.0, 1.5625, 2.25, 3.0625, 4.0, 5.0625, 6.25, 7.5625, 9.0, 10.5625, 12.25, 14.0625, 16.0, 18.0625, 20.25, 22.5625, 25.0, 27.5625, 30.25, 33.0625, 36.0], \"mode\": \"line\", \"name\": \"data\", \"text\": []}, {\"x\": [0.0, 2, 4.0], \"y\": [-6.0, 4, 14.0], \"mode\": \"line\", \"name\": \"f' (x) = 5.0\", \"text\": []}, {\"x\": [3, 3], \"y\": [4, 9], \"mode\": \"line\", \"name\": \"delta f = 5\", \"text\": []}, {\"x\": [2, 3], \"y\": [4, 4], \"mode\": \"line\", \"name\": \"delta x = 1\", \"text\": []}], {\"xaxis\": {\"title\": \"number of seconds\", \"range\": [1.5, 3.5]}, \"yaxis\": {\"title\": \"distance\", \"range\": [0, 12]}}, {\"showLink\": true, \"linkText\": \"Export to plot.ly\"})});</script>"
      ],
      "text/vnd.plotly.v1+html": [
       "<div id=\"4fe6f5f0-3636-4cb2-a638-83cb94ca224b\" style=\"height: 525px; width: 100%;\" class=\"plotly-graph-div\"></div><script type=\"text/javascript\">require([\"plotly\"], function(Plotly) { window.PLOTLYENV=window.PLOTLYENV || {};window.PLOTLYENV.BASE_URL=\"https://plot.ly\";Plotly.newPlot(\"4fe6f5f0-3636-4cb2-a638-83cb94ca224b\", [{\"x\": [0.0, 0.25, 0.5, 0.75, 1.0, 1.25, 1.5, 1.75, 2.0, 2.25, 2.5, 2.75, 3.0, 3.25, 3.5, 3.75, 4.0, 4.25, 4.5, 4.75, 5.0, 5.25, 5.5, 5.75, 6.0], \"y\": [0.0, 0.0625, 0.25, 0.5625, 1.0, 1.5625, 2.25, 3.0625, 4.0, 5.0625, 6.25, 7.5625, 9.0, 10.5625, 12.25, 14.0625, 16.0, 18.0625, 20.25, 22.5625, 25.0, 27.5625, 30.25, 33.0625, 36.0], \"mode\": \"line\", \"name\": \"data\", \"text\": []}, {\"x\": [0.0, 2, 4.0], \"y\": [-6.0, 4, 14.0], \"mode\": \"line\", \"name\": \"f' (x) = 5.0\", \"text\": []}, {\"x\": [3, 3], \"y\": [4, 9], \"mode\": \"line\", \"name\": \"delta f = 5\", \"text\": []}, {\"x\": [2, 3], \"y\": [4, 4], \"mode\": \"line\", \"name\": \"delta x = 1\", \"text\": []}], {\"xaxis\": {\"title\": \"number of seconds\", \"range\": [1.5, 3.5]}, \"yaxis\": {\"title\": \"distance\", \"range\": [0, 12]}}, {\"showLink\": true, \"linkText\": \"Export to plot.ly\"})});</script>"
      ]
     },
     "metadata": {},
     "output_type": "display_data"
    }
   ],
   "source": [
    "\n",
    "x_squared_delta_traces = delta_traces(x_squared, 2, line_length = 4, delta_x = 1)\n",
    "\n",
    "layout = build_layout(x_axis = {'title': 'number of seconds', 'range': [1.5, 3.5]}, y_axis = {'title': 'distance', 'range': [0, 12]})\n",
    "plot([trace_x_squared, *x_squared_delta_traces ], layout)\n"
   ]
  },
  {
   "cell_type": "markdown",
   "metadata": {},
   "source": [
    "In other words, **the runner would tell us** that we are not capturing their speed at precisely second two: \n",
    "\n",
    "> This is because in between the clicks of our stopwatch from seconds two to three, our runner is getting faster and while we are supposed to be calculating his speed just at second 2, our calculation includes his increase in speed from seconds two to three.\n",
    "\n",
    "> So that's why our orange line has a larger rate of change than the blue line."
   ]
  },
  {
   "cell_type": "markdown",
   "metadata": {},
   "source": [
    "**A mathematician, would make the same point**, that we are not calculating the derivative: \n",
    "\n",
    "> Our derivative means we are calculating how fast a function is changing at any given moment, and precisely at that moment.  And unlike in where our functions were linear, here the rate of change of our function is always changing.  The larger our value of $\\Delta x$, the less our derivative reflects the rate of change at just that point. "
   ]
  },
  {
   "cell_type": "markdown",
   "metadata": {},
   "source": [
    "### The solution: Decrease the change in x"
   ]
  },
  {
   "cell_type": "markdown",
   "metadata": {},
   "source": [
    "So if you were holding a stopwatch, and someone asked you to calculate their speed at second number 2, how would you make it more accurate.  Well, you would want narrow the change in seconds.  Of course our runner could continue to protest and say that we are still influenced by the speed at other times.\n",
    "\n",
    "So the mathematician has a solution to this. To calculate the rate of change at precisely one point, the solution is to use our imagination.  Really.  We calculate the derivative with a $\\Delta $ of .1, then calculate it again with a $\\Delta x$ of 1, then again with $\\Delta x$ of .1, then again with $\\Delta $ .01.  Our derivative calculation should show convergance on a single number as our $\\Delta $ approaches zero and that number is our derivative.\n",
    "\n",
    "> ** That is, the derivative of a function is a change in the function's output across $\\Delta x$, as $\\Delta x $ approaches zero **.    "
   ]
  },
  {
   "cell_type": "markdown",
   "metadata": {},
   "source": [
    "In this example, by decreasing $\\Delta x$ we can see a fairly clear pattern.\n",
    "\n",
    "| $ \\Delta x $        | $ \\frac{\\Delta y}{\\Delta x} $|\n",
    "| ------------- |:-------------:|\n",
    "| 1      | 5      |\n",
    "| .1      | 4.1|\n",
    "| .01 | 4.01     |\n",
    "| .001 | 4.001      |\n"
   ]
  },
  {
   "cell_type": "markdown",
   "metadata": {},
   "source": [
    "### Seeing this visually: tangent lines"
   ]
  },
  {
   "cell_type": "markdown",
   "metadata": {},
   "source": [
    "Another way to see how we approach the derivative is by seeing how a line becomes more tangent to the curve as delta x decreases.  \n",
    "\n",
    "> Tangent to the curve means that our line is just touching the curve.\n",
    "\n",
    "**The more that a line is tangent to the curve at a point, the more it's slope matches the derivative.**"
   ]
  },
  {
   "cell_type": "markdown",
   "metadata": {},
   "source": [
    "Ok, let's get a sense of what we mean by tangent to the curve.  The orange line below is a line whose slope is calculated by using our derivative function, with delta x = 1.  As you can see it is **not tangent to our function, $f(x)$ ** as it does not *just touch* the blue line, but rather touches it in two places."
   ]
  },
  {
   "cell_type": "code",
   "execution_count": 49,
   "metadata": {},
   "outputs": [
    {
     "data": {
      "application/vnd.plotly.v1+json": {
       "data": [
        {
         "mode": "line",
         "name": "data",
         "text": [],
         "x": [
          0,
          0.25,
          0.5,
          0.75,
          1,
          1.25,
          1.5,
          1.75,
          2,
          2.25,
          2.5,
          2.75,
          3,
          3.25,
          3.5,
          3.75,
          4,
          4.25,
          4.5,
          4.75,
          5,
          5.25,
          5.5,
          5.75,
          6
         ],
         "y": [
          0,
          0.0625,
          0.25,
          0.5625,
          1,
          1.5625,
          2.25,
          3.0625,
          4,
          5.0625,
          6.25,
          7.5625,
          9,
          10.5625,
          12.25,
          14.0625,
          16,
          18.0625,
          20.25,
          22.5625,
          25,
          27.5625,
          30.25,
          33.0625,
          36
         ]
        },
        {
         "mode": "line",
         "name": "f' (x) = 5.0",
         "text": [],
         "x": [
          1,
          2,
          3
         ],
         "y": [
          -1,
          4,
          9
         ]
        }
       ],
       "layout": {
        "xaxis": {
         "range": [
          0,
          4
         ]
        },
        "yaxis": {
         "range": [
          0,
          10
         ]
        }
       }
      },
      "text/html": [
       "<div id=\"3263e630-78c7-4fd8-92f7-daa9ec013bf3\" style=\"height: 525px; width: 100%;\" class=\"plotly-graph-div\"></div><script type=\"text/javascript\">require([\"plotly\"], function(Plotly) { window.PLOTLYENV=window.PLOTLYENV || {};window.PLOTLYENV.BASE_URL=\"https://plot.ly\";Plotly.newPlot(\"3263e630-78c7-4fd8-92f7-daa9ec013bf3\", [{\"x\": [0.0, 0.25, 0.5, 0.75, 1.0, 1.25, 1.5, 1.75, 2.0, 2.25, 2.5, 2.75, 3.0, 3.25, 3.5, 3.75, 4.0, 4.25, 4.5, 4.75, 5.0, 5.25, 5.5, 5.75, 6.0], \"y\": [0.0, 0.0625, 0.25, 0.5625, 1.0, 1.5625, 2.25, 3.0625, 4.0, 5.0625, 6.25, 7.5625, 9.0, 10.5625, 12.25, 14.0625, 16.0, 18.0625, 20.25, 22.5625, 25.0, 27.5625, 30.25, 33.0625, 36.0], \"mode\": \"line\", \"name\": \"data\", \"text\": []}, {\"x\": [1.0, 2, 3.0], \"y\": [-1.0, 4, 9.0], \"mode\": \"line\", \"name\": \"f' (x) = 5.0\", \"text\": []}], {\"xaxis\": {\"range\": [0, 4]}, \"yaxis\": {\"range\": [0, 10]}}, {\"showLink\": true, \"linkText\": \"Export to plot.ly\"})});</script>"
      ],
      "text/vnd.plotly.v1+html": [
       "<div id=\"3263e630-78c7-4fd8-92f7-daa9ec013bf3\" style=\"height: 525px; width: 100%;\" class=\"plotly-graph-div\"></div><script type=\"text/javascript\">require([\"plotly\"], function(Plotly) { window.PLOTLYENV=window.PLOTLYENV || {};window.PLOTLYENV.BASE_URL=\"https://plot.ly\";Plotly.newPlot(\"3263e630-78c7-4fd8-92f7-daa9ec013bf3\", [{\"x\": [0.0, 0.25, 0.5, 0.75, 1.0, 1.25, 1.5, 1.75, 2.0, 2.25, 2.5, 2.75, 3.0, 3.25, 3.5, 3.75, 4.0, 4.25, 4.5, 4.75, 5.0, 5.25, 5.5, 5.75, 6.0], \"y\": [0.0, 0.0625, 0.25, 0.5625, 1.0, 1.5625, 2.25, 3.0625, 4.0, 5.0625, 6.25, 7.5625, 9.0, 10.5625, 12.25, 14.0625, 16.0, 18.0625, 20.25, 22.5625, 25.0, 27.5625, 30.25, 33.0625, 36.0], \"mode\": \"line\", \"name\": \"data\", \"text\": []}, {\"x\": [1.0, 2, 3.0], \"y\": [-1.0, 4, 9.0], \"mode\": \"line\", \"name\": \"f' (x) = 5.0\", \"text\": []}], {\"xaxis\": {\"range\": [0, 4]}, \"yaxis\": {\"range\": [0, 10]}}, {\"showLink\": true, \"linkText\": \"Export to plot.ly\"})});</script>"
      ]
     },
     "metadata": {},
     "output_type": "display_data"
    }
   ],
   "source": [
    "tangent_x_squared_trace = derivative_trace(x_squared, 2, 2, 1)\n",
    "x_squared = [(1, 2)]\n",
    "range_twenty_four = list(range(0, 25))\n",
    "six = list(map(lambda x: x/4.0, range_twenty_four))\n",
    "\n",
    "trace_x_squared = function_values_trace(x_squared, six)\n",
    "layout_not_tangent = build_layout(x_axis = {'range': [0, 4]}, y_axis = {'range': [0, 10]})\n",
    "plot([trace_x_squared, tangent_x_squared_trace], layout_not_tangent)"
   ]
  },
  {
   "cell_type": "markdown",
   "metadata": {},
   "source": [
    "If our orange line had the same slope, or rate of change, as our function at that x = 2, it would just touch the blue line.  We know from above that we get closer to the rate of change of the function as we decrease delta x in our derivative formula. \n",
    "\n",
    "Let's see this graphically."
   ]
  },
  {
   "cell_type": "markdown",
   "metadata": {},
   "source": [
    "Below are the plots of our lines using our derivative formula for when  $\\Delta x = 1$  and when $\\Delta x = .1$ "
   ]
  },
  {
   "cell_type": "code",
   "execution_count": 52,
   "metadata": {},
   "outputs": [
    {
     "name": "stdout",
     "output_type": "stream",
     "text": [
      "This is the format of your plot grid:\n",
      "[ (1,1) x1,y1 ]  [ (1,2) x2,y2 ]\n",
      "\n"
     ]
    },
    {
     "data": {
      "application/vnd.plotly.v1+json": {
       "data": [
        {
         "mode": "line",
         "name": "data",
         "text": [],
         "type": "scatter",
         "x": [
          0,
          0.25,
          0.5,
          0.75,
          1,
          1.25,
          1.5,
          1.75,
          2,
          2.25,
          2.5,
          2.75
         ],
         "xaxis": "x1",
         "y": [
          0,
          0.0625,
          0.25,
          0.5625,
          1,
          1.5625,
          2.25,
          3.0625,
          4,
          5.0625,
          6.25,
          7.5625
         ],
         "yaxis": "y1"
        },
        {
         "mode": "line",
         "name": "f' (x) = 5.0",
         "text": [],
         "type": "scatter",
         "x": [
          1.5,
          2,
          2.5
         ],
         "xaxis": "x1",
         "y": [
          1.5,
          4,
          6.5
         ],
         "yaxis": "y1"
        },
        {
         "mode": "line",
         "name": "data",
         "text": [],
         "type": "scatter",
         "x": [
          0,
          0.25,
          0.5,
          0.75,
          1,
          1.25,
          1.5,
          1.75,
          2,
          2.25,
          2.5,
          2.75
         ],
         "xaxis": "x2",
         "y": [
          0,
          0.0625,
          0.25,
          0.5625,
          1,
          1.5625,
          2.25,
          3.0625,
          4,
          5.0625,
          6.25,
          7.5625
         ],
         "yaxis": "y2"
        },
        {
         "mode": "line",
         "name": "f' (x) = 4.1",
         "text": [],
         "type": "scatter",
         "x": [
          1.5,
          2,
          2.5
         ],
         "xaxis": "x2",
         "y": [
          1.9500000000000002,
          4,
          6.05
         ],
         "yaxis": "y2"
        }
       ],
       "layout": {
        "xaxis1": {
         "anchor": "y1",
         "domain": [
          0,
          0.45
         ]
        },
        "xaxis2": {
         "anchor": "y2",
         "domain": [
          0.55,
          1
         ]
        },
        "yaxis1": {
         "anchor": "x1",
         "domain": [
          0,
          1
         ]
        },
        "yaxis2": {
         "anchor": "x2",
         "domain": [
          0,
          1
         ]
        }
       }
      },
      "text/html": [
       "<div id=\"324358fa-bf97-4cc0-aebf-17fd1777787c\" style=\"height: 525px; width: 100%;\" class=\"plotly-graph-div\"></div><script type=\"text/javascript\">require([\"plotly\"], function(Plotly) { window.PLOTLYENV=window.PLOTLYENV || {};window.PLOTLYENV.BASE_URL=\"https://plot.ly\";Plotly.newPlot(\"324358fa-bf97-4cc0-aebf-17fd1777787c\", [{\"type\": \"scatter\", \"x\": [0.0, 0.25, 0.5, 0.75, 1.0, 1.25, 1.5, 1.75, 2.0, 2.25, 2.5, 2.75], \"y\": [0.0, 0.0625, 0.25, 0.5625, 1.0, 1.5625, 2.25, 3.0625, 4.0, 5.0625, 6.25, 7.5625], \"mode\": \"line\", \"name\": \"data\", \"text\": [], \"xaxis\": \"x1\", \"yaxis\": \"y1\"}, {\"type\": \"scatter\", \"x\": [1.5, 2, 2.5], \"y\": [1.5, 4, 6.5], \"mode\": \"line\", \"name\": \"f' (x) = 5.0\", \"text\": [], \"xaxis\": \"x1\", \"yaxis\": \"y1\"}, {\"type\": \"scatter\", \"x\": [0.0, 0.25, 0.5, 0.75, 1.0, 1.25, 1.5, 1.75, 2.0, 2.25, 2.5, 2.75], \"y\": [0.0, 0.0625, 0.25, 0.5625, 1.0, 1.5625, 2.25, 3.0625, 4.0, 5.0625, 6.25, 7.5625], \"mode\": \"line\", \"name\": \"data\", \"text\": [], \"xaxis\": \"x2\", \"yaxis\": \"y2\"}, {\"type\": \"scatter\", \"x\": [1.5, 2, 2.5], \"y\": [1.9500000000000002, 4, 6.05], \"mode\": \"line\", \"name\": \"f' (x) = 4.1\", \"text\": [], \"xaxis\": \"x2\", \"yaxis\": \"y2\"}], {\"xaxis1\": {\"domain\": [0.0, 0.45], \"anchor\": \"y1\"}, \"yaxis1\": {\"domain\": [0.0, 1.0], \"anchor\": \"x1\"}, \"xaxis2\": {\"domain\": [0.55, 1.0], \"anchor\": \"y2\"}, \"yaxis2\": {\"domain\": [0.0, 1.0], \"anchor\": \"x2\"}}, {\"showLink\": true, \"linkText\": \"Export to plot.ly\"})});</script>"
      ],
      "text/vnd.plotly.v1+html": [
       "<div id=\"324358fa-bf97-4cc0-aebf-17fd1777787c\" style=\"height: 525px; width: 100%;\" class=\"plotly-graph-div\"></div><script type=\"text/javascript\">require([\"plotly\"], function(Plotly) { window.PLOTLYENV=window.PLOTLYENV || {};window.PLOTLYENV.BASE_URL=\"https://plot.ly\";Plotly.newPlot(\"324358fa-bf97-4cc0-aebf-17fd1777787c\", [{\"type\": \"scatter\", \"x\": [0.0, 0.25, 0.5, 0.75, 1.0, 1.25, 1.5, 1.75, 2.0, 2.25, 2.5, 2.75], \"y\": [0.0, 0.0625, 0.25, 0.5625, 1.0, 1.5625, 2.25, 3.0625, 4.0, 5.0625, 6.25, 7.5625], \"mode\": \"line\", \"name\": \"data\", \"text\": [], \"xaxis\": \"x1\", \"yaxis\": \"y1\"}, {\"type\": \"scatter\", \"x\": [1.5, 2, 2.5], \"y\": [1.5, 4, 6.5], \"mode\": \"line\", \"name\": \"f' (x) = 5.0\", \"text\": [], \"xaxis\": \"x1\", \"yaxis\": \"y1\"}, {\"type\": \"scatter\", \"x\": [0.0, 0.25, 0.5, 0.75, 1.0, 1.25, 1.5, 1.75, 2.0, 2.25, 2.5, 2.75], \"y\": [0.0, 0.0625, 0.25, 0.5625, 1.0, 1.5625, 2.25, 3.0625, 4.0, 5.0625, 6.25, 7.5625], \"mode\": \"line\", \"name\": \"data\", \"text\": [], \"xaxis\": \"x2\", \"yaxis\": \"y2\"}, {\"type\": \"scatter\", \"x\": [1.5, 2, 2.5], \"y\": [1.9500000000000002, 4, 6.05], \"mode\": \"line\", \"name\": \"f' (x) = 4.1\", \"text\": [], \"xaxis\": \"x2\", \"yaxis\": \"y2\"}], {\"xaxis1\": {\"domain\": [0.0, 0.45], \"anchor\": \"y1\"}, \"yaxis1\": {\"domain\": [0.0, 1.0], \"anchor\": \"x1\"}, \"xaxis2\": {\"domain\": [0.55, 1.0], \"anchor\": \"y2\"}, \"yaxis2\": {\"domain\": [0.0, 1.0], \"anchor\": \"x2\"}}, {\"showLink\": true, \"linkText\": \"Export to plot.ly\"})});</script>"
      ]
     },
     "metadata": {},
     "output_type": "display_data"
    }
   ],
   "source": [
    "from graph import plot_figure, make_subplots\n",
    "from calculus import derivative_trace \n",
    "\n",
    "range_twelve = list(range(0, 12))\n",
    "three = list(map(lambda x: x/4.0, range_twelve))\n",
    "\n",
    "trace_x_squared_to_three = function_values_trace(x_squared, three)\n",
    "tangent_x_squared_delta_tenth = derivative_trace(x_squared, 2, 1, .1)\n",
    "tangent_x_squared_delta_hundredth = derivative_trace(x_squared, 2, 1, .01)\n",
    "subplots = make_subplots([trace_x_squared_to_three, tangent_x_squared], [trace_x_squared_to_three, tangent_x_squared_delta_tenth])\n",
    "subplots"
   ]
  },
  {
   "cell_type": "markdown",
   "metadata": {},
   "source": [
    "> The graphs above illustrate when $\\Delta x = 1$  and when $\\Delta x = .1$  The graph to the left, with a smaller $\\Delta x$ has a more tangent line.\n",
    "\n",
    "Let's keep decreasing delta x and see if we can approach the derivative even further."
   ]
  },
  {
   "cell_type": "code",
   "execution_count": 53,
   "metadata": {},
   "outputs": [
    {
     "name": "stdout",
     "output_type": "stream",
     "text": [
      "This is the format of your plot grid:\n",
      "[ (1,1) x1,y1 ]  [ (1,2) x2,y2 ]\n",
      "\n"
     ]
    },
    {
     "data": {
      "application/vnd.plotly.v1+json": {
       "data": [
        {
         "mode": "line",
         "name": "data",
         "text": [],
         "type": "scatter",
         "x": [
          0,
          0.25,
          0.5,
          0.75,
          1,
          1.25,
          1.5,
          1.75,
          2,
          2.25,
          2.5,
          2.75
         ],
         "xaxis": "x1",
         "y": [
          0,
          0.0625,
          0.25,
          0.5625,
          1,
          1.5625,
          2.25,
          3.0625,
          4,
          5.0625,
          6.25,
          7.5625
         ],
         "yaxis": "y1"
        },
        {
         "mode": "line",
         "name": "f' (x) = 4.01",
         "text": [],
         "type": "scatter",
         "x": [
          1.5,
          2,
          2.5
         ],
         "xaxis": "x1",
         "y": [
          1.995,
          4,
          6.005
         ],
         "yaxis": "y1"
        },
        {
         "mode": "line",
         "name": "data",
         "text": [],
         "type": "scatter",
         "x": [
          0,
          0.25,
          0.5,
          0.75,
          1,
          1.25,
          1.5,
          1.75,
          2,
          2.25,
          2.5,
          2.75
         ],
         "xaxis": "x2",
         "y": [
          0,
          0.0625,
          0.25,
          0.5625,
          1,
          1.5625,
          2.25,
          3.0625,
          4,
          5.0625,
          6.25,
          7.5625
         ],
         "yaxis": "y2"
        },
        {
         "mode": "line",
         "name": "f' (x) = 4.001",
         "text": [],
         "type": "scatter",
         "x": [
          1.5,
          2,
          2.5
         ],
         "xaxis": "x2",
         "y": [
          1.9994999999999998,
          4,
          6.000500000000001
         ],
         "yaxis": "y2"
        }
       ],
       "layout": {
        "xaxis1": {
         "anchor": "y1",
         "domain": [
          0,
          0.45
         ]
        },
        "xaxis2": {
         "anchor": "y2",
         "domain": [
          0.55,
          1
         ]
        },
        "yaxis1": {
         "anchor": "x1",
         "domain": [
          0,
          1
         ]
        },
        "yaxis2": {
         "anchor": "x2",
         "domain": [
          0,
          1
         ]
        }
       }
      },
      "text/html": [
       "<div id=\"7fddcbb4-9b1d-4258-a28e-0ce5bb2319d4\" style=\"height: 525px; width: 100%;\" class=\"plotly-graph-div\"></div><script type=\"text/javascript\">require([\"plotly\"], function(Plotly) { window.PLOTLYENV=window.PLOTLYENV || {};window.PLOTLYENV.BASE_URL=\"https://plot.ly\";Plotly.newPlot(\"7fddcbb4-9b1d-4258-a28e-0ce5bb2319d4\", [{\"type\": \"scatter\", \"x\": [0.0, 0.25, 0.5, 0.75, 1.0, 1.25, 1.5, 1.75, 2.0, 2.25, 2.5, 2.75], \"y\": [0.0, 0.0625, 0.25, 0.5625, 1.0, 1.5625, 2.25, 3.0625, 4.0, 5.0625, 6.25, 7.5625], \"mode\": \"line\", \"name\": \"data\", \"text\": [], \"xaxis\": \"x1\", \"yaxis\": \"y1\"}, {\"type\": \"scatter\", \"x\": [1.5, 2, 2.5], \"y\": [1.995, 4, 6.005], \"mode\": \"line\", \"name\": \"f' (x) = 4.01\", \"text\": [], \"xaxis\": \"x1\", \"yaxis\": \"y1\"}, {\"type\": \"scatter\", \"x\": [0.0, 0.25, 0.5, 0.75, 1.0, 1.25, 1.5, 1.75, 2.0, 2.25, 2.5, 2.75], \"y\": [0.0, 0.0625, 0.25, 0.5625, 1.0, 1.5625, 2.25, 3.0625, 4.0, 5.0625, 6.25, 7.5625], \"mode\": \"line\", \"name\": \"data\", \"text\": [], \"xaxis\": \"x2\", \"yaxis\": \"y2\"}, {\"type\": \"scatter\", \"x\": [1.5, 2, 2.5], \"y\": [1.9994999999999998, 4, 6.000500000000001], \"mode\": \"line\", \"name\": \"f' (x) = 4.001\", \"text\": [], \"xaxis\": \"x2\", \"yaxis\": \"y2\"}], {\"xaxis1\": {\"domain\": [0.0, 0.45], \"anchor\": \"y1\"}, \"yaxis1\": {\"domain\": [0.0, 1.0], \"anchor\": \"x1\"}, \"xaxis2\": {\"domain\": [0.55, 1.0], \"anchor\": \"y2\"}, \"yaxis2\": {\"domain\": [0.0, 1.0], \"anchor\": \"x2\"}}, {\"showLink\": true, \"linkText\": \"Export to plot.ly\"})});</script>"
      ],
      "text/vnd.plotly.v1+html": [
       "<div id=\"7fddcbb4-9b1d-4258-a28e-0ce5bb2319d4\" style=\"height: 525px; width: 100%;\" class=\"plotly-graph-div\"></div><script type=\"text/javascript\">require([\"plotly\"], function(Plotly) { window.PLOTLYENV=window.PLOTLYENV || {};window.PLOTLYENV.BASE_URL=\"https://plot.ly\";Plotly.newPlot(\"7fddcbb4-9b1d-4258-a28e-0ce5bb2319d4\", [{\"type\": \"scatter\", \"x\": [0.0, 0.25, 0.5, 0.75, 1.0, 1.25, 1.5, 1.75, 2.0, 2.25, 2.5, 2.75], \"y\": [0.0, 0.0625, 0.25, 0.5625, 1.0, 1.5625, 2.25, 3.0625, 4.0, 5.0625, 6.25, 7.5625], \"mode\": \"line\", \"name\": \"data\", \"text\": [], \"xaxis\": \"x1\", \"yaxis\": \"y1\"}, {\"type\": \"scatter\", \"x\": [1.5, 2, 2.5], \"y\": [1.995, 4, 6.005], \"mode\": \"line\", \"name\": \"f' (x) = 4.01\", \"text\": [], \"xaxis\": \"x1\", \"yaxis\": \"y1\"}, {\"type\": \"scatter\", \"x\": [0.0, 0.25, 0.5, 0.75, 1.0, 1.25, 1.5, 1.75, 2.0, 2.25, 2.5, 2.75], \"y\": [0.0, 0.0625, 0.25, 0.5625, 1.0, 1.5625, 2.25, 3.0625, 4.0, 5.0625, 6.25, 7.5625], \"mode\": \"line\", \"name\": \"data\", \"text\": [], \"xaxis\": \"x2\", \"yaxis\": \"y2\"}, {\"type\": \"scatter\", \"x\": [1.5, 2, 2.5], \"y\": [1.9994999999999998, 4, 6.000500000000001], \"mode\": \"line\", \"name\": \"f' (x) = 4.001\", \"text\": [], \"xaxis\": \"x2\", \"yaxis\": \"y2\"}], {\"xaxis1\": {\"domain\": [0.0, 0.45], \"anchor\": \"y1\"}, \"yaxis1\": {\"domain\": [0.0, 1.0], \"anchor\": \"x1\"}, \"xaxis2\": {\"domain\": [0.55, 1.0], \"anchor\": \"y2\"}, \"yaxis2\": {\"domain\": [0.0, 1.0], \"anchor\": \"x2\"}}, {\"showLink\": true, \"linkText\": \"Export to plot.ly\"})});</script>"
      ]
     },
     "metadata": {},
     "output_type": "display_data"
    }
   ],
   "source": [
    "tangent_x_squared_delta_hundredth = derivative_trace(x_squared, 2, 1, .01)\n",
    "tangent_x_squared_delta_thousandth = derivative_trace(x_squared, 2, 1, .001)\n",
    "subplots = make_subplots([trace_x_squared_to_three, tangent_x_squared_delta_hundredth], [trace_x_squared_to_three, tangent_x_squared_delta_thousandth])"
   ]
  },
  {
   "cell_type": "markdown",
   "metadata": {},
   "source": [
    ">  $\\Delta x = .01$ and $\\Delta x = .001$"
   ]
  },
  {
   "cell_type": "markdown",
   "metadata": {},
   "source": [
    "As you can see, as $\\Delta x $ approaches zero, $f'(2) $ approaches $ 4 $.  This convergance around one number as we change another number, is the **limit **.  "
   ]
  },
  {
   "cell_type": "markdown",
   "metadata": {},
   "source": [
    "### Approaching our formula for a derivative"
   ]
  },
  {
   "cell_type": "markdown",
   "metadata": {},
   "source": [
    "So to describe the above, we would say, at the point $x = 2 $, the limit of $\\frac{\\Delta y}{\\Delta x} $ -- that is the number $\\frac{\\Delta y}{\\Delta x} $ approaches -- as  $ \\Delta x $ approaches zero is 4.  We can abbreviate this into the following expression: "
   ]
  },
  {
   "cell_type": "markdown",
   "metadata": {},
   "source": [
    "When $x = 2,\\lim_{\\Delta x\\to0} \\frac{\\Delta y}{\\Delta x} = 4  $.\n",
    "\n",
    "Or, better yet, we can update and correct our definition of derivative to equal:\n",
    "\n",
    "$$ f'(x) = \\lim_{ \\Delta x \\to0} \\frac{f(x + \\Delta x) - f(x)}{\\Delta x} $$ \n",
    "\n",
    "So the derivative is the change in output as we *just nudge* our input.  That is how we calculate *instantaneous rate of change*.  That is how we can determine the runners speed at precisely second number 2, by calculating the runner's speed over shorter and shorter periods of time, to see what that number approaches."
   ]
  },
  {
   "cell_type": "markdown",
   "metadata": {},
   "source": [
    "One final definition before we go.  Instead of $\\Delta x$, mathematicians sometimes use the variable $h$ to describe the change in inputs.  So replacing our $\\Delta x$ symbols with $h$'s we have:\n",
    "\n",
    "$$ f'(x) = \\lim_{ h\\to0} \\frac{f(x + h) - f(x)}{h} $$ "
   ]
  },
  {
   "cell_type": "markdown",
   "metadata": {},
   "source": [
    "So that is our formula for the derivative for all types of functions linear and nonlinear."
   ]
  },
  {
   "cell_type": "markdown",
   "metadata": {},
   "source": [
    "### Summary"
   ]
  },
  {
   "cell_type": "markdown",
   "metadata": {
    "collapsed": true
   },
   "source": [
    "In this section, we learned about derivatives.  A derivative is the instantaneous rate of change of a function.  To calculate the instantaneous rate of change of a function, we see the value that $\\frac{\\Delta y}{\\Delta x} $ approaches as $\\Delta x $ approaches zero.  This way, we are not calculating the rate of change of a function across a given distance, but rather are finding the rate of change instantaneously. "
   ]
  }
 ],
 "metadata": {
  "kernelspec": {
   "display_name": "Python 3",
   "language": "python",
   "name": "python3"
  },
  "language_info": {
   "codemirror_mode": {
    "name": "ipython",
    "version": 3
   },
   "file_extension": ".py",
   "mimetype": "text/x-python",
   "name": "python",
   "nbconvert_exporter": "python",
   "pygments_lexer": "ipython3",
   "version": "3.6.1"
  }
 },
 "nbformat": 4,
 "nbformat_minor": 2
}
