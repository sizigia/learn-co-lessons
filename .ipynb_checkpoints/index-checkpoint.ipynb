{
 "cells": [
  {
   "cell_type": "markdown",
   "metadata": {},
   "source": [
    "# Being expressive with functions"
   ]
  },
  {
   "cell_type": "markdown",
   "metadata": {},
   "source": [
    "### Learning objectives"
   ]
  },
  {
   "cell_type": "markdown",
   "metadata": {},
   "source": [
    "* Understand what it means to say that a function is dependent on a variable\n",
    "* Understand how to express a multivariable function \n",
    "* Understand how to express a function that is composed of another function, and why to express functions that way  "
   ]
  },
  {
   "cell_type": "markdown",
   "metadata": {},
   "source": [
    "### Introduction"
   ]
  },
  {
   "cell_type": "markdown",
   "metadata": {},
   "source": [
    "As we have seen, our concepts in mathematics and in code line up pretty nicely.  It's time we go off on a little bit of a tangent to explore how to we denote functions in math lines up to how we denote functions in code and examine different ways of denoting functions.  Some of these concepts may feel like review, but making sure we have a handle on them will give us clarity when we move on to explore other topics in mathematics."
   ]
  },
  {
   "cell_type": "markdown",
   "metadata": {},
   "source": [
    "### Functions depending on variables"
   ]
  },
  {
   "cell_type": "markdown",
   "metadata": {},
   "source": [
    "So let's begin a way to talk about functions in general.  We describe a function as $f(x)$.  For example, we can say $f(x) = 3*x$.  That just means that the output depends on the value of $x$.  When $x = 3$, $f(x) = 3*x = 3*3 = 9$.  When $x = 4$,  $f(x) = 4*3 = 12$.  Another way of saying \"when $x = 3$ is simply to say $f(3)$.  So $f(3) = 9$.  \n",
    "\n",
    "$f(x)$ is our generic way to express a function.  We are not saying the output equals $y$ or anything else, we are just saying that the value equals something that is a function of $x$.  And we say that we are evaluating $f(x)$ at a specific value of $x$ by just plugging in that value to the parentheses, as in $f(3)$.  Note that our mathematical expression of an output varying with an input lines up nicely to how a function varies with input.  To show that a function varies with an input, we just use an argument."
   ]
  },
  {
   "cell_type": "code",
   "execution_count": 3,
   "metadata": {
    "collapsed": true
   },
   "outputs": [],
   "source": [
    "def f(x):\n",
    "    add_something = 2\n",
    "    return x**2 + add_something"
   ]
  },
  {
   "cell_type": "code",
   "execution_count": 6,
   "metadata": {},
   "outputs": [
    {
     "data": {
      "text/plain": [
       "11"
      ]
     },
     "execution_count": 6,
     "metadata": {},
     "output_type": "execute_result"
    }
   ],
   "source": [
    "f(3)"
   ]
  },
  {
   "cell_type": "code",
   "execution_count": 7,
   "metadata": {},
   "outputs": [
    {
     "data": {
      "text/plain": [
       "18"
      ]
     },
     "execution_count": 7,
     "metadata": {},
     "output_type": "execute_result"
    }
   ],
   "source": [
    "f(4)"
   ]
  },
  {
   "cell_type": "markdown",
   "metadata": {},
   "source": [
    "Our function varies with $x$, as our values of $x$ change, the output of the function changes.  Note that our function does not vary with values of `add_something` as `add_something` is just a constant, the number $2$ and therefore is not an argument."
   ]
  },
  {
   "cell_type": "markdown",
   "metadata": {},
   "source": [
    "Here is another function that varies with $x$."
   ]
  },
  {
   "cell_type": "code",
   "execution_count": 8,
   "metadata": {
    "collapsed": true
   },
   "outputs": [],
   "source": [
    "def g(x):\n",
    "    return 3*x + 3"
   ]
  },
  {
   "cell_type": "code",
   "execution_count": 9,
   "metadata": {},
   "outputs": [
    {
     "data": {
      "text/plain": [
       "15"
      ]
     },
     "execution_count": 9,
     "metadata": {},
     "output_type": "execute_result"
    }
   ],
   "source": [
    "g(4)"
   ]
  },
  {
   "cell_type": "markdown",
   "metadata": {},
   "source": [
    "And here is how we can express this mathematically. \n",
    "\n",
    "$$ g(x) = 3*x + 3$$ "
   ]
  },
  {
   "cell_type": "markdown",
   "metadata": {},
   "source": [
    "Why $g(x)$ and not $f(x)$?  It's just a way for us to distinguish between functions.  So now we can indicate that $f(x)$ is different than $g(x)$ but they both depend on the argument that they are passed in. \n",
    "\n",
    "If we want to express that we are evaluating the function at a specific variable mathematically, we just do so by placing that number in the parenthese.  For example, here is how we can express that we are evaluating function $g(x)$ at the value $4$, and the result is $15$. \n",
    "$$ g(4) = 15 $$\n",
    "\n",
    "So we just plug in the value of $4$ every time that we see an $x$, just like computer does when we execute $g(4)$ with Python. "
   ]
  },
  {
   "cell_type": "markdown",
   "metadata": {},
   "source": [
    "### Multivariable functions"
   ]
  },
  {
   "cell_type": "markdown",
   "metadata": {},
   "source": [
    "A little further on, we will see mathematical functions that vary with two different variables, called *multivariable functions*.  So we have already seen Python functions that vary with two arguments.  For example, here is a function that varies with two arguments: "
   ]
  },
  {
   "cell_type": "code",
   "execution_count": 19,
   "metadata": {
    "collapsed": true
   },
   "outputs": [],
   "source": [
    "def z(x, y):\n",
    "    return 3*x + y"
   ]
  },
  {
   "cell_type": "code",
   "execution_count": 17,
   "metadata": {},
   "outputs": [
    {
     "data": {
      "text/plain": [
       "10"
      ]
     },
     "execution_count": 17,
     "metadata": {},
     "output_type": "execute_result"
    }
   ],
   "source": [
    "z(3, 1)"
   ]
  },
  {
   "cell_type": "code",
   "execution_count": 18,
   "metadata": {},
   "outputs": [
    {
     "data": {
      "text/plain": [
       "9"
      ]
     },
     "execution_count": 18,
     "metadata": {},
     "output_type": "execute_result"
    }
   ],
   "source": [
    "z(3, 0)"
   ]
  },
  {
   "cell_type": "markdown",
   "metadata": {},
   "source": [
    "And mathematically, we can indicate that this function is dependent on variables $x$ and $y$ as the following:\n",
    "\n",
    "$$ z(x, y) = 3*x + y $$\n",
    "\n",
    "Once again, the $z$ is arbitrary.  The standard way that you will see that a function is still just $f(x, y)$."
   ]
  },
  {
   "cell_type": "markdown",
   "metadata": {},
   "source": [
    "### Functions depending on other functions"
   ]
  },
  {
   "cell_type": "markdown",
   "metadata": {},
   "source": [
    "Now that we have seen how functions depend on multiple variables, we can also take a look at what it means for functions to depend on other functions.  Note that in code, we see this all of the time.  For example, here is one implementation of a function that we have solved before."
   ]
  },
  {
   "cell_type": "code",
   "execution_count": 24,
   "metadata": {},
   "outputs": [
    {
     "data": {
      "text/plain": [
       "4"
      ]
     },
     "execution_count": 24,
     "metadata": {},
     "output_type": "execute_result"
    }
   ],
   "source": [
    "def squared_error(actual, expected):\n",
    "    return (actual - expected)**2\n",
    "\n",
    "squared_error(4, 2)"
   ]
  },
  {
   "cell_type": "markdown",
   "metadata": {},
   "source": [
    "But we can really break this function into two:"
   ]
  },
  {
   "cell_type": "code",
   "execution_count": 29,
   "metadata": {},
   "outputs": [
    {
     "data": {
      "text/plain": [
       "4"
      ]
     },
     "execution_count": 29,
     "metadata": {},
     "output_type": "execute_result"
    }
   ],
   "source": [
    "def error(actual, expected):\n",
    "    return actual - expected\n",
    "    \n",
    "def squared_error(actual, expected):\n",
    "    return error(actual, expected)**2\n",
    "\n",
    "squared_error(4, 2)"
   ]
  },
  {
   "cell_type": "markdown",
   "metadata": {},
   "source": [
    "As you know, composing our functions with other functions in code helps us readability as well as break problems down by expressing one idea per function.  Similarly, functional composition in mathematics can also help break down problems and assist with readability.  Here is how we express it.  Let's represent the function `error` as $g(x, y) = x - y $ where $x$ represents actual and $y$ represents expected. "
   ]
  },
  {
   "cell_type": "markdown",
   "metadata": {},
   "source": [
    "$$g(x, y) = x - y  $$"
   ]
  },
  {
   "cell_type": "markdown",
   "metadata": {},
   "source": [
    "Now here is how we can represent squared error."
   ]
  },
  {
   "cell_type": "markdown",
   "metadata": {},
   "source": [
    "$$ f(g(x, y)) = g(x, y) ^2 $$"
   ]
  },
  {
   "cell_type": "markdown",
   "metadata": {},
   "source": [
    "So now we are expressing that this second function depends on $g(x, y)$ and also depends on $x$ and $y$.  So the output of the function will vary with a few things.  As you'll see soon, functional composition can help us just break down some problems.  But really, we're just saying that to determine what $f(g(x,y))$ will output, you need to know the variables $x$ and $y$ as well as the function $g(x, y)$.  Just like to know what our `squared_error` function will return, we need to know about our `error` function, as well as the arguments of `actual` and `expected`.  "
   ]
  },
  {
   "cell_type": "markdown",
   "metadata": {},
   "source": [
    "Let's do one more to make sure we have the hang of it.  Take the function $z(x) = (3 + 4x)^2$.  How would we represent this as multiple functions?\n",
    "\n",
    "Well, $f(x) = 3 + 4x $ and $ g(f(x)) = f(x)^2 $."
   ]
  },
  {
   "cell_type": "markdown",
   "metadata": {},
   "source": [
    "### Summary"
   ]
  },
  {
   "cell_type": "markdown",
   "metadata": {
    "collapsed": true
   },
   "source": [
    "In this section, we learned about expressing functions mathematically.  We saw that when what we call a function, whether $f$ or $g$ or $z$ is used for identifying a function.  In the parentheses, we indicate what the output of the function is dependent on.  Sometimes the output of the function depends on one variable, sometimes multiple variables, and sometimes it depends on other functions, whose output depends on other variables.  "
   ]
  },
  {
   "cell_type": "code",
   "execution_count": null,
   "metadata": {
    "collapsed": true
   },
   "outputs": [],
   "source": []
  }
 ],
 "metadata": {
  "kernelspec": {
   "display_name": "Python 3",
   "language": "python",
   "name": "python3"
  },
  "language_info": {
   "codemirror_mode": {
    "name": "ipython",
    "version": 3
   },
   "file_extension": ".py",
   "mimetype": "text/x-python",
   "name": "python",
   "nbconvert_exporter": "python",
   "pygments_lexer": "ipython3",
   "version": "3.6.1"
  }
 },
 "nbformat": 4,
 "nbformat_minor": 2
}
