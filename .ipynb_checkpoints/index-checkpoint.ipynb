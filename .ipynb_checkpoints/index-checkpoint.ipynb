{
 "cells": [
  {
   "cell_type": "markdown",
   "metadata": {},
   "source": [
    "### Introduction"
   ]
  },
  {
   "cell_type": "markdown",
   "metadata": {},
   "source": [
    "From previous lessons, you know that the derivative is equal to the slope of the tangent line along a graph.  The importance of the derivative is that it tells us the rate of change at a given point.  In previous lessons, we discussed the broad problem as how to calculate the rate of change for a function at a given point: that is, the derivative.  We said that the derivative of a function at a certain point is just the slope of the function at that point.  And to calculate that slope of a function when the change in the input is zero, we simply make our change in input smaller and smaller to approach a change of zero, and see what our $ \\Delta y/\\Delta x $ converges upon.\n",
    "\n",
    "For example, we saw the following table: "
   ]
  },
  {
   "cell_type": "markdown",
   "metadata": {},
   "source": [
    "| $ \\Delta x $        | $ \\Delta y/\\Delta x $|\n",
    "| ------------- |:-------------:|\n",
    "| .1      | -171,000      |\n",
    "| .01 | -179,100     |\n",
    "| .001 | -179,910      |\n",
    "| .0001 | -179,991      |\n"
   ]
  },
  {
   "cell_type": "markdown",
   "metadata": {},
   "source": [
    "This convergance around one number is called the **limit **.  And we can describe what we see in the above table as the expression: \n",
    "\n",
    "\n",
    " $$ \\frac{dy}{dx} {x=0} = \\lim_{\\Delta x\\to0} \\Delta y / \\Delta x = -180,000  $$.\n",
    "\n",
    "We read this as the limit of $\\Delta y / \\Delta x $ -- that is the number $\\Delta y / \\Delta x $ approaches -- as  $ \\Delta x $ approaches zero is -180,000.  So $ \\lim_{\\Delta x\\to0} \\Delta y / \\Delta x $ is our definition of the derivative. "
   ]
  },
  {
   "cell_type": "markdown",
   "metadata": {},
   "source": [
    "### Our rules for calculating the derivative"
   ]
  },
  {
   "cell_type": "markdown",
   "metadata": {},
   "source": [
    "So far, we have calculated the derivative by changing our delta as reflected in the table above, and seeing the convergance.  However, mathematicians have given us shortcuts to calculate the derivative, and that is what we'll learn about here.  \n",
    "\n",
    "##### The power rule\n",
    "\n",
    "The first rule for us to learn is the power rule.  The power rule states is expressed as the following.  Given the following:\n",
    "\n",
    "$$f(x) = x^r $$\n",
    "\n",
    "Then, the derivative, $f'(x)$ is: \n",
    "$$ f'(x) = r*x^{r-1} $$\n",
    "\n",
    "This says that if variable, like $x$, that is raised to a exponent $r$, then the derivative of that function is the exponent $r$ multiplied by the variable, with the variablae raised to one minus the original exponent.\n",
    "\n",
    "So for example, consider the following function:\n",
    "\n",
    "$$f(x) = x^2 $$\n",
    "$$f'(x) = 2*x^{2-1} =  2*x^1 = 2*x $$\n",
    "\n",
    "Think about what this is saying about our function, $f(x) = x^2 $.  It says, for $f(x) = x ^2$, a small change in $x$ produces an increase in $f(x) $ equal to 2 times the $ x $ value.  \n",
    "\n",
    "So when $ x = 2 $, we solve for the derivative at that point by simply plugging in $ 2 $ whenever we see $ x $. \n",
    "So as: \n",
    "$$ f'(x) = 2*x $$\n",
    "$$f'(2) = 2*2 = f'(2) = 4 $$\n",
    "\n",
    "And when $ x = 10 $, then,\n",
    "\n",
    "$$f'(10) = 2*10 = 20$$ "
   ]
  },
  {
   "cell_type": "markdown",
   "metadata": {},
   "source": [
    "We won't prove the power rule here.  But hopefully you can see that it does seem to fit our graph of the function $f(x) = x^2$ and of the lines tangent to $f(x)$."
   ]
  },
  {
   "cell_type": "code",
   "execution_count": 17,
   "metadata": {},
   "outputs": [
    {
     "data": {
      "text/html": [
       "<script>requirejs.config({paths: { 'plotly': ['https://cdn.plot.ly/plotly-latest.min']},});if(!window.Plotly) {{require(['plotly'],function(plotly) {window.Plotly=plotly;});}}</script>"
      ],
      "text/vnd.plotly.v1+html": [
       "<script>requirejs.config({paths: { 'plotly': ['https://cdn.plot.ly/plotly-latest.min']},});if(!window.Plotly) {{require(['plotly'],function(plotly) {window.Plotly=plotly;});}}</script>"
      ]
     },
     "metadata": {},
     "output_type": "display_data"
    },
    {
     "data": {
      "application/vnd.plotly.v1+json": {
       "data": [
        {
         "x": [
          -3,
          -2.9,
          -2.8,
          -2.7,
          -2.6,
          -2.5,
          -2.4,
          -2.3,
          -2.2,
          -2.1,
          -2,
          -1.9,
          -1.8,
          -1.7,
          -1.6,
          -1.5,
          -1.4,
          -1.3,
          -1.2,
          -1.1,
          -1,
          -0.9,
          -0.8,
          -0.7,
          -0.6,
          -0.5,
          -0.4,
          -0.3,
          -0.2,
          -0.1,
          0,
          0.1,
          0.2,
          0.3,
          0.4,
          0.5,
          0.6,
          0.7,
          0.8,
          0.9,
          1,
          1.1,
          1.2,
          1.3,
          1.4,
          1.5,
          1.6,
          1.7,
          1.8,
          1.9,
          2,
          2.1,
          2.2,
          2.3,
          2.4,
          2.5,
          2.6,
          2.7,
          2.8,
          2.9,
          3,
          3.1,
          3.2,
          3.3,
          3.4,
          3.5,
          3.6,
          3.7,
          3.8,
          3.9,
          4
         ],
         "y": [
          9,
          8.41,
          7.839999999999999,
          7.290000000000001,
          6.760000000000001,
          6.25,
          5.76,
          5.289999999999999,
          4.840000000000001,
          4.41,
          4,
          3.61,
          3.24,
          2.8899999999999997,
          2.5600000000000005,
          2.25,
          1.9599999999999997,
          1.6900000000000002,
          1.44,
          1.2100000000000002,
          1,
          0.81,
          0.6400000000000001,
          0.48999999999999994,
          0.36,
          0.25,
          0.16000000000000003,
          0.09,
          0.04000000000000001,
          0.010000000000000002,
          0,
          0.010000000000000002,
          0.04000000000000001,
          0.09,
          0.16000000000000003,
          0.25,
          0.36,
          0.48999999999999994,
          0.6400000000000001,
          0.81,
          1,
          1.2100000000000002,
          1.44,
          1.6900000000000002,
          1.9599999999999997,
          2.25,
          2.5600000000000005,
          2.8899999999999997,
          3.24,
          3.61,
          4,
          4.41,
          4.840000000000001,
          5.289999999999999,
          5.76,
          6.25,
          6.760000000000001,
          7.290000000000001,
          7.839999999999999,
          8.41,
          9,
          9.610000000000001,
          10.240000000000002,
          10.889999999999999,
          11.559999999999999,
          12.25,
          12.96,
          13.690000000000001,
          14.44,
          15.209999999999999,
          16
         ]
        },
        {
         "mode": "lines+text",
         "text": [
          "    slope:-2.00"
         ],
         "textposition": "right",
         "x": [
          -1.4,
          -1,
          -0.6
         ],
         "y": [
          1.7995999999999892,
          1,
          0.2004000000000108
         ]
        },
        {
         "mode": "lines+text",
         "text": [
          "    slope:4.00"
         ],
         "textposition": "right",
         "x": [
          1.6,
          2,
          2.4
         ],
         "y": [
          2.3996000000001203,
          4,
          5.60039999999988
         ]
        },
        {
         "mode": "lines+text",
         "text": [
          "    slope:6.00"
         ],
         "textposition": "right",
         "x": [
          2.6,
          3,
          3.4
         ],
         "y": [
          6.599600000000208,
          9,
          11.400399999999792
         ]
        }
       ],
       "layout": {}
      },
      "text/html": [
       "<div id=\"32a405ff-fd29-4743-a349-717ba7201239\" style=\"height: 525px; width: 100%;\" class=\"plotly-graph-div\"></div><script type=\"text/javascript\">require([\"plotly\"], function(Plotly) { window.PLOTLYENV=window.PLOTLYENV || {};window.PLOTLYENV.BASE_URL=\"https://plot.ly\";Plotly.newPlot(\"32a405ff-fd29-4743-a349-717ba7201239\", [{\"x\": [-3.0, -2.9, -2.8, -2.7, -2.6, -2.5, -2.4, -2.3, -2.2, -2.1, -2.0, -1.9, -1.8, -1.7, -1.6, -1.5, -1.4, -1.3, -1.2, -1.1, -1.0, -0.9, -0.8, -0.7, -0.6, -0.5, -0.4, -0.3, -0.2, -0.1, 0.0, 0.1, 0.2, 0.3, 0.4, 0.5, 0.6, 0.7, 0.8, 0.9, 1.0, 1.1, 1.2, 1.3, 1.4, 1.5, 1.6, 1.7, 1.8, 1.9, 2.0, 2.1, 2.2, 2.3, 2.4, 2.5, 2.6, 2.7, 2.8, 2.9, 3.0, 3.1, 3.2, 3.3, 3.4, 3.5, 3.6, 3.7, 3.8, 3.9, 4.0], \"y\": [9.0, 8.41, 7.839999999999999, 7.290000000000001, 6.760000000000001, 6.25, 5.76, 5.289999999999999, 4.840000000000001, 4.41, 4.0, 3.61, 3.24, 2.8899999999999997, 2.5600000000000005, 2.25, 1.9599999999999997, 1.6900000000000002, 1.44, 1.2100000000000002, 1.0, 0.81, 0.6400000000000001, 0.48999999999999994, 0.36, 0.25, 0.16000000000000003, 0.09, 0.04000000000000001, 0.010000000000000002, 0.0, 0.010000000000000002, 0.04000000000000001, 0.09, 0.16000000000000003, 0.25, 0.36, 0.48999999999999994, 0.6400000000000001, 0.81, 1.0, 1.2100000000000002, 1.44, 1.6900000000000002, 1.9599999999999997, 2.25, 2.5600000000000005, 2.8899999999999997, 3.24, 3.61, 4.0, 4.41, 4.840000000000001, 5.289999999999999, 5.76, 6.25, 6.760000000000001, 7.290000000000001, 7.839999999999999, 8.41, 9.0, 9.610000000000001, 10.240000000000002, 10.889999999999999, 11.559999999999999, 12.25, 12.96, 13.690000000000001, 14.44, 15.209999999999999, 16.0]}, {\"x\": [-1.4, -1, -0.6], \"y\": [1.7995999999999892, 1, 0.2004000000000108], \"mode\": \"lines+text\", \"text\": [\"    slope:-2.00\"], \"textposition\": \"right\"}, {\"x\": [1.6, 2, 2.4], \"y\": [2.3996000000001203, 4, 5.60039999999988], \"mode\": \"lines+text\", \"text\": [\"    slope:4.00\"], \"textposition\": \"right\"}, {\"x\": [2.6, 3, 3.4], \"y\": [6.599600000000208, 9, 11.400399999999792], \"mode\": \"lines+text\", \"text\": [\"    slope:6.00\"], \"textposition\": \"right\"}], {}, {\"showLink\": true, \"linkText\": \"Export to plot.ly\"})});</script>"
      ],
      "text/vnd.plotly.v1+html": [
       "<div id=\"32a405ff-fd29-4743-a349-717ba7201239\" style=\"height: 525px; width: 100%;\" class=\"plotly-graph-div\"></div><script type=\"text/javascript\">require([\"plotly\"], function(Plotly) { window.PLOTLYENV=window.PLOTLYENV || {};window.PLOTLYENV.BASE_URL=\"https://plot.ly\";Plotly.newPlot(\"32a405ff-fd29-4743-a349-717ba7201239\", [{\"x\": [-3.0, -2.9, -2.8, -2.7, -2.6, -2.5, -2.4, -2.3, -2.2, -2.1, -2.0, -1.9, -1.8, -1.7, -1.6, -1.5, -1.4, -1.3, -1.2, -1.1, -1.0, -0.9, -0.8, -0.7, -0.6, -0.5, -0.4, -0.3, -0.2, -0.1, 0.0, 0.1, 0.2, 0.3, 0.4, 0.5, 0.6, 0.7, 0.8, 0.9, 1.0, 1.1, 1.2, 1.3, 1.4, 1.5, 1.6, 1.7, 1.8, 1.9, 2.0, 2.1, 2.2, 2.3, 2.4, 2.5, 2.6, 2.7, 2.8, 2.9, 3.0, 3.1, 3.2, 3.3, 3.4, 3.5, 3.6, 3.7, 3.8, 3.9, 4.0], \"y\": [9.0, 8.41, 7.839999999999999, 7.290000000000001, 6.760000000000001, 6.25, 5.76, 5.289999999999999, 4.840000000000001, 4.41, 4.0, 3.61, 3.24, 2.8899999999999997, 2.5600000000000005, 2.25, 1.9599999999999997, 1.6900000000000002, 1.44, 1.2100000000000002, 1.0, 0.81, 0.6400000000000001, 0.48999999999999994, 0.36, 0.25, 0.16000000000000003, 0.09, 0.04000000000000001, 0.010000000000000002, 0.0, 0.010000000000000002, 0.04000000000000001, 0.09, 0.16000000000000003, 0.25, 0.36, 0.48999999999999994, 0.6400000000000001, 0.81, 1.0, 1.2100000000000002, 1.44, 1.6900000000000002, 1.9599999999999997, 2.25, 2.5600000000000005, 2.8899999999999997, 3.24, 3.61, 4.0, 4.41, 4.840000000000001, 5.289999999999999, 5.76, 6.25, 6.760000000000001, 7.290000000000001, 7.839999999999999, 8.41, 9.0, 9.610000000000001, 10.240000000000002, 10.889999999999999, 11.559999999999999, 12.25, 12.96, 13.690000000000001, 14.44, 15.209999999999999, 16.0]}, {\"x\": [-1.4, -1, -0.6], \"y\": [1.7995999999999892, 1, 0.2004000000000108], \"mode\": \"lines+text\", \"text\": [\"    slope:-2.00\"], \"textposition\": \"right\"}, {\"x\": [1.6, 2, 2.4], \"y\": [2.3996000000001203, 4, 5.60039999999988], \"mode\": \"lines+text\", \"text\": [\"    slope:4.00\"], \"textposition\": \"right\"}, {\"x\": [2.6, 3, 3.4], \"y\": [6.599600000000208, 9, 11.400399999999792], \"mode\": \"lines+text\", \"text\": [\"    slope:6.00\"], \"textposition\": \"right\"}], {}, {\"showLink\": true, \"linkText\": \"Export to plot.ly\"})});</script>"
      ]
     },
     "metadata": {},
     "output_type": "display_data"
    }
   ],
   "source": [
    "import plotly\n",
    "from plotly.offline import iplot, init_notebook_mode\n",
    "init_notebook_mode(connected=True)\n",
    "\n",
    "unscaled_values = list(range(-30, 41, 1))\n",
    "x_values = list(map(lambda point: point/10, unscaled_values))\n",
    "\n",
    "def y(x):\n",
    "    return x**2\n",
    "\n",
    "def line_function_data(line_function, x_values):\n",
    "    y_values = list(map(lambda x: line_function(x), x_values))\n",
    "    return {'x': x_values, 'y': y_values}\n",
    "\n",
    "def build_tangent_line(original_function, x, line_length = 5, delta = .01):\n",
    "    curve_at_point = derivative_at(original_function, x, delta)\n",
    "    slope = curve_at_point['slope']\n",
    "    x_minus = x - line_length\n",
    "    x_plus = x + line_length\n",
    "    y = original_function(x)\n",
    "    y_minus = y - slope * line_length\n",
    "    y_plus = y + slope * line_length\n",
    "    text = '    slope:' + format(slope, '.2f')\n",
    "    return {'x': [x_minus, x, x_plus], 'y': [y_minus, y, y_plus], 'mode': 'lines+text', 'text': [text], 'textposition': 'right'}\n",
    "\n",
    "def derivative_at(original_function, x, delta = .01):\n",
    "    numerator = original_function(x + delta) - original_function(x)\n",
    "    slope = numerator/delta\n",
    "    return {'value': x, 'slope': slope}\n",
    "\n",
    "tangent_at_neg_one = build_tangent_line(y, -1, .4, .001)\n",
    "tangent_at_two = build_tangent_line(y, 2, .4, .001)\n",
    "tangent_at_three = build_tangent_line(y, 3, .4, .001)\n",
    "\n",
    "def plot(traces):\n",
    "    plotly.offline.iplot(traces)\n",
    "\n",
    "x_squared = line_function_data(y, x_values)\n",
    "\n",
    "plot([x_squared, tangent_at_neg_one, tangent_at_two, tangent_at_three])"
   ]
  },
  {
   "cell_type": "markdown",
   "metadata": {},
   "source": [
    "It seems reasonable that the slope of the line tangent to a curve is $2*x$.  So our power rule for derivatives looks good."
   ]
  },
  {
   "cell_type": "markdown",
   "metadata": {},
   "source": [
    "Now let's try our power rule with a linear function.  For example, consider the function:"
   ]
  },
  {
   "cell_type": "markdown",
   "metadata": {},
   "source": [
    "$ f(x)= 4x$\n",
    "\n",
    "Note that this can also be written as $f(x) = 4x^1$."
   ]
  },
  {
   "cell_type": "markdown",
   "metadata": {},
   "source": [
    "Applying the power rule, we have: \n",
    "\n",
    "$$ f'(x) = 1*4*x^{1 - 1} = 4*x^0 = 4*1 = 4$$"
   ]
  },
  {
   "cell_type": "markdown",
   "metadata": {},
   "source": [
    "Ok, so the power rule tells us that $f'(x) = 4 $.  So this is saying that for any small change in $x$, the change in $f(x) $ always 4 times that change in $x$.  Once again let's look a plot $f(x)$ and $f'(x) $ for various values of $x$ to see if this holds true.  We have:"
   ]
  },
  {
   "cell_type": "code",
   "execution_count": 22,
   "metadata": {},
   "outputs": [
    {
     "data": {
      "application/vnd.plotly.v1+json": {
       "data": [
        {
         "x": [
          -2,
          -1,
          0,
          1,
          2
         ],
         "y": [
          -8,
          -4,
          0,
          4,
          8
         ]
        },
        {
         "mode": "lines+text",
         "text": [
          "    slope:4.00"
         ],
         "textposition": "right",
         "x": [
          -1.4,
          -1,
          -0.6
         ],
         "y": [
          -5.600000000000001,
          -4,
          -2.3999999999999986
         ]
        },
        {
         "mode": "lines+text",
         "text": [
          "    slope:4.00"
         ],
         "textposition": "right",
         "x": [
          1.6,
          2,
          2.4
         ],
         "y": [
          6.400000000000176,
          8,
          9.599999999999824
         ]
        }
       ],
       "layout": {}
      },
      "text/html": [
       "<div id=\"be947803-8d09-4e0b-a06e-88d71721abba\" style=\"height: 525px; width: 100%;\" class=\"plotly-graph-div\"></div><script type=\"text/javascript\">require([\"plotly\"], function(Plotly) { window.PLOTLYENV=window.PLOTLYENV || {};window.PLOTLYENV.BASE_URL=\"https://plot.ly\";Plotly.newPlot(\"be947803-8d09-4e0b-a06e-88d71721abba\", [{\"x\": [-2, -1, 0, 1, 2], \"y\": [-8, -4, 0, 4, 8]}, {\"x\": [-1.4, -1, -0.6], \"y\": [-5.600000000000001, -4, -2.3999999999999986], \"mode\": \"lines+text\", \"text\": [\"    slope:4.00\"], \"textposition\": \"right\"}, {\"x\": [1.6, 2, 2.4], \"y\": [6.400000000000176, 8, 9.599999999999824], \"mode\": \"lines+text\", \"text\": [\"    slope:4.00\"], \"textposition\": \"right\"}], {}, {\"showLink\": true, \"linkText\": \"Export to plot.ly\"})});</script>"
      ],
      "text/vnd.plotly.v1+html": [
       "<div id=\"be947803-8d09-4e0b-a06e-88d71721abba\" style=\"height: 525px; width: 100%;\" class=\"plotly-graph-div\"></div><script type=\"text/javascript\">require([\"plotly\"], function(Plotly) { window.PLOTLYENV=window.PLOTLYENV || {};window.PLOTLYENV.BASE_URL=\"https://plot.ly\";Plotly.newPlot(\"be947803-8d09-4e0b-a06e-88d71721abba\", [{\"x\": [-2, -1, 0, 1, 2], \"y\": [-8, -4, 0, 4, 8]}, {\"x\": [-1.4, -1, -0.6], \"y\": [-5.600000000000001, -4, -2.3999999999999986], \"mode\": \"lines+text\", \"text\": [\"    slope:4.00\"], \"textposition\": \"right\"}, {\"x\": [1.6, 2, 2.4], \"y\": [6.400000000000176, 8, 9.599999999999824], \"mode\": \"lines+text\", \"text\": [\"    slope:4.00\"], \"textposition\": \"right\"}], {}, {\"showLink\": true, \"linkText\": \"Export to plot.ly\"})});</script>"
      ]
     },
     "metadata": {},
     "output_type": "display_data"
    }
   ],
   "source": [
    "def linear_function(x):\n",
    "    return 4*x\n",
    "\n",
    "linear_tangent_at_neg_one = build_tangent_line(linear_function, -1, .4, .001)\n",
    "linear_tangent_at_two = build_tangent_line(linear_function, 2, .4, .001)\n",
    "linear_tangent_at_three = build_tangent_line(linear_function, 3, .4, .001)\n",
    "\n",
    "four_x = line_function_data(linear_function, list(range(-2, 3)))\n",
    "plot([four_x, linear_tangent_at_neg_one, linear_tangent_at_two])"
   ]
  },
  {
   "cell_type": "markdown",
   "metadata": {},
   "source": [
    "Notice that for the function $f(x) = 4x$, the slope of our tangent never changes.  It is constant.  So unlike our function, $f(x) = x^2 $ the rate of change in our function is the same regardless of the value of $x$.  And as you can see, our power rule for derivatives proves right again."
   ]
  },
  {
   "cell_type": "markdown",
   "metadata": {},
   "source": [
    "##### The constant factor rule"
   ]
  },
  {
   "cell_type": "markdown",
   "metadata": {},
   "source": [
    "The above also made use of the constant factor rule.  The constant factor addresses how to take the derivative of a function multiplied by a constant. \n",
    "\n",
    "So in the above example, we our function of $f(x) = 4*x$.  Now, the derivative of that function\n",
    "\n",
    "$$f'(x) = 3 * \\frac{dy}{dx}(x) $$\n",
    "\n",
    "Applying the power rule, we know that $ \\frac{dy}{dx}(x) = 1 $, so we have: \n",
    "\n",
    "$$f'(x) = 3 * \\frac{dy}{dx}(x) = 3*1 = 3$$\n",
    "\n",
    "In the general case, we can say, consider the function $a*f(x)$ where $a$ is a constant (that is, is a number and not a variable).  Then the derivative $\\frac{dy}{dx}(a*f(x)) = a * \\frac{dy}{dx}*f(x) $.  \n",
    "\n",
    "Now, don't let the fancy equations above confuse you.  The rule simply says if a variable is multiplied by a constant (i.e. a number), then to take the derivative of that term, apply the power rule to the variable and multiply the variable by that same constant.\n",
    "\n",
    "So given the function \n",
    "$$f(x) = 2x^2 $$\n",
    "$$f'(x) = 2*\\frac{dy}{dx} x^{2} = 2*2*x^{2-1} = 4x^1 = 4x $$\n",
    "\n",
    "That's the constant factor rule in action."
   ]
  },
  {
   "cell_type": "markdown",
   "metadata": {},
   "source": [
    "##### The addition rule"
   ]
  },
  {
   "cell_type": "markdown",
   "metadata": {},
   "source": [
    "So far all of our functions have only had one term.  Remember that a term is a constant or variable that is separated by a plus or minus sign.  So the function, $f(x)$ below has three terms:\n",
    "    \n",
    "$ f(x) = 4x^3 - x^2 + 3x $\n",
    "\n",
    "First, we say that this function has two terms.  A term is .  Ok, so to take a derivative of a function that has multiple terms, simply take the derivative of each of the terms individually.  So $ f'(b) = 12b^2 - 2b + 3  $.  Do you see what we did there, we simply applied our previous rules to each of the terms individually and continued to add or subtract the terms accordingly."
   ]
  },
  {
   "cell_type": "markdown",
   "metadata": {},
   "source": [
    "#### The chain rule\n",
    "\n",
    "Ok, one more rule and then we are done."
   ]
  },
  {
   "cell_type": "markdown",
   "metadata": {},
   "source": [
    "### Summary"
   ]
  },
  {
   "cell_type": "markdown",
   "metadata": {},
   "source": [
    "***\n",
    "This section is a little different in that we did not intuitively prove the rules we will apply.  But hopefully, you still have an intuition for the derivative of a function.  The derivative of a function at a given point is simply the rate of change of that function at that point.  And we calculate it with the formul"
   ]
  },
  {
   "cell_type": "markdown",
   "metadata": {},
   "source": [
    "In this section we saw that we can find the minimum error by following the line tangent to a graph.  And we can move along by following the line tangent to the spot we are currently located.  We then saw how this holds for a two-dimensional graph, by considering how our error changes with respect to a change in b.  We identified this change in output from an infintesimally small change in input as our derivative.  \n",
    "\n",
    "Then we considered three rules that allow us to calculate our derivative.  The most tricky of these is the power rule, which says that if $f(b) = b^n$, then $ f'(b) = n * b^{n -1} $.  We still haven't seen how derivativesgive us a way to understand gradient descent, but we will shortly when we consider how to take derivatives when we have functions with multiple variables, like an error function that is dependent on both m and b.\n",
    "\n",
    "But first, let's practice what we know about derivatives in a lab."
   ]
  }
 ],
 "metadata": {
  "kernelspec": {
   "display_name": "Python 3",
   "language": "python",
   "name": "python3"
  },
  "language_info": {
   "codemirror_mode": {
    "name": "ipython",
    "version": 3
   },
   "file_extension": ".py",
   "mimetype": "text/x-python",
   "name": "python",
   "nbconvert_exporter": "python",
   "pygments_lexer": "ipython3",
   "version": "3.6.1"
  }
 },
 "nbformat": 4,
 "nbformat_minor": 2
}
