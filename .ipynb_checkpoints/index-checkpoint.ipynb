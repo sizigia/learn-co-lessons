{
 "cells": [
  {
   "cell_type": "markdown",
   "metadata": {},
   "source": [
    "# Introduction to data science"
   ]
  },
  {
   "cell_type": "markdown",
   "metadata": {},
   "source": [
    "Data Science means a variety of terms based who you talk to.  For our purposes, data science involves the fields of programming, machine learning or statistics, and business intelligence to make predictions using data.  \n",
    "\n",
    "As a data scientist, you will follow a process to make predictions using data.  This is the process we will use in this introductory course:\n",
    "\n",
    "* Collect: Gather and clean the relevant data\n",
    "* Explore: Explore the data\n",
    "* Train: Choose an statistical or machine learning model (ie. a tool or algorithm) and optimize the model for some criteria (eg. how well the model predicts our data)\n",
    "* Predict: Make predictions with the trained model"
   ]
  },
  {
   "cell_type": "markdown",
   "metadata": {},
   "source": [
    "The first section of the course focuses on the first and second steps: collecting and exploring.  For collecting and exploring our data we will be using Python as well a Python library for data visualizations.\n",
    "\n",
    "The second part of the introductory course goes deeper into exploring as well as training and make predictions with our models.  This means that we will go deeper into data visualization and graphs, and then learn some machine learning algorithms for making predictions from our data. \n",
    "\n",
    "Great, it's time to get started with the Python and visualization section!"
   ]
  }
 ],
 "metadata": {
  "kernelspec": {
   "display_name": "Python 3",
   "language": "python",
   "name": "python3"
  },
  "language_info": {
   "codemirror_mode": {
    "name": "ipython",
    "version": 3
   },
   "file_extension": ".py",
   "mimetype": "text/x-python",
   "name": "python",
   "nbconvert_exporter": "python",
   "pygments_lexer": "ipython3",
   "version": "3.6.1"
  }
 },
 "nbformat": 4,
 "nbformat_minor": 2
}
