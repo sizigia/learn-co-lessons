{
 "cells": [
  {
   "cell_type": "markdown",
   "metadata": {},
   "source": [
    "# Single Variable Calculus Lab"
   ]
  },
  {
   "cell_type": "markdown",
   "metadata": {},
   "source": [
    "In this lab, we will practice our knowledge of derivatives.  For this first section, you should be able to answer with an understanding of our definition of a derivative:\n",
    "\n",
    "1. Our intuitive explanation that a derivative is the instantaneous rate of change of a function\n",
    "2. Our mathematical definition that\n",
    "$f'(x) = \\frac{\\Delta y}{\\Delta x} =  \\frac{f(x + h) - f(x)}{h}$\n",
    "3. Our graphical understanding that a derivative at a given point equals the slope of the tangent line at a given point  "
   ]
  },
  {
   "cell_type": "markdown",
   "metadata": {},
   "source": [
    "###  Applying our definition understandings"
   ]
  },
  {
   "cell_type": "markdown",
   "metadata": {},
   "source": [
    "Let's start with our graphical understanding of derivatives.  Consider the graph below."
   ]
  },
  {
   "cell_type": "markdown",
   "metadata": {},
   "source": [
    "![](./tangentline.png)"
   ]
  },
  {
   "cell_type": "markdown",
   "metadata": {},
   "source": [
    "The the blue line represents the function $f(x)$.  The orange line, labeled `trace 1`, is tangent to that line.  You are told that the orange tangent line can be represented by our classic formula for a line, $y = mx + b$ with the specific line $y = 3x + 12$.  In the below slot, write the derivative of the function $f(x)$ at the point of the tangent line.  For example write `derivative_of_graphed_function = 18` if you believe that is the derivative. "
   ]
  },
  {
   "cell_type": "markdown",
   "metadata": {},
   "source": [
    "> Hint, the answer should be a number.  Also, think about what the slope of the tangent line, $y = 3x + 12 $ equals."
   ]
  },
  {
   "cell_type": "code",
   "execution_count": 28,
   "metadata": {
    "collapsed": true
   },
   "outputs": [],
   "source": [
    "derivative_of_graphed_function = 3"
   ]
  },
  {
   "cell_type": "markdown",
   "metadata": {},
   "source": [
    "Now imagine that we have a new function, $f(x)$, and we again given a line tangent to the function $f(x)$ when $x = 3$.  We are provided with two points, `point_1` and `point_2`, which **lie along that line that is tangent to the function at $f(3)$ **."
   ]
  },
  {
   "cell_type": "code",
   "execution_count": 3,
   "metadata": {
    "collapsed": true
   },
   "outputs": [],
   "source": [
    "point_1 = {'x': 3.0, 'y': 5}\n",
    "point_2 = {'x': 3.5, 'y': 7}"
   ]
  },
  {
   "cell_type": "markdown",
   "metadata": {},
   "source": [
    "Now write a function `derivative_provided_tangent` that takes as arguments two points that lie tangent to a function at a given value of $x$.  The return value of `derivative_provided_tangent` is the function evaluated at that point."
   ]
  },
  {
   "cell_type": "code",
   "execution_count": 34,
   "metadata": {
    "collapsed": true
   },
   "outputs": [],
   "source": [
    "def derivative_at_x_value_provided_tangent(point_1, point_2):\n",
    "    return (point_2['y'] - point_1['y'])/(point_2['x'] - point_1['x'])"
   ]
  },
  {
   "cell_type": "markdown",
   "metadata": {},
   "source": [
    "For example, the when we execute this function below, it should return the derivative $f'(3)$."
   ]
  },
  {
   "cell_type": "code",
   "execution_count": 35,
   "metadata": {},
   "outputs": [
    {
     "data": {
      "text/plain": [
       "12.0"
      ]
     },
     "execution_count": 35,
     "metadata": {},
     "output_type": "execute_result"
    }
   ],
   "source": [
    "derivative_at_x_value_provided_tangent(point_1, point_2) # 4.0"
   ]
  },
  {
   "cell_type": "markdown",
   "metadata": {},
   "source": [
    "Assume we are provided with two points, `point_3` and `point_4`, which **lie along that line that is tangent to the function at $f(4)$ **.  Ensure the function still works."
   ]
  },
  {
   "cell_type": "code",
   "execution_count": 39,
   "metadata": {},
   "outputs": [
    {
     "data": {
      "text/plain": [
       "12.0"
      ]
     },
     "execution_count": 39,
     "metadata": {},
     "output_type": "execute_result"
    }
   ],
   "source": [
    "point_3 = {'x': 4.0, 'y': 9}\n",
    "point_4 = {'x': 4.5, 'y': 15}\n",
    "\n",
    "derivative_at_x_value_provided_tangent(point_3, point_4) # 12.0"
   ]
  },
  {
   "cell_type": "markdown",
   "metadata": {},
   "source": [
    "### From function to derivative"
   ]
  },
  {
   "cell_type": "markdown",
   "metadata": {},
   "source": [
    "Before we calculate derivstives with being provided $f(x)$, we need to tackle the problem of expressing functions in code.  For example, how do we represent $f(x) = 2x^2 + 4x - 10 $ with code?  We want to write it in a way that allows us to easily figure out how the exponent of each term.\n",
    "\n",
    "This is our technique: write the formula as a list of tuples.  Take the following function as an example: $$f(x) = 4x^2 + 4x - 10 $$"
   ]
  },
  {
   "cell_type": "markdown",
   "metadata": {},
   "source": [
    "Here it is as a list of tuples:"
   ]
  },
  {
   "cell_type": "code",
   "execution_count": 6,
   "metadata": {
    "collapsed": true
   },
   "outputs": [],
   "source": [
    "first_terms = [(4, 2), (4, 1), (-10, 0)]"
   ]
  },
  {
   "cell_type": "markdown",
   "metadata": {},
   "source": [
    "So each tuple in the list represents a different term in the function.  And the first element of the tuple is the term's constant and the second element of the tuple is the term's exponent.  Thus $4x^2$ translates to `(4, 2)`.  $-10$ translates to `(-10, 0)` because $-10$ equals $-10*x^0$."
   ]
  },
  {
   "cell_type": "markdown",
   "metadata": {},
   "source": [
    "Ok, so give this a shot. Write $ f(x) = 3x^2 - 11 $ as an list of tuples.  Assign it to the variable `second_terms`."
   ]
  },
  {
   "cell_type": "code",
   "execution_count": 40,
   "metadata": {
    "collapsed": true
   },
   "outputs": [],
   "source": [
    "### change this!!"
   ]
  },
  {
   "cell_type": "markdown",
   "metadata": {},
   "source": [
    "Now that we can represent $f(x)$ in code, let's write a Python function that can evaluate $f(x)$ at a specific value of $x$ and return that value, for example $f(3)$.  \n",
    "\n",
    "Write a function called `output_at`, that when passed a list of tuples, and a value of $x$, calculates the value of the function at that value of $x$.  For example, imagine we are using `output_at` to calculate $f(x) = 3x^2 - 11$.  Then `output_at(second_terms, 1)` should equal $f(1) = 3*1^2 - 11 = -8$"
   ]
  },
  {
   "cell_type": "code",
   "execution_count": 8,
   "metadata": {
    "collapsed": true
   },
   "outputs": [],
   "source": [
    "def output_at(function_terms, x_value):\n",
    "    total = 0\n",
    "    for term in function_terms:\n",
    "        total += term[0]*x_value**term[1]\n",
    "    return total"
   ]
  },
  {
   "cell_type": "code",
   "execution_count": 38,
   "metadata": {},
   "outputs": [
    {
     "data": {
      "text/plain": [
       "16"
      ]
     },
     "execution_count": 38,
     "metadata": {},
     "output_type": "execute_result"
    }
   ],
   "source": [
    "second_terms = [(3, 2), (-11, 0)]\n",
    "output_at(second_terms, 1) # -8 \n",
    "output_at(second_terms, 3) # 16 "
   ]
  },
  {
   "cell_type": "markdown",
   "metadata": {},
   "source": [
    "Now write a function, `df_dx` that calculates $\\frac{\\Delta f}{\\Delta x}$ when provided as arguments, a list of terms, `function_terms`, `x_value` for the value of $(x)$ the derivative is evaluated at, and `delta`, which represents $\\Delta x$.  Let's try this for $f(x) = 2x^3 + 7x $.  Round the result to three decimal places."
   ]
  },
  {
   "cell_type": "code",
   "execution_count": 10,
   "metadata": {
    "collapsed": true
   },
   "outputs": [],
   "source": [
    "third_terms = [(2, 3), (7, 1)]\n",
    "delta_value = .001\n",
    "x_value = 2"
   ]
  },
  {
   "cell_type": "code",
   "execution_count": 11,
   "metadata": {
    "collapsed": true
   },
   "outputs": [],
   "source": [
    "def df_dx(function_terms, x_value, delta):\n",
    "    delta_f = output_at(function_terms, x_value + delta) - output_at(function_terms, x_value)\n",
    "    return round(delta_f/delta, 3)"
   ]
  },
  {
   "cell_type": "code",
   "execution_count": 12,
   "metadata": {},
   "outputs": [
    {
     "data": {
      "text/plain": [
       "31.012"
      ]
     },
     "execution_count": 12,
     "metadata": {},
     "output_type": "execute_result"
    }
   ],
   "source": [
    "df_dx(third_terms, x_value, delta_value) # 31.012"
   ]
  },
  {
   "cell_type": "code",
   "execution_count": 44,
   "metadata": {},
   "outputs": [
    {
     "data": {
      "text/html": [
       "<script>requirejs.config({paths: { 'plotly': ['https://cdn.plot.ly/plotly-latest.min']},});if(!window.Plotly) {{require(['plotly'],function(plotly) {window.Plotly=plotly;});}}</script>"
      ],
      "text/vnd.plotly.v1+html": [
       "<script>requirejs.config({paths: { 'plotly': ['https://cdn.plot.ly/plotly-latest.min']},});if(!window.Plotly) {{require(['plotly'],function(plotly) {window.Plotly=plotly;});}}</script>"
      ]
     },
     "metadata": {},
     "output_type": "display_data"
    }
   ],
   "source": [
    "from graph import plot\n",
    "from plotly.offline import iplot, init_notebook_mode\n",
    "init_notebook_mode(connected=True)\n",
    "\n",
    "def polynomial_function_trace(function_terms, x_values):\n",
    "    y_values = list(map(lambda x: output_at(function_terms, x), x_values))\n",
    "    return {'x': x_values, 'y': y_values}"
   ]
  },
  {
   "cell_type": "code",
   "execution_count": 49,
   "metadata": {
    "scrolled": true
   },
   "outputs": [
    {
     "data": {
      "text/plain": [
       "{'x': [-4, -3, -2, -1, 0, 1, 2, 3],\n",
       " 'y': [-203, -92, -35, -14, -11, -8, 13, 70]}"
      ]
     },
     "execution_count": 49,
     "metadata": {},
     "output_type": "execute_result"
    }
   ],
   "source": [
    "three_x_cubed_plus = [(3, 3), (-11, 0)]\n",
    "polynomial_trace = polynomial_function_trace(three_x_cubed_plus, list(range(-4, 4)))\n",
    "polynomial_trace"
   ]
  },
  {
   "cell_type": "code",
   "execution_count": 48,
   "metadata": {},
   "outputs": [
    {
     "data": {
      "application/vnd.plotly.v1+json": {
       "data": [
        {
         "x": [
          -4,
          -3,
          -2,
          -1,
          0,
          1,
          2,
          3
         ],
         "y": [
          -203,
          -92,
          -35,
          -14,
          -11,
          -8,
          13,
          70
         ]
        }
       ],
       "layout": {}
      },
      "text/html": [
       "<div id=\"ba25d8f0-4521-4cd4-ac37-45c6c3b2a29d\" style=\"height: 525px; width: 100%;\" class=\"plotly-graph-div\"></div><script type=\"text/javascript\">require([\"plotly\"], function(Plotly) { window.PLOTLYENV=window.PLOTLYENV || {};window.PLOTLYENV.BASE_URL=\"https://plot.ly\";Plotly.newPlot(\"ba25d8f0-4521-4cd4-ac37-45c6c3b2a29d\", [{\"x\": [-4, -3, -2, -1, 0, 1, 2, 3], \"y\": [-203, -92, -35, -14, -11, -8, 13, 70]}], {}, {\"showLink\": true, \"linkText\": \"Export to plot.ly\"})});</script>"
      ],
      "text/vnd.plotly.v1+html": [
       "<div id=\"ba25d8f0-4521-4cd4-ac37-45c6c3b2a29d\" style=\"height: 525px; width: 100%;\" class=\"plotly-graph-div\"></div><script type=\"text/javascript\">require([\"plotly\"], function(Plotly) { window.PLOTLYENV=window.PLOTLYENV || {};window.PLOTLYENV.BASE_URL=\"https://plot.ly\";Plotly.newPlot(\"ba25d8f0-4521-4cd4-ac37-45c6c3b2a29d\", [{\"x\": [-4, -3, -2, -1, 0, 1, 2, 3], \"y\": [-203, -92, -35, -14, -11, -8, 13, 70]}], {}, {\"showLink\": true, \"linkText\": \"Export to plot.ly\"})});</script>"
      ]
     },
     "metadata": {},
     "output_type": "display_data"
    }
   ],
   "source": [
    "plot([polynomial_trace])"
   ]
  },
  {
   "cell_type": "code",
   "execution_count": 16,
   "metadata": {
    "collapsed": true
   },
   "outputs": [],
   "source": [
    "def tangent_line_delta(function_terms, x_value, line_length = 4, delta = .01):\n",
    "    derivative_at = df_dx(function_terms, x_value, delta)\n",
    "    x_minus = x_value - line_length\n",
    "    x_plus = x_value + line_length\n",
    "    y = output_at(function_terms, x_value)\n",
    "    y_minus = y - derivative_at * line_length\n",
    "    y_plus = y + derivative_at * line_length\n",
    "    return {'x': [x_minus, x_value, x_plus], 'y': [y_minus, y, y_plus]}"
   ]
  },
  {
   "cell_type": "code",
   "execution_count": 54,
   "metadata": {},
   "outputs": [
    {
     "data": {
      "text/plain": [
       "{'x': [-1, 3, 7], 'y': [-254.0, 70, 394.0]}"
      ]
     },
     "execution_count": 54,
     "metadata": {},
     "output_type": "execute_result"
    }
   ],
   "source": [
    "tangent_at_five_trace = tangent_line_delta(three_x_cubed_plus, 3, line_length = 4, delta = .00001)\n",
    "tangent_at_five_trace"
   ]
  },
  {
   "cell_type": "code",
   "execution_count": 53,
   "metadata": {},
   "outputs": [
    {
     "data": {
      "application/vnd.plotly.v1+json": {
       "data": [
        {
         "x": [
          -4,
          -3,
          -2,
          -1,
          0,
          1,
          2,
          3
         ],
         "y": [
          -203,
          -92,
          -35,
          -14,
          -11,
          -8,
          13,
          70
         ]
        },
        {
         "x": [
          -1,
          3,
          7
         ],
         "y": [
          -254,
          70,
          394
         ]
        }
       ],
       "layout": {}
      },
      "text/html": [
       "<div id=\"7f5590c6-c7b6-4d33-b59f-33187cc3552e\" style=\"height: 525px; width: 100%;\" class=\"plotly-graph-div\"></div><script type=\"text/javascript\">require([\"plotly\"], function(Plotly) { window.PLOTLYENV=window.PLOTLYENV || {};window.PLOTLYENV.BASE_URL=\"https://plot.ly\";Plotly.newPlot(\"7f5590c6-c7b6-4d33-b59f-33187cc3552e\", [{\"x\": [-4, -3, -2, -1, 0, 1, 2, 3], \"y\": [-203, -92, -35, -14, -11, -8, 13, 70]}, {\"x\": [-1, 3, 7], \"y\": [-254.0, 70, 394.0]}], {}, {\"showLink\": true, \"linkText\": \"Export to plot.ly\"})});</script>"
      ],
      "text/vnd.plotly.v1+html": [
       "<div id=\"7f5590c6-c7b6-4d33-b59f-33187cc3552e\" style=\"height: 525px; width: 100%;\" class=\"plotly-graph-div\"></div><script type=\"text/javascript\">require([\"plotly\"], function(Plotly) { window.PLOTLYENV=window.PLOTLYENV || {};window.PLOTLYENV.BASE_URL=\"https://plot.ly\";Plotly.newPlot(\"7f5590c6-c7b6-4d33-b59f-33187cc3552e\", [{\"x\": [-4, -3, -2, -1, 0, 1, 2, 3], \"y\": [-203, -92, -35, -14, -11, -8, 13, 70]}, {\"x\": [-1, 3, 7], \"y\": [-254.0, 70, 394.0]}], {}, {\"showLink\": true, \"linkText\": \"Export to plot.ly\"})});</script>"
      ]
     },
     "metadata": {},
     "output_type": "display_data"
    }
   ],
   "source": [
    "plot([polynomial_trace, tangent_at_five_trace])"
   ]
  },
  {
   "cell_type": "code",
   "execution_count": null,
   "metadata": {
    "collapsed": true
   },
   "outputs": [],
   "source": []
  }
 ],
 "metadata": {
  "kernelspec": {
   "display_name": "Python 3",
   "language": "python",
   "name": "python3"
  },
  "language_info": {
   "codemirror_mode": {
    "name": "ipython",
    "version": 3
   },
   "file_extension": ".py",
   "mimetype": "text/x-python",
   "name": "python",
   "nbconvert_exporter": "python",
   "pygments_lexer": "ipython3",
   "version": "3.6.1"
  }
 },
 "nbformat": 4,
 "nbformat_minor": 2
}
