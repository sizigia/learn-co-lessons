{
 "cells": [
  {
   "cell_type": "markdown",
   "metadata": {},
   "source": [
    "### Introduction"
   ]
  },
  {
   "cell_type": "markdown",
   "metadata": {},
   "source": [
    "From previous lessons, you know that the derivative is equal to the slope of the tangent line along a graph.  The importance of the derivative is that it tells us the rate of change at a given point.  In previous lessons, we discussed the broad problem as how to calculate the rate of change for a function at a given point: that is, the derivative.  We said that the derivative of a function at a certain point is just the slope of the function at that point.  And to calculate that slope of a function when the change in the input is zero, we simply make our change in input smaller and smaller to approach a change of zero, and see what our $ \\Delta y/\\Delta x $ converges upon.\n",
    "\n",
    "For example, we saw the following table: "
   ]
  },
  {
   "cell_type": "markdown",
   "metadata": {},
   "source": [
    "| $ \\Delta x $        | $ \\Delta y/\\Delta x $|\n",
    "| ------------- |:-------------:|\n",
    "| .1      | -171,000      |\n",
    "| .01 | -179,100     |\n",
    "| .001 | -179,910      |\n",
    "| .0001 | -179,991      |\n"
   ]
  },
  {
   "cell_type": "markdown",
   "metadata": {},
   "source": [
    "This convergance around one number is called the **limit **.  And we can describe what we see in the above table as the expression: \n",
    "\n",
    "\n",
    " $$ \\frac{dy}{dx} {x=0} = \\lim_{\\Delta x\\to0} \\Delta y / \\Delta x = -180,000  $$.\n",
    "\n",
    "We read this as the limit of $\\Delta y / \\Delta x $ -- that is the number $\\Delta y / \\Delta x $ approaches -- as  $ \\Delta x $ approaches zero is -180,000.  So $ \\lim_{\\Delta x\\to0} \\Delta y / \\Delta x $ is our definition of the derivative. "
   ]
  },
  {
   "cell_type": "markdown",
   "metadata": {},
   "source": [
    "### Our rules for calculating the derivative"
   ]
  },
  {
   "cell_type": "markdown",
   "metadata": {},
   "source": [
    "So far, we have calculated the derivative by changing our delta as reflected in the table above, and seeing the convergance.  However, mathematicians have given us shortcuts to calculate the derivative, and that is what we'll learn about here.  \n",
    "\n",
    "##### The power rule\n",
    "\n",
    "The first rule for us to learn is the power rule.  The power rule states that given a function $f(x) = x^r$ then the derivative of $f(x)$, denoted $f'(x)$ is:\n",
    "\n",
    "$ f'(x) = r*x^r-1 $\n",
    "\n",
    "So for example, with the function $f(x) = x^2 $, $f'(x) = 2*x^{2-1} which equals  2*x^1 = 2*x$.  Another way to read this is that a small change in $x$ produces an increase in $f(x) $ equal to 2 times the $ x $ value.  So when $ x = 2 $, we solve for the derivative at that point by simply plugging in $ 2 $ whenever we see $ x $.  This gives us $f'(2) = 2*2 = f'(2) = 4 $.  And when $ x = 10 $, then $f'(10) = 2*10 = 20$.  So our calculations from above were close, but these are more accurate.  The derivative of $f(x) = x^2$ is $2*x$."
   ]
  },
  {
   "cell_type": "markdown",
   "metadata": {},
   "source": [
    "We won't prove the power rule here.  But hopefully you can see that it does seem to fit our view of $f(x) = x^2$ well.  It seems reasonable that the slope of the line tangent to a curve is $2*x$.  For example, let's assume that our error changes in the following as we change b, e = 3b.  Now a plot of e = 3b, looks like the following:"
   ]
  },
  {
   "cell_type": "code",
   "execution_count": null,
   "metadata": {},
   "outputs": [],
   "source": [
    "import plotly.plotly as py\n",
    "import plotly.graph_objs as go\n",
    "from plotly.offline import init_notebook_mode, iplot\n",
    "from IPython.display import display, HTML\n",
    "\n",
    "init_notebook_mode(connected=True)\n",
    "layout = dict(title = 'Error Values For line f(b) = 3*b')\n",
    "b_values = list(range(0, 20, 1))\n",
    "error_values = list(map(lambda b_value: b_value*3,b_values))\n",
    "trace0 = go.Scatter(\n",
    "    x = b_values,\n",
    "    y = error_values,\n",
    "    name = 'markers'\n",
    ")\n",
    "\n",
    "\n",
    "\n",
    "\n",
    "\n",
    "data = [trace0]\n",
    "fig = dict(data=data, layout=layout)\n",
    "iplot(fig)"
   ]
  },
  {
   "cell_type": "markdown",
   "metadata": {},
   "source": [
    "Notice that for the line e = 3b, the derivative is constant.  That is the rate of change in our function is stable for all values of x.  Unlike where $e = b^2$, and the slope constantly changed, here a nudge in the b direction will produce the same increase in the output, regardless of where we are on the curve.  For example, when b = 8, we can see the following: \n",
    "\n",
    "$ de/db = 24.0003 - 24/(8.0001 - 8) = .0003/.0001 = 3 $\n",
    "\n",
    "Note that our power rule also gives us a derivative of 3.\n",
    "\n",
    "$f(b) = 3b = 3b^1$ \n",
    "\n",
    "$f'(b) = 1*3b^{1-1} = 3b^{0} = 3$\n",
    "\n",
    "So our power rule shows that a change in b should produce a proportional increase of 3 times that change in our error.  And this is always the case for this error curve.\n",
    "\n",
    "One more, let's consider that our function is the following: \n",
    "\n",
    "$f(b) = 1000$\n",
    "\n",
    "In that case, our function is simply a constant line, no matter what the value of b, our error is always 1000."
   ]
  },
  {
   "cell_type": "code",
   "execution_count": 4,
   "metadata": {},
   "outputs": [
    {
     "data": {
      "text/html": [
       "<script>requirejs.config({paths: { 'plotly': ['https://cdn.plot.ly/plotly-latest.min']},});if(!window.Plotly) {{require(['plotly'],function(plotly) {window.Plotly=plotly;});}}</script>"
      ],
      "text/vnd.plotly.v1+html": [
       "<script>requirejs.config({paths: { 'plotly': ['https://cdn.plot.ly/plotly-latest.min']},});if(!window.Plotly) {{require(['plotly'],function(plotly) {window.Plotly=plotly;});}}</script>"
      ]
     },
     "metadata": {},
     "output_type": "display_data"
    },
    {
     "data": {
      "application/vnd.plotly.v1+json": {
       "data": [
        {
         "name": "markers",
         "type": "scatter",
         "x": [
          0,
          1,
          2,
          3,
          4,
          5,
          6,
          7,
          8,
          9,
          10,
          11,
          12,
          13,
          14,
          15,
          16,
          17,
          18,
          19
         ],
         "y": [
          1000,
          1000,
          1000,
          1000,
          1000,
          1000,
          1000,
          1000,
          1000,
          1000,
          1000,
          1000,
          1000,
          1000,
          1000,
          1000,
          1000,
          1000,
          1000,
          1000
         ]
        }
       ],
       "layout": {
        "title": "Error Values For line f(b) = 1000"
       }
      },
      "text/html": [
       "<div id=\"d774f984-8b62-44dd-a27c-be9f5b43a230\" style=\"height: 525px; width: 100%;\" class=\"plotly-graph-div\"></div><script type=\"text/javascript\">require([\"plotly\"], function(Plotly) { window.PLOTLYENV=window.PLOTLYENV || {};window.PLOTLYENV.BASE_URL=\"https://plot.ly\";Plotly.newPlot(\"d774f984-8b62-44dd-a27c-be9f5b43a230\", [{\"type\": \"scatter\", \"x\": [0, 1, 2, 3, 4, 5, 6, 7, 8, 9, 10, 11, 12, 13, 14, 15, 16, 17, 18, 19], \"y\": [1000, 1000, 1000, 1000, 1000, 1000, 1000, 1000, 1000, 1000, 1000, 1000, 1000, 1000, 1000, 1000, 1000, 1000, 1000, 1000], \"name\": \"markers\"}], {\"title\": \"Error Values For line f(b) = 1000\"}, {\"showLink\": true, \"linkText\": \"Export to plot.ly\"})});</script>"
      ],
      "text/vnd.plotly.v1+html": [
       "<div id=\"d774f984-8b62-44dd-a27c-be9f5b43a230\" style=\"height: 525px; width: 100%;\" class=\"plotly-graph-div\"></div><script type=\"text/javascript\">require([\"plotly\"], function(Plotly) { window.PLOTLYENV=window.PLOTLYENV || {};window.PLOTLYENV.BASE_URL=\"https://plot.ly\";Plotly.newPlot(\"d774f984-8b62-44dd-a27c-be9f5b43a230\", [{\"type\": \"scatter\", \"x\": [0, 1, 2, 3, 4, 5, 6, 7, 8, 9, 10, 11, 12, 13, 14, 15, 16, 17, 18, 19], \"y\": [1000, 1000, 1000, 1000, 1000, 1000, 1000, 1000, 1000, 1000, 1000, 1000, 1000, 1000, 1000, 1000, 1000, 1000, 1000, 1000], \"name\": \"markers\"}], {\"title\": \"Error Values For line f(b) = 1000\"}, {\"showLink\": true, \"linkText\": \"Export to plot.ly\"})});</script>"
      ]
     },
     "metadata": {},
     "output_type": "display_data"
    }
   ],
   "source": [
    "import plotly.plotly as py\n",
    "import plotly.graph_objs as go\n",
    "from plotly.offline import init_notebook_mode, iplot\n",
    "from IPython.display import display, HTML\n",
    "\n",
    "init_notebook_mode(connected=True)\n",
    "layout = dict(title = 'Error Values For line f(b) = 1000')\n",
    "b_values = list(range(0, 20, 1))\n",
    "error_values = list(map(lambda b_value: 1000,b_values))\n",
    "trace0 = go.Scatter(\n",
    "    x = b_values,\n",
    "    y = error_values,\n",
    "    name = 'markers'\n",
    ")\n",
    "\n",
    "\n",
    "\n",
    "\n",
    "\n",
    "data = [trace0]\n",
    "fig = dict(data=data, layout=layout)\n",
    "iplot(fig)"
   ]
  },
  {
   "cell_type": "markdown",
   "metadata": {},
   "source": [
    "Note that here, the change in the error as we change b is always the same: 0.\n",
    "\n",
    "So when f(b) = 1000, f'(b) = 0.  In fact, if the function is any constant, then the derivative of that function is zero. "
   ]
  },
  {
   "cell_type": "markdown",
   "metadata": {},
   "source": [
    "##### The constant factor rule"
   ]
  },
  {
   "cell_type": "markdown",
   "metadata": {},
   "source": [
    "The above made use of the constant factor rule.  The constant factor addresses how to take the derivative of a function multiplied by a constant. So in the above example, we had that with our function of $f(b) = 3*x$.  Now, the derivative of that function is the same as $ 3 * de/db(b) $ leading to $ 3*1 $ as we simply apply the power rule to b.\n",
    "\n",
    "In the general case, we can say, consider the function $a*f(b)$ where $a$ is a number.  Then the derivative $db/de(a*f(b)) = a * db/de(f(b) $.  \n",
    "\n",
    "Don't let the fancy equations confuse you.  The rule simply says to focus on the taking the derivative of the variable, and if it was multiplied by a number, then multiply that derivative of that by the same number.\n",
    "\n",
    "So if $f(b) = 2*b^2 $ this means that $f'(b) = 2*2*b $.  The constant factor rule in action."
   ]
  },
  {
   "cell_type": "markdown",
   "metadata": {},
   "source": [
    "##### The addition rule"
   ]
  },
  {
   "cell_type": "markdown",
   "metadata": {},
   "source": [
    "Now consider that we receive a function like the following: \n",
    "    \n",
    "$ f(b) = 4b^3 - b^2 + 3b $\n",
    "\n",
    "First, we say that this function has two terms.  A term is a constant or variable that is separated by a plus or minus sign.  Ok, so to take a derivative of a function that has multiple terms, simply take the derivative of each of the terms individually.  So $ f'(b) = 12b^2 - 2b + 3  $.  Do you see what we did there, we simply applied our previous rules to each of the terms individually and continued to add or subtract the terms accordingly."
   ]
  },
  {
   "cell_type": "markdown",
   "metadata": {},
   "source": [
    "### Summary"
   ]
  },
  {
   "cell_type": "markdown",
   "metadata": {},
   "source": [
    "In this section we saw that we can find the minimum error by following the line tangent to a graph.  And we can move along by following the line tangent to the spot we are currently located.  We then saw how this holds for a two-dimensional graph, by considering how our error changes with respect to a change in b.  We identified this change in output from an infintesimally small change in input as our derivative.  \n",
    "\n",
    "Then we considered three rules that allow us to calculate our derivative.  The most tricky of these is the power rule, which says that if $f(b) = b^n$, then $ f'(b) = n * b^{n -1} $.  We still haven't seen how derivativesgive us a way to understand gradient descent, but we will shortly when we consider how to take derivatives when we have functions with multiple variables, like an error function that is dependent on both m and b.\n",
    "\n",
    "But first, let's practice what we know about derivatives in a lab."
   ]
  }
 ],
 "metadata": {
  "kernelspec": {
   "display_name": "Python 3",
   "language": "python",
   "name": "python3"
  },
  "language_info": {
   "codemirror_mode": {
    "name": "ipython",
    "version": 3
   },
   "file_extension": ".py",
   "mimetype": "text/x-python",
   "name": "python",
   "nbconvert_exporter": "python",
   "pygments_lexer": "ipython3",
   "version": "3.6.1"
  }
 },
 "nbformat": 4,
 "nbformat_minor": 2
}
