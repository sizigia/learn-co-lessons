{
 "cells": [
  {
   "cell_type": "markdown",
   "metadata": {},
   "source": [
    "# Nearest Neighbors Lab"
   ]
  },
  {
   "cell_type": "markdown",
   "metadata": {},
   "source": [
    "### Introduction\n",
    "\n",
    "In this lab, you apply nearest neighbors technique to different applications, and in various dimensions.  Imagine that we are hired to consult for LiftOff, a limo and taxi service that is just opening up.  It wants to do some initial research on NYC trips.\n",
    "\n",
    "Lucky for us, information about NYC taxi trips is available on [it's website](https://data.cityofnewyork.us/Transportation/2014-Yellow-Taxi-Trip-Data/gn7m-em8n).  LiftOff is interested in which locations of NYC it should target, and how to increase the length of a trip -- as it makes more money that way.  Let's get started!"
   ]
  },
  {
   "cell_type": "markdown",
   "metadata": {},
   "source": [
    "### Exploring and Gathering the Data"
   ]
  },
  {
   "cell_type": "markdown",
   "metadata": {},
   "source": [
    "If you go to [NYC Open Data](https://opendata.cityofnewyork.us/), you can find NYC taxi data after a quick search [it's website](https://data.cityofnewyork.us/Transportation/2014-Yellow-Taxi-Trip-Data/gn7m-em8n) if you click on the button, \"API\", you'll find the data that we'll be working with.  For you're reading pleasure, the data has already been moved to the \"trips.json\" file in this lab."
   ]
  },
  {
   "cell_type": "markdown",
   "metadata": {
    "collapsed": true
   },
   "source": [
    "```python\n",
    "[\n",
    "  {\n",
    "    \"dropoff_datetime\": \"2014-11-26T22:31:00.000\",\n",
    "    \"dropoff_latitude\": \"40.746769999999998\",\n",
    "    \"dropoff_longitude\": \"-73.997450000000001\",\n",
    "    \"fare_amount\": \"52\",\n",
    "    \"imp_surcharge\": \"0\",\n",
    "    \"mta_tax\": \"0.5\",\n",
    "    \"passenger_count\": \"1\",\n",
    "    \"payment_type\": \"CSH\",\n",
    "    \"pickup_datetime\": \"2014-11-26T21:59:00.000\",\n",
    "    \"pickup_latitude\": \"40.64499\",\n",
    "    \"pickup_longitude\": \"-73.781149999999997\",\n",
    "    \"rate_code\": \"2\",\n",
    "    \"tip_amount\": \"0\",\n",
    "    \"tolls_amount\": \"5.3300000000000001\",\n",
    "    \"total_amount\": \"57.829999999999998\",\n",
    "    \"trip_distance\": \"18.379999999999999\",\n",
    "    \"vendor_id\": \"VTS\"\n",
    "  },\n",
    "...\n",
    "...\n",
    "]\n",
    "```"
   ]
  },
  {
   "cell_type": "markdown",
   "metadata": {
    "collapsed": true
   },
   "source": [
    "### Document Retrieval "
   ]
  },
  {
   "cell_type": "markdown",
   "metadata": {},
   "source": [
    "Now, we like the amount of data, but we don't need all of the attributes provided.  We decide that all we need for this exploration is `passenger_count`, `pickup_datetime`, `pickup_latitude`, and `trip_distance`."
   ]
  },
  {
   "cell_type": "markdown",
   "metadata": {},
   "source": [
    "The first step is to load the data from a json file, which can be a little tricky in python.  We'll write a function to do it for you - using the pandas library. "
   ]
  },
  {
   "cell_type": "code",
   "execution_count": 2,
   "metadata": {
    "collapsed": true
   },
   "outputs": [],
   "source": [
    "import pandas\n",
    "\n",
    "def parse_file(fileName):\n",
    "    trips_df = pandas.read_json(fileName)\n",
    "    return trips_df.to_dict('records')\n",
    "\n",
    "trips = parse_file('trips.json')"
   ]
  },
  {
   "cell_type": "code",
   "execution_count": 5,
   "metadata": {},
   "outputs": [
    {
     "data": {
      "text/plain": [
       "{'dropoff_datetime': '2014-11-26T22:31:00.000',\n",
       " 'dropoff_latitude': 40.74677,\n",
       " 'dropoff_longitude': -73.99745,\n",
       " 'fare_amount': 52.0,\n",
       " 'imp_surcharge': 0.0,\n",
       " 'mta_tax': 0.5,\n",
       " 'passenger_count': 1,\n",
       " 'payment_type': 'CSH',\n",
       " 'pickup_datetime': '2014-11-26T21:59:00.000',\n",
       " 'pickup_latitude': 40.64499,\n",
       " 'pickup_longitude': -73.78115,\n",
       " 'rate_code': 2,\n",
       " 'store_and_fwd_flag': nan,\n",
       " 'tip_amount': 0.0,\n",
       " 'tolls_amount': 5.33,\n",
       " 'total_amount': 57.83,\n",
       " 'trip_distance': 18.38,\n",
       " 'vendor_id': 'VTS'}"
      ]
     },
     "execution_count": 5,
     "metadata": {},
     "output_type": "execute_result"
    }
   ],
   "source": [
    "trips[0]"
   ]
  },
  {
   "cell_type": "markdown",
   "metadata": {
    "collapsed": true
   },
   "source": [
    "Ok, so as you can see from above, the `trips` variable returns an array of dictionaries with each dictionary representing a trip.\n",
    "\n",
    "Write a function called `parse_trips(trips)` that returns an array of the trips with just the following attributes: `trip_distance`, `pickup_datetime`, `pickup_latitude`, `pickup_longitude`, `trip_distance`.  \n",
    "\n",
    "Run the `nearest-neighbor-lab-tests.py` file to ensure that you wrote it correctly."
   ]
  },
  {
   "cell_type": "code",
   "execution_count": 11,
   "metadata": {},
   "outputs": [],
   "source": [
    "def parse_trips(trips):\n",
    "    return list(map(lambda trip: {'trip_distance': trip['trip_distance'], 'pickup_latitude': trip['pickup_latitude'], 'pickup_longitude': trip['pickup_longitude'], 'passenger_count': trip['passenger_count']}, trips))\n",
    "    "
   ]
  },
  {
   "cell_type": "markdown",
   "metadata": {},
   "source": [
    "### Calculating the sides of the triangle"
   ]
  },
  {
   "cell_type": "code",
   "execution_count": 15,
   "metadata": {},
   "outputs": [
    {
     "data": {
      "text/plain": [
       "{'passenger_count', 'pickup_latitude', 'pickup_longitude', 'trip_distance'}"
      ]
     },
     "execution_count": 15,
     "metadata": {},
     "output_type": "execute_result"
    }
   ],
   "source": [
    "parsed_trips = parse_trips(trips)\n",
    "\n",
    "parsed_trips[0]\n",
    "# {'passenger_count': 1,\n",
    "#  'pickup_latitude': 40.64499,\n",
    "#  'pickup_longitude': -73.78115,\n",
    "#  'trip_distance': 18.38}\n",
    "len(parsed_trips)\n",
    "# 1000\n",
    "\n",
    "# See a unique list of attributes in the parsed_trips array  \n",
    "set([key for trip in parsed_trips for key in list(trip.keys())])\n",
    "# {'passenger_count', 'pickup_latitude', 'pickup_longitude', 'trip_distance'}"
   ]
  },
  {
   "cell_type": "markdown",
   "metadata": {},
   "source": [
    "### Exploring the Data"
   ]
  },
  {
   "cell_type": "code",
   "execution_count": 18,
   "metadata": {
    "collapsed": true
   },
   "outputs": [],
   "source": [
    "# could add in to scope data down to manhattan, or brooklyn, etc."
   ]
  },
  {
   "cell_type": "markdown",
   "metadata": {},
   "source": [
    "Now that we have paired down our data, let's answer some initial questions.  Let's plot the pickup locations on a map."
   ]
  },
  {
   "cell_type": "code",
   "execution_count": 50,
   "metadata": {},
   "outputs": [
    {
     "data": {
      "text/html": [
       "\n",
       "        <iframe\n",
       "            width=\"1200\"\n",
       "            height=\"400\"\n",
       "            src=\"myplot.html\"\n",
       "            frameborder=\"0\"\n",
       "            allowfullscreen\n",
       "        ></iframe>\n",
       "        "
      ],
      "text/plain": [
       "<IPython.lib.display.IFrame at 0x10ee2f588>"
      ]
     },
     "execution_count": 50,
     "metadata": {},
     "output_type": "execute_result"
    }
   ],
   "source": [
    "import gmplot\n",
    "gmap = gmplot.GoogleMapPlotter(40.758896, -73.985130, 12)\n",
    "gmap.draw(\"mymap.html\")\n",
    "\n",
    "\n",
    "from IPython.display import IFrame\n",
    "\n",
    "IFrame('mymap.html', width=1200, height=400)"
   ]
  },
  {
   "cell_type": "markdown",
   "metadata": {},
   "source": [
    "Now, plotting the data feeds into the following function.\n",
    "```python\n",
    "gmap.plot(latitudes, longitudes, 'cornflowerblue', edge_width=10)\n",
    "```\n",
    "So we'll need an array of latitudes, each element representing the latitude of a trip, and an array of longitudes, each representing the longitudes associted with a trip.  Write a function called `trip_latitudes` that given a list of trips returns a list of latitudes, and `trip_longitudes` that given a list of trips, returns a list of `longitudes` accordingly.  Run the file `nearest-neighbor-lab-tests.py` to get feedback.  "
   ]
  },
  {
   "cell_type": "code",
   "execution_count": 74,
   "metadata": {
    "collapsed": true
   },
   "outputs": [],
   "source": [
    "def trip_latitudes(trips):\n",
    "    return list(map(lambda trip: trip['pickup_latitude'], trips))"
   ]
  },
  {
   "cell_type": "code",
   "execution_count": 75,
   "metadata": {
    "collapsed": true
   },
   "outputs": [],
   "source": [
    "def trip_longitudes(trips):\n",
    "    return list(map(lambda trip: trip['pickup_longitude'], trips))"
   ]
  },
  {
   "cell_type": "code",
   "execution_count": 43,
   "metadata": {},
   "outputs": [],
   "source": [
    "latitudes = list(map(lambda trip: trip['pickup_latitude'], parsed_trips))\n",
    "longitudes = list(map(lambda trip: trip['pickup_longitude'], parsed_trips))"
   ]
  },
  {
   "cell_type": "code",
   "execution_count": 51,
   "metadata": {},
   "outputs": [],
   "source": [
    "gmap.scatter(latitudes, longitudes, 'cornflowerblue', edge_width=10)\n",
    "gmap.draw(\"myplot.html\")"
   ]
  },
  {
   "cell_type": "markdown",
   "metadata": {},
   "source": [
    "Now open the `myplot.html` file to see if there's anything interesting.  Looking around, it seems like the right side of the map has more trips than the west side."
   ]
  },
  {
   "cell_type": "markdown",
   "metadata": {},
   "source": [
    "### Using Nearest Neighbors"
   ]
  },
  {
   "cell_type": "markdown",
   "metadata": {},
   "source": [
    "Ok, let's write a function that given a latitude and longitude will predict the fare distance for us.  We'll do this by first finding the nearest trips given a latitude and longitude. "
   ]
  },
  {
   "cell_type": "markdown",
   "metadata": {},
   "source": [
    " First write a distance method that calculates the distance between two individuals."
   ]
  },
  {
   "cell_type": "code",
   "execution_count": 52,
   "metadata": {
    "collapsed": true
   },
   "outputs": [],
   "source": [
    "import math\n",
    "\n",
    "def distance(selected_individual, neighbor):\n",
    "   distance_squared = (neighbor['pickup_latitude'] - selected_individual['pickup_latitude'])**2 + (neighbor['pickup_longitude'] - selected_individual['pickup_longitude'])**2\n",
    "   return math.sqrt(distance_squared)"
   ]
  },
  {
   "cell_type": "code",
   "execution_count": 53,
   "metadata": {
    "collapsed": true
   },
   "outputs": [],
   "source": [
    "def distance_between_neighbors(selected_individual, neighbor):\n",
    "    neighbor_with_distance = neighbor.copy()\n",
    "    neighbor_with_distance['distance'] = distance(selected_individual, neighbor)\n",
    "    return neighbor_with_distance\n",
    "\n",
    "def distance_all(selected_individual, neighbors):\n",
    "    remaining_neighbors = filter(lambda neighbor: neighbor != selected_individual, neighbors)\n",
    "    return list(map(lambda neighbor: distance_between_neighbors(selected_individual, neighbor), remaining_neighbors))"
   ]
  },
  {
   "cell_type": "markdown",
   "metadata": {},
   "source": [
    "Write the nearest neighbors formula.  If no number is provided, it should return the top 5 neighbors."
   ]
  },
  {
   "cell_type": "code",
   "execution_count": 64,
   "metadata": {},
   "outputs": [],
   "source": [
    "def nearest_neighbors(selected_individual, neighbors, number = 3):\n",
    "    number = number\n",
    "    neighbor_distances = distance_all(selected_individual, neighbors)\n",
    "    sorted_neighbors = sorted(neighbor_distances, key=lambda neighbor: neighbor['distance'])\n",
    "    return sorted_neighbors[:number]"
   ]
  },
  {
   "cell_type": "code",
   "execution_count": 59,
   "metadata": {},
   "outputs": [
    {
     "data": {
      "text/plain": [
       "{'passenger_count': 1,\n",
       " 'pickup_latitude': 40.64499,\n",
       " 'pickup_longitude': -73.78115,\n",
       " 'trip_distance': 18.38}"
      ]
     },
     "execution_count": 59,
     "metadata": {},
     "output_type": "execute_result"
    }
   ],
   "source": [
    "first_trip = parsed_trips[0]\n",
    "first_trip"
   ]
  },
  {
   "cell_type": "code",
   "execution_count": 66,
   "metadata": {},
   "outputs": [
    {
     "data": {
      "text/plain": [
       "[{'distance': 0.0004569288784918792,\n",
       "  'passenger_count': 3,\n",
       "  'pickup_latitude': 40.64483,\n",
       "  'pickup_longitude': -73.781578,\n",
       "  'trip_distance': 7.78},\n",
       " {'distance': 0.0011292165425673159,\n",
       "  'passenger_count': 1,\n",
       "  'pickup_latitude': 40.644657,\n",
       "  'pickup_longitude': -73.782229,\n",
       "  'trip_distance': 12.7},\n",
       " {'distance': 0.0042359798158141185,\n",
       "  'passenger_count': 2,\n",
       "  'pickup_latitude': 40.648509,\n",
       "  'pickup_longitude': -73.783508,\n",
       "  'trip_distance': 17.3}]"
      ]
     },
     "execution_count": 66,
     "metadata": {},
     "output_type": "execute_result"
    }
   ],
   "source": [
    "nearest_neighbors(first_trip, parsed_trips, number = 3)\n",
    "\n",
    "# [{'distance': 0.0004569288784918792,\n",
    "#   'passenger_count': 3,\n",
    "#   'pickup_latitude': 40.64483,\n",
    "#   'pickup_longitude': -73.781578,\n",
    "#   'trip_distance': 7.78},\n",
    "#  {'distance': 0.0011292165425673159,\n",
    "#   'passenger_count': 1,\n",
    "#   'pickup_latitude': 40.644657,\n",
    "#   'pickup_longitude': -73.782229,\n",
    "#   'trip_distance': 12.7},\n",
    "#  {'distance': 0.0042359798158141185,\n",
    "#   'passenger_count': 2,\n",
    "#   'pickup_latitude': 40.648509,\n",
    "#   'pickup_longitude': -73.783508,\n",
    "#   'trip_distance': 17.3}]"
   ]
  },
  {
   "cell_type": "markdown",
   "metadata": {},
   "source": [
    "Looking at the trip distance between those there is quite a spread, perhaps we can increase the amount of nearest neighbors.  But we want to make sure that doing so, doesn't spread our trip distances too much."
   ]
  },
  {
   "cell_type": "code",
   "execution_count": 78,
   "metadata": {},
   "outputs": [],
   "source": [
    "seven_closest = nearest_neighbors(first_trip, parsed_trips, number = 7)"
   ]
  },
  {
   "cell_type": "markdown",
   "metadata": {},
   "source": [
    "Notice that most of the data is a distance of .0045 away, so going to the top 7 nearest neighbors didn't see to add too much noise to our data.  It's hard to know what distance in latitude and longitude mean, so let's try mapping the data.  "
   ]
  },
  {
   "cell_type": "code",
   "execution_count": 88,
   "metadata": {},
   "outputs": [
    {
     "data": {
      "text/plain": [
       "7"
      ]
     },
     "execution_count": 88,
     "metadata": {},
     "output_type": "execute_result"
    }
   ],
   "source": [
    "len(seven_closest)"
   ]
  },
  {
   "cell_type": "code",
   "execution_count": 89,
   "metadata": {},
   "outputs": [
    {
     "data": {
      "text/plain": [
       "[40.64483, 40.644657, 40.648509]"
      ]
     },
     "execution_count": 89,
     "metadata": {},
     "output_type": "execute_result"
    }
   ],
   "source": [
    "seven_lats = trip_latitudes(seven_closest[:3])\n",
    "seven_lats"
   ]
  },
  {
   "cell_type": "code",
   "execution_count": 90,
   "metadata": {},
   "outputs": [
    {
     "data": {
      "text/plain": [
       "[-73.781578, -73.782229, -73.783508]"
      ]
     },
     "execution_count": 90,
     "metadata": {},
     "output_type": "execute_result"
    }
   ],
   "source": [
    "seven_longs = trip_longitudes(seven_closest[:3])\n",
    "seven_longs"
   ]
  },
  {
   "cell_type": "code",
   "execution_count": 92,
   "metadata": {},
   "outputs": [],
   "source": [
    "gmap = gmplot.GoogleMapPlotter(first_trip['pickup_latitude'], first_trip['pickup_longitude'], 15)\n",
    "\n",
    "gmap.scatter(seven_lats, seven_longs, 'cornflowerblue', edge_width=10)\n",
    "gmap.draw(\"nearestneighbors.html\")"
   ]
  },
  {
   "cell_type": "markdown",
   "metadata": {},
   "source": [
    "Open the map, what did you see?  Well, it looks like we can't really make an assessment of a good nearest neighbor number with this data.  Our location is the airport, which probably not place to extrapolate from.\n",
    "\n",
    "Let's choose another spot that we expect to be less atypical.  Fifty-first street and 7th Avenue is at 40.761710, -73.982760.  Now let's run the same test again to see how many nearest neighbors we should choose."
   ]
  },
  {
   "cell_type": "code",
   "execution_count": 101,
   "metadata": {},
   "outputs": [
    {
     "data": {
      "text/plain": [
       "[0.00037310588309379025,\n",
       " 0.00080072217404248,\n",
       " 0.0011555682584735844,\n",
       " 0.0012508768924205918,\n",
       " 0.0018118976240381972,\n",
       " 0.002067074502774709,\n",
       " 0.0020684557041472677]"
      ]
     },
     "execution_count": 101,
     "metadata": {},
     "output_type": "execute_result"
    }
   ],
   "source": [
    "midtown_loc = {'pickup_latitude': 40.761710, 'pickup_longitude': -73.982760}\n",
    "closest = nearest_neighbors(midtown_loc, parsed_trips, number = 7)\n",
    "list(map(lambda trip: trip['distance'], closest))"
   ]
  },
  {
   "cell_type": "markdown",
   "metadata": {},
   "source": [
    "The distance, doubles in size as we go from four to five.  How far is this really?"
   ]
  },
  {
   "cell_type": "code",
   "execution_count": 102,
   "metadata": {},
   "outputs": [],
   "source": [
    "gmap = gmplot.GoogleMapPlotter(midtown_loc['pickup_latitude'], midtown_loc['pickup_longitude'], 15)\n",
    "closest_lats = trip_latitudes(closest)\n",
    "closest_longs = trip_longitudes(closest)\n",
    "\n",
    "gmap.scatter(closest_lats, closest_longs, 'cornflowerblue', edge_width=10)\n",
    "gmap.draw(\"nearestmidtown.html\")"
   ]
  },
  {
   "cell_type": "markdown",
   "metadata": {},
   "source": [
    "So essentially this is one or two blocks away from our location of 51st and 7th.  Not too bad."
   ]
  },
  {
   "cell_type": "markdown",
   "metadata": {},
   "source": [
    "Now write a function that will given a list of trips and an attribute, will calculate the average of that attribute. "
   ]
  },
  {
   "cell_type": "code",
   "execution_count": 126,
   "metadata": {},
   "outputs": [],
   "source": [
    "import statistics\n",
    "def median_of(neighbors, attribute):\n",
    "    return statistics.median(list(map(lambda x: x[attribute], neighbors)))"
   ]
  },
  {
   "cell_type": "code",
   "execution_count": 127,
   "metadata": {},
   "outputs": [
    {
     "data": {
      "text/plain": [
       "0.0012508768924205918"
      ]
     },
     "execution_count": 127,
     "metadata": {},
     "output_type": "execute_result"
    }
   ],
   "source": [
    "median_of(closest, 'distance')"
   ]
  },
  {
   "cell_type": "code",
   "execution_count": 128,
   "metadata": {},
   "outputs": [
    {
     "data": {
      "text/plain": [
       "1.26"
      ]
     },
     "execution_count": 128,
     "metadata": {},
     "output_type": "execute_result"
    }
   ],
   "source": [
    "median_of(closest, 'trip_distance')"
   ]
  },
  {
   "cell_type": "code",
   "execution_count": 129,
   "metadata": {},
   "outputs": [
    {
     "data": {
      "text/plain": [
       "1.66"
      ]
     },
     "execution_count": 129,
     "metadata": {},
     "output_type": "execute_result"
    }
   ],
   "source": [
    "median_of(parsed_trips, 'trip_distance')"
   ]
  },
  {
   "cell_type": "code",
   "execution_count": 135,
   "metadata": {},
   "outputs": [
    {
     "data": {
      "text/plain": [
       "1.9"
      ]
     },
     "execution_count": 135,
     "metadata": {},
     "output_type": "execute_result"
    }
   ],
   "source": [
    "median_of(nearest_neighbors(midtown_loc, parsed_trips, number = 15), 'trip_distance')"
   ]
  },
  {
   "cell_type": "markdown",
   "metadata": {},
   "source": [
    "Interesting because there does appear to be a deviation here, but we need to increase the nearest neighbors amount (past 15, it appears to begin to get a consistent number)."
   ]
  },
  {
   "cell_type": "markdown",
   "metadata": {},
   "source": [
    "Let's try another number to see how we do."
   ]
  },
  {
   "cell_type": "code",
   "execution_count": 136,
   "metadata": {
    "collapsed": true
   },
   "outputs": [],
   "source": [
    "uws_loc = {'pickup_latitude': 40.786430, 'pickup_longitude': -73.975979}"
   ]
  },
  {
   "cell_type": "code",
   "execution_count": 142,
   "metadata": {},
   "outputs": [
    {
     "data": {
      "text/plain": [
       "1.6600000000000001"
      ]
     },
     "execution_count": 142,
     "metadata": {},
     "output_type": "execute_result"
    }
   ],
   "source": [
    "median_of(nearest_neighbors(uws_loc, parsed_trips, number = 20), 'trip_distance')"
   ]
  },
  {
   "cell_type": "code",
   "execution_count": 143,
   "metadata": {
    "collapsed": true
   },
   "outputs": [],
   "source": [
    "downtown_loc = {'pickup_latitude': 40.713186, 'pickup_longitude': -74.007243}"
   ]
  },
  {
   "cell_type": "code",
   "execution_count": 146,
   "metadata": {},
   "outputs": [
    {
     "data": {
      "text/plain": [
       "2.2249999999999996"
      ]
     },
     "execution_count": 146,
     "metadata": {},
     "output_type": "execute_result"
    }
   ],
   "source": [
    "median_of(nearest_neighbors(downtown_loc, parsed_trips, number = 20), 'trip_distance')"
   ]
  },
  {
   "cell_type": "markdown",
   "metadata": {},
   "source": [
    "### Including other features"
   ]
  },
  {
   "cell_type": "markdown",
   "metadata": {},
   "source": [
    "Now let's begin writing functions involved with calculating that hypotenuse of our right triangle.  Using the Pythagorean Theorem, write a function called `distance_between_students_squared` that calculates the length of the hypotenuse squared."
   ]
  },
  {
   "cell_type": "code",
   "execution_count": 30,
   "metadata": {
    "collapsed": true
   },
   "outputs": [],
   "source": [
    "def distance_between_students_squared(first_student, second_student):\n",
    "    return street_distance(first_student, second_student)^2 + avenue_distance(first_student, second_student)^2"
   ]
  },
  {
   "cell_type": "code",
   "execution_count": 31,
   "metadata": {},
   "outputs": [
    {
     "data": {
      "text/plain": [
       "4"
      ]
     },
     "execution_count": 31,
     "metadata": {},
     "output_type": "execute_result"
    }
   ],
   "source": [
    "distance_between_students_squared(fred, daniel) # 4"
   ]
  },
  {
   "cell_type": "markdown",
   "metadata": {},
   "source": [
    "Now take the next step, and write a function called `distance`, that given two students returns the distance between them.  "
   ]
  },
  {
   "cell_type": "code",
   "execution_count": 33,
   "metadata": {
    "collapsed": true
   },
   "outputs": [],
   "source": [
    "import math\n",
    "def distance(first_student, second_student):\n",
    "    return math.sqrt(distance_between_students_squared(first_student, second_student))"
   ]
  },
  {
   "cell_type": "code",
   "execution_count": 32,
   "metadata": {},
   "outputs": [
    {
     "data": {
      "text/plain": [
       "2.0"
      ]
     },
     "execution_count": 32,
     "metadata": {},
     "output_type": "execute_result"
    }
   ],
   "source": [
    "distance(fred, daniel)"
   ]
  },
  {
   "cell_type": "markdown",
   "metadata": {},
   "source": [
    "### Writing Our \"Nearest Neighbors\" Functions"
   ]
  },
  {
   "cell_type": "markdown",
   "metadata": {},
   "source": [
    "This next section will work up to building a `nearest_neighbor` function.  This is a function that given one student, will tell us which students are closest to him.  How do we write something like this? Can we use our calculation of distance between two students, to figure out the closest students to an individual?\n",
    "\n",
    "Sure, we first need to calculate the distances between one student and all of the others.  Next, we sort those students by their distance from the student.  Finally, we select a given number of the closest students.  Let's work through it.   "
   ]
  },
  {
   "cell_type": "markdown",
   "metadata": {},
   "source": [
    "Note that we already have a function that calculates the distance between two students.  We may think we could simply use this function to loop through our students, but that would just return an array of distances.  "
   ]
  },
  {
   "cell_type": "code",
   "execution_count": 26,
   "metadata": {},
   "outputs": [
    {
     "data": {
      "text/plain": [
       "[0.0, 2.0, 2.0, 1.4142135623730951]"
      ]
     },
     "execution_count": 26,
     "metadata": {},
     "output_type": "execute_result"
    }
   ],
   "source": [
    "distances = []\n",
    "for student in students:\n",
    "    distance_between = distance(fred, student)\n",
    "    distances.append(distance_between)\n",
    "\n",
    "distances"
   ]
  },
  {
   "cell_type": "markdown",
   "metadata": {},
   "source": [
    "The returned array from the above procedure isn't super helpful.  We need to know who each distance is associated with.  \n",
    "\n",
    "So let's accomplish this by writing a function called `distance_with_student` that works like our distance function but instead of returning an integer, returns a dictionary representing the `second_student`, and also adds in the a key value pair indicating distance from the `first_student`."
   ]
  },
  {
   "cell_type": "code",
   "execution_count": 14,
   "metadata": {
    "collapsed": true
   },
   "outputs": [],
   "source": [
    "def distance_with_student(first_student, second_student):\n",
    "    student_with_distance = second_student.copy()\n",
    "    distance = math.sqrt(distance_between_students_squared(first_student, second_student))\n",
    "    student_with_distance['distance'] = distance\n",
    "    return student_with_distance\n"
   ]
  },
  {
   "cell_type": "code",
   "execution_count": 43,
   "metadata": {},
   "outputs": [
    {
     "data": {
      "text/plain": [
       "{'avenue': 5, 'distance': 2.0, 'name': 'daniel', 'street': 1}"
      ]
     },
     "execution_count": 43,
     "metadata": {},
     "output_type": "execute_result"
    }
   ],
   "source": [
    "distance_with_student(fred, daniel)\n",
    "# {'avenue': 5, 'distance': 2.0, 'name': 'daniel', 'street': 1}"
   ]
  },
  {
   "cell_type": "markdown",
   "metadata": {},
   "source": [
    "Now write a function called `distance_all` that returns an array representing the distances between a `first_student` and the rest of the students.  The array should not return the `first_student` in its collection of students. "
   ]
  },
  {
   "cell_type": "code",
   "execution_count": 19,
   "metadata": {
    "collapsed": true
   },
   "outputs": [],
   "source": [
    "def distance_all(first_student, students):\n",
    "    remaining_students = filter(lambda student: student != first_student, students)\n",
    "    return list(map(lambda student: distance_with_student(first_student, student), remaining_students))"
   ]
  },
  {
   "cell_type": "code",
   "execution_count": 44,
   "metadata": {},
   "outputs": [
    {
     "data": {
      "text/plain": [
       "[{'avenue': 5, 'distance': 2.0, 'name': 'daniel', 'street': 1},\n",
       " {'avenue': 6, 'distance': 2.0, 'name': 'rachel', 'street': 2},\n",
       " {'avenue': 10, 'distance': 1.4142135623730951, 'name': 'steven', 'street': 4}]"
      ]
     },
     "execution_count": 44,
     "metadata": {},
     "output_type": "execute_result"
    }
   ],
   "source": [
    "distance_all(fred, students)\n",
    "# [{'avenue': 5, 'distance': 2.0, 'name': 'daniel', 'street': 1},\n",
    "#  {'avenue': 6, 'distance': 2.0, 'name': 'rachel', 'street': 2},\n",
    "#  {'avenue': 10, 'distance': 1.4142135623730951, 'name': 'steven', 'street': 4}]"
   ]
  },
  {
   "cell_type": "markdown",
   "metadata": {},
   "source": [
    "Finally, write a function called `nearest_neighbors` given a student, returns an array of students, ordered from closest to furthest from the student.  The function should take an optional third argument that specifies how many \"nearest\" students are returned."
   ]
  },
  {
   "cell_type": "code",
   "execution_count": 21,
   "metadata": {
    "collapsed": true
   },
   "outputs": [],
   "source": [
    "def nearest_neighbors(first_student, students, number = None):\n",
    "    number = number or len(students) - 1\n",
    "    student_distances = distance_all(first_student, students)\n",
    "    sorted_students = sorted(student_distances, key=lambda student: student['distance'])\n",
    "    return sorted_students[:number]"
   ]
  },
  {
   "cell_type": "code",
   "execution_count": 22,
   "metadata": {},
   "outputs": [
    {
     "data": {
      "text/plain": [
       "[{'avenue': 10, 'distance': 1.4142135623730951, 'name': 'steven', 'street': 4},\n",
       " {'avenue': 5, 'distance': 2.0, 'name': 'daniel', 'street': 1}]"
      ]
     },
     "execution_count": 22,
     "metadata": {},
     "output_type": "execute_result"
    }
   ],
   "source": [
    "nearest_neighbors(fred, students, 2)\n",
    "# [{'avenue': 10, 'distance': 1.4142135623730951, 'name': 'steven', 'street': 4},\n",
    "#  {'avenue': 5, 'distance': 2.0, 'name': 'daniel', 'street': 1}]"
   ]
  },
  {
   "cell_type": "code",
   "execution_count": null,
   "metadata": {
    "collapsed": true
   },
   "outputs": [],
   "source": []
  }
 ],
 "metadata": {
  "kernelspec": {
   "display_name": "Python 3",
   "language": "python",
   "name": "python3"
  },
  "language_info": {
   "codemirror_mode": {
    "name": "ipython",
    "version": 3
   },
   "file_extension": ".py",
   "mimetype": "text/x-python",
   "name": "python",
   "nbconvert_exporter": "python",
   "pygments_lexer": "ipython3",
   "version": "3.6.1"
  }
 },
 "nbformat": 4,
 "nbformat_minor": 2
}
