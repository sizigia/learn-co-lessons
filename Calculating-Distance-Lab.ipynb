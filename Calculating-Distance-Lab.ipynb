{
 "cells": [
  {
   "cell_type": "markdown",
   "metadata": {},
   "source": [
    "# Calculating Distance Lab"
   ]
  },
  {
   "cell_type": "markdown",
   "metadata": {},
   "source": [
    "In this lab, you will write methods to calculate the distance of various students in a class from each other.   The x coordinates represent avenues of a person, and the y coordinates represent street numbers.  Assume that the distance between each street is one and the distance between each avenue is also one."
   ]
  },
  {
   "cell_type": "markdown",
   "metadata": {},
   "source": []
  },
  {
   "cell_type": "code",
   "execution_count": 6,
   "metadata": {
    "collapsed": true
   },
   "outputs": [],
   "source": [
    "classmates = [{'name': 'fred', 'street': 4, 'avenue': 8}, {'name': 'daniel', 'street': 1, 'avenue': 5}, {'name': 'rachel', 'street': 2, 'avenue': 6}, {'name': 'steven', 'street': 4, 'avenue': 10}]"
   ]
  },
  {
   "cell_type": "code",
   "execution_count": 7,
   "metadata": {},
   "outputs": [
    {
     "data": {
      "text/plain": [
       "[{'avenue': 8, 'name': 'fred', 'street': 4},\n",
       " {'avenue': 5, 'name': 'daniel', 'street': 1},\n",
       " {'avenue': 6, 'name': 'rachel', 'street': 2},\n",
       " {'avenue': 10, 'name': 'steven', 'street': 4}]"
      ]
     },
     "execution_count": 7,
     "metadata": {},
     "output_type": "execute_result"
    }
   ],
   "source": [
    "classmates"
   ]
  },
  {
   "cell_type": "code",
   "execution_count": 8,
   "metadata": {
    "collapsed": true
   },
   "outputs": [],
   "source": [
    "fred = classmates[0]\n",
    "daniel = classmates[1]"
   ]
  },
  {
   "cell_type": "markdown",
   "metadata": {},
   "source": [
    "Write a method called \"street_distance\" that calculates how far in streets two students are from each other."
   ]
  },
  {
   "cell_type": "code",
   "execution_count": 27,
   "metadata": {
    "collapsed": true
   },
   "outputs": [],
   "source": [
    "def street_distance(first_student, second_student):\n",
    "    return first_student['street'] - second_student['street']"
   ]
  },
  {
   "cell_type": "code",
   "execution_count": 26,
   "metadata": {
    "collapsed": true
   },
   "outputs": [],
   "source": []
  },
  {
   "cell_type": "code",
   "execution_count": null,
   "metadata": {
    "collapsed": true
   },
   "outputs": [],
   "source": []
  }
 ],
 "metadata": {
  "kernelspec": {
   "display_name": "Python 3",
   "language": "python",
   "name": "python3"
  },
  "language_info": {
   "codemirror_mode": {
    "name": "ipython",
    "version": 3
   },
   "file_extension": ".py",
   "mimetype": "text/x-python",
   "name": "python",
   "nbconvert_exporter": "python",
   "pygments_lexer": "ipython3",
   "version": "3.6.1"
  }
 },
 "nbformat": 4,
 "nbformat_minor": 2
}
