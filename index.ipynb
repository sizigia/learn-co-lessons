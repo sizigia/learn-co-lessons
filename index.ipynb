{
 "cells": [
  {
   "cell_type": "markdown",
   "metadata": {},
   "source": [
    "# Instant Data Science"
   ]
  },
  {
   "cell_type": "markdown",
   "metadata": {},
   "source": [
    "When starting any course, you likely look at the syllabus to see what's covered and answer can you do it.  In this lesson, we'll hope to give you a sense of how with just a little bit of knowledge you can make some real progress in using programs to answer questions with data.  \n",
    "\n",
    "To do so, we'll have lessons and labs on the following topics: \n",
    "* strings\n",
    "* variables\n",
    "* lists\n",
    "* dictionaries\n",
    "* loops and iteration\n",
    "* data visualization\n",
    "* functions\n",
    "\n",
    "\n",
    "So this first section will go into seven topics, with lessons and labs on each. There we will break down the content down step by step.  But this lesson is about instant data science.  So here is a whirlwind tour of what through these first topics."
   ]
  },
  {
   "cell_type": "markdown",
   "metadata": {},
   "source": [
    "### Song Analysis"
   ]
  },
  {
   "cell_type": "markdown",
   "metadata": {},
   "source": [
    "What makes a hit record?  Does repetitiveness help, like a lullabye?  And is our music getting more repetitive over time?  Questions like these were asked by the great computer scientist Donald Knuth in 1977, and were reasked and answered, by Colin Morris in [this article](https://pudding.cool/2017/05/song-repetition/)."
   ]
  },
  {
   "cell_type": "markdown",
   "metadata": {},
   "source": [
    "Here is a chart that he produced showing some of the most repetitive popular artists.  How was something like this made and calculated?"
   ]
  },
  {
   "cell_type": "markdown",
   "metadata": {},
   "source": [
    "![](./song-chart.png)"
   ]
  },
  {
   "cell_type": "markdown",
   "metadata": {},
   "source": [
    "### Analyzing one song"
   ]
  },
  {
   "cell_type": "markdown",
   "metadata": {},
   "source": [
    "Let's take the song Barbara Ann, the most repetitive song of the Beach Boys, and remastered by the cast of Saved by the Bell.  "
   ]
  },
  {
   "cell_type": "markdown",
   "metadata": {},
   "source": [
    "![](./saved-by-bell.gif)"
   ]
  },
  {
   "cell_type": "markdown",
   "metadata": {},
   "source": [
    "Here are the some of the lyrics."
   ]
  },
  {
   "cell_type": "markdown",
   "metadata": {},
   "source": [
    "    Ah, ba ba ba ba Barbara Ann\n",
    "    Ba ba ba ba Barbara Ann\n",
    "\n",
    "    Oh Barbara Ann, take my hand\n",
    "    Barbara Ann\n",
    "    You got me rockin' and a-rollin'\n",
    "    Rockin' and a-reelin'\n",
    "    Barbara Ann ba ba\n",
    "    Ba Barbara Ann\n",
    "\n",
    "    Went to a dance, lookin' for romance\n",
    "    Saw Barbara Ann, so I thought I'd take a chance\n",
    "    With Barbara Ann, Barbara Ann\n",
    "    Take my hand\n",
    "    You got me rockin' and a-rollin'\n",
    "    (Oh! Oh!)\n",
    "    Rockin' and a-reelin'\n",
    "    Barbara Ann ba ba\n",
    "    Ba ba ba ba black sheep\n",
    "\n",
    "    Ba ba ba ba Barbara Ann\n",
    "    Ba ba ba ba Barbara Ann"
   ]
  },
  {
   "cell_type": "markdown",
   "metadata": {},
   "source": [
    "It keeps going, but you get the point.  Now let's say that we wanted to count up how many times each word in the above selection appears.  Without a computer, we could do the following: \n",
    "\n",
    "* Place each of the words on a separate index card\n",
    "* Allocate space for a small pile for each unique word\n",
    "* Then, go through the index cards one by one\n",
    "* And for each index card, increase the size of it's related pile by one\n",
    "\n",
    "Ok, now that we have a plan, let's translate this into code."
   ]
  },
  {
   "cell_type": "markdown",
   "metadata": {},
   "source": [
    "### Working with Strings and Variables"
   ]
  },
  {
   "cell_type": "markdown",
   "metadata": {},
   "source": [
    "In code we do something similar.  First we place our pile of words, into a string, which is a data structure that just represents text."
   ]
  },
  {
   "cell_type": "code",
   "execution_count": 60,
   "metadata": {},
   "outputs": [
    {
     "data": {
      "text/plain": [
       "\"Ah, ba ba ba ba Barbara Ann Ba ba ba ba Barbara Ann Oh Barbara Ann, take my hand Barbara Ann You got me rockin' and a-rollin' Rockin' and a-reelin' Barbara Ann ba ba Ba Barbara Ann Went to a dance, lookin' for romance Saw Barbara Ann, so I thought I'd take a chance With Barbara Ann, Barbara Ann Take my hand You got me rockin' and a-rollin' (Oh! Oh!) Rockin' and a-reelin' Barbara Ann ba ba Ba ba ba ba black sheep Ba ba ba ba Barbara Ann Ba ba ba ba Barbara Ann\""
      ]
     },
     "execution_count": 60,
     "metadata": {},
     "output_type": "execute_result"
    }
   ],
   "source": [
    "\"Ah, ba ba ba ba Barbara Ann Ba ba ba ba Barbara Ann Oh Barbara Ann, take my hand Barbara Ann You got me rockin' and a-rollin' Rockin' and a-reelin' Barbara Ann ba ba Ba Barbara Ann Went to a dance, lookin' for romance Saw Barbara Ann, so I thought I'd take a chance With Barbara Ann, Barbara Ann Take my hand You got me rockin' and a-rollin' (Oh! Oh!) Rockin' and a-reelin' Barbara Ann ba ba Ba ba ba ba black sheep Ba ba ba ba Barbara Ann Ba ba ba ba Barbara Ann\""
   ]
  },
  {
   "cell_type": "markdown",
   "metadata": {},
   "source": [
    "To place have this be a string in Python, notice that we place quotes at the start and end of text.  If we don't do this, Python will give us an error."
   ]
  },
  {
   "cell_type": "code",
   "execution_count": 61,
   "metadata": {},
   "outputs": [
    {
     "ename": "SyntaxError",
     "evalue": "invalid syntax (<ipython-input-61-5fbb40878925>, line 1)",
     "output_type": "error",
     "traceback": [
      "\u001b[0;36m  File \u001b[0;32m\"<ipython-input-61-5fbb40878925>\"\u001b[0;36m, line \u001b[0;32m1\u001b[0m\n\u001b[0;31m    Ah, ba ba ba ba Barbara Ann Ba ba ba ba Barbara Ann Oh Barbara Ann, take my hand Barbara Ann You got me rockin' and a-rollin' Rockin' and a-reelin' Barbara Ann ba ba Ba Barbara Ann Went to a dance, lookin' for romance Saw Barbara Ann, so I thought I'd take a chance With Barbara Ann, Barbara Ann Take my hand You got me rockin' and a-rollin' (Oh! Oh!) Rockin' and a-reelin' Barbara Ann ba ba Ba ba ba ba black sheep Ba ba ba ba Barbara Ann Ba ba ba ba Barbara Ann\u001b[0m\n\u001b[0m            ^\u001b[0m\n\u001b[0;31mSyntaxError\u001b[0m\u001b[0;31m:\u001b[0m invalid syntax\n"
     ]
    }
   ],
   "source": [
    "Ah, ba ba ba ba Barbara Ann Ba ba ba ba Barbara Ann Oh Barbara Ann, take my hand Barbara Ann You got me rockin' and a-rollin' Rockin' and a-reelin' Barbara Ann ba ba Ba Barbara Ann Went to a dance, lookin' for romance Saw Barbara Ann, so I thought I'd take a chance With Barbara Ann, Barbara Ann Take my hand You got me rockin' and a-rollin' (Oh! Oh!) Rockin' and a-reelin' Barbara Ann ba ba Ba ba ba ba black sheep Ba ba ba ba Barbara Ann Ba ba ba ba Barbara Ann"
   ]
  },
  {
   "cell_type": "markdown",
   "metadata": {},
   "source": [
    "Ok, so we need the quotes for a string, but to hold onto this string and reference it later, we assign it to a variable.  "
   ]
  },
  {
   "cell_type": "code",
   "execution_count": null,
   "metadata": {
    "collapsed": true
   },
   "outputs": [],
   "source": [
    "lyrics = \"Ah, ba ba ba ba Barbara Ann Ba ba ba ba Barbara Ann Oh Barbara Ann, take my hand Barbara Ann You got me rockin' and a-rollin' Rockin' and a-reelin' Barbara Ann ba ba Ba Barbara Ann Went to a dance, lookin' for romance Saw Barbara Ann, so I thought I'd take a chance With Barbara Ann, Barbara Ann Take my hand You got me rockin' and a-rollin' (Oh! Oh!) Rockin' and a-reelin' Barbara Ann ba ba Ba ba ba ba black sheep Ba ba ba ba Barbara Ann Ba ba ba ba Barbara Ann\""
   ]
  },
  {
   "cell_type": "markdown",
   "metadata": {},
   "source": [
    "Now whenever we type the word lyrics into Python we can see our string."
   ]
  },
  {
   "cell_type": "code",
   "execution_count": null,
   "metadata": {},
   "outputs": [],
   "source": [
    "lyrics"
   ]
  },
  {
   "cell_type": "markdown",
   "metadata": {},
   "source": [
    "Ok, so strings are great for performing operations on text. For example we can call a method `title` on a string to capitaize the first letter of each word."
   ]
  },
  {
   "cell_type": "code",
   "execution_count": null,
   "metadata": {},
   "outputs": [],
   "source": [
    "lyrics.title()"
   ]
  },
  {
   "cell_type": "markdown",
   "metadata": {},
   "source": [
    "The uniformity here is good.  After all, eventually, we want to place the lowercased \"ba\" and the uppercased \"Ba\" in the same pile, so let's just make them the same.  We can accomplish this by setting `lyrics.title()` equal to a new variable `titled_lyrics`."
   ]
  },
  {
   "cell_type": "code",
   "execution_count": 62,
   "metadata": {},
   "outputs": [
    {
     "data": {
      "text/plain": [
       "\"Ah, Ba Ba Ba Ba Barbara Ann Ba Ba Ba Ba Barbara Ann Oh Barbara Ann, Take My Hand Barbara Ann You Got Me Rockin' And A-Rollin' Rockin' And A-Reelin' Barbara Ann Ba Ba Ba Barbara Ann Went To A Dance, Lookin' For Romance Saw Barbara Ann, So I Thought I'D Take A Chance With Barbara Ann, Barbara Ann Take My Hand You Got Me Rockin' And A-Rollin' (Oh! Oh!) Rockin' And A-Reelin' Barbara Ann Ba Ba Ba Ba Ba Ba Black Sheep Ba Ba Ba Ba Barbara Ann Ba Ba Ba Ba Barbara Ann\""
      ]
     },
     "execution_count": 62,
     "metadata": {},
     "output_type": "execute_result"
    }
   ],
   "source": [
    "titled_lyrics = lyrics.title()\n",
    "titled_lyrics"
   ]
  },
  {
   "cell_type": "markdown",
   "metadata": {},
   "source": [
    "Not bad, strings are great at manipulating all of our text at once.  However, strings **are not** good for thinking about each word as a separate entity.  For that we should use a list."
   ]
  },
  {
   "cell_type": "markdown",
   "metadata": {},
   "source": [
    "### Lists in Python "
   ]
  },
  {
   "cell_type": "markdown",
   "metadata": {},
   "source": [
    "So to think of our text as having separate words need to transform this continuous string into a list of words.  We can tell our computer to do this.  But speak on it's level, think of the computer as a small child who works really fast.  So tell it, \"Go through each character in the string, and when you see a space, split the string into a new string\".  Here is those directions in code."
   ]
  },
  {
   "cell_type": "code",
   "execution_count": 63,
   "metadata": {},
   "outputs": [],
   "source": [
    "list_of_lyrics = titled_lyrics.split(' ')"
   ]
  },
  {
   "cell_type": "markdown",
   "metadata": {},
   "source": [
    "We store the result to a variable.  Do you want to see what it looks like?  Ok, but be prepared for a lot of words.  Just scroll through them, and we'll meet up afterwards."
   ]
  },
  {
   "cell_type": "code",
   "execution_count": 64,
   "metadata": {},
   "outputs": [
    {
     "data": {
      "text/plain": [
       "['Ah,',\n",
       " 'Ba',\n",
       " 'Ba',\n",
       " 'Ba',\n",
       " 'Ba',\n",
       " 'Barbara',\n",
       " 'Ann',\n",
       " 'Ba',\n",
       " 'Ba',\n",
       " 'Ba',\n",
       " 'Ba',\n",
       " 'Barbara',\n",
       " 'Ann',\n",
       " 'Oh',\n",
       " 'Barbara',\n",
       " 'Ann,',\n",
       " 'Take',\n",
       " 'My',\n",
       " 'Hand',\n",
       " 'Barbara',\n",
       " 'Ann',\n",
       " 'You',\n",
       " 'Got',\n",
       " 'Me',\n",
       " \"Rockin'\",\n",
       " 'And',\n",
       " \"A-Rollin'\",\n",
       " \"Rockin'\",\n",
       " 'And',\n",
       " \"A-Reelin'\",\n",
       " 'Barbara',\n",
       " 'Ann',\n",
       " 'Ba',\n",
       " 'Ba',\n",
       " 'Ba',\n",
       " 'Barbara',\n",
       " 'Ann',\n",
       " 'Went',\n",
       " 'To',\n",
       " 'A',\n",
       " 'Dance,',\n",
       " \"Lookin'\",\n",
       " 'For',\n",
       " 'Romance',\n",
       " 'Saw',\n",
       " 'Barbara',\n",
       " 'Ann,',\n",
       " 'So',\n",
       " 'I',\n",
       " 'Thought',\n",
       " \"I'D\",\n",
       " 'Take',\n",
       " 'A',\n",
       " 'Chance',\n",
       " 'With',\n",
       " 'Barbara',\n",
       " 'Ann,',\n",
       " 'Barbara',\n",
       " 'Ann',\n",
       " 'Take',\n",
       " 'My',\n",
       " 'Hand',\n",
       " 'You',\n",
       " 'Got',\n",
       " 'Me',\n",
       " \"Rockin'\",\n",
       " 'And',\n",
       " \"A-Rollin'\",\n",
       " '(Oh!',\n",
       " 'Oh!)',\n",
       " \"Rockin'\",\n",
       " 'And',\n",
       " \"A-Reelin'\",\n",
       " 'Barbara',\n",
       " 'Ann',\n",
       " 'Ba',\n",
       " 'Ba',\n",
       " 'Ba',\n",
       " 'Ba',\n",
       " 'Ba',\n",
       " 'Ba',\n",
       " 'Black',\n",
       " 'Sheep',\n",
       " 'Ba',\n",
       " 'Ba',\n",
       " 'Ba',\n",
       " 'Ba',\n",
       " 'Barbara',\n",
       " 'Ann',\n",
       " 'Ba',\n",
       " 'Ba',\n",
       " 'Ba',\n",
       " 'Ba',\n",
       " 'Barbara',\n",
       " 'Ann']"
      ]
     },
     "execution_count": 64,
     "metadata": {},
     "output_type": "execute_result"
    }
   ],
   "source": [
    "list_of_lyrics"
   ]
  },
  {
   "cell_type": "markdown",
   "metadata": {},
   "source": [
    "Ok, so this is a list.  It's an ordered collection, and as you can see we are now treating each word as an individual entity.  Each individual entity of a list is called an element.  How many elements are there in this list?"
   ]
  },
  {
   "cell_type": "code",
   "execution_count": null,
   "metadata": {},
   "outputs": [],
   "source": [
    "len(list_of_lyrics)"
   ]
  },
  {
   "cell_type": "markdown",
   "metadata": {},
   "source": [
    "Ok, but what about unique words. Let's see a list of all of the unique words of the list?"
   ]
  },
  {
   "cell_type": "code",
   "execution_count": null,
   "metadata": {},
   "outputs": [],
   "source": [
    "unique_words = set(list_of_lyrics)"
   ]
  },
  {
   "cell_type": "code",
   "execution_count": null,
   "metadata": {},
   "outputs": [],
   "source": [
    "unique_words"
   ]
  },
  {
   "cell_type": "markdown",
   "metadata": {},
   "source": [
    "Ok, now we can see that our unique words is significantly smaller than our total list of words.  How much smaller?"
   ]
  },
  {
   "cell_type": "code",
   "execution_count": null,
   "metadata": {},
   "outputs": [],
   "source": [
    "len(unique_words)"
   ]
  },
  {
   "cell_type": "markdown",
   "metadata": {},
   "source": [
    "A lot."
   ]
  },
  {
   "cell_type": "markdown",
   "metadata": {},
   "source": [
    "So there's a lot of repetition here.  It's time to keep track of each word and the number of occurrences of each word."
   ]
  },
  {
   "cell_type": "markdown",
   "metadata": {},
   "source": [
    "### Using dictionaries"
   ]
  },
  {
   "cell_type": "markdown",
   "metadata": {},
   "source": [
    "So we can imagine presenting this data almost as a table.  A word to the left and the number of occurrences to the right.  "
   ]
  },
  {
   "cell_type": "markdown",
   "metadata": {},
   "source": [
    "| Word        | Count           |\n",
    "| ------------- |:-------------:|\n",
    "| Ann     | 2 |\n",
    "| Barbara     | 3 |\n",
    "| Ba     | 8 |"
   ]
  },
  {
   "cell_type": "markdown",
   "metadata": {},
   "source": [
    "In Python, this looks like a dictionary."
   ]
  },
  {
   "cell_type": "code",
   "execution_count": null,
   "metadata": {
    "collapsed": true
   },
   "outputs": [],
   "source": [
    "word_counts =  {'Ann': 2, 'Barbara': 3, 'Ba': 8}"
   ]
  },
  {
   "cell_type": "markdown",
   "metadata": {},
   "source": [
    "A dictionary is a collection of key value pairs, and use them to store associated data.  Here, each word is associated with it's count. And we can use the key to access the associated value."
   ]
  },
  {
   "cell_type": "code",
   "execution_count": null,
   "metadata": {},
   "outputs": [],
   "source": [
    "word_counts['Ann']"
   ]
  },
  {
   "cell_type": "markdown",
   "metadata": {},
   "source": [
    "And also use the key to reassign that value."
   ]
  },
  {
   "cell_type": "code",
   "execution_count": null,
   "metadata": {
    "collapsed": true
   },
   "outputs": [],
   "source": [
    "word_counts['Ann'] = 33"
   ]
  },
  {
   "cell_type": "code",
   "execution_count": null,
   "metadata": {},
   "outputs": [],
   "source": [
    "word_counts"
   ]
  },
  {
   "cell_type": "markdown",
   "metadata": {},
   "source": [
    "So that's the form we want.  How do we get there from our `list_of_lyrics` or the unique words in there?"
   ]
  },
  {
   "cell_type": "markdown",
   "metadata": {},
   "source": [
    "Well we can start by having our dictionary have each key be a separate word, and then set the corresponding value to zero.  Kind of like making an empty category for each of our words.  Then we would be ready to set the number for each of the words.\n",
    "\n",
    "Let's start with a dictionary that has a key for each unique word and each value starting at the number zero.  We can create a new dictionary and set the keys to `unique_words` and the values all to `0` with the `fromkeys` method.  We call this a `word_histogram`."
   ]
  },
  {
   "cell_type": "code",
   "execution_count": 66,
   "metadata": {},
   "outputs": [
    {
     "data": {
      "text/plain": [
       "{'(Oh!': 0,\n",
       " 'A': 0,\n",
       " \"A-Reelin'\": 0,\n",
       " \"A-Rollin'\": 0,\n",
       " 'Ah,': 0,\n",
       " 'And': 0,\n",
       " 'Ann': 0,\n",
       " 'Ann,': 0,\n",
       " 'Ba': 0,\n",
       " 'Barbara': 0,\n",
       " 'Black': 0,\n",
       " 'Chance': 0,\n",
       " 'Dance,': 0,\n",
       " 'For': 0,\n",
       " 'Got': 0,\n",
       " 'Hand': 0,\n",
       " 'I': 0,\n",
       " \"I'D\": 0,\n",
       " \"Lookin'\": 0,\n",
       " 'Me': 0,\n",
       " 'My': 0,\n",
       " 'Oh': 0,\n",
       " 'Oh!)': 0,\n",
       " \"Rockin'\": 0,\n",
       " 'Romance': 0,\n",
       " 'Saw': 0,\n",
       " 'Sheep': 0,\n",
       " 'So': 0,\n",
       " 'Take': 0,\n",
       " 'Thought': 0,\n",
       " 'To': 0,\n",
       " 'Went': 0,\n",
       " 'With': 0,\n",
       " 'You': 0}"
      ]
     },
     "execution_count": 66,
     "metadata": {},
     "output_type": "execute_result"
    }
   ],
   "source": [
    "word_histogram = dict.fromkeys(unique_words, 0)\n",
    "word_histogram"
   ]
  },
  {
   "cell_type": "markdown",
   "metadata": {},
   "source": [
    "### Loops"
   ]
  },
  {
   "cell_type": "markdown",
   "metadata": {},
   "source": [
    "Ok, that we have two nice data structures, a `list_of_words` to start with, and a `word_histogram` to end with, we are ready to proceed.  Remember the plan that we stated we could use to count up how many times each word appears:\n",
    "\n",
    "* Place each of the words on a separate index card\n",
    "* Allocate space for a small pile for each unique word\n",
    "* Then, go through the index cards one by one\n",
    "* And for each index card, increase the size of it's related pile by one\n"
   ]
  },
  {
   "cell_type": "markdown",
   "metadata": {},
   "source": [
    "So we already have each of our words on a separate index card.  That is our `list_of_lyrics`.  We have also allocated space for a small pile for each unique word, that is our `word_histogram`.  So all that's left are the last two steps."
   ]
  },
  {
   "cell_type": "markdown",
   "metadata": {},
   "source": [
    "In Python to go through elements of a list one by one, we use a for loop."
   ]
  },
  {
   "cell_type": "code",
   "execution_count": 99,
   "metadata": {},
   "outputs": [
    {
     "name": "stdout",
     "output_type": "stream",
     "text": [
      "11\n",
      "12\n",
      "13\n",
      "14\n"
     ]
    }
   ],
   "source": [
    "for number in [1,2,3,4]:\n",
    "    print(number + 10)"
   ]
  },
  {
   "cell_type": "markdown",
   "metadata": {},
   "source": [
    "Ok, so now here what we want to do is go through the elements of our `list_of_lyrics` one by one.  For each word, we want to find the related key in the dictionary and increase the value by one.  So this is what we want to do for each word: "
   ]
  },
  {
   "cell_type": "code",
   "execution_count": 112,
   "metadata": {},
   "outputs": [
    {
     "data": {
      "text/plain": [
       "1"
      ]
     },
     "execution_count": 112,
     "metadata": {},
     "output_type": "execute_result"
    }
   ],
   "source": [
    "word_histogram = dict.fromkeys(unique_words, 0)\n",
    "word = 'Barbara'\n",
    "word_histogram[word] # 0 \n",
    "# line 5 below is especially confusing, we'll cover it in detail later\n",
    "word_histogram[word]  = word_histogram[word]+ 1 \n",
    "word_histogram['Barbara'] # 1"
   ]
  },
  {
   "cell_type": "markdown",
   "metadata": {},
   "source": [
    "Now combining this with the `for` loop we have the following."
   ]
  },
  {
   "cell_type": "code",
   "execution_count": 113,
   "metadata": {
    "collapsed": true
   },
   "outputs": [],
   "source": [
    "word_histogram = dict.fromkeys(unique_words, 0)\n",
    "for word in list_of_lyrics:\n",
    "    word_histogram[word]  = word_histogram[word]+ 1 "
   ]
  },
  {
   "cell_type": "code",
   "execution_count": 114,
   "metadata": {},
   "outputs": [
    {
     "data": {
      "text/plain": [
       "{'(Oh!': 1,\n",
       " 'A': 2,\n",
       " \"A-Reelin'\": 2,\n",
       " \"A-Rollin'\": 2,\n",
       " 'Ah,': 1,\n",
       " 'And': 4,\n",
       " 'Ann': 9,\n",
       " 'Ann,': 3,\n",
       " 'Ba': 25,\n",
       " 'Barbara': 12,\n",
       " 'Black': 1,\n",
       " 'Chance': 1,\n",
       " 'Dance,': 1,\n",
       " 'For': 1,\n",
       " 'Got': 2,\n",
       " 'Hand': 2,\n",
       " 'I': 1,\n",
       " \"I'D\": 1,\n",
       " \"Lookin'\": 1,\n",
       " 'Me': 2,\n",
       " 'My': 2,\n",
       " 'Oh': 1,\n",
       " 'Oh!)': 1,\n",
       " \"Rockin'\": 4,\n",
       " 'Romance': 1,\n",
       " 'Saw': 1,\n",
       " 'Sheep': 1,\n",
       " 'So': 1,\n",
       " 'Take': 3,\n",
       " 'Thought': 1,\n",
       " 'To': 1,\n",
       " 'Went': 1,\n",
       " 'With': 1,\n",
       " 'You': 2}"
      ]
     },
     "execution_count": 114,
     "metadata": {},
     "output_type": "execute_result"
    }
   ],
   "source": [
    "word_histogram"
   ]
  },
  {
   "cell_type": "markdown",
   "metadata": {},
   "source": [
    "Ok, that's it.  If we want to see how many time 'Rockin' appears, we easily can."
   ]
  },
  {
   "cell_type": "code",
   "execution_count": 115,
   "metadata": {},
   "outputs": [
    {
     "data": {
      "text/plain": [
       "4"
      ]
     },
     "execution_count": 115,
     "metadata": {},
     "output_type": "execute_result"
    }
   ],
   "source": [
    "word_histogram[\"Rockin'\"]"
   ]
  },
  {
   "cell_type": "markdown",
   "metadata": {},
   "source": [
    "### Visualizing the data"
   ]
  },
  {
   "cell_type": "markdown",
   "metadata": {},
   "source": [
    "We've got our answer in code.  The final step is to turn it into a chart.  We'll use a library -- which is a collection of code we get from the Internet that does not come with Python -- called Plotly to make our charts. "
   ]
  },
  {
   "cell_type": "markdown",
   "metadata": {},
   "source": [
    "In the first four lines we tell Python to get ready to use this library.  And in the last line we tell Python to plot our `trace`.\n",
    "\n",
    "The meat of the code, the part that we will be changing, is our `trace`.  Trace points to a dictionary with a key of `x` that points to a list of x_values, and a key of `y` that points to y_values.  And a `type` to indicate that this will be a bar chart."
   ]
  },
  {
   "cell_type": "code",
   "execution_count": 83,
   "metadata": {},
   "outputs": [
    {
     "data": {
      "text/html": [
       "<script>requirejs.config({paths: { 'plotly': ['https://cdn.plot.ly/plotly-latest.min']},});if(!window.Plotly) {{require(['plotly'],function(plotly) {window.Plotly=plotly;});}}</script>"
      ],
      "text/vnd.plotly.v1+html": [
       "<script>requirejs.config({paths: { 'plotly': ['https://cdn.plot.ly/plotly-latest.min']},});if(!window.Plotly) {{require(['plotly'],function(plotly) {window.Plotly=plotly;});}}</script>"
      ]
     },
     "metadata": {},
     "output_type": "display_data"
    },
    {
     "data": {
      "application/vnd.plotly.v1+json": {
       "data": [
        {
         "type": "bar",
         "x": [
          "Barbara",
          "Ann"
         ],
         "y": [
          12,
          3
         ]
        }
       ],
       "layout": {}
      },
      "text/html": [
       "<div id=\"eaf061e3-06fe-4a0f-88ff-4bc2ab44b4ab\" style=\"height: 525px; width: 100%;\" class=\"plotly-graph-div\"></div><script type=\"text/javascript\">require([\"plotly\"], function(Plotly) { window.PLOTLYENV=window.PLOTLYENV || {};window.PLOTLYENV.BASE_URL=\"https://plot.ly\";Plotly.newPlot(\"eaf061e3-06fe-4a0f-88ff-4bc2ab44b4ab\", [{\"type\": \"bar\", \"x\": [\"Barbara\", \"Ann\"], \"y\": [12, 3]}], {}, {\"showLink\": true, \"linkText\": \"Export to plot.ly\"})});</script>"
      ],
      "text/vnd.plotly.v1+html": [
       "<div id=\"eaf061e3-06fe-4a0f-88ff-4bc2ab44b4ab\" style=\"height: 525px; width: 100%;\" class=\"plotly-graph-div\"></div><script type=\"text/javascript\">require([\"plotly\"], function(Plotly) { window.PLOTLYENV=window.PLOTLYENV || {};window.PLOTLYENV.BASE_URL=\"https://plot.ly\";Plotly.newPlot(\"eaf061e3-06fe-4a0f-88ff-4bc2ab44b4ab\", [{\"type\": \"bar\", \"x\": [\"Barbara\", \"Ann\"], \"y\": [12, 3]}], {}, {\"showLink\": true, \"linkText\": \"Export to plot.ly\"})});</script>"
      ]
     },
     "metadata": {},
     "output_type": "display_data"
    }
   ],
   "source": [
    "import plotly\n",
    "from plotly.offline import iplot, init_notebook_mode\n",
    "from plotly import tools\n",
    "import plotly.graph_objs as go\n",
    "init_notebook_mode(connected=True)\n",
    "\n",
    "\n",
    "trace = {\n",
    " 'type': 'bar',\n",
    " 'x': ['Barbara', 'Ann'],\n",
    " 'y': [12, 3]}\n",
    "plotly.offline.iplot({'data': [trace]})"
   ]
  },
  {
   "cell_type": "code",
   "execution_count": 84,
   "metadata": {},
   "outputs": [
    {
     "data": {
      "text/plain": [
       "{'type': 'bar', 'x': ['Barbara', 'Ann'], 'y': [12, 3]}"
      ]
     },
     "execution_count": 84,
     "metadata": {},
     "output_type": "execute_result"
    }
   ],
   "source": [
    "trace"
   ]
  },
  {
   "cell_type": "markdown",
   "metadata": {},
   "source": [
    "You can see that x values  point to an array of the x values, our list of words, and `y` points to an array of y values, the number of times each word appears.  So lets set `x` and `y` equal to those values."
   ]
  },
  {
   "cell_type": "code",
   "execution_count": 91,
   "metadata": {},
   "outputs": [
    {
     "data": {
      "text/plain": [
       "{'(Oh!',\n",
       " 'A',\n",
       " \"A-Reelin'\",\n",
       " \"A-Rollin'\",\n",
       " 'Ah,',\n",
       " 'And',\n",
       " 'Ann',\n",
       " 'Ann,',\n",
       " 'Ba',\n",
       " 'Barbara',\n",
       " 'Black',\n",
       " 'Chance',\n",
       " 'Dance,',\n",
       " 'For',\n",
       " 'Got',\n",
       " 'Hand',\n",
       " 'I',\n",
       " \"I'D\",\n",
       " \"Lookin'\",\n",
       " 'Me',\n",
       " 'My',\n",
       " 'Oh',\n",
       " 'Oh!)',\n",
       " \"Rockin'\",\n",
       " 'Romance',\n",
       " 'Saw',\n",
       " 'Sheep',\n",
       " 'So',\n",
       " 'Take',\n",
       " 'Thought',\n",
       " 'To',\n",
       " 'Went',\n",
       " 'With',\n",
       " 'You'}"
      ]
     },
     "execution_count": 91,
     "metadata": {},
     "output_type": "execute_result"
    }
   ],
   "source": [
    "unique_words"
   ]
  },
  {
   "cell_type": "code",
   "execution_count": 87,
   "metadata": {},
   "outputs": [],
   "source": [
    "trace = {'type': 'bar', 'x': unique_words, 'y': list(word_histogram.values())}"
   ]
  },
  {
   "cell_type": "code",
   "execution_count": 92,
   "metadata": {},
   "outputs": [
    {
     "data": {
      "text/html": [
       "<script>requirejs.config({paths: { 'plotly': ['https://cdn.plot.ly/plotly-latest.min']},});if(!window.Plotly) {{require(['plotly'],function(plotly) {window.Plotly=plotly;});}}</script>"
      ],
      "text/vnd.plotly.v1+html": [
       "<script>requirejs.config({paths: { 'plotly': ['https://cdn.plot.ly/plotly-latest.min']},});if(!window.Plotly) {{require(['plotly'],function(plotly) {window.Plotly=plotly;});}}</script>"
      ]
     },
     "metadata": {},
     "output_type": "display_data"
    },
    {
     "data": {
      "application/vnd.plotly.v1+json": {
       "data": [
        {
         "type": "bar",
         "x": [
          "You",
          "Went",
          "With",
          "Barbara",
          "Take",
          "Dance,",
          "Sheep",
          "A-Reelin'",
          "Oh!)",
          "So",
          "Rockin'",
          "Oh",
          "For",
          "Black",
          "Hand",
          "Me",
          "And",
          "Ah,",
          "Romance",
          "To",
          "Ba",
          "Ann,",
          "Got",
          "(Oh!",
          "Ann",
          "Lookin'",
          "A-Rollin'",
          "Chance",
          "A",
          "Saw",
          "I",
          "I'D",
          "My",
          "Thought"
         ],
         "y": [
          2,
          1,
          1,
          12,
          3,
          1,
          1,
          2,
          1,
          1,
          4,
          1,
          1,
          1,
          2,
          2,
          4,
          1,
          1,
          1,
          25,
          3,
          2,
          1,
          9,
          1,
          2,
          1,
          2,
          1,
          1,
          1,
          2,
          1
         ]
        }
       ],
       "layout": {}
      },
      "text/html": [
       "<div id=\"d0ae0710-b046-4232-8654-aed4ae8383b6\" style=\"height: 525px; width: 100%;\" class=\"plotly-graph-div\"></div><script type=\"text/javascript\">require([\"plotly\"], function(Plotly) { window.PLOTLYENV=window.PLOTLYENV || {};window.PLOTLYENV.BASE_URL=\"https://plot.ly\";Plotly.newPlot(\"d0ae0710-b046-4232-8654-aed4ae8383b6\", [{\"type\": \"bar\", \"x\": [\"You\", \"Went\", \"With\", \"Barbara\", \"Take\", \"Dance,\", \"Sheep\", \"A-Reelin'\", \"Oh!)\", \"So\", \"Rockin'\", \"Oh\", \"For\", \"Black\", \"Hand\", \"Me\", \"And\", \"Ah,\", \"Romance\", \"To\", \"Ba\", \"Ann,\", \"Got\", \"(Oh!\", \"Ann\", \"Lookin'\", \"A-Rollin'\", \"Chance\", \"A\", \"Saw\", \"I\", \"I'D\", \"My\", \"Thought\"], \"y\": [2, 1, 1, 12, 3, 1, 1, 2, 1, 1, 4, 1, 1, 1, 2, 2, 4, 1, 1, 1, 25, 3, 2, 1, 9, 1, 2, 1, 2, 1, 1, 1, 2, 1]}], {}, {\"showLink\": true, \"linkText\": \"Export to plot.ly\"})});</script>"
      ],
      "text/vnd.plotly.v1+html": [
       "<div id=\"d0ae0710-b046-4232-8654-aed4ae8383b6\" style=\"height: 525px; width: 100%;\" class=\"plotly-graph-div\"></div><script type=\"text/javascript\">require([\"plotly\"], function(Plotly) { window.PLOTLYENV=window.PLOTLYENV || {};window.PLOTLYENV.BASE_URL=\"https://plot.ly\";Plotly.newPlot(\"d0ae0710-b046-4232-8654-aed4ae8383b6\", [{\"type\": \"bar\", \"x\": [\"You\", \"Went\", \"With\", \"Barbara\", \"Take\", \"Dance,\", \"Sheep\", \"A-Reelin'\", \"Oh!)\", \"So\", \"Rockin'\", \"Oh\", \"For\", \"Black\", \"Hand\", \"Me\", \"And\", \"Ah,\", \"Romance\", \"To\", \"Ba\", \"Ann,\", \"Got\", \"(Oh!\", \"Ann\", \"Lookin'\", \"A-Rollin'\", \"Chance\", \"A\", \"Saw\", \"I\", \"I'D\", \"My\", \"Thought\"], \"y\": [2, 1, 1, 12, 3, 1, 1, 2, 1, 1, 4, 1, 1, 1, 2, 2, 4, 1, 1, 1, 25, 3, 2, 1, 9, 1, 2, 1, 2, 1, 1, 1, 2, 1]}], {}, {\"showLink\": true, \"linkText\": \"Export to plot.ly\"})});</script>"
      ]
     },
     "metadata": {},
     "output_type": "display_data"
    }
   ],
   "source": [
    "import plotly\n",
    "from plotly.offline import iplot, init_notebook_mode\n",
    "from plotly import tools\n",
    "import plotly.graph_objs as go\n",
    "init_notebook_mode(connected=True)\n",
    "\n",
    "trace = {'type': 'bar', 'x': list(unique_words), 'y': list(word_histogram.values())}\n",
    "plotly.offline.iplot({'data': [trace]})"
   ]
  },
  {
   "cell_type": "markdown",
   "metadata": {},
   "source": [
    "And now we have plotted our words. The beach saying \"Ba\" 25 times, and remember we only copied over some of the lyrics.  Repetitive indeed."
   ]
  },
  {
   "cell_type": "markdown",
   "metadata": {},
   "source": [
    "### Summary"
   ]
  },
  {
   "cell_type": "markdown",
   "metadata": {},
   "source": [
    "In the first twenty lessons, we will cover these topics and more.  Hopefully, in this section you can see that even with just a bit of knowledge you can really put code to use.  It may have seemed like a lot of work, but the work was in the learning, not the code.  \n",
    "\n",
    "All of the code was just a ten lines."
   ]
  },
  {
   "cell_type": "code",
   "execution_count": 93,
   "metadata": {
    "collapsed": true
   },
   "outputs": [],
   "source": [
    "lyrics = \"Ah, ba ba ba ba Barbara Ann Ba ba ba ba Barbara Ann Oh Barbara Ann, take my hand Barbara Ann You got me rockin' and a-rollin' Rockin' and a-reelin' Barbara Ann ba ba Ba Barbara Ann Went to a dance, lookin' for romance Saw Barbara Ann, so I thought I'd take a chance With Barbara Ann, Barbara Ann Take my hand You got me rockin' and a-rollin' (Oh! Oh!) Rockin' and a-reelin' Barbara Ann ba ba Ba ba ba ba black sheep Ba ba ba ba Barbara Ann Ba ba ba ba Barbara Ann\"\n",
    "titled_lyrics = lyrics.title()\n",
    "\n",
    "\n",
    "list_of_lyrics = titled_lyrics.split(' ')\n",
    "unique_words = set(list_of_lyrics)\n",
    "word_histogram = dict.fromkeys(unique_words, 0)\n",
    "\n",
    "for word in list_of_lyrics:\n",
    "    word_histogram[word] = word_histogram[word] + 1"
   ]
  },
  {
   "cell_type": "markdown",
   "metadata": {},
   "source": [
    "And another 8 lines to plot."
   ]
  },
  {
   "cell_type": "code",
   "execution_count": 94,
   "metadata": {},
   "outputs": [
    {
     "data": {
      "text/html": [
       "<script>requirejs.config({paths: { 'plotly': ['https://cdn.plot.ly/plotly-latest.min']},});if(!window.Plotly) {{require(['plotly'],function(plotly) {window.Plotly=plotly;});}}</script>"
      ],
      "text/vnd.plotly.v1+html": [
       "<script>requirejs.config({paths: { 'plotly': ['https://cdn.plot.ly/plotly-latest.min']},});if(!window.Plotly) {{require(['plotly'],function(plotly) {window.Plotly=plotly;});}}</script>"
      ]
     },
     "metadata": {},
     "output_type": "display_data"
    },
    {
     "data": {
      "application/vnd.plotly.v1+json": {
       "data": [
        {
         "type": "bar",
         "x": [
          "You",
          "Went",
          "With",
          "Barbara",
          "Take",
          "Dance,",
          "Sheep",
          "A-Reelin'",
          "Oh!)",
          "So",
          "Rockin'",
          "Oh",
          "For",
          "Black",
          "Hand",
          "Me",
          "And",
          "Ah,",
          "Romance",
          "To",
          "Ba",
          "Ann,",
          "Got",
          "(Oh!",
          "Ann",
          "Lookin'",
          "A-Rollin'",
          "Chance",
          "A",
          "Saw",
          "I",
          "I'D",
          "My",
          "Thought"
         ],
         "y": [
          2,
          1,
          1,
          12,
          3,
          1,
          1,
          2,
          1,
          1,
          4,
          1,
          1,
          1,
          2,
          2,
          4,
          1,
          1,
          1,
          25,
          3,
          2,
          1,
          9,
          1,
          2,
          1,
          2,
          1,
          1,
          1,
          2,
          1
         ]
        }
       ],
       "layout": {}
      },
      "text/html": [
       "<div id=\"5d37d4d3-5a2a-40f7-ad48-74847bc6aa77\" style=\"height: 525px; width: 100%;\" class=\"plotly-graph-div\"></div><script type=\"text/javascript\">require([\"plotly\"], function(Plotly) { window.PLOTLYENV=window.PLOTLYENV || {};window.PLOTLYENV.BASE_URL=\"https://plot.ly\";Plotly.newPlot(\"5d37d4d3-5a2a-40f7-ad48-74847bc6aa77\", [{\"type\": \"bar\", \"x\": [\"You\", \"Went\", \"With\", \"Barbara\", \"Take\", \"Dance,\", \"Sheep\", \"A-Reelin'\", \"Oh!)\", \"So\", \"Rockin'\", \"Oh\", \"For\", \"Black\", \"Hand\", \"Me\", \"And\", \"Ah,\", \"Romance\", \"To\", \"Ba\", \"Ann,\", \"Got\", \"(Oh!\", \"Ann\", \"Lookin'\", \"A-Rollin'\", \"Chance\", \"A\", \"Saw\", \"I\", \"I'D\", \"My\", \"Thought\"], \"y\": [2, 1, 1, 12, 3, 1, 1, 2, 1, 1, 4, 1, 1, 1, 2, 2, 4, 1, 1, 1, 25, 3, 2, 1, 9, 1, 2, 1, 2, 1, 1, 1, 2, 1]}], {}, {\"showLink\": true, \"linkText\": \"Export to plot.ly\"})});</script>"
      ],
      "text/vnd.plotly.v1+html": [
       "<div id=\"5d37d4d3-5a2a-40f7-ad48-74847bc6aa77\" style=\"height: 525px; width: 100%;\" class=\"plotly-graph-div\"></div><script type=\"text/javascript\">require([\"plotly\"], function(Plotly) { window.PLOTLYENV=window.PLOTLYENV || {};window.PLOTLYENV.BASE_URL=\"https://plot.ly\";Plotly.newPlot(\"5d37d4d3-5a2a-40f7-ad48-74847bc6aa77\", [{\"type\": \"bar\", \"x\": [\"You\", \"Went\", \"With\", \"Barbara\", \"Take\", \"Dance,\", \"Sheep\", \"A-Reelin'\", \"Oh!)\", \"So\", \"Rockin'\", \"Oh\", \"For\", \"Black\", \"Hand\", \"Me\", \"And\", \"Ah,\", \"Romance\", \"To\", \"Ba\", \"Ann,\", \"Got\", \"(Oh!\", \"Ann\", \"Lookin'\", \"A-Rollin'\", \"Chance\", \"A\", \"Saw\", \"I\", \"I'D\", \"My\", \"Thought\"], \"y\": [2, 1, 1, 12, 3, 1, 1, 2, 1, 1, 4, 1, 1, 1, 2, 2, 4, 1, 1, 1, 25, 3, 2, 1, 9, 1, 2, 1, 2, 1, 1, 1, 2, 1]}], {}, {\"showLink\": true, \"linkText\": \"Export to plot.ly\"})});</script>"
      ]
     },
     "metadata": {},
     "output_type": "display_data"
    }
   ],
   "source": [
    "import plotly\n",
    "from plotly.offline import iplot, init_notebook_mode\n",
    "from plotly import tools\n",
    "import plotly.graph_objs as go\n",
    "init_notebook_mode(connected=True)\n",
    "\n",
    "trace = {'type': 'bar', 'x': list(unique_words), 'y': list(word_histogram.values())}\n",
    "plotly.offline.iplot({'data': [trace]})"
   ]
  },
  {
   "cell_type": "markdown",
   "metadata": {},
   "source": [
    "These next sections will go through each of the topics above, so that we can use the tools above to answer questions with data efficiently with code."
   ]
  }
 ],
 "metadata": {
  "kernelspec": {
   "display_name": "Python 3",
   "language": "python",
   "name": "python3"
  },
  "language_info": {
   "codemirror_mode": {
    "name": "ipython",
    "version": 3
   },
   "file_extension": ".py",
   "mimetype": "text/x-python",
   "name": "python",
   "nbconvert_exporter": "python",
   "pygments_lexer": "ipython3",
   "version": "3.6.1"
  }
 },
 "nbformat": 4,
 "nbformat_minor": 2
}
