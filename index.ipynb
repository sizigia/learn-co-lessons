{
 "cells": [
  {
   "cell_type": "markdown",
   "metadata": {},
   "source": [
    "# Derivatives of straight lines"
   ]
  },
  {
   "cell_type": "markdown",
   "metadata": {},
   "source": [
    "### Learning objectives"
   ]
  },
  {
   "cell_type": "markdown",
   "metadata": {},
   "source": [
    "* Understand that derivatives are the instantaneous rate of change of a function\n",
    "* Understand how to calculate a derivative \n",
    "* Understand how to express taking a derivative at a given point, and evaluating a function at a given point mathematically"
   ]
  },
  {
   "cell_type": "markdown",
   "metadata": {},
   "source": [
    "### Introduction"
   ]
  },
  {
   "cell_type": "markdown",
   "metadata": {},
   "source": [
    "In the lesson discussing step sizes of our gradient descent algorithm, we filled in some more information on how to find \"best fit\" regression line with using gradient descent.  Namely, we learned how to more carefully change the y-intercept of the regression line to minimize the residual sum of squares.  \n",
    "\n",
    "We did this by calibrating the size and direction of of our change of a regression line parameter -- let's say $b$, our y intercept -- to the slope of the line tangent to the cost curve at that value of $b$. By tangent line, we mean a line that \"just touches\" our curve at a given point.  \n",
    "\n",
    "So below is a curve that shows the RSS of a regression line with different values of $b$.  Our orange, green, and red lines are each tangent to the curve at their respective points. "
   ]
  },
  {
   "cell_type": "markdown",
   "metadata": {},
   "source": [
    "![](./tangent-lines.png)"
   ]
  },
  {
   "cell_type": "markdown",
   "metadata": {},
   "source": [
    "With our gradient descent algorithm, the larger the absolute value of the slope, the larger the change in our regression line parameter -- that is, the larger our step size.  So we take a much larger step when our slope is -146.17 at $b = 70$ than we do when our slope equals -58.51 at $b = 85$.\n",
    "\n",
    "So here is what **we know so far:** \n",
    "* Our gradient descent technique depends on changing our values according to the slope of our cost curve\n",
    "\n",
    "Here is **what we do not know:**\n",
    "* How to find that slope or rate of change of a function at a given point.  \n",
    "\n",
    "In this lesson, we'll learn how to calculate the rate of change of a function.\n",
    "\n",
    "We just indicated that we don't know how to find the slope of a function at a given point.  But is that really true?"
   ]
  },
  {
   "cell_type": "markdown",
   "metadata": {},
   "source": [
    "## Back to what we know"
   ]
  },
  {
   "cell_type": "markdown",
   "metadata": {},
   "source": [
    "Let's say that we want a function that  represents a person taking a jog."
   ]
  },
  {
   "cell_type": "markdown",
   "metadata": {},
   "source": [
    "![](./running-miles.png)"
   ]
  },
  {
   "cell_type": "markdown",
   "metadata": {},
   "source": [
    "Now our task for this lesson is to be able to calculate the rate of change.  The rate of change comes up when we say the word, per.  As in miles per hour, the rate of the jogger changing the number of hours travelled.  So here what is the number of miles per hour the person is travelling? "
   ]
  },
  {
   "cell_type": "markdown",
   "metadata": {},
   "source": [
    "To calculate the miles per hour we can simply see where a person is at a given time, then wait an hour and to see how far he travelled.  Or we can wait two hours and divide distance travelled by two.  Or generically, divide number of miles travlled by the number of hours past.\n",
    "\n",
    "In the below graph, to calculate the rate of change, we see the distance travelled between hours one and two, and then make our calculation."
   ]
  },
  {
   "cell_type": "markdown",
   "metadata": {},
   "source": [
    "![](./deltaxdeltay.png)"
   ]
  },
  {
   "cell_type": "markdown",
   "metadata": {},
   "source": [
    "So in hours one and two, our jogger went from mile numbers three to six -- indicated by the orange line.  So then miles per hour is $\\frac{ distance}{hours}$.  Or generically, in our graph the rate of change is the change in y divided by the change in x.  Let's see some other ways of expressing this: \n",
    "\n",
    "* And another way of expressing **change in y** is:  \n",
    "   * $y_2 - y_1$ or $\\Delta y$, read delta y \n",
    "* And another way of expressing **change in x** is:  \n",
    "   * $x_2 - x_1$ or $\\Delta x$, read delta x\n",
    "\n",
    "And in our example, we have: \n",
    "\n",
    "* miles per hour =  $\\frac{y_2 - y_1}{x_2 - x_1} = \\frac{18 - 12}{4 - 6} = \\frac{6}{2} = 3$ mph\n",
    "\n",
    "And generically we can say that: \n",
    "\n",
    "* rate of change $= \\frac{rise}{run} = \\frac{\\Delta y}{\\Delta x} = \\frac{y_2 - y_1}{x_2 - x_1}$"
   ]
  },
  {
   "cell_type": "markdown",
   "metadata": {},
   "source": [
    "### Math it up"
   ]
  },
  {
   "cell_type": "markdown",
   "metadata": {},
   "source": [
    "Now when we calculated that the rate of change of our jogger is 3 miles per hour.  We really calculated the derivative.  The derivative is just the rate of change.  Of course, we know that in math we express our functions as the following: \n",
    "\n",
    "$$f(x) = 3x $$"
   ]
  },
  {
   "cell_type": "markdown",
   "metadata": {},
   "source": [
    "![](./fxderivative.png)"
   ]
  },
  {
   "cell_type": "markdown",
   "metadata": {},
   "source": [
    "Now let's our derivative in terms of a function $f(x)$: \n",
    "\n",
    "So previously we had: \n",
    "\n",
    "* rate of change $= \\frac{rise}{run} = \\frac{\\Delta y}{\\Delta x} = \\frac{y_2 - y_1}{x_2 - x_1}$\n",
    "\n",
    "And now we have \n",
    "* derivative = rate of change $= \\frac{rise}{run} = \\frac{\\Delta f}{\\Delta x} = \\frac{f(x_2) - f(x_1)}{x_2 - x_1}$"
   ]
  },
  {
   "cell_type": "markdown",
   "metadata": {},
   "source": [
    "So instead of $y$, we are using $f(x)$ or $f$ for short.  In the equation far to the right, you see that we replaced $y_2 - y1$ with $f(x_2) - f(x_1)$.  This makes sense, because really when we say $y_2$ and $y_1$, we mean the function's output at the first x value and the function's output at the second x value.  \n",
    "\n",
    "Ok, now we can also express this derivative in terms of delta x.  Here it is: \n",
    "\n",
    "derivative = $\\frac{\\Delta f}{\\Delta x} = \\frac{f(x_1 + \\Delta x) - f(x_1)}{\\Delta x} $"
   ]
  },
  {
   "cell_type": "markdown",
   "metadata": {},
   "source": [
    "How does that make any sense?\n",
    "\n",
    "Well let's go back to our example again.  Looking at the graph below, our claim is we can calculate the derivative through the formula: \n",
    "\n",
    "$$ derivative =  \\frac{\\Delta y}{\\Delta x} = \\frac{y_2 - y_1}{x_2 - x_1} = \\frac{f(x_1 + \\Delta x) - f(x_1)}{\\Delta x} $$\n",
    "\n",
    "Below we see that : \n",
    "  * $\\Delta x = x_2 - x_1 = 2 - 1 =  1$.\n",
    "  \n",
    "And we see that $y_2 = f(x_1 + \\Delta x)$ as:\n",
    "\n",
    "* $y_2 = f(1 + \\Delta x) = f(1 + 1) = f(2) = 6 $"
   ]
  },
  {
   "cell_type": "markdown",
   "metadata": {},
   "source": [
    "![](./fxderivative.png)"
   ]
  },
  {
   "cell_type": "markdown",
   "metadata": {},
   "source": [
    "So our formula in terms of $ \\Delta x$ holds: \n",
    "\n",
    "$$\\frac{f(x_1 + \\Delta x) - f(x_1)}{\\Delta x} $$"
   ]
  },
  {
   "cell_type": "markdown",
   "metadata": {},
   "source": [
    "The derivative equals the change in output as we change x, divided by our change in x itself."
   ]
  },
  {
   "cell_type": "markdown",
   "metadata": {},
   "source": [
    "### Summary "
   ]
  },
  {
   "cell_type": "markdown",
   "metadata": {},
   "source": [
    "In this lesson, we saw that the derivative is the change in output per a change in input.  So in the case of our jogger, with out input being time, we see that the derivative is the change in the runner's location (distance travelled) divided by the amount of time passed.\n",
    "\n",
    "A lot of the tricky parts of derivatives is the mechanisms of expressing it.  Graphically, we see that the derivative is simply the rise over run or \n",
    "\n",
    "$$ derivative = \\frac{y_2 - y_1}{x_2 - x_1} $$\n",
    "\n",
    "Then we saw that we can express the derivative in terms of $f(x)$ as in:\n",
    "\n",
    "$$ derivative = \\frac{f(x_2) - f(x_1)}{x_2 - x_1} $$\n",
    "\n",
    "And finally we saw how we can express the derivative in terms of $\\Delta x$ as in:\n",
    "\n",
    "$$ derivative = \\frac{f(x_1 + \\Delta x) - f(x_1)}{\\Delta x} $$\n",
    "\n",
    "\n",
    "The tricky part of this is: $f(x_1 + \\Delta x)$.  But remember, this equals $f(x_2)$, as to calculate $x_2$ we can start at $x_1$ add our $\\Delta x$ to see the output at this value of $x_1 + \\Delta x$.  So we can still read this equation of the derivative as the change in a function's output per a change in it's input."
   ]
  },
  {
   "cell_type": "markdown",
   "metadata": {},
   "source": [
    "The rate of change is simply the distance travelled in y, or $y_2 - y_1$, divided by the distance travelled in x, or $x_2 - x_1$.  Let's refer to the distance travelled in x as $\\Delta x$, pronounced delta x, and the distance travelled in y as $\\Delta y$, pronounced delta y.  \n",
    "\n",
    "So we have:"
   ]
  },
  {
   "cell_type": "markdown",
   "metadata": {},
   "source": [
    "rate of change $ = \\frac{rise}{run} = \\frac{\\Delta y}{\\Delta x} = \\frac{y_2 - y_1}{x_2 - x_1}$"
   ]
  },
  {
   "cell_type": "markdown",
   "metadata": {},
   "source": []
  },
  {
   "cell_type": "markdown",
   "metadata": {},
   "source": []
  },
  {
   "cell_type": "markdown",
   "metadata": {},
   "source": [
    "import pdb\n",
    "three_x = [(3, 1)]\n",
    "\n",
    "from graph import build_layout\n",
    "three_x_trace  = trace_values(x_values, y_values, mode = 'line')\n",
    "\n",
    "delta_x_trace_three_x = delta_x_trace(three_x, 1, 1)\n",
    "three_x_trace  = trace_values(x_values, y_values, mode = 'line')\n",
    "delta_f_trace_three_x = delta_f_trace(three_x, 1, 1)"
   ]
  },
  {
   "cell_type": "code",
   "execution_count": 5,
   "metadata": {
    "collapsed": true
   },
   "outputs": [],
   "source": [
    "\n",
    "\n",
    "\n",
    "layout = build_layout(x_axis = {'title': 'number of hours', 'range': [0, 5]}, y_axis = {'title': 'distance in miles', 'range': [0, 9]})\n",
    "plot([three_x_trace,delta_f_trace_three_x, delta_x_trace_three_x], layout)\n",
    "\n",
    "def trace_values(x_values, y_values, mode = 'markers', name=\"data\", text = [], options = {}):\n",
    "    trace = {'x': x_values, 'y': y_values, 'mode': mode, 'name': name, 'text': text}\n",
    "    trace.update(options)\n",
    "    return trace\n",
    "\n",
    "def term_output(term, x_value):\n",
    "    return term[0]*x_value**term[1]\n",
    "\n",
    "def output_at(list_of_terms, x_value):\n",
    "    outputs = list(map(lambda term: term_output(term, x_value), list_of_terms))\n",
    "    return sum(outputs)\n",
    "\n",
    "def delta_f(list_of_terms, x_value, h):\n",
    "    return output_at(list_of_terms, x_value + h) - output_at(list_of_terms, x_value)\n",
    "\n",
    "def delta_f_trace(list_of_terms, x_value, delta_x):\n",
    "    initial_f = output_at(list_of_terms, x_value)\n",
    "    delta_y = delta_f(list_of_terms, x_value, delta_x)\n",
    "    return trace_values(x_values=[x_value + delta_x, x_value + delta_x], y_values=[initial_f, initial_f + delta_y], text=[str(initial_f), str(initial_f + delta_y)], mode = 'lines+text', name = 'y2 - y1 = ' + str(initial_f + delta_y) + ' - '  + str(initial_f) + ' = ' + str(delta_y), options = {'textposition': 'right'})\n",
    "\n",
    "def delta_x_trace(list_of_terms, x_value, delta):\n",
    "    initial_f = output_at(list_of_terms, x_value)\n",
    "    return trace_values(x_values=[x_value, x_value + delta], text=[str(x_value), str(x_value + delta)], y_values=[initial_f, initial_f], mode = 'lines+text', name = 'x2 - x1 = ' + str(initial_f + delta) + ' - '  + str(initial_f) + ' = ' + str(delta), options = {'textposition': 'bottom'})"
   ]
  },
  {
   "cell_type": "code",
   "execution_count": 25,
   "metadata": {},
   "outputs": [
    {
     "data": {
      "text/html": [
       "<script>requirejs.config({paths: { 'plotly': ['https://cdn.plot.ly/plotly-latest.min']},});if(!window.Plotly) {{require(['plotly'],function(plotly) {window.Plotly=plotly;});}}</script>"
      ],
      "text/vnd.plotly.v1+html": [
       "<script>requirejs.config({paths: { 'plotly': ['https://cdn.plot.ly/plotly-latest.min']},});if(!window.Plotly) {{require(['plotly'],function(plotly) {window.Plotly=plotly;});}}</script>"
      ]
     },
     "metadata": {},
     "output_type": "display_data"
    },
    {
     "data": {
      "application/vnd.plotly.v1+json": {
       "data": [
        {
         "mode": "line",
         "name": "data",
         "text": [],
         "x": [
          0,
          1,
          2,
          3,
          4,
          5,
          6,
          7,
          8,
          9
         ],
         "y": [
          0,
          3,
          6,
          9,
          12,
          15,
          18,
          21,
          24,
          27
         ]
        },
        {
         "mode": "lines+text",
         "name": "y2 - y1 = 6 - 3 = 3",
         "text": [
          "3",
          "6"
         ],
         "textposition": "right",
         "x": [
          2,
          2
         ],
         "y": [
          3,
          6
         ]
        },
        {
         "mode": "lines+text",
         "name": "x2 - x1 = 4 - 3 = 1",
         "text": [
          "1",
          "2"
         ],
         "textposition": "bottom",
         "x": [
          1,
          2
         ],
         "y": [
          3,
          3
         ]
        }
       ],
       "layout": {
        "title": "f(x) = 3x",
        "xaxis": {
         "range": [
          0,
          5
         ]
        },
        "yaxis": {
         "range": [
          0,
          9
         ]
        }
       }
      },
      "text/html": [
       "<div id=\"48af13ac-a484-46b6-a04f-d5060a35aedb\" style=\"height: 525px; width: 100%;\" class=\"plotly-graph-div\"></div><script type=\"text/javascript\">require([\"plotly\"], function(Plotly) { window.PLOTLYENV=window.PLOTLYENV || {};window.PLOTLYENV.BASE_URL=\"https://plot.ly\";Plotly.newPlot(\"48af13ac-a484-46b6-a04f-d5060a35aedb\", [{\"x\": [0, 1, 2, 3, 4, 5, 6, 7, 8, 9], \"y\": [0, 3, 6, 9, 12, 15, 18, 21, 24, 27], \"mode\": \"line\", \"name\": \"data\", \"text\": []}, {\"x\": [2, 2], \"y\": [3, 6], \"mode\": \"lines+text\", \"name\": \"y2 - y1 = 6 - 3 = 3\", \"text\": [\"3\", \"6\"], \"textposition\": \"right\"}, {\"x\": [1, 2], \"y\": [3, 3], \"mode\": \"lines+text\", \"name\": \"x2 - x1 = 4 - 3 = 1\", \"text\": [\"1\", \"2\"], \"textposition\": \"bottom\"}], {\"xaxis\": {\"range\": [0, 5]}, \"yaxis\": {\"range\": [0, 9]}, \"title\": \"f(x) = 3x\"}, {\"showLink\": true, \"linkText\": \"Export to plot.ly\"})});</script>"
      ],
      "text/vnd.plotly.v1+html": [
       "<div id=\"48af13ac-a484-46b6-a04f-d5060a35aedb\" style=\"height: 525px; width: 100%;\" class=\"plotly-graph-div\"></div><script type=\"text/javascript\">require([\"plotly\"], function(Plotly) { window.PLOTLYENV=window.PLOTLYENV || {};window.PLOTLYENV.BASE_URL=\"https://plot.ly\";Plotly.newPlot(\"48af13ac-a484-46b6-a04f-d5060a35aedb\", [{\"x\": [0, 1, 2, 3, 4, 5, 6, 7, 8, 9], \"y\": [0, 3, 6, 9, 12, 15, 18, 21, 24, 27], \"mode\": \"line\", \"name\": \"data\", \"text\": []}, {\"x\": [2, 2], \"y\": [3, 6], \"mode\": \"lines+text\", \"name\": \"y2 - y1 = 6 - 3 = 3\", \"text\": [\"3\", \"6\"], \"textposition\": \"right\"}, {\"x\": [1, 2], \"y\": [3, 3], \"mode\": \"lines+text\", \"name\": \"x2 - x1 = 4 - 3 = 1\", \"text\": [\"1\", \"2\"], \"textposition\": \"bottom\"}], {\"xaxis\": {\"range\": [0, 5]}, \"yaxis\": {\"range\": [0, 9]}, \"title\": \"f(x) = 3x\"}, {\"showLink\": true, \"linkText\": \"Export to plot.ly\"})});</script>"
      ]
     },
     "metadata": {},
     "output_type": "display_data"
    }
   ],
   "source": [
    "import plotly\n",
    "from plotly.offline import iplot, init_notebook_mode\n",
    "init_notebook_mode(connected=True)\n",
    "\n",
    "from graph import plot\n",
    "\n",
    "\n",
    "\n",
    "x_values = list(range(0, 10, 1))\n",
    "y_values = list(map(lambda x: 3*x,x_values))\n",
    "delta_f_trace_three_x = delta_f_trace(three_x, 1, 1)\n",
    "delta_x_trace_three_x = delta_x_trace(three_x, 1, 1)\n",
    "three_x_trace  = trace_values(x_values, y_values, mode = 'line')\n",
    "layout = build_layout(x_axis = {'range': [0, 5]}, y_axis = {'range': [0, 9]}, options = {'title': 'f(x) = 3x'})\n",
    "plot([three_x_trace, delta_f_trace_three_x, delta_x_trace_three_x], layout)"
   ]
  },
  {
   "cell_type": "code",
   "execution_count": 15,
   "metadata": {},
   "outputs": [
    {
     "data": {
      "application/vnd.plotly.v1+json": {
       "data": [
        {
         "mode": "line",
         "name": "data",
         "text": [],
         "x": [
          0,
          1,
          2,
          3,
          4,
          5,
          6,
          7,
          8,
          9
         ],
         "y": [
          0,
          3,
          6,
          9,
          12,
          15,
          18,
          21,
          24,
          27
         ]
        }
       ],
       "layout": {
        "xaxis": {
         "range": [
          0,
          5
         ],
         "title": "number of hours"
        },
        "yaxis": {
         "range": [
          0,
          9
         ],
         "title": "distance in miles"
        }
       }
      },
      "text/html": [
       "<div id=\"4a51f048-73e6-4af9-bed3-7a9699e4def6\" style=\"height: 525px; width: 100%;\" class=\"plotly-graph-div\"></div><script type=\"text/javascript\">require([\"plotly\"], function(Plotly) { window.PLOTLYENV=window.PLOTLYENV || {};window.PLOTLYENV.BASE_URL=\"https://plot.ly\";Plotly.newPlot(\"4a51f048-73e6-4af9-bed3-7a9699e4def6\", [{\"x\": [0, 1, 2, 3, 4, 5, 6, 7, 8, 9], \"y\": [0, 3, 6, 9, 12, 15, 18, 21, 24, 27], \"mode\": \"line\", \"name\": \"data\", \"text\": []}], {\"xaxis\": {\"title\": \"number of hours\", \"range\": [0, 5]}, \"yaxis\": {\"title\": \"distance in miles\", \"range\": [0, 9]}}, {\"showLink\": true, \"linkText\": \"Export to plot.ly\"})});</script>"
      ],
      "text/vnd.plotly.v1+html": [
       "<div id=\"4a51f048-73e6-4af9-bed3-7a9699e4def6\" style=\"height: 525px; width: 100%;\" class=\"plotly-graph-div\"></div><script type=\"text/javascript\">require([\"plotly\"], function(Plotly) { window.PLOTLYENV=window.PLOTLYENV || {};window.PLOTLYENV.BASE_URL=\"https://plot.ly\";Plotly.newPlot(\"4a51f048-73e6-4af9-bed3-7a9699e4def6\", [{\"x\": [0, 1, 2, 3, 4, 5, 6, 7, 8, 9], \"y\": [0, 3, 6, 9, 12, 15, 18, 21, 24, 27], \"mode\": \"line\", \"name\": \"data\", \"text\": []}], {\"xaxis\": {\"title\": \"number of hours\", \"range\": [0, 5]}, \"yaxis\": {\"title\": \"distance in miles\", \"range\": [0, 9]}}, {\"showLink\": true, \"linkText\": \"Export to plot.ly\"})});</script>"
      ]
     },
     "metadata": {},
     "output_type": "display_data"
    }
   ],
   "source": [
    "from graph import build_layout\n",
    "three_x_trace  = trace_values(x_values, y_values, mode = 'line')\n",
    "\n",
    "delta_x_trace_three_x = delta_x_trace(three_x, 4, 2)\n",
    "three_x_trace  = trace_values(x_values, y_values, mode = 'line')\n",
    "\n",
    "\n",
    "layout = build_layout(x_axis = {'title': 'number of hours', 'range': [0, 5]}, y_axis = {'title': 'distance in miles', 'range': [0, 9]})\n",
    "plot([three_x_trace], layout)"
   ]
  },
  {
   "cell_type": "code",
   "execution_count": 21,
   "metadata": {},
   "outputs": [
    {
     "data": {
      "application/vnd.plotly.v1+json": {
       "data": [
        {
         "mode": "line",
         "name": "data",
         "text": [],
         "x": [
          0,
          1,
          2,
          3,
          4,
          5,
          6,
          7,
          8,
          9
         ],
         "y": [
          0,
          3,
          6,
          9,
          12,
          15,
          18,
          21,
          24,
          27
         ]
        },
        {
         "mode": "lines+text",
         "name": "y2 - y1 = 6 - 3 = 3",
         "text": [
          "3",
          "6"
         ],
         "textposition": "right",
         "x": [
          2,
          2
         ],
         "y": [
          3,
          6
         ]
        },
        {
         "mode": "lines+text",
         "name": "x2 - x1 = 4 - 3 = 1",
         "text": [
          "1",
          "2"
         ],
         "textposition": "bottom",
         "x": [
          1,
          2
         ],
         "y": [
          3,
          3
         ]
        }
       ],
       "layout": {
        "xaxis": {
         "range": [
          0,
          5
         ],
         "title": "number of hours"
        },
        "yaxis": {
         "range": [
          0,
          9
         ],
         "title": "distance in miles"
        }
       }
      },
      "text/html": [
       "<div id=\"b76a6e8d-127a-425b-8dbf-a638175b1fe8\" style=\"height: 525px; width: 100%;\" class=\"plotly-graph-div\"></div><script type=\"text/javascript\">require([\"plotly\"], function(Plotly) { window.PLOTLYENV=window.PLOTLYENV || {};window.PLOTLYENV.BASE_URL=\"https://plot.ly\";Plotly.newPlot(\"b76a6e8d-127a-425b-8dbf-a638175b1fe8\", [{\"x\": [0, 1, 2, 3, 4, 5, 6, 7, 8, 9], \"y\": [0, 3, 6, 9, 12, 15, 18, 21, 24, 27], \"mode\": \"line\", \"name\": \"data\", \"text\": []}, {\"x\": [2, 2], \"y\": [3, 6], \"mode\": \"lines+text\", \"name\": \"y2 - y1 = 6 - 3 = 3\", \"text\": [\"3\", \"6\"], \"textposition\": \"right\"}, {\"x\": [1, 2], \"y\": [3, 3], \"mode\": \"lines+text\", \"name\": \"x2 - x1 = 4 - 3 = 1\", \"text\": [\"1\", \"2\"], \"textposition\": \"bottom\"}], {\"xaxis\": {\"title\": \"number of hours\", \"range\": [0, 5]}, \"yaxis\": {\"title\": \"distance in miles\", \"range\": [0, 9]}}, {\"showLink\": true, \"linkText\": \"Export to plot.ly\"})});</script>"
      ],
      "text/vnd.plotly.v1+html": [
       "<div id=\"b76a6e8d-127a-425b-8dbf-a638175b1fe8\" style=\"height: 525px; width: 100%;\" class=\"plotly-graph-div\"></div><script type=\"text/javascript\">require([\"plotly\"], function(Plotly) { window.PLOTLYENV=window.PLOTLYENV || {};window.PLOTLYENV.BASE_URL=\"https://plot.ly\";Plotly.newPlot(\"b76a6e8d-127a-425b-8dbf-a638175b1fe8\", [{\"x\": [0, 1, 2, 3, 4, 5, 6, 7, 8, 9], \"y\": [0, 3, 6, 9, 12, 15, 18, 21, 24, 27], \"mode\": \"line\", \"name\": \"data\", \"text\": []}, {\"x\": [2, 2], \"y\": [3, 6], \"mode\": \"lines+text\", \"name\": \"y2 - y1 = 6 - 3 = 3\", \"text\": [\"3\", \"6\"], \"textposition\": \"right\"}, {\"x\": [1, 2], \"y\": [3, 3], \"mode\": \"lines+text\", \"name\": \"x2 - x1 = 4 - 3 = 1\", \"text\": [\"1\", \"2\"], \"textposition\": \"bottom\"}], {\"xaxis\": {\"title\": \"number of hours\", \"range\": [0, 5]}, \"yaxis\": {\"title\": \"distance in miles\", \"range\": [0, 9]}}, {\"showLink\": true, \"linkText\": \"Export to plot.ly\"})});</script>"
      ]
     },
     "metadata": {},
     "output_type": "display_data"
    }
   ],
   "source": [
    "from graph import build_layout\n",
    "three_x_trace  = trace_values(x_values, y_values, mode = 'line')\n",
    "\n",
    "delta_x_trace_three_x = delta_x_trace(three_x, 1, 1)\n",
    "three_x_trace  = trace_values(x_values, y_values, mode = 'line')\n",
    "delta_f_trace_three_x = delta_f_trace(three_x, 1, 1)\n",
    "\n",
    "\n",
    "layout = build_layout(x_axis = {'title': 'number of hours', 'range': [0, 5]}, y_axis = {'title': 'distance in miles', 'range': [0, 9]})\n",
    "plot([three_x_trace,delta_f_trace_three_x, delta_x_trace_three_x], layout)\n",
    "\n"
   ]
  },
  {
   "cell_type": "code",
   "execution_count": 8,
   "metadata": {},
   "outputs": [
    {
     "data": {
      "text/plain": [
       "[(3, 1)]"
      ]
     },
     "execution_count": 8,
     "metadata": {},
     "output_type": "execute_result"
    }
   ],
   "source": [
    "from graph import build_layout\n",
    "three_x_trace  = trace_values(x_values, y_values, mode = 'line')\n",
    "layout = build_layout(x_axis = {'title': 'number of hours', 'range': [0, 6]}, y_axis = {'title': 'distance in miles', 'range': [0, 6]})\n",
    "plot([three_x_trace], layout)"
   ]
  },
  {
   "cell_type": "markdown",
   "metadata": {},
   "source": [
    "The slope of a line tangent to the function is called the derivative.  \n",
    "* Or equivalently, the **derivative** is defined as the instantaneous rate of change of a function.  \n",
    "\n",
    "This makes sense.  The  more our function changes a specific point, the larger the magnitude of the slope at that point.\n",
    "\n",
    "> ** What's magnitude?** For these purposes, magnitude describes the absolute value of a number.  We use the word because it's not accurate to say that -100 is larger than -99.  After all, -100 is more negative and thus *smaller* than -99.  But it is correct to say that the magnitude of -100 is larger than the magnitude of -99, as absolute value of -100 equals 100 and the absolute value of -99 is 99.   \n",
    "\n",
    "So a derivative answers questions about change.  If you look at our blue curve above, the various slopes indicate how much our output is changing (in this case, our RSS) as we increase our input (here, our value of $b$).  At the point $b = 70$, the cost curve decreases a lot.  At the point, $b = 90$ the cost curve is still decreasing, but significantly less.  \n",
    "* Thus at both $b = 90$ and $b = 70$ the derivative is negative as the change to cost is downward.  \n",
    "* But the magnitude of change at the two points varies: when $b = 70 $, the derivative is -146.17 and when $b = 90$ the derivative is -21.07."
   ]
  },
  {
   "cell_type": "markdown",
   "metadata": {},
   "source": [
    "Ok, so the derivative of a function is the rate of change of a function.  But how do we calculate the rate of change of a function?"
   ]
  },
  {
   "cell_type": "markdown",
   "metadata": {},
   "source": [
    "### Calculating the derivative"
   ]
  },
  {
   "cell_type": "markdown",
   "metadata": {},
   "source": [
    "Remember that $f(3)$ means to evaluate the function when $x = 3$.  Well $f'(3)$ means (read as f prime of 3) means to evaluate *the derivative* of the function when $x$ equals $3$.  Or to put it another way, evaluate the instantaneous rate of change of a function when $x$ equals $3$.  Or to put it yet another way, evaluate the slope of the tangent line of the function when $x = 3$.  We do that by writing $f'(3)$."
   ]
  },
  {
   "cell_type": "markdown",
   "metadata": {},
   "source": [
    "Ok, so now how do we calculate the instantaneous rate of change of our function, $f(x) = 3*x$?  First, let's see that function graphically. "
   ]
  },
  {
   "cell_type": "markdown",
   "metadata": {},
   "source": [
    "![](./straight-line.png)"
   ]
  },
  {
   "cell_type": "markdown",
   "metadata": {},
   "source": [
    "Ok to measure $f'(3)$ we are measuring the rate of change at $f(3)$.  \n",
    "\n",
    "The way we can calculate the rate of change at $f(3)$ is to see the output at $f(3)$, and then increase our value of $x$ to $x = 5$, and evaluate $f(5)$.  Now we see how large the change in output was over that amount.  The rate of change is simply our change in output divided by the change in output. \n",
    "\n",
    "To translate this to math we can express this as: \n",
    "\n",
    "$$f'(3) = \\frac{f(5) - f(3)}{5 - 3}$$\n",
    "\n",
    "Now we can solve this function by plugging in values for our function, $f(x) = 3*x$ where x = 5 and x = 3.  So we have:\n",
    "\n",
    "$$f(5) = 3*5 $$\n",
    "\n",
    "$$f(3) = 3*3 $$\n",
    "\n",
    "So:\n",
    "\n",
    "$$ f'(3) = \\frac{f(5) - f(3)}{5 - 3} = \\frac {15 - 9}{5 - 3} = \\frac{6}{2} = 3$$"
   ]
  },
  {
   "cell_type": "markdown",
   "metadata": {},
   "source": [
    "If you think about it, it makes sense that the rate of change of a function $f(x) = 3x $ is 3.  For every unit of $x$ that we increase, the output, $f(x)$ increases by 3.  Looking at our line again, we can see this graphically.  Regardless of where we are evaluating the slope of the tangent line, for this function, that slope is always 3."
   ]
  },
  {
   "cell_type": "markdown",
   "metadata": {},
   "source": [
    "![](./straight-line-tangent.png)"
   ]
  },
  {
   "cell_type": "markdown",
   "metadata": {},
   "source": [
    "So that's how we calculate the derivative.  Derivative is simply the rate of change.  In the graph above our rate of change is always the same -- it's constant.  For every change one unit change in $x$, our output is changing by 3.  Our rate of change is 3.  "
   ]
  },
  {
   "cell_type": "markdown",
   "metadata": {},
   "source": [
    "### The Derivative mathematically \n",
    "Expressed mathematically, our formula for calculating the derivative looks like this:\n",
    "\n",
    "$$ f'(x) = \\frac{f(x + h) - f(x)}{h}$$ \n",
    "\n",
    "Take some time to take in this formula.  It's not going away.  This formula encapsulates our earlier approach. In our above approach, we let $h = 2$.  Then we calculated $$f'(3) = \\frac{f(3 + h) - f(3)}{h} =  \\frac{f(3 + 2) - f(3)}{2} = \\frac{f(5) - f(3)}{2} = \\frac{15 - 9}{2} = 3$$  \n",
    "\n",
    "Another word for $h$ is delta, or $\\Delta $ or $\\Delta x $.  Delta just means change.  We say $\\Delta x $ because that is what we are changing, $x$.  Similarly, the change in output is sometimes expressed as $\\Delta f $.  So another way of writing our function is: \n",
    "\n",
    "$$ f'(x) = \\frac{\\Delta f}{\\Delta x}$$\n",
    "\n",
    "The derivative of a function $f(x)$ is the change in the output divided by the change in the input, $x$."
   ]
  },
  {
   "cell_type": "markdown",
   "metadata": {},
   "source": [
    "### Derivatives of non-linear functions"
   ]
  },
  {
   "cell_type": "markdown",
   "metadata": {},
   "source": [
    "So we saw previously that the derivative is the rate of change of our function.  We express this as $ f'(x) = \\frac{\\Delta f}{\\Delta x}$. "
   ]
  },
  {
   "cell_type": "markdown",
   "metadata": {},
   "source": [
    "Things becomes trickier when working with more complicated functions.  And we will run into these functions.  For example, let's consider how to take the derivative of something resembles our cost curve.  \n",
    "> After all, figuring out the slope at a given point of a cost curve is what led us here."
   ]
  },
  {
   "cell_type": "markdown",
   "metadata": {},
   "source": [
    "![](./fake-cost-curve.png)"
   ]
  },
  {
   "cell_type": "markdown",
   "metadata": {},
   "source": [
    "This is the graph of the function $f(x) = (300*x - 300)^2 $.  How do we take the derivative when our function looks like this? Let's start by using our earlier technique to calculate the derivative at the point $x = 0$.  \n",
    "\n",
    "> So we evaluate $f(0)$ and we evaluate our function at a little more than zero, say $f(1)$, so we let $h = 1$.  Ok let's do it!\n",
    "\n",
    "$$ f'(x) = \\frac{f(x + h) - f(x)}{h} $$ \n",
    "\n",
    "$$ f'(0) = \\frac{f(0 + h) - f(0)}{h} $$ \n",
    "\n",
    "$$ f'(0) = \\frac{f(0 + 1) - f(0)}{1} = \\frac{f(1) - f(0)}{1}$$ \n",
    "\n",
    "Now let's calculate $f(0)$ and $f(1)$ and plug in the values."
   ]
  },
  {
   "cell_type": "markdown",
   "metadata": {},
   "source": [
    "$$f(0) = (300*0 - 300)^2 = (-300)^2 =  90,000 $$\n",
    "\n",
    "$$f(1) = (300*1 - 300)^2 = 0^2 = 0 $$\n",
    "\n",
    "$$f'(0) = \\frac{0 - 90,000}{1- 0} = -90,000 $$"
   ]
  },
  {
   "cell_type": "markdown",
   "metadata": {},
   "source": [
    "Ok, sweet!  Now let's show a line with this slope where $x = 0$."
   ]
  },
  {
   "cell_type": "markdown",
   "metadata": {},
   "source": [
    "![](./curve-tangent-d1.png)"
   ]
  },
  {
   "cell_type": "markdown",
   "metadata": {},
   "source": [
    "Take a close look at the straight line in the graph above.  That straight line is a supposed to have the same slope as the blue curve at the point $x = 0$.  After all, we calculated the derivative at that point, and that gave us a slope of -90,000, yet that doesn't seem to be matching the slope of the curve at that value of $x = 0$.\n",
    "\n",
    "The slope of the straight line should be pointing more downwards, so that our *tangent* line is just touching.  Where did we go wrong?  Let's take another look at our calculation of the derivative. \n",
    "\n",
    "$$f(0) = (300*0 - 300)^2 = (-300)^2 =  90,000 $$\n",
    "\n",
    "$$f(1) = (300*1 - 300)^2 = 0^2 = 0 $$\n",
    "\n",
    "$$f'(0) = \\frac{0 - 90,000}{1- 0} = -90,000 $$\n",
    "\n",
    "The problem is that if we calculate change in our output divided by the change in our input, and we set $h = 1$, then we are really calculating the rate of change of the function from zero to one.  \n",
    "\n",
    "\n",
    "\n"
   ]
  },
  {
   "cell_type": "markdown",
   "metadata": {},
   "source": [
    "But what we **want** to do is calculate the rate of change at just that point $x = 0$, after all we want the *instantanous* rate of change - and that is a different matter.  So we can't just calculate our change by checking once, then waiting and checking again later.  Our derivative means we are calculating how fast a function is changing at any given moment, and precisely at that moment.  And unlike in our function of the line $y = 3x $, here the amount that $y$ decreases or increases is always changing.  The larger our value of $h$, the less our derivative reflects the rate of change at just that point. \n",
    "\n",
    "So what we need to do is decrease our value of $h$ to such a small number that it is zero.  But it's ludicrous to calculate the amount of change in an output when the change in our input is zero.  When change in our input is zero, it means there is no change.  How can we calculate rate of change at precisely one spot on a curve?  There's no change at all at just one point.  Change happens across multiple points.\n",
    "\n",
    "So how do we calculate the rate of change of our function across no change in input?  We use our imagination.  Really.  We calculate the derivative with a $\\Delta $ of .1, then calculate it again with a $\\Delta $ of .01, then again with $\\Delta $ .001.  Our derivative calculation should show convergance on a single number as our $\\Delta $ approaches zero and that number is our derivative.  \n",
    "\n",
    "** That is, the derivative of a function is a change in the function's output as h, that is $\\Delta x $,  approaches zero **.    "
   ]
  },
  {
   "cell_type": "markdown",
   "metadata": {},
   "source": [
    "When $\\Delta x = 1$ "
   ]
  },
  {
   "cell_type": "markdown",
   "metadata": {},
   "source": [
    "![](./curve-tangent-d1.png)"
   ]
  },
  {
   "cell_type": "markdown",
   "metadata": {},
   "source": [
    "When $\\Delta x = .1$ "
   ]
  },
  {
   "cell_type": "markdown",
   "metadata": {},
   "source": [
    "![](./curve-tangent-pt1.png)"
   ]
  },
  {
   "cell_type": "markdown",
   "metadata": {},
   "source": [
    "When $\\Delta x = .01$ "
   ]
  },
  {
   "cell_type": "markdown",
   "metadata": {},
   "source": [
    "![](./curve-tangent-pt01.png)"
   ]
  },
  {
   "cell_type": "markdown",
   "metadata": {},
   "source": [
    "Notice that our curves approach being tangent to the line as we decrease $\\Delta x$.  In addition, our slopes converge to one number.  In fact, by decreasing $\\Delta x$ we can see a fairly clear pattern.\n",
    "\n",
    "| $ \\Delta x $        | $ \\Delta y/\\Delta x $|\n",
    "| ------------- |:-------------:|\n",
    "| .1      | -171,000      |\n",
    "| .01 | -179,100     |\n",
    "| .001 | -179,910      |\n",
    "| .0001 | -179,991      |\n"
   ]
  },
  {
   "cell_type": "markdown",
   "metadata": {},
   "source": [
    "As you can see, as $\\Delta x $ approaches zero, $f'(x) $ approaches $ -180,000 $.  This convergance around one number as we change another number, is the **limit **.  So to describe the above, we would say, at the point $x = 0 $, the limit of $\\Delta y \\div \\Delta x $ -- that is the number $\\Delta y \\div \\Delta x $ approaches -- as  $ \\Delta x $ approaches zero is -180,000.  We can abbreviate this into the following expression: "
   ]
  },
  {
   "cell_type": "markdown",
   "metadata": {},
   "source": [
    "When $x = 0,\\lim_{\\Delta x\\to0} \\Delta y / \\Delta x = -180,000  $.\n",
    "\n",
    "Or, better yet, we can update and correct our definition of derivative to equal:\n",
    "\n",
    "$$ f'(x) = \\lim_{ h\\to0} \\frac{f(x + h) - f(x)}{h} $$ \n",
    "\n",
    "So the derivative is the change in output as we *just nudge* our input.  That is what we mean by *instantaneous rate of change*.  So that is our real definition of a derivative, and you better not forget it."
   ]
  },
  {
   "cell_type": "markdown",
   "metadata": {},
   "source": [
    "![](./kris-kross.jpg)"
   ]
  },
  {
   "cell_type": "markdown",
   "metadata": {},
   "source": [
    "### Summary"
   ]
  },
  {
   "cell_type": "markdown",
   "metadata": {
    "collapsed": true
   },
   "source": [
    "In this section, we learned about derivatives.  A derivative is the instantaneous rate of change of a function.  To calculate the instantaneous rate of change of a function, we see the value that $\\frac{\\Delta y}{\\Delta x} $ approaches as $\\Delta x $ approaches zero.  This way, we are not calculating the rate of change of a function across a given distance, but rather are finding the rate of change instantaneously. "
   ]
  }
 ],
 "metadata": {
  "kernelspec": {
   "display_name": "Python 3",
   "language": "python",
   "name": "python3"
  },
  "language_info": {
   "codemirror_mode": {
    "name": "ipython",
    "version": 3
   },
   "file_extension": ".py",
   "mimetype": "text/x-python",
   "name": "python",
   "nbconvert_exporter": "python",
   "pygments_lexer": "ipython3",
   "version": "3.6.1"
  }
 },
 "nbformat": 4,
 "nbformat_minor": 2
}
