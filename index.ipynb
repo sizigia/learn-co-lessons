{
 "cells": [
  {
   "cell_type": "markdown",
   "metadata": {},
   "source": [
    "# Applying Nearest Neighbors "
   ]
  },
  {
   "cell_type": "markdown",
   "metadata": {},
   "source": [
    "### Introduction\n",
    "\n",
    "In the last lesson we derived the nearest neighbor formula.  Nearest neighbors is a powerful algorithm because it allows us to predict other attributes about people using their proximity data.  For example, those who live in a particular neighborhood may be more likely to be a certain age or have similar interests.  Using proximity, we might even be able to determine whether their likelihood to purchase a product approximates that of their neighbors.\n",
    "\n",
    "In this lesson we'll see how the nearest neighbors algorithm allows us to make predictions with data.  We will also look at the workflow for machine learning in general and see some of the common struggles that we experience when applying a machine learning algorithm. "
   ]
  },
  {
   "cell_type": "markdown",
   "metadata": {},
   "source": [
    "###  Learning Objectives"
   ]
  },
  {
   "cell_type": "markdown",
   "metadata": {},
   "source": [
    "* See the machine learning process of Collect, Explore, Train, and Predict \n",
    "* Use the nearest neighbors algorithm to predict other information about users\n",
    "* See common tensions with machine learning algorithms"
   ]
  },
  {
   "cell_type": "markdown",
   "metadata": {},
   "source": [
    "### Explore the data (again)"
   ]
  },
  {
   "cell_type": "markdown",
   "metadata": {},
   "source": [
    "Once again, here are the locations of Bob and our customers.  This time let's add a fourth column for the number of purchases per year.\n",
    "\n",
    "| Name | Avenue #| Block # | No. Purchases |\n",
    "|------|------| ------     |  \n",
    "| Bob    | 4  |     8     | 52\n",
    "| Suzie  | 1  |     11     | 70\n",
    "| Fred   | 5  |     8     | 60\n",
    "| Edgar  | 6  |     13     | 20\n",
    "| Steven | 3  |     6     | 32\n",
    "| Natalie| 5  |     4     | 45"
   ]
  },
  {
   "cell_type": "markdown",
   "metadata": {},
   "source": [
    "We represent these individuals along with their yearly purchases in Python with the following:"
   ]
  },
  {
   "cell_type": "code",
   "execution_count": null,
   "metadata": {},
   "outputs": [],
   "source": [
    "neighbors = [{'name': 'Bob', 'x': 4, 'y': 8, 'purchases': 52}, {'name': 'Suzie', 'x': 1, 'y': 11, 'purchases': 70}, \n",
    "             {'name': 'Fred', 'x': 5, 'y': 8, 'purchases': 60}, {'name': 'Edgar', 'x': 6, 'y': 13, 'purchases': 20},\n",
    "             {'name': 'Steven', 'x': 3, 'y': 6, 'purchases': 32}, {'name': 'Natalie', 'x': 5, 'y': 4, 'purchases': 45}]\n",
    "bob = neighbors[0]\n",
    "suzie = neighbors[1]"
   ]
  },
  {
   "cell_type": "code",
   "execution_count": null,
   "metadata": {},
   "outputs": [],
   "source": [
    "import plotly\n",
    "\n",
    "plotly.offline.init_notebook_mode(connected=True)\n",
    "trace0 = dict(x=list(map(lambda neighbor: neighbor['x'],neighbors)), \n",
    "              y=list(map(lambda neighbor: neighbor['y'],neighbors)),\n",
    "              text=list(map(lambda neighbor: neighbor['name'] + ': ' + str(neighbor['purchases']),neighbors)),\n",
    "              mode='markers')\n",
    "plotly.offline.iplot(dict(data=[trace0], layout={'xaxis': {'dtick': 1}, 'yaxis': {'dtick': 1}}))"
   ]
  },
  {
   "cell_type": "markdown",
   "metadata": {},
   "source": [
    "Just by looking at this data, aside from Suzie, it seems that the proximity of customers provides a good indication of the number of cupcake purchases per customer.  Assume that a new customer just purchased his first cupcake, and we want to develop some expectation for how many cupcakes he may purchase from us in the following year.  His location may help us determine the ingredients we need to buy to satisfy his demand.  Let's see what the nearest neighbors algorithm tells us."
   ]
  },
  {
   "cell_type": "markdown",
   "metadata": {},
   "source": [
    "### Apply our nearest neighbors algorithm"
   ]
  },
  {
   "cell_type": "markdown",
   "metadata": {},
   "source": [
    "Here is the nearest neighbors algorithm once again.  The code below reflects the following steps:\n",
    "\n",
    "1. Write a function to calculate the distance of one neighbor from another\n",
    "2. Write a function that returns the distance between one neighbor and all others (using `map`)\n",
    "3. Return a selected number of nearest neighbors"
   ]
  },
  {
   "cell_type": "markdown",
   "metadata": {},
   "source": [
    "Ok once again, here is the code."
   ]
  },
  {
   "cell_type": "code",
   "execution_count": null,
   "metadata": {},
   "outputs": [],
   "source": [
    "import math\n",
    "\n",
    "def distance(selected_individual, neighbor):\n",
    "   distance_squared = (neighbor['x'] - selected_individual['x'])**2 + (neighbor['y'] - selected_individual['y'])**2\n",
    "   return math.sqrt(distance_squared)\n",
    "\n",
    "def distance_between_neighbors(selected_individual, neighbor):\n",
    "    neighbor_with_distance = neighbor.copy()\n",
    "    neighbor_with_distance['distance'] = distance(selected_individual, neighbor)\n",
    "    return neighbor_with_distance\n",
    "\n",
    "def distance_all(selected_individual, neighbors):\n",
    "    remaining_neighbors = filter(lambda neighbor: neighbor != selected_individual, neighbors)\n",
    "    return list(map(lambda neighbor: distance_between_neighbors(selected_individual, neighbor), remaining_neighbors))"
   ]
  },
  {
   "cell_type": "code",
   "execution_count": null,
   "metadata": {},
   "outputs": [],
   "source": [
    "def nearest_neighbors(selected_individual, neighbors, number = None):\n",
    "    number = number or len(neighbors)\n",
    "    neighbor_distances = distance_all(selected_individual, neighbors)\n",
    "    sorted_neighbors = sorted(neighbor_distances, key=lambda neighbor: neighbor['distance'])\n",
    "    return sorted_neighbors[:number]"
   ]
  },
  {
   "cell_type": "code",
   "execution_count": null,
   "metadata": {
    "scrolled": false
   },
   "outputs": [],
   "source": [
    "bob = neighbors[0]\n",
    "nearest_neighbor_to_bob = nearest_neighbors(bob, neighbors, 1)\n",
    "nearest_neighbor_to_bob"
   ]
  },
  {
   "cell_type": "markdown",
   "metadata": {},
   "source": [
    "We try our `nearest_neighbors` function on a known piece of data, `bob`.  When we ask our function to return only the closest neighbor, it returns Fred and tells us his number of purchases.  Perhaps we can expect Bob's number of purchases to be similar to Fred's.  We also can apply the function to a customer at new location to predict this customer's number of purchases."
   ]
  },
  {
   "cell_type": "code",
   "execution_count": null,
   "metadata": {
    "scrolled": true
   },
   "outputs": [],
   "source": [
    "nearest_neighbor_to_new = nearest_neighbors({'x': 4, 'y': 3}, neighbors, 1)\n",
    "nearest_neighbor_to_new"
   ]
  },
  {
   "cell_type": "markdown",
   "metadata": {},
   "source": [
    "However, simply choosing the **nearest neighbor** seems like an arbitrary way to estimate number of purchases.  Our estimate is determined by just one individual's purchases.  We ought to expand the number of neighbors and take the average of their purchases to produce a better estimate for purchases by someone at this new location."
   ]
  },
  {
   "cell_type": "code",
   "execution_count": null,
   "metadata": {},
   "outputs": [],
   "source": [
    "nearest_three_neighbors = nearest_neighbors({'x': 4, 'y': 3}, neighbors, 3)\n",
    "nearest_three_neighbors"
   ]
  },
  {
   "cell_type": "code",
   "execution_count": null,
   "metadata": {},
   "outputs": [],
   "source": [
    "purchases = list(map(lambda neighbor: neighbor['purchases'],nearest_three_neighbors))\n",
    "average = sum(purchases)/len(purchases)\n",
    "average # 43.0"
   ]
  },
  {
   "cell_type": "markdown",
   "metadata": {},
   "source": [
    "### Choosing the number of neighbors"
   ]
  },
  {
   "cell_type": "markdown",
   "metadata": {},
   "source": [
    "In the above section, we use the nearest neighbors formula to make a prediction.  It's telling us that someone who lives on 4th street and 3rd Avenue is expected to purchase 45 cupcakes.  This approach is highly flawed since our algorithm's predictions change dramatically depending upon the number of neighbors we include in our formula.  The number of neighbors that we choose in the nearest neighbors algorithm is represented by `k`."
   ]
  },
  {
   "cell_type": "markdown",
   "metadata": {},
   "source": [
    "Choosing the correct number of neighbors to consider touches upon a number of themes in data science.  We'll introduce a few of these issues here, so we are aware of them as we visit other machine learning problems."
   ]
  },
  {
   "cell_type": "markdown",
   "metadata": {},
   "source": [
    "#### Underfitting\n",
    "\n",
    "**Underfitting** occurs when our formula does not pick up on the relevant signals from the data.  For example, if the number of neighbors we have is too large, our algorithm would improperly predict the purchases of our known customers, as it would fail to respond to differences in location."
   ]
  },
  {
   "cell_type": "markdown",
   "metadata": {},
   "source": [
    "#### Minimizing for error\n",
    "\n",
    "How do we determine the correct number for `k`, the number of neighbors to consider?  One way is to see how well our algorithm predicts against our existing data, then make the necessary changes.\n",
    "\n",
    "For instance, when we look at Bob's closest neighbor by setting `k = 1`, the nearest neighbor algorithm expects Bob to make 60 purchases. We already know that Bob actually purchased 52 cupcakes, so our formula is off by 8.  This number, our actual value minus the expected value, is called the **error**.  We can optimize the algorithm by adding all of the errors across all of the neighbors and selecting that `k` which minimizes this aggregate error for all of our data."
   ]
  },
  {
   "cell_type": "markdown",
   "metadata": {},
   "source": [
    "#### Training \n",
    "\n",
    "This approach of looking at our existing dataset to optimize for some metric, like the lowest error, is called **training**. In this example, we train our algorithm by choosing numbers of `k` such that our algorithm optimizes for predicting the number of purchases in our dataset."
   ]
  },
  {
   "cell_type": "markdown",
   "metadata": {},
   "source": [
    "#### Overfitting\n",
    "\n",
    "However, when training our algorithm to match our data, **overfitting** could become a problem.  Overfitting occurs when we overgeneralize from the data.  If we are served a bad meal at a chain restaurant, we could improperly conclude that all meals at the chain are bad.  The same thing can happen with our algorithm.\n",
    "\n",
    "Our algorithm can be optimized for and perform well with our existing data, but not do well with new data.  Imagine that we have one hundred cupcake customers and choosing a `k` of 2 best minimizes the error in predicting the number of purchases.  We could find later that, as we get new customers, our model does not predict their purchases.\n",
    "\n",
    "The algorithm could pick up on things particular to our existing data set, but fails to generalize to new data."
   ]
  },
  {
   "cell_type": "markdown",
   "metadata": {},
   "source": [
    "#### Testing "
   ]
  },
  {
   "cell_type": "markdown",
   "metadata": {},
   "source": [
    "To see whether the algorithm fits new data, we should test it with new data.  Data scientists cannot waste time waiting for new data to arrive, so they split their data in two: roughly 80 percent of the data for testing and 20 percent for training.  The training dataset is used for tweaking the algorithm, as we just saw, so that it minimizes the error or some other metric.  Once the algorithm is optimized, they study how well their algorithm performs on something it is not molded to, called test data.  If the algorithm performs well on this test data, it is ready for use and can make new predictions."
   ]
  },
  {
   "cell_type": "markdown",
   "metadata": {},
   "source": [
    "#### All together"
   ]
  },
  {
   "cell_type": "markdown",
   "metadata": {},
   "source": [
    "So these four concepts are all related.  Underfitting occurs when our algorithm is not responsive enough to our data, and therefore we can optimize our algorithm to better predict our existing data.  Changing our algorithm so it responds to our data is called **training**.  **Overfitting** is the risk of training the algorithm to an existing data set to the extent that it picks up on the quirks of the data and fails to generalize to new data.  To prevent against overfitting, data scientists set aside a portion of the data for **testing** to determine if the algorithm properly can predict on this portion of the data. "
   ]
  },
  {
   "cell_type": "markdown",
   "metadata": {},
   "source": [
    "### Summary"
   ]
  },
  {
   "cell_type": "markdown",
   "metadata": {},
   "source": [
    "In this lesson, we reviewed how to collect and explore data by implementing the Pythagorean Theorem and the sorting method to build our nearest neighbors algorithm.  We then learned how we could train the algorithm so that it can produce predictions about incoming data.\n"
   ]
  },
  {
   "cell_type": "markdown",
   "metadata": {},
   "source": [
    "As you can see, there is a very structured approach, and a lot of thought that goes into simply choosing the correct `k` size.  At this point, we need not be so formal when choosing our `k` value.  We'll learn in the next section that by choosing a correct `k`, we still can derive a nearest neighbors algorithm that is fairly predictive of our data."
   ]
  }
 ],
 "metadata": {
  "kernelspec": {
   "display_name": "Python 3",
   "language": "python",
   "name": "python3"
  },
  "language_info": {
   "codemirror_mode": {
    "name": "ipython",
    "version": 3
   },
   "file_extension": ".py",
   "mimetype": "text/x-python",
   "name": "python",
   "nbconvert_exporter": "python",
   "pygments_lexer": "ipython3",
   "version": "3.6.4"
  }
 },
 "nbformat": 4,
 "nbformat_minor": 2
}
