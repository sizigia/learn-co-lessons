{
 "cells": [
  {
   "cell_type": "markdown",
   "metadata": {
    "collapsed": true
   },
   "source": [
    "# From a spreadsheet to Python "
   ]
  },
  {
   "cell_type": "markdown",
   "metadata": {},
   "source": [
    "### Introduction"
   ]
  },
  {
   "cell_type": "markdown",
   "metadata": {},
   "source": [
    "Now that we know a little bit about lists, we can see how to take data that may currently exist in a different format, and move it into code where we practice our Python skills.  This lesson, is a little different in that the goal is more to show what's possible than to understand every line.  Instead the understanding we want, is that in just a few of Python, you can move data from a different format into Python. "
   ]
  },
  {
   "cell_type": "markdown",
   "metadata": {},
   "source": [
    "### Objectives"
   ]
  },
  {
   "cell_type": "markdown",
   "metadata": {},
   "source": [
    "* Understand how the list data structure aligns with data in non-programming contexts\n",
    "* See some of the steps involved in getting data from a different format and into code\n",
    "* Understand that once we have data in a list, we can operate on the data like any other Python list"
   ]
  },
  {
   "cell_type": "markdown",
   "metadata": {},
   "source": [
    "### From Google Sheet to Local File"
   ]
  },
  {
   "cell_type": "markdown",
   "metadata": {},
   "source": [
    "For example, here is [our list of travel locations](https://docs.google.com/spreadsheets/d/1t_bFXHBnuaWw--z-GzPlTfP_S3f5sHD_rDw6umHQY_8/edit?usp=sharing) in the form of a google document."
   ]
  },
  {
   "cell_type": "markdown",
   "metadata": {},
   "source": [
    "![](./travel-list.png)"
   ]
  },
  {
   "cell_type": "markdown",
   "metadata": {},
   "source": [
    "Now if we download this list in the form of an .xlsx file we can start to work with it."
   ]
  },
  {
   "cell_type": "markdown",
   "metadata": {},
   "source": [
    "![](./download-xls.png)"
   ]
  },
  {
   "cell_type": "markdown",
   "metadata": {},
   "source": [
    "So we move the downloaded `.xlsx` file from our Downloads folder to our `lists-lab` folder so that we know how to access it. "
   ]
  },
  {
   "cell_type": "markdown",
   "metadata": {},
   "source": [
    "![](./moving-file.png)"
   ]
  },
  {
   "cell_type": "markdown",
   "metadata": {},
   "source": [
    "As you can see,the `cities.xlsx` file is in the folder that has this lab.  "
   ]
  },
  {
   "cell_type": "markdown",
   "metadata": {},
   "source": [
    "![](./folder.png)"
   ]
  },
  {
   "cell_type": "markdown",
   "metadata": {},
   "source": [
    " And you can see that same file [in the github repository](https://github.com/learn-co-curriculum/python-lists-lab)."
   ]
  },
  {
   "cell_type": "markdown",
   "metadata": {},
   "source": [
    "### From Local File to Python "
   ]
  },
  {
   "cell_type": "markdown",
   "metadata": {},
   "source": [
    "Now that we have this file in the folder we are working with, we can get this data into Python code."
   ]
  },
  {
   "cell_type": "markdown",
   "metadata": {},
   "source": [
    "> ** Stay calm and bring a flashlight**: In the next gray box are six lines of code, and some comments. They go over some topics we did not cover yet.  So don't worry, this by the end of this unit you will understand all of this code.  For right now, it's fine to just have a slight sense of what's going on.  "
   ]
  },
  {
   "cell_type": "code",
   "execution_count": 33,
   "metadata": {},
   "outputs": [],
   "source": [
    "# Here we use a library, which is some code not part of standard Python, to this process easier \n",
    "import pandas\n",
    "# If we use the `import pandas` we have access to the pandas library \n",
    "\n",
    "file_name = './cities.xlsx'\n",
    "# here we set the variable file_name equal to a string\n",
    "\n",
    "# We assign file_name equal to './cities.xlsx' as the file is called cities.xlsx.  By saying './' we are saying \n",
    "# go to the current folder, lists-lab, and find the 'cities.xlsx' file there\n",
    "\n",
    "travel_df = pandas.read_excel(file_name)\n",
    "# here we use the pandas library to read our excel file\n",
    "\n",
    "# I don't even know what's going on after this (kidding).  Basically after reading the data from excel, pandas isn't\n",
    "# placing our data in precisely the format we want.  So in the next two lines, we get there.\n",
    "travel_data = travel_df.to_dict('records')\n",
    "cities = list(map(lambda city: city['City'] ,travel_data))\n",
    "# We'll cover these two lines again in a later section"
   ]
  },
  {
   "cell_type": "markdown",
   "metadata": {},
   "source": [
    "But look! That variable `cities` is full of cities from our spreadsheet."
   ]
  },
  {
   "cell_type": "code",
   "execution_count": 34,
   "metadata": {},
   "outputs": [
    {
     "data": {
      "text/plain": [
       "['Solta',\n",
       " 'Greenville',\n",
       " 'Buenos Aires',\n",
       " 'Los Cabos',\n",
       " 'Walla Walla Valley',\n",
       " 'Marakesh',\n",
       " 'Albuquerque',\n",
       " 'Archipelago Sea',\n",
       " 'Iguazu Falls',\n",
       " 'Salina Island',\n",
       " 'Toronto',\n",
       " 'Pyeongchang']"
      ]
     },
     "execution_count": 34,
     "metadata": {},
     "output_type": "execute_result"
    }
   ],
   "source": [
    "cities"
   ]
  },
  {
   "cell_type": "markdown",
   "metadata": {},
   "source": [
    "And we got there in five lines of code."
   ]
  },
  {
   "cell_type": "code",
   "execution_count": null,
   "metadata": {
    "collapsed": true
   },
   "outputs": [],
   "source": [
    "import pandas\n",
    "file_name = './cities.xlsx'\n",
    "travel_df = pandas.read_excel(file_name)\n",
    "travel_data = travel_df.to_dict('records')\n",
    "cities = list(map(lambda city: city['City'] ,travel_data))"
   ]
  },
  {
   "cell_type": "markdown",
   "metadata": {},
   "source": [
    "And now that we have data, we can operate on just like a normal list."
   ]
  },
  {
   "cell_type": "code",
   "execution_count": 35,
   "metadata": {},
   "outputs": [
    {
     "data": {
      "text/plain": [
       "'Pyeongchang'"
      ]
     },
     "execution_count": 35,
     "metadata": {},
     "output_type": "execute_result"
    }
   ],
   "source": [
    "cities[-1]"
   ]
  },
  {
   "cell_type": "markdown",
   "metadata": {},
   "source": [
    "### Summary"
   ]
  },
  {
   "cell_type": "markdown",
   "metadata": {
    "collapsed": true
   },
   "source": [
    "In this section we saw how to get our data from the outside world and into Python.  The purpose isn't to understand all of this code right now, but rather to see how easily we can start working with outside data.  As we become better at Python, the usefulness of taking data and operating on it in code rather than a spreadsheet will become more apparent.  But that doesn't mean we can't get step outside of Python sandbox now.  It's not too difficult to take some data we may already have, and begin to use it with Python.  In the next section, we'll use a lab to get data from excel and work with lists."
   ]
  }
 ],
 "metadata": {
  "kernelspec": {
   "display_name": "Python 3",
   "language": "python",
   "name": "python3"
  },
  "language_info": {
   "codemirror_mode": {
    "name": "ipython",
    "version": 3
   },
   "file_extension": ".py",
   "mimetype": "text/x-python",
   "name": "python",
   "nbconvert_exporter": "python",
   "pygments_lexer": "ipython3",
   "version": "3.6.1"
  }
 },
 "nbformat": 4,
 "nbformat_minor": 2
}
