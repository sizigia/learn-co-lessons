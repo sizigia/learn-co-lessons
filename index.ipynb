{
 "cells": [
  {
   "cell_type": "markdown",
   "metadata": {},
   "source": [
    "# Derivatives of straight lines"
   ]
  },
  {
   "cell_type": "markdown",
   "metadata": {},
   "source": [
    "### Learning objectives"
   ]
  },
  {
   "cell_type": "markdown",
   "metadata": {},
   "source": [
    "* Understand that derivatives are the instantaneous rate of change of a function\n",
    "* Understand how to calculate a derivative \n",
    "* Understand how to express taking a derivative at a given point, and evaluating a function at a given point mathematically"
   ]
  },
  {
   "cell_type": "markdown",
   "metadata": {},
   "source": [
    "### Introduction"
   ]
  },
  {
   "cell_type": "markdown",
   "metadata": {},
   "source": [
    "In the lesson discussing step sizes of our gradient descent algorithm, we filled in some more information on how to find \"best fit\" regression line with using gradient descent.  Namely, we learned how to more carefully change the y-intercept of the regression line to minimize the residual sum of squares.  \n",
    "\n",
    "We did this by calibrating the size and direction of of our change of a regression line parameter -- let's say $b$, our y intercept -- to the slope of the line tangent to the cost curve at that value of $b$. By tangent line, we mean a line that \"just touches\" our curve at a given point.  \n",
    "\n",
    "So below is a curve that shows the RSS of a regression line with different values of $b$.  Our orange, green, and red lines are each tangent to the curve at their respective points. "
   ]
  },
  {
   "cell_type": "markdown",
   "metadata": {},
   "source": [
    "![](./tangent-lines.png)"
   ]
  },
  {
   "cell_type": "markdown",
   "metadata": {},
   "source": [
    "With our gradient descent algorithm, the larger the absolute value of the slope, the larger the change in our regression line parameter -- that is, the larger our step size.  So we take a much larger step when our slope is -146.17 at $b = 70$ than we do when our slope equals -58.51 at $b = 85$.\n",
    "\n",
    "So here is what **we know so far:** \n",
    "* Our gradient descent technique depends on changing our values according to the slope of our cost curve\n",
    "\n",
    "Here is **what we do not know:**\n",
    "* How to find that slope or rate of change of a function at a given point.  \n",
    "\n",
    "In this lesson, we'll learn start learning how to calculate the instantaneous rate of change of a function, the function's derivative.  \n",
    "\n",
    "> The instantaneous rate of change of a function is called the **derivative**.  \n",
    "\n",
    "There is a lot of new terms and formulas associated with finding the derivative.  So in this lesson we'll focus on finding the derivative, that is the rate of change of a linear function, where things are not as complicated. "
   ]
  },
  {
   "cell_type": "markdown",
   "metadata": {},
   "source": [
    "### Understanding the rate of change"
   ]
  },
  {
   "cell_type": "markdown",
   "metadata": {},
   "source": [
    "Let's say that we want a function that  represents a person taking a jog.  Because in this lesson we are only talking about linear functions, we'll represent this by drawing a straight line."
   ]
  },
  {
   "cell_type": "markdown",
   "metadata": {},
   "source": [
    "![](./running-miles.png)"
   ]
  },
  {
   "cell_type": "markdown",
   "metadata": {},
   "source": [
    "Now our task for this lesson is to be able to calculate the rate of change.  The rate of change is how much one item changes in relation to another item.  The graph above helps us see how distance changes in relation to time, or in other words speed.  \n",
    "\n",
    "So here, when we ask about rate of change, we're asking how fast is our jogger travelling? "
   ]
  },
  {
   "cell_type": "markdown",
   "metadata": {},
   "source": [
    "### Calculating the rate of change"
   ]
  },
  {
   "cell_type": "markdown",
   "metadata": {},
   "source": [
    "To calculate the miles per hour we can simply see where a person is at a given time, then wait an hour and to see how far he travelled.  Or we can wait two hours and divide distance travelled by two.  Or generically, divide number of miles travelled by the number of hours passed.\n",
    "\n",
    "In the below graph, we see the speed between hour one and two, by calculating the distance travelled in that time, and the time passed."
   ]
  },
  {
   "cell_type": "markdown",
   "metadata": {},
   "source": [
    "![](./deltaxdeltay.png)"
   ]
  },
  {
   "cell_type": "markdown",
   "metadata": {},
   "source": [
    "So in hours one and two, our jogger went from mile numbers three to six -- indicated by the orange line.  And miles per hour is:\n",
    "\n",
    "$$\\frac{ distance}{hours} = \\frac {end distance - start distance}{end time - start time} = \\frac {6 - 3}{2 - 1} = 3$$"
   ]
  },
  {
   "cell_type": "markdown",
   "metadata": {},
   "source": [
    "**Or generically**, the rate of change is the change in y divided by the change in x. \n",
    "\n",
    "* And another way of expressing **change in y** is:  \n",
    "   * $y_2 - y_1$ or $\\Delta y$, read delta y \n",
    "* And another way of expressing **change in x** is:  \n",
    "   * $x_2 - x_1$ or $\\Delta x$, read delta x\n",
    "\n",
    "And generically we can say that: \n",
    "\n",
    "* rate of change $= \\frac{rise}{run} = \\frac{\\Delta y}{\\Delta x} = \\frac{y_2 - y_1}{x_2 - x_1}$\n",
    "\n",
    "Just like in our example, we saw: \n",
    "\n",
    "* miles per hour =  $\\frac{distance_2 - distance_1}{time_2 - time_1} = \\frac{18 - 12}{4 - 6} = \\frac{6}{2} = 3$ mph"
   ]
  },
  {
   "cell_type": "markdown",
   "metadata": {},
   "source": [
    "### Math it up"
   ]
  },
  {
   "cell_type": "markdown",
   "metadata": {},
   "source": [
    "Now when we calculated that the rate of change of our jogger is 3 miles per hour.  We really calculated the derivative.  The derivative is the rate of change.  Of course, we know that in math we express our functions as the following: \n",
    "\n",
    "$$f(x) = 3x $$"
   ]
  },
  {
   "cell_type": "markdown",
   "metadata": {},
   "source": [
    "![](./fxderivative.png)"
   ]
  },
  {
   "cell_type": "markdown",
   "metadata": {},
   "source": [
    "If we are given a function $f(x)$, we say the derivative of that function is $f'(x)$ -- read f primed of x. \n",
    "\n",
    "So we can say derivative of $f(x)$ is: \n",
    "\n",
    "* $ f'(x) = \\frac{rise}{run} = \\frac{\\Delta y}{\\Delta x} = \\frac{y_2 - y_1}{x_2 - x_1} =  \\frac{f(x_2) - f(x_1)}{x_2 - x_1}$"
   ]
  },
  {
   "cell_type": "markdown",
   "metadata": {},
   "source": [
    "Take a look to at the equation far to the right:\n",
    "    \n",
    "$$\\frac{f(x_2) - f(x_1)}{x_2 - x_1} $$ "
   ]
  },
  {
   "cell_type": "markdown",
   "metadata": {},
   "source": [
    "You see that we replaced $y_2 - y1$ with $f(x_2) - f(x_1)$.  This makes sense, because really when we say $y_2$ and $y_1$, we mean the function's output at the first x value and the function's output at the second x value.  "
   ]
  },
  {
   "cell_type": "markdown",
   "metadata": {},
   "source": [
    "So using this formula for our example we have: \n",
    "\n",
    "$$f'(1) = \\frac{f(2) - f(1)}{2 - 1} = \\frac{6 - 3}{2 - 1} = 3 $$ "
   ]
  },
  {
   "cell_type": "markdown",
   "metadata": {},
   "source": [
    "### Expressing the derivative in terms of change"
   ]
  },
  {
   "cell_type": "markdown",
   "metadata": {},
   "source": [
    "Now our above formulas for calculating the derivative do the job, but they don't exactly express our technique in the example of our jogger.  Remember that our technique for calculating the jogger's speed is the following: \n",
    "\n",
    "> * Start a stop watch after one hour and see the distance at that hour\n",
    "> * Then, let time elapse one hour and see the distance at that hour.  \n",
    "> * Then divide the difference in the distances by the elapsed time.  \n",
    "\n",
    "This is what this looks like in terms of math: \n",
    "\n",
    "$f'(x) = \\frac{f(x_1 + \\Delta x) - f(x_1)}{\\Delta x} $"
   ]
  },
  {
   "cell_type": "markdown",
   "metadata": {},
   "source": [
    "Let's take a second to see how the two relate.  \n",
    "* $f(x)$ is the distance at a given time, and $f(x_1)$ is the distance at the starting time, $x_1$\n",
    "* The elapsed time is $\\Delta x$, the change in x.\n",
    "* $f(x_1 + \\Delta x)$ is the distance at the starting time plus the elapsed time "
   ]
  },
  {
   "cell_type": "markdown",
   "metadata": {},
   "source": [
    "This is the definition that we will often see.  One of the benefits is that it expresses our technique of calculating the derivative.  Subtract the output at one input, x, from the output at that input plus a change in x.  Divide that difference by the change in x.  \n",
    "\n",
    "So that is the rate of change of a linear function, or a derivative.  The rate of change answers how much is our output changing at a given point.  "
   ]
  },
  {
   "cell_type": "markdown",
   "metadata": {},
   "source": [
    "![](./fxderivative.png)"
   ]
  },
  {
   "cell_type": "markdown",
   "metadata": {},
   "source": [
    "The derivative equals the change in output as we change x, divided by our change in x itself."
   ]
  },
  {
   "cell_type": "markdown",
   "metadata": {},
   "source": [
    "### Summary "
   ]
  },
  {
   "cell_type": "markdown",
   "metadata": {},
   "source": [
    "In this lesson, we saw that the derivative is the change in output per a change in input.  So in the case of our jogger, with out input being time, we see that the derivative is the change in the runner's location (distance travelled) divided by the amount of time passed.\n",
    "\n",
    "A lot of the tricky parts of derivatives is the mechanisms of expressing it.  Graphically, we see that the derivative is simply the rise over run or \n",
    "\n",
    "$$ f'(x) = \\frac{\\Delta y}{\\Delta x} = \\frac{y_2 - y_1}{x_2 - x_1} $$\n",
    "\n",
    "Then we saw that we can express the derivative in terms of $f(x)$ as in:\n",
    "\n",
    "$$ f'(x) = \\frac{f(x_2) - f(x_1)}{x_2 - x_1} $$\n",
    "\n",
    "And finally we saw how we can express the derivative in terms of $\\Delta x$ as in:\n",
    "\n",
    "$$ f'(x) = \\frac{f(x_1 + \\Delta x) - f(x_1)}{\\Delta x} $$\n"
   ]
  }
 ],
 "metadata": {
  "kernelspec": {
   "display_name": "Python 3",
   "language": "python",
   "name": "python3"
  },
  "language_info": {
   "codemirror_mode": {
    "name": "ipython",
    "version": 3
   },
   "file_extension": ".py",
   "mimetype": "text/x-python",
   "name": "python",
   "nbconvert_exporter": "python",
   "pygments_lexer": "ipython3",
   "version": "3.6.1"
  }
 },
 "nbformat": 4,
 "nbformat_minor": 2
}
