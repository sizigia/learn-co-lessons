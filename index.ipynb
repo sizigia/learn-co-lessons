{
 "cells": [
  {
   "cell_type": "markdown",
   "metadata": {},
   "source": [
    "# Introduction to Derivatives"
   ]
  },
  {
   "cell_type": "markdown",
   "metadata": {},
   "source": [
    "### Learning objectives"
   ]
  },
  {
   "cell_type": "markdown",
   "metadata": {},
   "source": [
    "* Understand that derivatives are the instantaneous rate of change of a function\n",
    "* Understand how to calculate a derivative \n",
    "* Understand how to express taking a derivative at a given point, and evaluating a function at a given point mathematically"
   ]
  },
  {
   "cell_type": "markdown",
   "metadata": {},
   "source": [
    "### Introduction"
   ]
  },
  {
   "cell_type": "markdown",
   "metadata": {},
   "source": [
    "In the last lesson on step sizes, we filled in some more information on how to find \"best fit\" regression line with using gradient descent.  Namely, we learned how to more carefully change our y-intercept of the regression line to minimize the residual sum of squares.  We did this by calibrating both the direction and size of of our change in $b$, our step size, to the slope of the line tangent to the cost curve at that point. "
   ]
  },
  {
   "cell_type": "markdown",
   "metadata": {},
   "source": [
    "![](./tangent-lines.png)"
   ]
  },
  {
   "cell_type": "markdown",
   "metadata": {},
   "source": [
    "So when our slope is negative we increased $b$ variable, and vice versa.  And the larger the absolute value of the slope, the larger our change in our variable -- that is, the larger our step size.  So a lot of our gradient descent technique depends of finding the slope of a curve at a specific point.  In this lesson, we'll learn how to calculate this slope."
   ]
  },
  {
   "cell_type": "markdown",
   "metadata": {},
   "source": [
    "## Talking about derivatives"
   ]
  },
  {
   "cell_type": "markdown",
   "metadata": {},
   "source": [
    "We defined the derivative as the instantaneous rate of change of a function.  Or equivalently, the **derivative** of a function at a given point equals the slope of a line tangent to the function at that point.  This makes sense.  The  more our function is changing, the larger the magnitude of our slope at a given point.\n",
    "\n",
    "> For these purposes, magnitude describes the absolute value of a number.  We use it because it's not accurate to say that -100 is larger than -99.  But it is correct to say that the magnitude of -100 is larger than the magnitude of -99, as absolute value of -100 equals 100 and the absolute value of -99 is 99.   \n",
    "\n",
    "So a derivative answers questions about change.  If you look at our blue curve above, the various slopes indicate how much is our output changing (in this case, our RSS) as we increase our input (here, our value of $b$).  At the point $b = 70$, the cost curve is decreasing a lot.  At the point, $b = 90$ the cost curve is still decreasing, but significantly less.  Thus at both $b = 90$ and $b = 70$ the derivative is negative as the change to cost is downward.  But the magnitude of change at the two points varies: when $b = 70 $ the derivative is -146.17 versus a derivative of -21.07 when $b = 90$."
   ]
  },
  {
   "cell_type": "markdown",
   "metadata": {},
   "source": [
    "Ok, so the derivative of a function is the rate of change of a function.  But how do we calculate the rate of change of a function?"
   ]
  },
  {
   "cell_type": "markdown",
   "metadata": {},
   "source": [
    "### Expressing a derivative"
   ]
  },
  {
   "cell_type": "markdown",
   "metadata": {},
   "source": [
    "Now derivatives are something that we will need to know about in the context of our cost function but for other other functions as well.  So let's begin a way to talk about functions in general.  \n",
    "\n",
    "We describe a function as $f(x)$.  For example, we can say $f(x) = 3*x$.  That just means that the output depends on the value of $x$.  When $x = 3$, $f(x) = 3*x = 3*3 = 9$.  When $x = 4$,  $f(x) = 4*3 = 12$.  Another way of saying \"when $x = 3$ is simply to say $f(3)$.  So $f(3) = 9$.  \n",
    "\n",
    "$f(x)$ is our generic way to express a function.  We are not saying the output equals $y$ or anything else, we are just saying that the value equals something that is a function of $x$.  And we say that we are evaluating $f(x)$ at a specific value of $x$ by just plugging in that value to the parentheses, as in $f(3)$.  \n",
    "\n",
    "So now let's build a way to talk about derivatives.  Remember the $f(3)$ means evaluate the function when $x = 3$.  And $f'(3)$ means (read as f prime of 3) means evaluate the derivative of the function when $x$ equals $3$.  Or to put it another way, evaluate the instantaneous rate of change of a function when $x$ equals $3$.  Or another way, evaluate the slope of the tangent line of the function when $x = 3$.  We do that by writing $f'(3)$."
   ]
  },
  {
   "cell_type": "markdown",
   "metadata": {},
   "source": [
    "### Calculating the derivative"
   ]
  },
  {
   "cell_type": "markdown",
   "metadata": {},
   "source": [
    "Ok, so now how do we calculate the instantaneous rate of change of our function, $f(x) = 3*x$?  First, let's plot that function graphically. "
   ]
  },
  {
   "cell_type": "code",
   "execution_count": 2,
   "metadata": {},
   "outputs": [
    {
     "data": {
      "text/html": [
       "<script>requirejs.config({paths: { 'plotly': ['https://cdn.plot.ly/plotly-latest.min']},});if(!window.Plotly) {{require(['plotly'],function(plotly) {window.Plotly=plotly;});}}</script>"
      ],
      "text/vnd.plotly.v1+html": [
       "<script>requirejs.config({paths: { 'plotly': ['https://cdn.plot.ly/plotly-latest.min']},});if(!window.Plotly) {{require(['plotly'],function(plotly) {window.Plotly=plotly;});}}</script>"
      ]
     },
     "metadata": {},
     "output_type": "display_data"
    },
    {
     "data": {
      "application/vnd.plotly.v1+json": {
       "data": [
        {
         "x": [
          0,
          1,
          2,
          3,
          4,
          5,
          6,
          7,
          8,
          9,
          10
         ],
         "y": [
          0,
          3,
          6,
          9,
          12,
          15,
          18,
          21,
          24,
          27,
          30
         ]
        }
       ],
       "layout": {}
      },
      "text/html": [
       "<div id=\"0c089ade-2ac4-4ec3-a4a7-ffdd4538b9e5\" style=\"height: 525px; width: 100%;\" class=\"plotly-graph-div\"></div><script type=\"text/javascript\">require([\"plotly\"], function(Plotly) { window.PLOTLYENV=window.PLOTLYENV || {};window.PLOTLYENV.BASE_URL=\"https://plot.ly\";Plotly.newPlot(\"0c089ade-2ac4-4ec3-a4a7-ffdd4538b9e5\", [{\"x\": [0, 1, 2, 3, 4, 5, 6, 7, 8, 9, 10], \"y\": [0, 3, 6, 9, 12, 15, 18, 21, 24, 27, 30]}], {}, {\"showLink\": true, \"linkText\": \"Export to plot.ly\"})});</script>"
      ],
      "text/vnd.plotly.v1+html": [
       "<div id=\"0c089ade-2ac4-4ec3-a4a7-ffdd4538b9e5\" style=\"height: 525px; width: 100%;\" class=\"plotly-graph-div\"></div><script type=\"text/javascript\">require([\"plotly\"], function(Plotly) { window.PLOTLYENV=window.PLOTLYENV || {};window.PLOTLYENV.BASE_URL=\"https://plot.ly\";Plotly.newPlot(\"0c089ade-2ac4-4ec3-a4a7-ffdd4538b9e5\", [{\"x\": [0, 1, 2, 3, 4, 5, 6, 7, 8, 9, 10], \"y\": [0, 3, 6, 9, 12, 15, 18, 21, 24, 27, 30]}], {}, {\"showLink\": true, \"linkText\": \"Export to plot.ly\"})});</script>"
      ]
     },
     "metadata": {},
     "output_type": "display_data"
    }
   ],
   "source": [
    "import plotly\n",
    "from plotly.offline import iplot, init_notebook_mode\n",
    "init_notebook_mode(connected=True)\n",
    "\n",
    "def y(x):\n",
    "    return 3*x\n",
    "\n",
    "def line_function_data(line_function, x_values):\n",
    "    y_values = list(map(lambda x: line_function(x), x_values))\n",
    "    return {'x': x_values, 'y': y_values}\n",
    "\n",
    "def plot(traces):\n",
    "    plotly.offline.iplot(traces)\n",
    "\n",
    "y_3x_trace = line_function_data(y, list(range(0, 11)))\n",
    "\n",
    "plot([y_3x_trace])"
   ]
  },
  {
   "cell_type": "markdown",
   "metadata": {},
   "source": [
    "Ok to measure $f'(3)$ we are measuring the rate of change at $f(3)$.  So do that we can calculate $f(3)$, increase our value a little bit, say to $x = 5$, and evaluate $f(5)$.  It's just like calculating miles per hour for track runner: where was the runner in the first hour, where was the runner in the last hour, and divide by the number of hours.  The rate of change is simply our change in output divided by the change in output. \n",
    "\n",
    "So to translate this to math we say: \n",
    "\n",
    "$$f'(3) = \\frac{f(5) - f(3)}{5 - 3}$$\n",
    "\n",
    "Now plugging in values we have $f(5) = 15$ and $f(3) = 9 $ so we have $\\frac {15 - 9}{5 - 2} = \\frac{6}{2} = 3$"
   ]
  },
  {
   "cell_type": "markdown",
   "metadata": {},
   "source": [
    "If you think about it, it makes sense that the rate of change of a function $f(x) = 3*x $ is 3.  For every unit of $x$ that we increase, the output, $f(x)$ increases by 3.  Looking at our line again, we can see this graphically.  Regardless of where we are evaluating the slope of the tangent line, for this function, that slope is always 3."
   ]
  },
  {
   "cell_type": "code",
   "execution_count": 3,
   "metadata": {},
   "outputs": [
    {
     "data": {
      "application/vnd.plotly.v1+json": {
       "data": [
        {
         "x": [
          0,
          1,
          2,
          3,
          4,
          5,
          6,
          7,
          8,
          9,
          10
         ],
         "y": [
          0,
          3,
          6,
          9,
          12,
          15,
          18,
          21,
          24,
          27,
          30
         ]
        },
        {
         "mode": "lines+text",
         "text": [
          "    slope:3.00"
         ],
         "textposition": "right",
         "x": [
          3.5,
          4,
          4.5
         ],
         "y": [
          10.500000000000032,
          12,
          13.499999999999968
         ]
        },
        {
         "mode": "lines+text",
         "text": [
          "    slope:3.00"
         ],
         "textposition": "right",
         "x": [
          7.5,
          8,
          8.5
         ],
         "y": [
          22.499999999999943,
          24,
          25.500000000000057
         ]
        }
       ],
       "layout": {}
      },
      "text/html": [
       "<div id=\"0640b4c9-9781-4c07-a612-11478b49212d\" style=\"height: 525px; width: 100%;\" class=\"plotly-graph-div\"></div><script type=\"text/javascript\">require([\"plotly\"], function(Plotly) { window.PLOTLYENV=window.PLOTLYENV || {};window.PLOTLYENV.BASE_URL=\"https://plot.ly\";Plotly.newPlot(\"0640b4c9-9781-4c07-a612-11478b49212d\", [{\"x\": [0, 1, 2, 3, 4, 5, 6, 7, 8, 9, 10], \"y\": [0, 3, 6, 9, 12, 15, 18, 21, 24, 27, 30]}, {\"x\": [3.5, 4, 4.5], \"y\": [10.500000000000032, 12, 13.499999999999968], \"mode\": \"lines+text\", \"text\": [\"    slope:3.00\"], \"textposition\": \"right\"}, {\"x\": [7.5, 8, 8.5], \"y\": [22.499999999999943, 24, 25.500000000000057], \"mode\": \"lines+text\", \"text\": [\"    slope:3.00\"], \"textposition\": \"right\"}], {}, {\"showLink\": true, \"linkText\": \"Export to plot.ly\"})});</script>"
      ],
      "text/vnd.plotly.v1+html": [
       "<div id=\"0640b4c9-9781-4c07-a612-11478b49212d\" style=\"height: 525px; width: 100%;\" class=\"plotly-graph-div\"></div><script type=\"text/javascript\">require([\"plotly\"], function(Plotly) { window.PLOTLYENV=window.PLOTLYENV || {};window.PLOTLYENV.BASE_URL=\"https://plot.ly\";Plotly.newPlot(\"0640b4c9-9781-4c07-a612-11478b49212d\", [{\"x\": [0, 1, 2, 3, 4, 5, 6, 7, 8, 9, 10], \"y\": [0, 3, 6, 9, 12, 15, 18, 21, 24, 27, 30]}, {\"x\": [3.5, 4, 4.5], \"y\": [10.500000000000032, 12, 13.499999999999968], \"mode\": \"lines+text\", \"text\": [\"    slope:3.00\"], \"textposition\": \"right\"}, {\"x\": [7.5, 8, 8.5], \"y\": [22.499999999999943, 24, 25.500000000000057], \"mode\": \"lines+text\", \"text\": [\"    slope:3.00\"], \"textposition\": \"right\"}], {}, {\"showLink\": true, \"linkText\": \"Export to plot.ly\"})});</script>"
      ]
     },
     "metadata": {},
     "output_type": "display_data"
    }
   ],
   "source": [
    "def build_tangent_line(original_function, x, line_length = 5, delta = .01):\n",
    "    curve_at_point = derivative_at(original_function, x, delta)\n",
    "    slope = curve_at_point['slope']\n",
    "    x_minus = x - line_length\n",
    "    x_plus = x + line_length\n",
    "    y = original_function(x)\n",
    "    y_minus = y - slope * line_length\n",
    "    y_plus = y + slope * line_length\n",
    "    text = '    slope:' + format(slope, '.2f')\n",
    "    return {'x': [x_minus, x, x_plus], 'y': [y_minus, y, y_plus], 'mode': 'lines+text', 'text': [text], 'textposition': 'right'}\n",
    "\n",
    "def derivative_at(original_function, x, delta = .01):\n",
    "    numerator = original_function(x + delta) - original_function(x)\n",
    "    slope = numerator/delta\n",
    "    return {'value': x, 'slope': slope}\n",
    "\n",
    "tangent_at_four = build_tangent_line(y, 4, .5, .01)\n",
    "tangent_at_eight = build_tangent_line(y, 8, .5, .01)\n",
    "plot([y_3x_trace, tangent_at_four, tangent_at_eight])"
   ]
  },
  {
   "cell_type": "markdown",
   "metadata": {},
   "source": [
    "So that's how we calculate the derivative.  Derivative is simply the rate of change.  So we see how much the output changes per a change in a given input.  Expressed mathematically, our formula for calculating the derivative looks like this:\n",
    "\n",
    "$$ f'(x) = \\frac{f(x + h) - f(x)}{h}$$ \n",
    "\n",
    "Take some time to take in this formula.  It's not going away.  Let's see how we used it earlier with our approach. In our above approach, we let $h = 2$.  Then we calculated $$f'(3) = \\frac{f(3 + h) - f(3)}{h} =  \\frac{f(3 + 2) - f(3)}{2} $$  \n",
    "\n",
    "Another word for $h$ is delta, or $\\Delta $ or $\\Delta x $.  Delta just means change, and $\\Delta $ is the Greek capital letter delta.  And we say $\\Delta x $ because that is what we are changing, $x$.  Similarly, the change in output is sometimes expressed as $\\Delta f $.  So another way of writing our function is: \n",
    "\n",
    "$$ f'(x) = \\frac{\\Delta y}{\\Delta x}$$"
   ]
  },
  {
   "cell_type": "markdown",
   "metadata": {},
   "source": [
    "### Derivatives of non-linear functions"
   ]
  },
  {
   "cell_type": "markdown",
   "metadata": {},
   "source": [
    "But things quickly becomes trickier when working with more complicated functions.  And we will run into these functions.  For example, let's consider how to take the derivative of something resembles our cost curve.  After all, figuring out the slope at a given point of a cost curve is what led us here."
   ]
  },
  {
   "cell_type": "code",
   "execution_count": 4,
   "metadata": {},
   "outputs": [
    {
     "data": {
      "text/html": [
       "<script>requirejs.config({paths: { 'plotly': ['https://cdn.plot.ly/plotly-latest.min']},});if(!window.Plotly) {{require(['plotly'],function(plotly) {window.Plotly=plotly;});}}</script>"
      ],
      "text/vnd.plotly.v1+html": [
       "<script>requirejs.config({paths: { 'plotly': ['https://cdn.plot.ly/plotly-latest.min']},});if(!window.Plotly) {{require(['plotly'],function(plotly) {window.Plotly=plotly;});}}</script>"
      ]
     },
     "metadata": {},
     "output_type": "display_data"
    },
    {
     "data": {
      "application/vnd.plotly.v1+json": {
       "data": [
        {
         "x": [
          -3,
          -2.9,
          -2.8,
          -2.7,
          -2.6,
          -2.5,
          -2.4,
          -2.3,
          -2.2,
          -2.1,
          -2,
          -1.9,
          -1.8,
          -1.7,
          -1.6,
          -1.5,
          -1.4,
          -1.3,
          -1.2,
          -1.1,
          -1,
          -0.9,
          -0.8,
          -0.7,
          -0.6,
          -0.5,
          -0.4,
          -0.3,
          -0.2,
          -0.1,
          0,
          0.1,
          0.2,
          0.3,
          0.4,
          0.5,
          0.6,
          0.7,
          0.8,
          0.9,
          1,
          1.1,
          1.2,
          1.3,
          1.4,
          1.5,
          1.6,
          1.7,
          1.8,
          1.9,
          2,
          2.1,
          2.2,
          2.3,
          2.4,
          2.5,
          2.6,
          2.7,
          2.8,
          2.9,
          3,
          3.1,
          3.2,
          3.3,
          3.4,
          3.5,
          3.6,
          3.7,
          3.8,
          3.9,
          4,
          4.1,
          4.2,
          4.3,
          4.4,
          4.5,
          4.6,
          4.7,
          4.8,
          4.9
         ],
         "y": [
          1440000,
          1368900,
          1299600,
          1232100,
          1166400,
          1102500,
          1040400,
          980100,
          921600,
          864900,
          810000,
          756900,
          705600,
          656100,
          608400,
          562500,
          518400,
          476100,
          435600,
          396900,
          360000,
          324900,
          291600,
          260100,
          230400,
          202500,
          176400,
          152100,
          129600,
          108900,
          90000,
          72900,
          57600,
          44100,
          32400,
          22500,
          14400,
          8100,
          3600,
          900,
          0,
          900,
          3600,
          8100,
          14400,
          22500,
          32400,
          44100,
          57600,
          72900,
          90000,
          108900,
          129600,
          152100,
          176400,
          202500,
          230400,
          260100,
          291600,
          324900,
          360000,
          396900,
          435600,
          476100,
          518400,
          562500,
          608400,
          656100,
          705600,
          756900,
          810000,
          864900,
          921600,
          980100,
          1040400,
          1102500,
          1166400,
          1232100,
          1299600,
          1368900
         ]
        }
       ],
       "layout": {}
      },
      "text/html": [
       "<div id=\"13a4c5bd-4b0f-4df2-8a5b-d331efe9b09f\" style=\"height: 525px; width: 100%;\" class=\"plotly-graph-div\"></div><script type=\"text/javascript\">require([\"plotly\"], function(Plotly) { window.PLOTLYENV=window.PLOTLYENV || {};window.PLOTLYENV.BASE_URL=\"https://plot.ly\";Plotly.newPlot(\"13a4c5bd-4b0f-4df2-8a5b-d331efe9b09f\", [{\"x\": [-3.0, -2.9, -2.8, -2.7, -2.6, -2.5, -2.4, -2.3, -2.2, -2.1, -2.0, -1.9, -1.8, -1.7, -1.6, -1.5, -1.4, -1.3, -1.2, -1.1, -1.0, -0.9, -0.8, -0.7, -0.6, -0.5, -0.4, -0.3, -0.2, -0.1, 0.0, 0.1, 0.2, 0.3, 0.4, 0.5, 0.6, 0.7, 0.8, 0.9, 1.0, 1.1, 1.2, 1.3, 1.4, 1.5, 1.6, 1.7, 1.8, 1.9, 2.0, 2.1, 2.2, 2.3, 2.4, 2.5, 2.6, 2.7, 2.8, 2.9, 3.0, 3.1, 3.2, 3.3, 3.4, 3.5, 3.6, 3.7, 3.8, 3.9, 4.0, 4.1, 4.2, 4.3, 4.4, 4.5, 4.6, 4.7, 4.8, 4.9], \"y\": [1440000.0, 1368900.0, 1299600.0, 1232100.0, 1166400.0, 1102500.0, 1040400.0, 980100.0, 921600.0, 864900.0, 810000.0, 756900.0, 705600.0, 656100.0, 608400.0, 562500.0, 518400.0, 476100.0, 435600.0, 396900.0, 360000.0, 324900.0, 291600.0, 260100.0, 230400.0, 202500.0, 176400.0, 152100.0, 129600.0, 108900.0, 90000.0, 72900.0, 57600.0, 44100.0, 32400.0, 22500.0, 14400.0, 8100.0, 3600.0, 900.0, 0.0, 900.0, 3600.0, 8100.0, 14400.0, 22500.0, 32400.0, 44100.0, 57600.0, 72900.0, 90000.0, 108900.0, 129600.0, 152100.0, 176400.0, 202500.0, 230400.0, 260100.0, 291600.0, 324900.0, 360000.0, 396900.0, 435600.0, 476100.0, 518400.0, 562500.0, 608400.0, 656100.0, 705600.0, 756900.0, 810000.0, 864900.0, 921600.0, 980100.0, 1040400.0, 1102500.0, 1166400.0, 1232100.0, 1299600.0, 1368900.0]}], {}, {\"showLink\": true, \"linkText\": \"Export to plot.ly\"})});</script>"
      ],
      "text/vnd.plotly.v1+html": [
       "<div id=\"13a4c5bd-4b0f-4df2-8a5b-d331efe9b09f\" style=\"height: 525px; width: 100%;\" class=\"plotly-graph-div\"></div><script type=\"text/javascript\">require([\"plotly\"], function(Plotly) { window.PLOTLYENV=window.PLOTLYENV || {};window.PLOTLYENV.BASE_URL=\"https://plot.ly\";Plotly.newPlot(\"13a4c5bd-4b0f-4df2-8a5b-d331efe9b09f\", [{\"x\": [-3.0, -2.9, -2.8, -2.7, -2.6, -2.5, -2.4, -2.3, -2.2, -2.1, -2.0, -1.9, -1.8, -1.7, -1.6, -1.5, -1.4, -1.3, -1.2, -1.1, -1.0, -0.9, -0.8, -0.7, -0.6, -0.5, -0.4, -0.3, -0.2, -0.1, 0.0, 0.1, 0.2, 0.3, 0.4, 0.5, 0.6, 0.7, 0.8, 0.9, 1.0, 1.1, 1.2, 1.3, 1.4, 1.5, 1.6, 1.7, 1.8, 1.9, 2.0, 2.1, 2.2, 2.3, 2.4, 2.5, 2.6, 2.7, 2.8, 2.9, 3.0, 3.1, 3.2, 3.3, 3.4, 3.5, 3.6, 3.7, 3.8, 3.9, 4.0, 4.1, 4.2, 4.3, 4.4, 4.5, 4.6, 4.7, 4.8, 4.9], \"y\": [1440000.0, 1368900.0, 1299600.0, 1232100.0, 1166400.0, 1102500.0, 1040400.0, 980100.0, 921600.0, 864900.0, 810000.0, 756900.0, 705600.0, 656100.0, 608400.0, 562500.0, 518400.0, 476100.0, 435600.0, 396900.0, 360000.0, 324900.0, 291600.0, 260100.0, 230400.0, 202500.0, 176400.0, 152100.0, 129600.0, 108900.0, 90000.0, 72900.0, 57600.0, 44100.0, 32400.0, 22500.0, 14400.0, 8100.0, 3600.0, 900.0, 0.0, 900.0, 3600.0, 8100.0, 14400.0, 22500.0, 32400.0, 44100.0, 57600.0, 72900.0, 90000.0, 108900.0, 129600.0, 152100.0, 176400.0, 202500.0, 230400.0, 260100.0, 291600.0, 324900.0, 360000.0, 396900.0, 435600.0, 476100.0, 518400.0, 562500.0, 608400.0, 656100.0, 705600.0, 756900.0, 810000.0, 864900.0, 921600.0, 980100.0, 1040400.0, 1102500.0, 1166400.0, 1232100.0, 1299600.0, 1368900.0]}], {}, {\"showLink\": true, \"linkText\": \"Export to plot.ly\"})});</script>"
      ]
     },
     "metadata": {},
     "output_type": "display_data"
    }
   ],
   "source": [
    "import plotly\n",
    "from plotly.offline import iplot, init_notebook_mode\n",
    "init_notebook_mode(connected=True)\n",
    "\n",
    "def fake_cost_curve(x):\n",
    "    return (300*x - 300)**2\n",
    "\n",
    "def line_function_data(line_function, x_values):\n",
    "    y_values = list(map(lambda x: line_function(x), x_values))\n",
    "    return {'x': x_values, 'y': y_values}\n",
    "\n",
    "def plot(traces):\n",
    "    plotly.offline.iplot(traces)\n",
    "\n",
    "\n",
    "unscaled_values = list(range(-30, 50, 1))\n",
    "x_values = list(map(lambda point: point/10, unscaled_values))\n",
    "y_x_squared_trace = line_function_data(fake_cost_curve, x_values)\n",
    "\n",
    "plot([y_x_squared_trace])"
   ]
  },
  {
   "cell_type": "markdown",
   "metadata": {},
   "source": [
    "This is the graph of the function $y = (300*x - 300)^2 $.  How do we take the derivative when our function looks like this? Let's start by using our earlier technique to calculate the derivative at the point $x = 0$.  So we evaluate $f(0)$ and we evaluate our function at a little more than zero, say $f(1)$, so we let $h = 1$.  Ok let's do it:\n",
    "\n",
    "$$ f'(x) = \\frac{f(x + h) - f(x)}{h} $$ \n",
    "\n",
    "$$ f'(0) = \\frac{f(0 + h) - f(0)}{h} $$ \n",
    "\n",
    "$$ f'(0) = \\frac{f(0 + 1) - f(0)}{1} = \\frac{f(1) - f(0)}{1}$$ \n",
    "\n",
    "Ok, now let's calculate $f(0)$ and $f(1)$ and plug in the values."
   ]
  },
  {
   "cell_type": "markdown",
   "metadata": {},
   "source": [
    "$$f(0) = (300*0 - 300)^2 = (-300)^2 =  90,000 $$\n",
    "\n",
    "$$f(1) = (300*1 - 300)^2 = 0^2 = 0 $$\n",
    "\n",
    "$$f'(0) = \\frac{0 - 90,000}{1- 0} = -90,000 $$"
   ]
  },
  {
   "cell_type": "markdown",
   "metadata": {},
   "source": [
    "Ok, sweet!  Now let's show a line with this slope where $x = 0$."
   ]
  },
  {
   "cell_type": "code",
   "execution_count": 5,
   "metadata": {},
   "outputs": [
    {
     "data": {
      "application/vnd.plotly.v1+json": {
       "data": [
        {
         "x": [
          -3,
          -2.9,
          -2.8,
          -2.7,
          -2.6,
          -2.5,
          -2.4,
          -2.3,
          -2.2,
          -2.1,
          -2,
          -1.9,
          -1.8,
          -1.7,
          -1.6,
          -1.5,
          -1.4,
          -1.3,
          -1.2,
          -1.1,
          -1,
          -0.9,
          -0.8,
          -0.7,
          -0.6,
          -0.5,
          -0.4,
          -0.3,
          -0.2,
          -0.1,
          0,
          0.1,
          0.2,
          0.3,
          0.4,
          0.5,
          0.6,
          0.7,
          0.8,
          0.9,
          1,
          1.1,
          1.2,
          1.3,
          1.4,
          1.5,
          1.6,
          1.7,
          1.8,
          1.9,
          2,
          2.1,
          2.2,
          2.3,
          2.4,
          2.5,
          2.6,
          2.7,
          2.8,
          2.9,
          3,
          3.1,
          3.2,
          3.3,
          3.4,
          3.5,
          3.6,
          3.7,
          3.8,
          3.9,
          4,
          4.1,
          4.2,
          4.3,
          4.4,
          4.5,
          4.6,
          4.7,
          4.8,
          4.9
         ],
         "y": [
          1440000,
          1368900,
          1299600,
          1232100,
          1166400,
          1102500,
          1040400,
          980100,
          921600,
          864900,
          810000,
          756900,
          705600,
          656100,
          608400,
          562500,
          518400,
          476100,
          435600,
          396900,
          360000,
          324900,
          291600,
          260100,
          230400,
          202500,
          176400,
          152100,
          129600,
          108900,
          90000,
          72900,
          57600,
          44100,
          32400,
          22500,
          14400,
          8100,
          3600,
          900,
          0,
          900,
          3600,
          8100,
          14400,
          22500,
          32400,
          44100,
          57600,
          72900,
          90000,
          108900,
          129600,
          152100,
          176400,
          202500,
          230400,
          260100,
          291600,
          324900,
          360000,
          396900,
          435600,
          476100,
          518400,
          562500,
          608400,
          656100,
          705600,
          756900,
          810000,
          864900,
          921600,
          980100,
          1040400,
          1102500,
          1166400,
          1232100,
          1299600,
          1368900
         ]
        },
        {
         "mode": "lines+text",
         "text": [
          "    slope:-90000.00"
         ],
         "textposition": "right",
         "x": [
          -1,
          0,
          1
         ],
         "y": [
          180000,
          90000,
          0
         ]
        }
       ],
       "layout": {}
      },
      "text/html": [
       "<div id=\"564633e3-bc5f-4d3c-84fa-7abd82c71bdf\" style=\"height: 525px; width: 100%;\" class=\"plotly-graph-div\"></div><script type=\"text/javascript\">require([\"plotly\"], function(Plotly) { window.PLOTLYENV=window.PLOTLYENV || {};window.PLOTLYENV.BASE_URL=\"https://plot.ly\";Plotly.newPlot(\"564633e3-bc5f-4d3c-84fa-7abd82c71bdf\", [{\"x\": [-3.0, -2.9, -2.8, -2.7, -2.6, -2.5, -2.4, -2.3, -2.2, -2.1, -2.0, -1.9, -1.8, -1.7, -1.6, -1.5, -1.4, -1.3, -1.2, -1.1, -1.0, -0.9, -0.8, -0.7, -0.6, -0.5, -0.4, -0.3, -0.2, -0.1, 0.0, 0.1, 0.2, 0.3, 0.4, 0.5, 0.6, 0.7, 0.8, 0.9, 1.0, 1.1, 1.2, 1.3, 1.4, 1.5, 1.6, 1.7, 1.8, 1.9, 2.0, 2.1, 2.2, 2.3, 2.4, 2.5, 2.6, 2.7, 2.8, 2.9, 3.0, 3.1, 3.2, 3.3, 3.4, 3.5, 3.6, 3.7, 3.8, 3.9, 4.0, 4.1, 4.2, 4.3, 4.4, 4.5, 4.6, 4.7, 4.8, 4.9], \"y\": [1440000.0, 1368900.0, 1299600.0, 1232100.0, 1166400.0, 1102500.0, 1040400.0, 980100.0, 921600.0, 864900.0, 810000.0, 756900.0, 705600.0, 656100.0, 608400.0, 562500.0, 518400.0, 476100.0, 435600.0, 396900.0, 360000.0, 324900.0, 291600.0, 260100.0, 230400.0, 202500.0, 176400.0, 152100.0, 129600.0, 108900.0, 90000.0, 72900.0, 57600.0, 44100.0, 32400.0, 22500.0, 14400.0, 8100.0, 3600.0, 900.0, 0.0, 900.0, 3600.0, 8100.0, 14400.0, 22500.0, 32400.0, 44100.0, 57600.0, 72900.0, 90000.0, 108900.0, 129600.0, 152100.0, 176400.0, 202500.0, 230400.0, 260100.0, 291600.0, 324900.0, 360000.0, 396900.0, 435600.0, 476100.0, 518400.0, 562500.0, 608400.0, 656100.0, 705600.0, 756900.0, 810000.0, 864900.0, 921600.0, 980100.0, 1040400.0, 1102500.0, 1166400.0, 1232100.0, 1299600.0, 1368900.0]}, {\"x\": [-1, 0, 1], \"y\": [180000.0, 90000, 0.0], \"mode\": \"lines+text\", \"text\": [\"    slope:-90000.00\"], \"textposition\": \"right\"}], {}, {\"showLink\": true, \"linkText\": \"Export to plot.ly\"})});</script>"
      ],
      "text/vnd.plotly.v1+html": [
       "<div id=\"564633e3-bc5f-4d3c-84fa-7abd82c71bdf\" style=\"height: 525px; width: 100%;\" class=\"plotly-graph-div\"></div><script type=\"text/javascript\">require([\"plotly\"], function(Plotly) { window.PLOTLYENV=window.PLOTLYENV || {};window.PLOTLYENV.BASE_URL=\"https://plot.ly\";Plotly.newPlot(\"564633e3-bc5f-4d3c-84fa-7abd82c71bdf\", [{\"x\": [-3.0, -2.9, -2.8, -2.7, -2.6, -2.5, -2.4, -2.3, -2.2, -2.1, -2.0, -1.9, -1.8, -1.7, -1.6, -1.5, -1.4, -1.3, -1.2, -1.1, -1.0, -0.9, -0.8, -0.7, -0.6, -0.5, -0.4, -0.3, -0.2, -0.1, 0.0, 0.1, 0.2, 0.3, 0.4, 0.5, 0.6, 0.7, 0.8, 0.9, 1.0, 1.1, 1.2, 1.3, 1.4, 1.5, 1.6, 1.7, 1.8, 1.9, 2.0, 2.1, 2.2, 2.3, 2.4, 2.5, 2.6, 2.7, 2.8, 2.9, 3.0, 3.1, 3.2, 3.3, 3.4, 3.5, 3.6, 3.7, 3.8, 3.9, 4.0, 4.1, 4.2, 4.3, 4.4, 4.5, 4.6, 4.7, 4.8, 4.9], \"y\": [1440000.0, 1368900.0, 1299600.0, 1232100.0, 1166400.0, 1102500.0, 1040400.0, 980100.0, 921600.0, 864900.0, 810000.0, 756900.0, 705600.0, 656100.0, 608400.0, 562500.0, 518400.0, 476100.0, 435600.0, 396900.0, 360000.0, 324900.0, 291600.0, 260100.0, 230400.0, 202500.0, 176400.0, 152100.0, 129600.0, 108900.0, 90000.0, 72900.0, 57600.0, 44100.0, 32400.0, 22500.0, 14400.0, 8100.0, 3600.0, 900.0, 0.0, 900.0, 3600.0, 8100.0, 14400.0, 22500.0, 32400.0, 44100.0, 57600.0, 72900.0, 90000.0, 108900.0, 129600.0, 152100.0, 176400.0, 202500.0, 230400.0, 260100.0, 291600.0, 324900.0, 360000.0, 396900.0, 435600.0, 476100.0, 518400.0, 562500.0, 608400.0, 656100.0, 705600.0, 756900.0, 810000.0, 864900.0, 921600.0, 980100.0, 1040400.0, 1102500.0, 1166400.0, 1232100.0, 1299600.0, 1368900.0]}, {\"x\": [-1, 0, 1], \"y\": [180000.0, 90000, 0.0], \"mode\": \"lines+text\", \"text\": [\"    slope:-90000.00\"], \"textposition\": \"right\"}], {}, {\"showLink\": true, \"linkText\": \"Export to plot.ly\"})});</script>"
      ]
     },
     "metadata": {},
     "output_type": "display_data"
    }
   ],
   "source": [
    "y_x_squared_trace = line_function_data(fake_cost_curve, x_values)\n",
    "tangent_at_zero = build_tangent_line(fake_cost_curve, 0, 1, 1)\n",
    "plot([y_x_squared_trace, tangent_at_zero])"
   ]
  },
  {
   "cell_type": "markdown",
   "metadata": {},
   "source": [
    "Take a close look at the straight line in the graph above.  That straight line is a supposed to have the same slope as the blue curve at the point $x = 0$.  After all, we calculated the derivative at that point, and that gave us a slope of -90000, yet that doesn't seem to be matching the slope of the curve at that value of $x = 0$.\n",
    "\n",
    "The slope of the straight line should be pointing more downwards.  How did that happen?  Let's take another look at our calculation of the derivative. \n",
    "\n",
    "$$f(0) = (300*0 - 300)^2 = (-300)^2 =  90,000 $$\n",
    "\n",
    "$$f(1) = (300*1 - 300)^2 = 0^2 = 0 $$\n",
    "\n",
    "$$f'(0) = \\frac{0 - 90,000}{1- 0} = -90,000 $$\n",
    "\n",
    "The problem is that if we calculate change in our output divided by the change in our input, and we set $h = 1$, then we are really calculating the rate of change of the function from zero to one.  But what we **want** to do is calculate the rate of change at just that point $x = 0$, after all we want the instantanous rate of change - and that is a different matter.  So we can't just calculate our runner's speed by checking in an hour later, our derivative means we are calculating how fast a runner is moving at any given moment, and precisely at that moment.  And unlike in our function of the line $y = 3x $, here the amount that $y$ decreases or increases is always changing.  The larger our value of $h$, the less our derivative reflects the rate of change at just that point.    \n",
    "So what we need to do is decrease our value of $h$ to such a small number that it is zero.  But it's ludicrous to calculate the amount of change in an output when the change in our input is zero.  When change in our input is zero, it means there is no change.  It's like asking how much our runner is moving between precisely minute three, and precisely minute three.  Well obviously zero - he didn't have a chance to move.    \n",
    "\n",
    "So how do we calculate the rate of change of our function across no change in input?  We use our imagination.  Really.  We calculate the derivative with a $\\Delta $ of .1, then calculate it again with a $\\Delta $ of .01, then again with $\\Delta $ .001.  Our derivative calculation should show convergance on a single number as our $\\Delta $ approaches zero and that number is our derivative.  \n",
    "\n",
    "** That is, the derivative of a function is a change in the function's output as h, that is $\\Delta x $,  approaches zero **.    "
   ]
  },
  {
   "cell_type": "code",
   "execution_count": 11,
   "metadata": {},
   "outputs": [
    {
     "data": {
      "application/vnd.plotly.v1+json": {
       "data": [
        {
         "x": [
          -3,
          -2.9,
          -2.8,
          -2.7,
          -2.6,
          -2.5,
          -2.4,
          -2.3,
          -2.2,
          -2.1,
          -2,
          -1.9,
          -1.8,
          -1.7,
          -1.6,
          -1.5,
          -1.4,
          -1.3,
          -1.2,
          -1.1,
          -1,
          -0.9,
          -0.8,
          -0.7,
          -0.6,
          -0.5,
          -0.4,
          -0.3,
          -0.2,
          -0.1,
          0,
          0.1,
          0.2,
          0.3,
          0.4,
          0.5,
          0.6,
          0.7,
          0.8,
          0.9,
          1,
          1.1,
          1.2,
          1.3,
          1.4,
          1.5,
          1.6,
          1.7,
          1.8,
          1.9,
          2,
          2.1,
          2.2,
          2.3,
          2.4,
          2.5,
          2.6,
          2.7,
          2.8,
          2.9,
          3,
          3.1,
          3.2,
          3.3,
          3.4,
          3.5,
          3.6,
          3.7,
          3.8,
          3.9,
          4,
          4.1,
          4.2,
          4.3,
          4.4,
          4.5,
          4.6,
          4.7,
          4.8,
          4.9
         ],
         "y": [
          1440000,
          1368900,
          1299600,
          1232100,
          1166400,
          1102500,
          1040400,
          980100,
          921600,
          864900,
          810000,
          756900,
          705600,
          656100,
          608400,
          562500,
          518400,
          476100,
          435600,
          396900,
          360000,
          324900,
          291600,
          260100,
          230400,
          202500,
          176400,
          152100,
          129600,
          108900,
          90000,
          72900,
          57600,
          44100,
          32400,
          22500,
          14400,
          8100,
          3600,
          900,
          0,
          900,
          3600,
          8100,
          14400,
          22500,
          32400,
          44100,
          57600,
          72900,
          90000,
          108900,
          129600,
          152100,
          176400,
          202500,
          230400,
          260100,
          291600,
          324900,
          360000,
          396900,
          435600,
          476100,
          518400,
          562500,
          608400,
          656100,
          705600,
          756900,
          810000,
          864900,
          921600,
          980100,
          1040400,
          1102500,
          1166400,
          1232100,
          1299600,
          1368900
         ]
        },
        {
         "mode": "lines+text",
         "text": [
          "    slope:-179991.00"
         ],
         "textposition": "right",
         "x": [
          -1,
          0,
          1
         ],
         "y": [
          269990.99999986356,
          90000,
          -89990.99999986356
         ]
        }
       ],
       "layout": {}
      },
      "text/html": [
       "<div id=\"343b3acb-9f08-4eb8-b1bd-7d957c77cbde\" style=\"height: 525px; width: 100%;\" class=\"plotly-graph-div\"></div><script type=\"text/javascript\">require([\"plotly\"], function(Plotly) { window.PLOTLYENV=window.PLOTLYENV || {};window.PLOTLYENV.BASE_URL=\"https://plot.ly\";Plotly.newPlot(\"343b3acb-9f08-4eb8-b1bd-7d957c77cbde\", [{\"x\": [-3.0, -2.9, -2.8, -2.7, -2.6, -2.5, -2.4, -2.3, -2.2, -2.1, -2.0, -1.9, -1.8, -1.7, -1.6, -1.5, -1.4, -1.3, -1.2, -1.1, -1.0, -0.9, -0.8, -0.7, -0.6, -0.5, -0.4, -0.3, -0.2, -0.1, 0.0, 0.1, 0.2, 0.3, 0.4, 0.5, 0.6, 0.7, 0.8, 0.9, 1.0, 1.1, 1.2, 1.3, 1.4, 1.5, 1.6, 1.7, 1.8, 1.9, 2.0, 2.1, 2.2, 2.3, 2.4, 2.5, 2.6, 2.7, 2.8, 2.9, 3.0, 3.1, 3.2, 3.3, 3.4, 3.5, 3.6, 3.7, 3.8, 3.9, 4.0, 4.1, 4.2, 4.3, 4.4, 4.5, 4.6, 4.7, 4.8, 4.9], \"y\": [1440000.0, 1368900.0, 1299600.0, 1232100.0, 1166400.0, 1102500.0, 1040400.0, 980100.0, 921600.0, 864900.0, 810000.0, 756900.0, 705600.0, 656100.0, 608400.0, 562500.0, 518400.0, 476100.0, 435600.0, 396900.0, 360000.0, 324900.0, 291600.0, 260100.0, 230400.0, 202500.0, 176400.0, 152100.0, 129600.0, 108900.0, 90000.0, 72900.0, 57600.0, 44100.0, 32400.0, 22500.0, 14400.0, 8100.0, 3600.0, 900.0, 0.0, 900.0, 3600.0, 8100.0, 14400.0, 22500.0, 32400.0, 44100.0, 57600.0, 72900.0, 90000.0, 108900.0, 129600.0, 152100.0, 176400.0, 202500.0, 230400.0, 260100.0, 291600.0, 324900.0, 360000.0, 396900.0, 435600.0, 476100.0, 518400.0, 562500.0, 608400.0, 656100.0, 705600.0, 756900.0, 810000.0, 864900.0, 921600.0, 980100.0, 1040400.0, 1102500.0, 1166400.0, 1232100.0, 1299600.0, 1368900.0]}, {\"x\": [-1, 0, 1], \"y\": [269990.99999986356, 90000, -89990.99999986356], \"mode\": \"lines+text\", \"text\": [\"    slope:-179991.00\"], \"textposition\": \"right\"}], {}, {\"showLink\": true, \"linkText\": \"Export to plot.ly\"})});</script>"
      ],
      "text/vnd.plotly.v1+html": [
       "<div id=\"343b3acb-9f08-4eb8-b1bd-7d957c77cbde\" style=\"height: 525px; width: 100%;\" class=\"plotly-graph-div\"></div><script type=\"text/javascript\">require([\"plotly\"], function(Plotly) { window.PLOTLYENV=window.PLOTLYENV || {};window.PLOTLYENV.BASE_URL=\"https://plot.ly\";Plotly.newPlot(\"343b3acb-9f08-4eb8-b1bd-7d957c77cbde\", [{\"x\": [-3.0, -2.9, -2.8, -2.7, -2.6, -2.5, -2.4, -2.3, -2.2, -2.1, -2.0, -1.9, -1.8, -1.7, -1.6, -1.5, -1.4, -1.3, -1.2, -1.1, -1.0, -0.9, -0.8, -0.7, -0.6, -0.5, -0.4, -0.3, -0.2, -0.1, 0.0, 0.1, 0.2, 0.3, 0.4, 0.5, 0.6, 0.7, 0.8, 0.9, 1.0, 1.1, 1.2, 1.3, 1.4, 1.5, 1.6, 1.7, 1.8, 1.9, 2.0, 2.1, 2.2, 2.3, 2.4, 2.5, 2.6, 2.7, 2.8, 2.9, 3.0, 3.1, 3.2, 3.3, 3.4, 3.5, 3.6, 3.7, 3.8, 3.9, 4.0, 4.1, 4.2, 4.3, 4.4, 4.5, 4.6, 4.7, 4.8, 4.9], \"y\": [1440000.0, 1368900.0, 1299600.0, 1232100.0, 1166400.0, 1102500.0, 1040400.0, 980100.0, 921600.0, 864900.0, 810000.0, 756900.0, 705600.0, 656100.0, 608400.0, 562500.0, 518400.0, 476100.0, 435600.0, 396900.0, 360000.0, 324900.0, 291600.0, 260100.0, 230400.0, 202500.0, 176400.0, 152100.0, 129600.0, 108900.0, 90000.0, 72900.0, 57600.0, 44100.0, 32400.0, 22500.0, 14400.0, 8100.0, 3600.0, 900.0, 0.0, 900.0, 3600.0, 8100.0, 14400.0, 22500.0, 32400.0, 44100.0, 57600.0, 72900.0, 90000.0, 108900.0, 129600.0, 152100.0, 176400.0, 202500.0, 230400.0, 260100.0, 291600.0, 324900.0, 360000.0, 396900.0, 435600.0, 476100.0, 518400.0, 562500.0, 608400.0, 656100.0, 705600.0, 756900.0, 810000.0, 864900.0, 921600.0, 980100.0, 1040400.0, 1102500.0, 1166400.0, 1232100.0, 1299600.0, 1368900.0]}, {\"x\": [-1, 0, 1], \"y\": [269990.99999986356, 90000, -89990.99999986356], \"mode\": \"lines+text\", \"text\": [\"    slope:-179991.00\"], \"textposition\": \"right\"}], {}, {\"showLink\": true, \"linkText\": \"Export to plot.ly\"})});</script>"
      ]
     },
     "metadata": {},
     "output_type": "display_data"
    }
   ],
   "source": [
    "y_x_squared_trace = line_function_data(fake_cost_curve, x_values)\n",
    "# delta = 1\n",
    "# delta = .1\n",
    "# delta = .01\n",
    "# delta = .001\n",
    "delta = .0001\n",
    "tangent_at_delta = build_tangent_line(fake_cost_curve, 0, 1, delta)\n",
    "plot([y_x_squared_trace, tangent_at_delta])"
   ]
  },
  {
   "cell_type": "markdown",
   "metadata": {},
   "source": [
    "In the curve above, you can change the tangent line simply by changing the value of $ \\Delta x $.  Give it a shot!.  What you'll see is the following:\n",
    "\n",
    "| $ \\Delta x $        | $ \\Delta y/\\Delta x $|\n",
    "| ------------- |:-------------:|\n",
    "| .1      | -171,000      |\n",
    "| .01 | -179,100     |\n",
    "| .001 | -179,910      |\n",
    "| .0001 | -179,991      |\n"
   ]
  },
  {
   "cell_type": "markdown",
   "metadata": {},
   "source": [
    "As you can see, as $\\Delta x $ approaches zero, $f'(x) $ approaches $ -180,000 $.  This convergance around one number as we change another number, is called the **limit **.  So to describe the above, we would say, at the point $x = 0 $, the limit of $\\Delta y \\div \\Delta x $ -- that is the number $\\Delta y \\div \\Delta x $ approaches -- as  $ \\Delta x $ approaches zero is -180,000.  We can abbreviate this into the following expression: "
   ]
  },
  {
   "cell_type": "markdown",
   "metadata": {},
   "source": [
    "When $x = 0,\\lim_{\\Delta x\\to0} \\Delta y / \\Delta x = -180,000  $.\n",
    "\n",
    "Or, better yet, we can update and correct our definition of derivative to equal:\n",
    "\n",
    "$$ f'(x) = \\lim_{ h\\to0} \\frac{f(x + h) - f(x)}{h} $$ \n",
    "\n",
    "That is our real definition of a derivative, and you best not forget it."
   ]
  },
  {
   "cell_type": "markdown",
   "metadata": {},
   "source": [
    "### Summary"
   ]
  },
  {
   "cell_type": "markdown",
   "metadata": {
    "collapsed": true
   },
   "source": [
    "In this section, we learned about derivatives.  A derivative is the instantaneous rate of change of a function.  To calculate the instantaneous rate of change of a function, we see the value that $\\frac{\\Delta y}{\\Delta x} $ approaches as $\\Delta x $ approaches zero.  This way, we are not calculating the rate of change of a function across a given distance, but rather are finding the rate of change instantaneously. "
   ]
  },
  {
   "cell_type": "code",
   "execution_count": null,
   "metadata": {
    "collapsed": true
   },
   "outputs": [],
   "source": []
  }
 ],
 "metadata": {
  "kernelspec": {
   "display_name": "Python 3",
   "language": "python",
   "name": "python3"
  },
  "language_info": {
   "codemirror_mode": {
    "name": "ipython",
    "version": 3
   },
   "file_extension": ".py",
   "mimetype": "text/x-python",
   "name": "python",
   "nbconvert_exporter": "python",
   "pygments_lexer": "ipython3",
   "version": "3.6.1"
  }
 },
 "nbformat": 4,
 "nbformat_minor": 2
}
