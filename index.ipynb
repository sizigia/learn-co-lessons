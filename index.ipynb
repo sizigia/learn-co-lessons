{
 "cells": [
  {
   "cell_type": "markdown",
   "metadata": {},
   "source": [
    "# Applying Nearest Neighbors "
   ]
  },
  {
   "cell_type": "markdown",
   "metadata": {},
   "source": [
    "### Introduction\n",
    "\n",
    "In the last lesson we derived the nearest neighbor formula.  Nearest neighbors is a powerful algorithm because it is based on the premise that data that based on proximity, we can predict other attributes about an individual.  For example, those who live in a particular neighborhood may be more likely to be a particular age, or have a similar neighborhood, and just based on proximity we can then see if their likelihood to purchase a product approximates that of their neighbors.\n",
    "\n",
    "In this lesson we'll see how the nearest neighbors algorithm allows us to make predictions with data.  In doing so we'll also see our workflow for machine learning in general.  And we will see some common struggles that we have when applying a machine learning algorithm. "
   ]
  },
  {
   "cell_type": "markdown",
   "metadata": {},
   "source": [
    "###  Learning Objectives"
   ]
  },
  {
   "cell_type": "markdown",
   "metadata": {},
   "source": [
    "* See the machine learning process of Collect, Explore, Train, and Predict \n",
    "* Use the nearest neighbors algorithm to predict other information about users\n",
    "* See common tensions with machine learning algorithms"
   ]
  },
  {
   "cell_type": "markdown",
   "metadata": {},
   "source": [
    "### Explore the data (again)"
   ]
  },
  {
   "cell_type": "markdown",
   "metadata": {},
   "source": [
    "Once again, here are the locations of Bob and our customers.  This time let's add a fourth column for the number of purchases per year.\n",
    "\n",
    "| Name | Avenue #| Block # | No. Purchases |\n",
    "|------|------| ------     |  \n",
    "| Bob    | 4  |     8     | 52\n",
    "| Suzie  | 1  |     11     | 70\n",
    "| Fred   | 5  |     8     | 60\n",
    "| Edgar  | 6  |     13     | 20\n",
    "| Steven | 3  |     6     | 32\n",
    "| Natalie| 5  |     4     | 45"
   ]
  },
  {
   "cell_type": "markdown",
   "metadata": {},
   "source": [
    "And we represent these individuals along with their yearly purchases in Python with the following:"
   ]
  },
  {
   "cell_type": "code",
   "execution_count": 3,
   "metadata": {
    "collapsed": true
   },
   "outputs": [],
   "source": [
    "neighbors = [{'name': 'Bob', 'x': 4, 'y': 8, 'purchases': 52}, {'name': 'Suzie', 'x': 1, 'y': 11, 'purchases': 70}, \n",
    "             {'name': 'Fred', 'x': 5, 'y': 8, 'purchases': 60}, {'name': 'Edgar', 'x': 6, 'y': 13, 'purchases': 20},\n",
    "             {'name': 'Steven', 'x': 3, 'y': 6, 'purchases': 32}, {'name': 'Natalie', 'x': 5, 'y': 4, 'purchases': 45}]\n",
    "bob = neighbors[0]\n",
    "suzie = neighbors[1]"
   ]
  },
  {
   "cell_type": "code",
   "execution_count": 4,
   "metadata": {},
   "outputs": [
    {
     "data": {
      "text/html": [
       "<script>requirejs.config({paths: { 'plotly': ['https://cdn.plot.ly/plotly-latest.min']},});if(!window.Plotly) {{require(['plotly'],function(plotly) {window.Plotly=plotly;});}}</script>"
      ],
      "text/vnd.plotly.v1+html": [
       "<script>requirejs.config({paths: { 'plotly': ['https://cdn.plot.ly/plotly-latest.min']},});if(!window.Plotly) {{require(['plotly'],function(plotly) {window.Plotly=plotly;});}}</script>"
      ]
     },
     "metadata": {},
     "output_type": "display_data"
    },
    {
     "data": {
      "application/vnd.plotly.v1+json": {
       "data": [
        {
         "mode": "markers",
         "text": [
          "Bob: 52",
          "Suzie: 70",
          "Fred: 60",
          "Edgar: 20",
          "Steven: 32",
          "Natalie: 45"
         ],
         "x": [
          4,
          1,
          5,
          6,
          3,
          5
         ],
         "y": [
          8,
          11,
          8,
          13,
          6,
          4
         ]
        }
       ],
       "layout": {
        "xaxis": {
         "dtick": 1
        },
        "yaxis": {
         "dtick": 1
        }
       }
      },
      "text/html": [
       "<div id=\"7baaf59c-d61d-478e-b331-07b065fe4225\" style=\"height: 525px; width: 100%;\" class=\"plotly-graph-div\"></div><script type=\"text/javascript\">require([\"plotly\"], function(Plotly) { window.PLOTLYENV=window.PLOTLYENV || {};window.PLOTLYENV.BASE_URL=\"https://plot.ly\";Plotly.newPlot(\"7baaf59c-d61d-478e-b331-07b065fe4225\", [{\"x\": [4, 1, 5, 6, 3, 5], \"y\": [8, 11, 8, 13, 6, 4], \"text\": [\"Bob: 52\", \"Suzie: 70\", \"Fred: 60\", \"Edgar: 20\", \"Steven: 32\", \"Natalie: 45\"], \"mode\": \"markers\"}], {\"xaxis\": {\"dtick\": 1}, \"yaxis\": {\"dtick\": 1}}, {\"showLink\": true, \"linkText\": \"Export to plot.ly\"})});</script>"
      ],
      "text/vnd.plotly.v1+html": [
       "<div id=\"7baaf59c-d61d-478e-b331-07b065fe4225\" style=\"height: 525px; width: 100%;\" class=\"plotly-graph-div\"></div><script type=\"text/javascript\">require([\"plotly\"], function(Plotly) { window.PLOTLYENV=window.PLOTLYENV || {};window.PLOTLYENV.BASE_URL=\"https://plot.ly\";Plotly.newPlot(\"7baaf59c-d61d-478e-b331-07b065fe4225\", [{\"x\": [4, 1, 5, 6, 3, 5], \"y\": [8, 11, 8, 13, 6, 4], \"text\": [\"Bob: 52\", \"Suzie: 70\", \"Fred: 60\", \"Edgar: 20\", \"Steven: 32\", \"Natalie: 45\"], \"mode\": \"markers\"}], {\"xaxis\": {\"dtick\": 1}, \"yaxis\": {\"dtick\": 1}}, {\"showLink\": true, \"linkText\": \"Export to plot.ly\"})});</script>"
      ]
     },
     "metadata": {},
     "output_type": "display_data"
    }
   ],
   "source": [
    "import plotly\n",
    "\n",
    "plotly.offline.init_notebook_mode(connected=True)\n",
    "trace0 = dict(x=list(map(lambda neighbor: neighbor['x'],neighbors)), \n",
    "              y=list(map(lambda neighbor: neighbor['y'],neighbors)),\n",
    "              text=list(map(lambda neighbor: neighbor['name'] + ': ' + str(neighbor['purchases']),neighbors)),\n",
    "              mode='markers')\n",
    "plotly.offline.iplot(dict(data=[trace0], layout={'xaxis': {'dtick': 1}, 'yaxis': {'dtick': 1}}))"
   ]
  },
  {
   "cell_type": "markdown",
   "metadata": {},
   "source": [
    "So looking at this data, the proximity of customers does seem to be a good indicator of the number of purchases of a customer.  For example, assume that a new customer just purchased his first cupcake, and we want to develop some expectation for how many cupcakes he may purchase from us in the next year.  His location may be a good indicator of this.  Let's see this what the nearest neighbors formula will tell us."
   ]
  },
  {
   "cell_type": "markdown",
   "metadata": {},
   "source": [
    "### Apply our nearest neighbors algorithm"
   ]
  },
  {
   "cell_type": "markdown",
   "metadata": {},
   "source": [
    "Once again, here is our nearest neighbors algorithm.  The code below reflects the following steps:\n",
    "\n",
    "1. Write a function to calculate the distance of one neighbor from another\n",
    "2. Write a function that returns the distance between one neighbor and all others (using `map`)\n",
    "3. Return a selected number of nearest neighbors"
   ]
  },
  {
   "cell_type": "markdown",
   "metadata": {},
   "source": [
    "Ok once again, here is the code."
   ]
  },
  {
   "cell_type": "code",
   "execution_count": 5,
   "metadata": {
    "collapsed": true
   },
   "outputs": [],
   "source": [
    "import math\n",
    "\n",
    "def distance(selected_individual, neighbor):\n",
    "   distance_squared = (neighbor['x'] - selected_individual['x'])**2 + (neighbor['y'] - selected_individual['y'])**2\n",
    "   return math.sqrt(distance_squared)\n",
    "\n",
    "def distance_between_neighbors(selected_individual, neighbor):\n",
    "    neighbor_with_distance = neighbor.copy()\n",
    "    neighbor_with_distance['distance'] = distance(selected_individual, neighbor)\n",
    "    return neighbor_with_distance\n",
    "\n",
    "def distance_all(selected_individual, neighbors):\n",
    "    remaining_neighbors = filter(lambda neighbor: neighbor != selected_individual, neighbors)\n",
    "    return list(map(lambda neighbor: distance_between_neighbors(selected_individual, neighbor), remaining_neighbors))"
   ]
  },
  {
   "cell_type": "code",
   "execution_count": 6,
   "metadata": {
    "collapsed": true
   },
   "outputs": [],
   "source": [
    "def nearest_neighbors(selected_individual, neighbors, number = None):\n",
    "    number = number or len(neighbors)\n",
    "    neighbor_distances = distance_all(selected_individual, neighbors)\n",
    "    sorted_neighbors = sorted(neighbor_distances, key=lambda neighbor: neighbor['distance'])\n",
    "    return sorted_neighbors[:number]"
   ]
  },
  {
   "cell_type": "code",
   "execution_count": 7,
   "metadata": {
    "scrolled": false
   },
   "outputs": [
    {
     "data": {
      "text/plain": [
       "[{'distance': 1.0, 'name': 'Fred', 'purchases': 60, 'x': 5, 'y': 8}]"
      ]
     },
     "execution_count": 7,
     "metadata": {},
     "output_type": "execute_result"
    }
   ],
   "source": [
    "bob = neighbors[0]\n",
    "nearest_neighbor_to_bob = nearest_neighbors(bob, neighbors, 1)\n",
    "nearest_neighbor_to_bob"
   ]
  },
  {
   "cell_type": "markdown",
   "metadata": {},
   "source": [
    "So for example, we try our `nearest_neighbors` function on a known piece of data, `bob`.  When we ask our function to just return the closest neighbor, then it returns Fred as the closest neighbor and estimates that Bob's number of purchases will be akin to his.  We can also apply the function to a customer at new location."
   ]
  },
  {
   "cell_type": "code",
   "execution_count": 8,
   "metadata": {
    "scrolled": true
   },
   "outputs": [
    {
     "data": {
      "text/plain": [
       "[{'distance': 1.4142135623730951,\n",
       "  'name': 'Natalie',\n",
       "  'purchases': 45,\n",
       "  'x': 5,\n",
       "  'y': 4}]"
      ]
     },
     "execution_count": 8,
     "metadata": {},
     "output_type": "execute_result"
    }
   ],
   "source": [
    "nearest_neighbor_to_new = nearest_neighbors({'x': 4, 'y': 3}, neighbors, 1)\n",
    "nearest_neighbor_to_new"
   ]
  },
  {
   "cell_type": "markdown",
   "metadata": {},
   "source": [
    "Just choosing the **nearest neighbor** seems pretty arbitrary for making an estimated purchase.  Our estimate will be determined just by one individual's purhcases.  To fix this, we can expand the number of neighbors and then take the average of their purchases to arrive at an estimate number for someone at that location."
   ]
  },
  {
   "cell_type": "code",
   "execution_count": 9,
   "metadata": {},
   "outputs": [
    {
     "data": {
      "text/plain": [
       "[{'distance': 1.4142135623730951,\n",
       "  'name': 'Natalie',\n",
       "  'purchases': 45,\n",
       "  'x': 5,\n",
       "  'y': 4},\n",
       " {'distance': 3.1622776601683795,\n",
       "  'name': 'Steven',\n",
       "  'purchases': 32,\n",
       "  'x': 3,\n",
       "  'y': 6},\n",
       " {'distance': 5.0, 'name': 'Bob', 'purchases': 52, 'x': 4, 'y': 8}]"
      ]
     },
     "execution_count": 9,
     "metadata": {},
     "output_type": "execute_result"
    }
   ],
   "source": [
    "nearest_three_neighbors = nearest_neighbors({'x': 4, 'y': 3}, neighbors, 3)\n",
    "nearest_three_neighbors"
   ]
  },
  {
   "cell_type": "code",
   "execution_count": 10,
   "metadata": {},
   "outputs": [
    {
     "data": {
      "text/plain": [
       "43.0"
      ]
     },
     "execution_count": 10,
     "metadata": {},
     "output_type": "execute_result"
    }
   ],
   "source": [
    "purchases = list(map(lambda neighbor: neighbor['purchases'],nearest_three_neighbors))\n",
    "average = sum(purchases)/len(purchases)\n",
    "average # 43.0"
   ]
  },
  {
   "cell_type": "markdown",
   "metadata": {},
   "source": [
    "### Choosing the number of neighbors"
   ]
  },
  {
   "cell_type": "markdown",
   "metadata": {},
   "source": [
    "Ok, so in the above section our nearest neighbors formula is making a prediction.  It's telling us that someone who lives on 4th street and 3rd Avenue would expect to make 45 purchases.  If you are feeling that this prediction approach is a little unscientific, that's a fair thought.  Our algorithm will change dramatically based on the number of nearest neighbors that we choose.  The number of neighbors that we choose in the nearest neighbors algorithm is called `k`.  No one knows why."
   ]
  },
  {
   "cell_type": "markdown",
   "metadata": {},
   "source": [
    "Choosing the correct number of neighbors to consider touches upon a number of themes in data science.  We'll visit these briefly here, not so that you walk away fully versed in all of them, but so that you are aware of them as you visit other machine learning problems.  "
   ]
  },
  {
   "cell_type": "markdown",
   "metadata": {},
   "source": [
    "#### Underfitting\n",
    "\n",
    "**Underfitting** occurs when our formula does not pick up on the relevant signals from the data.  For example, if the number of neighbors we have is too large, then our algorithm would improperly predict the purchases of our known customers, as it would not respond to differences in location.  "
   ]
  },
  {
   "cell_type": "markdown",
   "metadata": {},
   "source": [
    "#### Minimizing for error\n",
    "\n",
    "How do we know the correct number for k, that is number of neighbors to consider?  Well one way is to see how well our algorithm predicts our existing data, and then optimize for that.  \n",
    "\n",
    "So for example, we see that our with k = 1, uses the nearest neighbor to Bob to predict 60 purchases for Bob, where Bob actually purchases 52.  So our formula is off by 8.  This number, our actual minus the expected, is called our **error**.  So we can add up how much our formula is off across all of our neighbors, and choose the k that minimizes the error for all of our data."
   ]
  },
  {
   "cell_type": "markdown",
   "metadata": {},
   "source": [
    "#### Training \n",
    "\n",
    "This approach of looking at our existing dataset optimizing for some metric, like a low error, is called **training**. Here we are training our algorithm by choosing numbers of k such that our algorithm optimizes for predicting the number of purchases in our dataset."
   ]
  },
  {
   "cell_type": "markdown",
   "metadata": {},
   "source": [
    "#### Overfitting\n",
    "\n",
    "However, from training our algorithm to match our data, **overfitting** can occur.  Overfitting occurs when we overgeneralize from the data.  For example, if we are served a bad meal at a chain restaurant, we could improperly conclude that all meals at the restaurant are bad.  The same thing can happen with our algorithm.\n",
    "\n",
    "Our algorithm can be optimized for and perform well with our existing data, but not do well with new data.  Imagine that we have one hundred cupcake customers and choosing a k of 2 accurately best minimizes the error in predicting the number of purchases.  We could find later that, as we get new customers, our model does not predict their purchases.\n",
    "\n",
    "A problem could be that picked up on things that are particular to our data set, but will not generalize to new data."
   ]
  },
  {
   "cell_type": "markdown",
   "metadata": {},
   "source": [
    "#### Testing "
   ]
  },
  {
   "cell_type": "markdown",
   "metadata": {},
   "source": [
    "To see if the algorithm fits new data, we should try it with new data.  We do not want to wait for this new data to just arrive, so instead data scientists split their data into two: about 80 percent for testing and 20 percent for training.  The training dataset is used for what we saw previously tweak the algorithm such that it minimizes error or some other metric.  Then, now that the algorithm is optimized, they see how well their algorithm performs on something it is not molded to, called test data.  If the algorithm performs well on the test data, then it is ready to use to make new predictions."
   ]
  },
  {
   "cell_type": "markdown",
   "metadata": {},
   "source": [
    "#### All together"
   ]
  },
  {
   "cell_type": "markdown",
   "metadata": {},
   "source": [
    "So these four concepts are all related.  Underfitting occurs when our algorithm is not responsive enough to our data, and therefore we can optimize our algorithm to better predict our existing data.  Changing our algorithm such that it responds to our data is called **training**.  The risk of training the algorithm to an existing data set is that the algorithm can pick up on the quirks of the data, such that it will not generalize to new data.  This is called **overfitting**.  To prevent against overfitting, data scientists set aside a portion of the data that they are not training their algorithm with.  Seeing if their algorithm properly predicts this new data as well is called **testing**. "
   ]
  },
  {
   "cell_type": "markdown",
   "metadata": {},
   "source": [
    "### Summary"
   ]
  },
  {
   "cell_type": "markdown",
   "metadata": {},
   "source": [
    "So as you can see, there is a very structured approach, and a lot of thought that can go into just choosing the correct k size.  At this point, we do not need to be so formal when choosing our k size.  As we'll see in the next section, by choosing a correct k, we can still derive a nearest neighbors algorithm that is fairly predictive of our data."
   ]
  },
  {
   "cell_type": "markdown",
   "metadata": {},
   "source": [
    "In this lesson, we reviewed the nearest neighbors function and saw how it derives from calculating the distance using the Pythagorean Theorem to then sorting neighbors by that interest.  \n",
    "\n"
   ]
  }
 ],
 "metadata": {
  "kernelspec": {
   "display_name": "Python 3",
   "language": "python",
   "name": "python3"
  },
  "language_info": {
   "codemirror_mode": {
    "name": "ipython",
    "version": 3
   },
   "file_extension": ".py",
   "mimetype": "text/x-python",
   "name": "python",
   "nbconvert_exporter": "python",
   "pygments_lexer": "ipython3",
   "version": "3.6.1"
  }
 },
 "nbformat": 4,
 "nbformat_minor": 2
}
