{
 "cells": [
  {
   "cell_type": "markdown",
   "metadata": {},
   "source": [
    "# Derivatives of straight lines"
   ]
  },
  {
   "cell_type": "markdown",
   "metadata": {},
   "source": [
    "### Learning objectives"
   ]
  },
  {
   "cell_type": "markdown",
   "metadata": {},
   "source": [
    "* Understand that derivatives are the instantaneous rate of change of a function\n",
    "* Understand how to calculate a derivative of a straight line"
   ]
  },
  {
   "cell_type": "markdown",
   "metadata": {},
   "source": [
    "### Introduction"
   ]
  },
  {
   "cell_type": "markdown",
   "metadata": {},
   "source": [
    "In the lesson discussing step sizes of our gradient descent algorithm, we filled in some more information on how to find \"best fit\" regression line by using gradient descent.  Namely, we learned how to efficiently change the y-intercept of the regression line to minimize the residual sum of squares.  \n",
    "\n",
    "We did this by calibrating the size and direction of our change of one regression line parameter -- let's say $b$, our y-intercept -- to the slope of the line tangent to the cost curve at that value of $b$. By tangent line, we mean a line that \"just touches\" our curve at a given point.  \n",
    "\n",
    "Below is a curve that shows the RSS of a regression line with different values of $b$.  Our orange, green, and red lines are each tangent to the curve at their respective points. "
   ]
  },
  {
   "cell_type": "markdown",
   "metadata": {},
   "source": [
    "![](./tangent-lines.png)"
   ]
  },
  {
   "cell_type": "markdown",
   "metadata": {},
   "source": [
    "With our gradient descent algorithm, the larger the absolute value of the slope, the larger the change in our regression line parameter -- that is, the larger our step size.  We take a much larger step when our slope is -146.17 at $b = 70$ than we do when our slope equals -58.51 at $b = 85$.\n",
    "\n",
    "Here is what **we know so far:** \n",
    "* How to apply gradient descent by using the slope of the cost curve to determine the direction and magnitude of the next step for updating the parameter of a regression line\n",
    "\n",
    "Here is **what we need to learn:**\n",
    "* How to find that slope or rate of change of a function at a given point.  \n",
    "\n",
    "> The instantaneous rate of change at a given point is called the **derivative**.  \n",
    "\n",
    "Derivatives are important because they tell us how a function is changing at any given point.  Derivatives allow us to see what is coming next.  \n",
    "\n",
    "All a derivative means is the instantaneous rate of change of a function.  We already learned how to calculate the derivative of a straight line: it's the rise over the run. The rate of change of a line is constant for all points along the line, therefore the derivative is the same for all of its points.  We'll focus on calculating the derivatives of straight line functions, or linear functions, before moving onto calculating the derivative of curved lines (like our cost curve) in a future lesson.   "
   ]
  },
  {
   "cell_type": "markdown",
   "metadata": {},
   "source": [
    "### Understanding the rate of change"
   ]
  },
  {
   "cell_type": "markdown",
   "metadata": {},
   "source": [
    "Let's say that we want a function that  represents a person taking a jog.  We'll represent this by drawing a straight line."
   ]
  },
  {
   "cell_type": "markdown",
   "metadata": {},
   "source": [
    "![](./running-miles.png)"
   ]
  },
  {
   "cell_type": "markdown",
   "metadata": {},
   "source": [
    "The graph above helps us see how distance changes in relation to time, or in other words speed.  So here, when we ask about rate of change, we're asking how fast is our jogger traveling? "
   ]
  },
  {
   "cell_type": "markdown",
   "metadata": {},
   "source": [
    "### Calculating the rate of change"
   ]
  },
  {
   "cell_type": "markdown",
   "metadata": {},
   "source": [
    "To calculate the miles per hour we can see where a person is at a given time, then wait an hour and to see how far he traveled.  Or we can wait two hours and divide distance traveled by two.  Generally, our technique is to divide number of miles traveled by the number of hours passed.  In this specific example we'll imagine doing the following to calculate the speed at hour 1.\n",
    "\n",
    "> * Start a stop watch after one hour and note the distance at that hour\n",
    "> * Then, let one hour elapse and mark down the distance at that next hour.  \n",
    "> * Finally, divide the difference in the distances by the elapsed time.  \n",
    "\n",
    "In the below graph, we begin to calculate the speed at hour number one."
   ]
  },
  {
   "cell_type": "markdown",
   "metadata": {},
   "source": [
    "![](./deltaxdeltay.png)"
   ]
  },
  {
   "cell_type": "markdown",
   "metadata": {},
   "source": [
    "We calculate our jogger's speed by seeing were he starts at hour one and ends at hour two.  Our jogger went from mile numbers three to six -- indicated by the orange line, so miles per hour is:\n",
    "\n",
    " $$ \\frac{miles}{hour} = \\frac {end distance - start distance}{end time - start time} = \\frac {6 - 3}{2 - 1} = 3$$"
   ]
  },
  {
   "cell_type": "markdown",
   "metadata": {},
   "source": [
    "Miles per hour is just one example of rate of change. Anytime we come across the word *per*, we know this is a form of rate of change.  All forms of **rate of change** are calculated the same way: the change in y divided by the change in x. \n",
    "\n",
    "* Another way of expressing **change in y** is:  \n",
    "   * $y_2 - y_1$ or $\\Delta y$, read delta y \n",
    "* Likewise, another way of expressing **change in x** is:  \n",
    "   * $x_2 - x_1$ or $\\Delta x$, read delta x\n",
    "\n",
    "Generally, we can say that: \n",
    "\n",
    "* rate of change $= \\frac{rise}{run} = \\frac{\\Delta y}{\\Delta x} = \\frac{y_2 - y_1}{x_2 - x_1}$\n",
    "\n",
    "Just like in our example, we saw: \n",
    "\n",
    "* miles per hour =  $\\frac{distance_2 - distance_1}{time_2 - time_1} = \\frac{6 - 3}{2 - 1} = \\frac{3}{1} = 3$ mph"
   ]
  },
  {
   "cell_type": "markdown",
   "metadata": {},
   "source": [
    "Derivatives are a specific kind of rate of change -- the rate of change of a function **at a given point**.  For a linear function as we work with here, we calculate them through rise over run, or the change in y divided by the change in x, expressed $\\frac{\\Delta y}{\\Delta x}$.  The rest of this lesson, will simply be introducing more math terms and symbols for expressing this same concept.  \n",
    "\n",
    "> Stick with us, fully understanding these will pay off when we take the derivative of more complex functions."
   ]
  },
  {
   "cell_type": "markdown",
   "metadata": {},
   "source": [
    "### Derivatives with *even more symbols* "
   ]
  },
  {
   "cell_type": "markdown",
   "metadata": {},
   "source": [
    "Since our jogger is running at a constant rate, our calculated rate of change of 3 miles per hour is also the derivative.  Of course, we know that in math we express our functions as $f(x)$.  Let's do that here."
   ]
  },
  {
   "cell_type": "markdown",
   "metadata": {},
   "source": [
    "![](./fxderivative.png)"
   ]
  },
  {
   "cell_type": "markdown",
   "metadata": {},
   "source": [
    "If we are given a function $f(x)$, we say the derivative of that function is $f'(x)$ -- read f primed of x. \n",
    "\n",
    "We already can express the derivative of a linear function $f(x)$ many different ways: \n",
    "\n",
    "* $ f'(x) = \\frac{rise}{run} = \\frac{\\Delta y}{\\Delta x} = \\frac{y_2 - y_1}{x_2 - x_1} =  \\frac{f(x_2) - f(x_1)}{x_2 - x_1}$"
   ]
  },
  {
   "cell_type": "markdown",
   "metadata": {},
   "source": [
    "Take a look to at the equation far to the right:\n",
    "    \n",
    "$$f'(x) = \\frac{f(x_2) - f(x_1)}{x_2 - x_1} $$ "
   ]
  },
  {
   "cell_type": "markdown",
   "metadata": {},
   "source": [
    "You see that we replaced $y_2 - y_1$ with $f(x_2) - f(x_1)$.  This makes sense, because really when we say $y_2$ and $y_1$, we mean the function's output at the first x value and the function's output at the second x value.  "
   ]
  },
  {
   "cell_type": "markdown",
   "metadata": {},
   "source": [
    "We indicate that we are calculating the derivative of $f(x)$ at a specific point, say hour 1, by calling $f'(1)$.  That's the rate of change at hour 1.  Now we can plug in our values to calculate the derivative.  \n",
    "\n",
    "* $x_1 = 1$ as hour 1 is our starting point\n",
    "* $x_2 = 2$ as hour 2 is ending point starting point\n",
    "\n",
    "giving us: \n",
    "\n",
    "$$f'(1) = \\frac{f(2) - f(1)}{2 - 1} = \\frac{6 - 3}{2 - 1} = 3 $$ "
   ]
  },
  {
   "cell_type": "markdown",
   "metadata": {},
   "source": [
    "So $f(x)$ equals the output at a given point.  And $f'(x)$ is the rate of change at a given point.  So then:\n",
    "* $f(1)$ \n",
    "    * means the output at $x = 1$, or in our example, *the distance* at hour one, and \n",
    "* $f'(1)$ \n",
    "    * means the rate of change at $x = 1$, or in our example, *the speed* at hour one"
   ]
  },
  {
   "cell_type": "markdown",
   "metadata": {},
   "source": [
    "Because the jogger's speed never changes throughout and since the derivative is the rate of change at a given point, we can conclude that the derivative also never changes.  Let's plot the distance from hours zero through five on the left and the speed from hours zero through five on the right to visualize this steady pace."
   ]
  },
  {
   "cell_type": "markdown",
   "metadata": {},
   "source": [
    "![](./side-derivative.png)"
   ]
  },
  {
   "cell_type": "markdown",
   "metadata": {},
   "source": [
    "> * To the left is a graph of $f(x) = 3x$ for different values of x.  \n",
    "> * And to the right is a plot of the rate of change of that function, $f'(x)$, for different values $x$.\n",
    "> * So while *the distance* changes through time, *the speed*, or rate of change, stays the same."
   ]
  },
  {
   "cell_type": "markdown",
   "metadata": {},
   "source": [
    "### Expressing the derivative in terms of change"
   ]
  },
  {
   "cell_type": "markdown",
   "metadata": {},
   "source": [
    "Now our above formulas for calculating the derivative do the job, but they don't exactly express our technique in the example of our jogger.  Remember that our technique for calculating the jogger's speed is the following: \n",
    "\n",
    "> * Start a stop watch after one hour and see the distance at that hour\n",
    "> * Then, let time elapse one hour and see the distance at that hour.  \n",
    "> * Finally, divide the difference in the distances by the elapsed time.  \n",
    "\n",
    "This is what this looks like in terms of math: \n",
    "\n",
    "$f'(x) = \\frac{f(x_1 + \\Delta x) - f(x_1)}{\\Delta x} $"
   ]
  },
  {
   "cell_type": "markdown",
   "metadata": {},
   "source": [
    "Let's take a second to fully understand this new formula because it's not going away.  \n",
    "\n",
    "* $f'(x)$ is the rate of change at a given value, or here the speed at a given time\n",
    "\n",
    "\n",
    "* $f(x)$ is the distance at a given time, and $f(x_1)$ is the distance at the starting time, $x_1$\n",
    "\n",
    "\n",
    "* The elapsed time is $\\Delta x$, the change in x.\n",
    "\n",
    "\n",
    "* $f(x_1 + \\Delta x)$ is the distance at the starting time plus the elapsed time "
   ]
  },
  {
   "cell_type": "markdown",
   "metadata": {},
   "source": [
    "This is the definition that we will often see.  It expresses our technique for calculating the derivative.  \n",
    "* Subtract the output at one input, x, from the output at that initial input plus a change in x.  \n",
    "* Then divide that difference by the change in x.  \n",
    "\n",
    "In summation, that is the derivative of a line, or the rate of change of a linear function.  The rate of change answers how much is our output changing at a given point."
   ]
  },
  {
   "cell_type": "markdown",
   "metadata": {},
   "source": [
    "### Summary "
   ]
  },
  {
   "cell_type": "markdown",
   "metadata": {},
   "source": [
    "In this lesson, we saw that the derivative is the change in output per a change in input.  In the case of our jogger, the input was time and the output was distance traveled.  We learned that the derivative is the change in the runner's distance traveled divided by the amount of time passed.\n",
    "\n",
    "Graphically, we see that the derivative is simply the rise over run or change in x divided by change in y or:\n",
    "\n",
    "$$ f'(x) = \\frac{\\Delta y}{\\Delta x} = \\frac{y_2 - y_1}{x_2 - x_1} $$\n",
    "\n",
    "Then we saw that we can express the derivative in terms of $f(x)$ instead of $y_1$ and $y_2$ as in the output at second x minus the output at the first x divided by the difference between the two x values.  Or, in an equation:\n",
    "\n",
    "$$ f'(x) = \\frac{f(x_2) - f(x_1)}{x_2 - x_1} $$\n",
    "\n",
    "And finally we saw how we can express the derivative in terms of $\\Delta x$ as in subtract the output at an initial x value from the output at that initial x value plus some change in x, then divide by that change in x:\n",
    "\n",
    "$$ f'(x) = \\frac{f(x_1 + \\Delta x) - f(x_1)}{\\Delta x} $$\n"
   ]
  }
 ],
 "metadata": {
  "kernelspec": {
   "display_name": "Python 3",
   "language": "python",
   "name": "python3"
  },
  "language_info": {
   "codemirror_mode": {
    "name": "ipython",
    "version": 3
   },
   "file_extension": ".py",
   "mimetype": "text/x-python",
   "name": "python",
   "nbconvert_exporter": "python",
   "pygments_lexer": "ipython3",
   "version": "3.6.4"
  }
 },
 "nbformat": 4,
 "nbformat_minor": 2
}
