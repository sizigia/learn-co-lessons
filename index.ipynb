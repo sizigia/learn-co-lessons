{
 "cells": [
  {
   "cell_type": "markdown",
   "metadata": {},
   "source": [
    "# Visualizing Data"
   ]
  },
  {
   "cell_type": "markdown",
   "metadata": {},
   "source": [
    "### Learning Objectives"
   ]
  },
  {
   "cell_type": "markdown",
   "metadata": {},
   "source": [
    "* Get a sense of how to use a graphing library, like Plotly, to answer questions about how to visualize our data\n",
    "* Understand how our dictionary and list data structures can represent graphical information"
   ]
  },
  {
   "cell_type": "markdown",
   "metadata": {},
   "source": [
    "### Introduction"
   ]
  },
  {
   "cell_type": "markdown",
   "metadata": {},
   "source": [
    "We have spent the last few sections introducing ourselves to various data structures in Python.  In this section, we will see how we can use these same data structures to display our data with the help of a library, Plotly."
   ]
  },
  {
   "cell_type": "markdown",
   "metadata": {},
   "source": [
    "### Working with Plotly"
   ]
  },
  {
   "cell_type": "markdown",
   "metadata": {},
   "source": [
    "There are various Python visualization tools we can use to display our data. In this lesson, we will be using Plotly, as it produces nice looking graphs and is easy to work with.  \n",
    "\n",
    "We can easily download the `plotly` library with the use of `pip`.  \n",
    "\n",
    "> Pip is a package management system that allows us to easily download and install libraries written in Python.  If you are working on Learn, we have already installed pip for you.  We will not walk through installing pip here, however you can find instructions on installing pip [for Mac](http://softwaretester.info/install-and-upgrade-pip-on-mac-os-x/) or [for Windows](https://www.youtube.com/results?search_query=instally+pip+windows) online.  Also, if you are familiar with working with a terminal and have `easy_install`, you can run `sudo easy_install pip` from the terminal."
   ]
  },
  {
   "cell_type": "markdown",
   "metadata": {},
   "source": [
    "To install a package with pip, the general pattern is to run `pip install` followed by the name of the package.  We generally do this from a terminal (whatever that is), but you can also install packages directly from Jupyter, like so:\n",
    "\n",
    ">**Note:** *You can ignore any messages below that say requirement already satisfied.*"
   ]
  },
  {
   "cell_type": "code",
   "execution_count": 2,
   "metadata": {},
   "outputs": [
    {
     "name": "stdout",
     "output_type": "stream",
     "text": [
      "Collecting plotly==3.3.0\n",
      "\u001b[?25l  Downloading https://files.pythonhosted.org/packages/d6/3b/abec247e24e2b8f29793811788fe0607062f40eefe3104823ad57f06ecf1/plotly-3.3.0-py2.py3-none-any.whl (37.3MB)\n",
      "\u001b[K    100% |████████████████████████████████| 37.3MB 407kB/s ta 0:00:011 7% |██▌                             | 3.0MB 6.7MB/s eta 0:00:06    9% |███                             | 3.4MB 4.5MB/s eta 0:00:08    19% |██████▏                         | 7.2MB 6.0MB/s eta 0:00:06    25% |████████▏                       | 9.6MB 6.9MB/s eta 0:00:05    26% |████████▌                       | 9.9MB 7.9MB/s eta 0:00:04    34% |███████████▏                    | 13.0MB 6.9MB/s eta 0:00:04    49% |███████████████▉                | 18.5MB 9.8MB/s eta 0:00:02    53% |█████████████████               | 19.8MB 6.4MB/s eta 0:00:03    70% |██████████████████████▌         | 26.3MB 8.2MB/s eta 0:00:02    71% |███████████████████████         | 26.8MB 10.1MB/s eta 0:00:02    73% |███████████████████████▍        | 27.3MB 9.0MB/s eta 0:00:02    81% |██████████████████████████      | 30.2MB 9.7MB/s eta 0:00:01    86% |███████████████████████████▊    | 32.4MB 8.5MB/s eta 0:00:01    89% |████████████████████████████▋   | 33.4MB 12.7MB/s eta 0:00:01\n",
      "\u001b[?25hRequirement already satisfied: six in /home/faustina/anaconda3/envs/avidhya/lib/python3.7/site-packages (from plotly==3.3.0) (1.12.0)\n",
      "Requirement already satisfied: decorator>=4.0.6 in /home/faustina/anaconda3/envs/avidhya/lib/python3.7/site-packages (from plotly==3.3.0) (4.4.0)\n",
      "Requirement already satisfied: nbformat>=4.2 in /home/faustina/anaconda3/envs/avidhya/lib/python3.7/site-packages (from plotly==3.3.0) (4.4.0)\n",
      "Requirement already satisfied: pytz in /home/faustina/anaconda3/envs/avidhya/lib/python3.7/site-packages (from plotly==3.3.0) (2018.9)\n",
      "Requirement already satisfied: retrying>=1.3.3 in /home/faustina/anaconda3/envs/avidhya/lib/python3.7/site-packages (from plotly==3.3.0) (1.3.3)\n",
      "Requirement already satisfied: requests in /home/faustina/anaconda3/envs/avidhya/lib/python3.7/site-packages (from plotly==3.3.0) (2.21.0)\n",
      "Requirement already satisfied: jupyter-core in /home/faustina/anaconda3/envs/avidhya/lib/python3.7/site-packages (from nbformat>=4.2->plotly==3.3.0) (4.4.0)\n",
      "Requirement already satisfied: traitlets>=4.1 in /home/faustina/anaconda3/envs/avidhya/lib/python3.7/site-packages (from nbformat>=4.2->plotly==3.3.0) (4.3.2)\n",
      "Requirement already satisfied: ipython-genutils in /home/faustina/anaconda3/envs/avidhya/lib/python3.7/site-packages (from nbformat>=4.2->plotly==3.3.0) (0.2.0)\n",
      "Requirement already satisfied: jsonschema!=2.5.0,>=2.4 in /home/faustina/anaconda3/envs/avidhya/lib/python3.7/site-packages (from nbformat>=4.2->plotly==3.3.0) (3.0.1)\n",
      "Requirement already satisfied: idna<2.9,>=2.5 in /home/faustina/anaconda3/envs/avidhya/lib/python3.7/site-packages (from requests->plotly==3.3.0) (2.8)\n",
      "Requirement already satisfied: chardet<3.1.0,>=3.0.2 in /home/faustina/anaconda3/envs/avidhya/lib/python3.7/site-packages (from requests->plotly==3.3.0) (3.0.4)\n",
      "Requirement already satisfied: certifi>=2017.4.17 in /home/faustina/anaconda3/envs/avidhya/lib/python3.7/site-packages (from requests->plotly==3.3.0) (2019.3.9)\n",
      "Requirement already satisfied: urllib3<1.25,>=1.21.1 in /home/faustina/anaconda3/envs/avidhya/lib/python3.7/site-packages (from requests->plotly==3.3.0) (1.24.1)\n",
      "Requirement already satisfied: attrs>=17.4.0 in /home/faustina/anaconda3/envs/avidhya/lib/python3.7/site-packages (from jsonschema!=2.5.0,>=2.4->nbformat>=4.2->plotly==3.3.0) (19.1.0)\n",
      "Requirement already satisfied: pyrsistent>=0.14.0 in /home/faustina/anaconda3/envs/avidhya/lib/python3.7/site-packages (from jsonschema!=2.5.0,>=2.4->nbformat>=4.2->plotly==3.3.0) (0.14.11)\n",
      "Requirement already satisfied: setuptools in /home/faustina/anaconda3/envs/avidhya/lib/python3.7/site-packages (from jsonschema!=2.5.0,>=2.4->nbformat>=4.2->plotly==3.3.0) (40.8.0)\n",
      "Installing collected packages: plotly\n",
      "  Found existing installation: plotly 4.0.0\n",
      "    Uninstalling plotly-4.0.0:\n",
      "      Successfully uninstalled plotly-4.0.0\n",
      "Successfully installed plotly-3.3.0\n"
     ]
    }
   ],
   "source": [
    "!pip install plotly==3.3.0"
   ]
  },
  {
   "cell_type": "markdown",
   "metadata": {},
   "source": [
    "> Remember to use shift + enter to run the line above."
   ]
  },
  {
   "cell_type": "markdown",
   "metadata": {},
   "source": [
    "Now we have `plotly` on our computer.  The next step is to get it into this notebook.  We do so with the following two lines."
   ]
  },
  {
   "cell_type": "code",
   "execution_count": 3,
   "metadata": {},
   "outputs": [
    {
     "data": {
      "text/html": [
       "<script>requirejs.config({paths: { 'plotly': ['https://cdn.plot.ly/plotly-latest.min']},});if(!window.Plotly) {{require(['plotly'],function(plotly) {window.Plotly=plotly;});}}</script>"
      ],
      "text/vnd.plotly.v1+html": [
       "<script>requirejs.config({paths: { 'plotly': ['https://cdn.plot.ly/plotly-latest.min']},});if(!window.Plotly) {{require(['plotly'],function(plotly) {window.Plotly=plotly;});}}</script>"
      ]
     },
     "metadata": {},
     "output_type": "display_data"
    }
   ],
   "source": [
    "import plotly\n",
    "\n",
    "plotly.offline.init_notebook_mode(connected=True)\n",
    "# use offline mode to avoid initial registration"
   ]
  },
  {
   "cell_type": "markdown",
   "metadata": {},
   "source": [
    "In the code above, we bring in the `plotly` library by using the keyword `import` followed by our library name, `plotly`.  Then we call the method `plotly.offline.init_notebook_mode(connected=True)` so that we do not have to connect plotly to a registered account online.  If you are wondering how to we know all of this, you simply ask Google.\n",
    "\n",
    "![](./plotly-no-account.png)"
   ]
  },
  {
   "cell_type": "markdown",
   "metadata": {},
   "source": [
    "Ok, now let's use plotly to build our first graph."
   ]
  },
  {
   "cell_type": "markdown",
   "metadata": {},
   "source": [
    "First, we create a new dictionary and assign it to `trace0`. Then we set `x` key that points to a list of $x$ values.  Similarly, we create a `y` key with a value of a list of $y$ values.  "
   ]
  },
  {
   "cell_type": "code",
   "execution_count": 4,
   "metadata": {},
   "outputs": [
    {
     "data": {
      "text/plain": [
       "{'type': 'bar', 'x': ['jack', 'jill', 'sandy'], 'y': [8, 11, 10]}"
      ]
     },
     "execution_count": 4,
     "metadata": {},
     "output_type": "execute_result"
    }
   ],
   "source": [
    "trace0 = {'type': 'bar', 'x': ['jack', 'jill', 'sandy'], 'y': [8, 11, 10]}\n",
    "trace0"
   ]
  },
  {
   "cell_type": "markdown",
   "metadata": {},
   "source": [
    "Now we plot our graph by calling the `plotly.offline.iplot` method and passing through a list of traces to `iplot` method."
   ]
  },
  {
   "cell_type": "code",
   "execution_count": 5,
   "metadata": {},
   "outputs": [
    {
     "data": {
      "text/html": [
       "<script>requirejs.config({paths: { 'plotly': ['https://cdn.plot.ly/plotly-latest.min']},});if(!window.Plotly) {{require(['plotly'],function(plotly) {window.Plotly=plotly;});}}</script>"
      ],
      "text/vnd.plotly.v1+html": [
       "<script>requirejs.config({paths: { 'plotly': ['https://cdn.plot.ly/plotly-latest.min']},});if(!window.Plotly) {{require(['plotly'],function(plotly) {window.Plotly=plotly;});}}</script>"
      ]
     },
     "metadata": {},
     "output_type": "display_data"
    },
    {
     "data": {
      "application/vnd.plotly.v1+json": {
       "data": [
        {
         "type": "bar",
         "uid": "b048d758-bd42-11e9-ba6e-6dc095d575cb",
         "x": [
          "jack",
          "jill",
          "sandy"
         ],
         "y": [
          8,
          11,
          10
         ]
        }
       ],
       "layout": {}
      },
      "text/html": [
       "<div id=\"e2f3ee9e-3fca-4c51-ab96-1e654070fc43\" style=\"height: 525px; width: 100%;\" class=\"plotly-graph-div\"></div><script type=\"text/javascript\">require([\"plotly\"], function(Plotly) { window.PLOTLYENV=window.PLOTLYENV || {};window.PLOTLYENV.BASE_URL=\"https://plot.ly\";Plotly.newPlot(\"e2f3ee9e-3fca-4c51-ab96-1e654070fc43\", [{\"x\": [\"jack\", \"jill\", \"sandy\"], \"y\": [8, 11, 10], \"type\": \"bar\", \"uid\": \"b0a9d328-bd42-11e9-ba6e-6dc095d575cb\"}], {}, {\"showLink\": true, \"linkText\": \"Export to plot.ly\"})});</script>"
      ],
      "text/vnd.plotly.v1+html": [
       "<div id=\"e2f3ee9e-3fca-4c51-ab96-1e654070fc43\" style=\"height: 525px; width: 100%;\" class=\"plotly-graph-div\"></div><script type=\"text/javascript\">require([\"plotly\"], function(Plotly) { window.PLOTLYENV=window.PLOTLYENV || {};window.PLOTLYENV.BASE_URL=\"https://plot.ly\";Plotly.newPlot(\"e2f3ee9e-3fca-4c51-ab96-1e654070fc43\", [{\"x\": [\"jack\", \"jill\", \"sandy\"], \"y\": [8, 11, 10], \"type\": \"bar\", \"uid\": \"b0a9d328-bd42-11e9-ba6e-6dc095d575cb\"}], {}, {\"showLink\": true, \"linkText\": \"Export to plot.ly\"})});</script>"
      ]
     },
     "metadata": {},
     "output_type": "display_data"
    }
   ],
   "source": [
    "import plotly\n",
    "\n",
    "plotly.offline.init_notebook_mode(connected=True)\n",
    "trace0 = {'type': 'bar', 'x': ['jack', 'jill', 'sandy'], 'y': [8, 11, 10]}\n",
    "\n",
    "\n",
    "plotly.offline.iplot([trace0])"
   ]
  },
  {
   "cell_type": "markdown",
   "metadata": {},
   "source": [
    "It may be confusing understanding what a trace is, and how it is different from a plot. The easiest way to explain it is maybe to show how the `iplot` method takes in a list of two traces, instead of just one."
   ]
  },
  {
   "cell_type": "code",
   "execution_count": 6,
   "metadata": {},
   "outputs": [
    {
     "data": {
      "application/vnd.plotly.v1+json": {
       "data": [
        {
         "type": "bar",
         "uid": "b30249a2-bd42-11e9-ba6e-6dc095d575cb",
         "x": [
          "jack",
          "jill",
          "sandy",
          "blaise"
         ],
         "y": [
          8,
          11,
          8,
          13,
          6,
          4
         ]
        },
        {
         "type": "bar",
         "uid": "b3025910-bd42-11e9-ba6e-6dc095d575cb",
         "x": [
          "jack",
          "jill",
          "sandy",
          "gob"
         ],
         "y": [
          4,
          12,
          3,
          14,
          8,
          1
         ]
        }
       ],
       "layout": {}
      },
      "text/html": [
       "<div id=\"35fe1b55-c6b5-441c-ab1a-eaafd1506592\" style=\"height: 525px; width: 100%;\" class=\"plotly-graph-div\"></div><script type=\"text/javascript\">require([\"plotly\"], function(Plotly) { window.PLOTLYENV=window.PLOTLYENV || {};window.PLOTLYENV.BASE_URL=\"https://plot.ly\";Plotly.newPlot(\"35fe1b55-c6b5-441c-ab1a-eaafd1506592\", [{\"x\": [\"jack\", \"jill\", \"sandy\", \"blaise\"], \"y\": [8, 11, 8, 13, 6, 4], \"type\": \"bar\", \"uid\": \"b30f6a88-bd42-11e9-ba6e-6dc095d575cb\"}, {\"x\": [\"jack\", \"jill\", \"sandy\", \"gob\"], \"y\": [4, 12, 3, 14, 8, 1], \"type\": \"bar\", \"uid\": \"b30f6fd8-bd42-11e9-ba6e-6dc095d575cb\"}], {}, {\"showLink\": true, \"linkText\": \"Export to plot.ly\"})});</script>"
      ],
      "text/vnd.plotly.v1+html": [
       "<div id=\"35fe1b55-c6b5-441c-ab1a-eaafd1506592\" style=\"height: 525px; width: 100%;\" class=\"plotly-graph-div\"></div><script type=\"text/javascript\">require([\"plotly\"], function(Plotly) { window.PLOTLYENV=window.PLOTLYENV || {};window.PLOTLYENV.BASE_URL=\"https://plot.ly\";Plotly.newPlot(\"35fe1b55-c6b5-441c-ab1a-eaafd1506592\", [{\"x\": [\"jack\", \"jill\", \"sandy\", \"blaise\"], \"y\": [8, 11, 8, 13, 6, 4], \"type\": \"bar\", \"uid\": \"b30f6a88-bd42-11e9-ba6e-6dc095d575cb\"}, {\"x\": [\"jack\", \"jill\", \"sandy\", \"gob\"], \"y\": [4, 12, 3, 14, 8, 1], \"type\": \"bar\", \"uid\": \"b30f6fd8-bd42-11e9-ba6e-6dc095d575cb\"}], {}, {\"showLink\": true, \"linkText\": \"Export to plot.ly\"})});</script>"
      ]
     },
     "metadata": {},
     "output_type": "display_data"
    }
   ],
   "source": [
    "trace0 = {'type': 'bar', 'x': ['jack', 'jill', 'sandy', 'blaise'], 'y': [8, 11, 8, 13, 6, 4]}\n",
    "trace1 = {'type': 'bar', 'x': ['jack', 'jill', 'sandy', 'gob'], 'y': [4, 12, 3, 14, 8, 1]}\n",
    "\n",
    "\n",
    "plotly.offline.iplot([trace0, trace1])"
   ]
  },
  {
   "cell_type": "markdown",
   "metadata": {},
   "source": [
    "As we can see, each trace is an associated collection of data, and a plot can display more than one trace."
   ]
  },
  {
   "cell_type": "markdown",
   "metadata": {},
   "source": [
    "### Summary"
   ]
  },
  {
   "cell_type": "markdown",
   "metadata": {},
   "source": [
    "In this section, we saw how to use data visualizations to better understand the data.\n",
    "\n",
    "To display the data with `plotly` we need to do a couple of things.  First, we installed plotly by going to our terminal and running `pip install plotly`.  Then to use the library, we import the `plotly` library into our notebook.  Once the library is loaded in our notebook, it's time to use it.  We create a new dictionary with keys of $x$ and $y$, with each key pointing to an array of the $x$ or $y$ values of our points.  We can pass through a list of traces, with each trace representing associated data."
   ]
  }
 ],
 "metadata": {
  "kernelspec": {
   "display_name": "Python 3",
   "language": "python",
   "name": "python3"
  },
  "language_info": {
   "codemirror_mode": {
    "name": "ipython",
    "version": 3
   },
   "file_extension": ".py",
   "mimetype": "text/x-python",
   "name": "python",
   "nbconvert_exporter": "python",
   "pygments_lexer": "ipython3",
   "version": "3.7.3"
  }
 },
 "nbformat": 4,
 "nbformat_minor": 2
}
