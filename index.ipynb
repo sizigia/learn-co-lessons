{
 "cells": [
  {
   "cell_type": "markdown",
   "metadata": {},
   "source": [
    "# Why use code"
   ]
  },
  {
   "cell_type": "markdown",
   "metadata": {},
   "source": [
    "## Let's go!"
   ]
  },
  {
   "cell_type": "markdown",
   "metadata": {},
   "source": [
    "As you have seen from the **Instant Data Science** lesson, programming is a powerful tool for answering questions about data.  It allows us to collect, clean up and format our data and then perform calculations on that data.  \n",
    "\n",
    "Much of our digital information is in the form of text.  Song lyrics and emails, for example. To clean up and format that text with Python, we need to become familiar with our first type of data, the string. "
   ]
  },
  {
   "cell_type": "markdown",
   "metadata": {},
   "source": [
    "### Objectives\n",
    "* Working with our first data type, strings\n",
    "* Learning about string methods that Python provides us\n",
    "* Learning how to discover new methods"
   ]
  },
  {
   "cell_type": "markdown",
   "metadata": {},
   "source": [
    "## Working with text"
   ]
  },
  {
   "cell_type": "markdown",
   "metadata": {},
   "source": [
    "A lot of information in the world is in the form of text. If we want to capture this information and operate on it, we should become familiar with an entire datatype in Python dedicated to it: the string.\n",
    "\n",
    "**Note:** *If you are viewing this in markdown format (files that end in .md), the first gray box will show the **input** and what follows is the **output**. The rest of the lab(s) will follow this pattern, but we've marked the input for the first few examples with the comment `'# input'`.* "
   ]
  },
  {
   "cell_type": "code",
   "execution_count": 2,
   "metadata": {
    "scrolled": true
   },
   "outputs": [
    {
     "data": {
      "text/plain": [
       "'Homer Simpson'"
      ]
     },
     "execution_count": 2,
     "metadata": {},
     "output_type": "execute_result"
    }
   ],
   "source": [
    "'Homer Simpson' #input"
   ]
  },
  {
   "cell_type": "markdown",
   "metadata": {},
   "source": [
    "When programmers say \"string\", what they mean is text.  When programmers say datatype, they just mean type of data.  For example, here is another datatype in Python, a number."
   ]
  },
  {
   "cell_type": "code",
   "execution_count": 3,
   "metadata": {},
   "outputs": [
    {
     "data": {
      "text/plain": [
       "3"
      ]
     },
     "execution_count": 3,
     "metadata": {},
     "output_type": "execute_result"
    }
   ],
   "source": [
    "3 #input"
   ]
  },
  {
   "cell_type": "markdown",
   "metadata": {},
   "source": [
    "We can discover the type of a piece of data by calling, or executing, the `type` method. \n",
    "\n",
    "Let's look at an example below:"
   ]
  },
  {
   "cell_type": "code",
   "execution_count": 4,
   "metadata": {},
   "outputs": [
    {
     "data": {
      "text/plain": [
       "str"
      ]
     },
     "execution_count": 4,
     "metadata": {},
     "output_type": "execute_result"
    }
   ],
   "source": [
    "type('Homer Simpson') #input"
   ]
  },
  {
   "cell_type": "markdown",
   "metadata": {},
   "source": [
    "We need to pay attention to what type of data we are working with because they operate differently.\n",
    "\n",
    "For example, to initialize a string we cannot simply type letters.  Instead, we need to be very explicit with Python and tell Python it is about to see some text.  We do this by surrounding our text with quotes.  If we don't do that, or end our quotation marks too early, Python will throw us an error."
   ]
  },
  {
   "cell_type": "code",
   "execution_count": 5,
   "metadata": {},
   "outputs": [
    {
     "ename": "SyntaxError",
     "evalue": "invalid syntax (<ipython-input-5-b38f60fea49d>, line 1)",
     "output_type": "error",
     "traceback": [
      "\u001b[0;36m  File \u001b[0;32m\"<ipython-input-5-b38f60fea49d>\"\u001b[0;36m, line \u001b[0;32m1\u001b[0m\n\u001b[0;31m    'Homer Simps'on #input\u001b[0m\n\u001b[0m                  ^\u001b[0m\n\u001b[0;31mSyntaxError\u001b[0m\u001b[0;31m:\u001b[0m invalid syntax\n"
     ]
    }
   ],
   "source": [
    "'Homer Simps'on #input"
   ]
  },
  {
   "cell_type": "markdown",
   "metadata": {},
   "source": [
    "If we want, we can also use double quotes."
   ]
  },
  {
   "cell_type": "code",
   "execution_count": 1,
   "metadata": {},
   "outputs": [
    {
     "data": {
      "text/plain": [
       "\"Homer don't care\""
      ]
     },
     "execution_count": 1,
     "metadata": {},
     "output_type": "execute_result"
    }
   ],
   "source": [
    "\"Homer don't care\" #input"
   ]
  },
  {
   "cell_type": "markdown",
   "metadata": {},
   "source": [
    "**Note:** *double quotes and single quotes can be used interchangeably in Python, however, it is important that we stay consistent."
   ]
  },
  {
   "cell_type": "markdown",
   "metadata": {},
   "source": [
    "## Changing data with built in methods"
   ]
  },
  {
   "cell_type": "markdown",
   "metadata": {},
   "source": [
    "Python is picky like this for a reason. Once it knows we are working with a string, it gives us specific functionality for operating on strings.  We call this functionality a function, or a method.\n",
    "\n",
    "For example here is a method that works with a string (text), but does not work with a number."
   ]
  },
  {
   "cell_type": "code",
   "execution_count": 7,
   "metadata": {},
   "outputs": [
    {
     "data": {
      "text/plain": [
       "'HOMER SIMPSON'"
      ]
     },
     "execution_count": 7,
     "metadata": {},
     "output_type": "execute_result"
    }
   ],
   "source": [
    "'Homer Simpson'.upper()"
   ]
  },
  {
   "cell_type": "code",
   "execution_count": 8,
   "metadata": {},
   "outputs": [
    {
     "ename": "SyntaxError",
     "evalue": "invalid syntax (<ipython-input-8-8ab5bf46fc2d>, line 1)",
     "output_type": "error",
     "traceback": [
      "\u001b[0;36m  File \u001b[0;32m\"<ipython-input-8-8ab5bf46fc2d>\"\u001b[0;36m, line \u001b[0;32m1\u001b[0m\n\u001b[0;31m    42.upper()\u001b[0m\n\u001b[0m           ^\u001b[0m\n\u001b[0;31mSyntaxError\u001b[0m\u001b[0;31m:\u001b[0m invalid syntax\n"
     ]
    }
   ],
   "source": [
    "42.upper()"
   ]
  },
  {
   "cell_type": "markdown",
   "metadata": {},
   "source": [
    "Yep.  Bad news bears."
   ]
  },
  {
   "cell_type": "markdown",
   "metadata": {},
   "source": [
    "We can operate on a datatype with the following format: \n",
    "\n",
    "   * [DATATYPE] [DOT] [METHOD NAME] [PARENTHESES]\n",
    "\n",
    "Here are some examples, which we can see follow the same format:"
   ]
  },
  {
   "cell_type": "code",
   "execution_count": 9,
   "metadata": {},
   "outputs": [
    {
     "data": {
      "text/plain": [
       "True"
      ]
     },
     "execution_count": 9,
     "metadata": {},
     "output_type": "execute_result"
    }
   ],
   "source": [
    "\"Homer Simpson\".endswith('Simpson')"
   ]
  },
  {
   "cell_type": "code",
   "execution_count": 10,
   "metadata": {},
   "outputs": [
    {
     "data": {
      "text/plain": [
       "False"
      ]
     },
     "execution_count": 10,
     "metadata": {},
     "output_type": "execute_result"
    }
   ],
   "source": [
    "\"Charles Montgomery Burns\".endswith('Simpson')"
   ]
  },
  {
   "cell_type": "markdown",
   "metadata": {},
   "source": [
    "As you can see, by following the format of data-dot-method name-parentheses we can begin to operate on our data."
   ]
  },
  {
   "cell_type": "markdown",
   "metadata": {},
   "source": [
    "###  Discovering new methods"
   ]
  },
  {
   "cell_type": "markdown",
   "metadata": {},
   "source": [
    "You may be starting to worry about there being too many methods to keep track of.  Let's ask Python for help with finding more information about what we can do with strings."
   ]
  },
  {
   "cell_type": "code",
   "execution_count": 11,
   "metadata": {},
   "outputs": [
    {
     "name": "stdout",
     "output_type": "stream",
     "text": [
      "no Python documentation found for 'strings'\n",
      "\n"
     ]
    }
   ],
   "source": [
    "help('strings')"
   ]
  },
  {
   "cell_type": "markdown",
   "metadata": {},
   "source": [
    "The `help()` word with Python comes out of the box with the language and is like an old school Alexa.  Just like an Alexa, it often doesn't understand us.  Let's follow its stern directions, and see what happens when we type in `help(str)`."
   ]
  },
  {
   "cell_type": "markdown",
   "metadata": {},
   "source": [
    "```python\n",
    "help(str)\n",
    "```"
   ]
  },
  {
   "cell_type": "markdown",
   "metadata": {},
   "source": [
    "```python\n",
    "\n",
    "Help on class str in module __builtin__:\n",
    "\n",
    "class str(basestring)\n",
    " |  str(object='') -> string\n",
    " |  \n",
    " |  Return a nice string representation of the object.\n",
    " |  If the argument is a string, the return value is the same object.\n",
    " |  \n",
    " |  Method resolution order:\n",
    " |      str\n",
    " |      basestring\n",
    " |      object\n",
    " |  \n",
    " |  Methods defined here:\n",
    " |  \n",
    " |  __add__(...)\n",
    " |      x.__add__(y) <==> x+y\n",
    " |  \n",
    " |  __contains__(...)\n",
    " |      x.__contains__(y) <==> y in x\n",
    " |  \n",
    " |  __eq__(...)\n",
    " |      x.__eq__(y) <==> x==y\n",
    " |  \n",
    " |  __format__(...)\n",
    " |      S.__format__(format_spec) -> string\n",
    " |      \n",
    " |      Return a formatted version of S as described by format_spec.\n",
    " |  \n",
    " |  __ge__(...)\n",
    " |      x.__ge__(y) <==> x>=y\n",
    " |  \n",
    " |  __getattribute__(...)\n",
    " |      x.__getattribute__('name') <==> x.name\n",
    " |  \n",
    " |  __getitem__(...)\n",
    " |      x.__getitem__(y) <==> x[y]\n",
    " |  \n",
    " |  __getnewargs__(...)\n",
    " |  \n",
    " |  __getslice__(...)\n",
    " |      x.__getslice__(i, j) <==> x[i:j]\n",
    " |      \n",
    " |      Use of negative indices is not supported.\n",
    " |  \n",
    " |  \n",
    " |  __hash__(...)\n",
    " |      x.__hash__() <==> hash(x)\n",
    " |  \n",
    " |  __le__(...)\n",
    " |      x.__le__(y) <==> x<=y\n",
    " |  \n",
    " |  __len__(...)\n",
    " |      x.__len__() <==> len(x)\n",
    " |  \n",
    " |  __sizeof__(...)\n",
    " |      S.__sizeof__() -> size of S in memory, in bytes\n",
    " |  \n",
    " |  __str__(...)\n",
    " |      x.__str__() <==> str(x)\n",
    " |  \n",
    " |  capitalize(...)\n",
    " |      S.capitalize() -> string\n",
    " |      \n",
    " |      Return a copy of the string S with only its first character\n",
    " |      capitalized.\n",
    " |  \n",
    " |  center(...)\n",
    " |      S.center(width[, fillchar]) -> string\n",
    " |      \n",
    " |      Return S centered in a string of length width. Padding is\n",
    " |      done using the specified fill character (default is a space)\n",
    " |  \n",
    " |  count(...)\n",
    " |      S.count(sub[, start[, end]]) -> int\n",
    " |      \n",
    " |      Return the number of non-overlapping occurrences of substring sub in\n",
    " |      string S[start:end].  Optional arguments start and end are interpreted\n",
    " |      as in slice notation.\n",
    "\n",
    "        \n",
    "        ... A Lot More Code ...\n",
    "\n",
    "\n",
    "```"
   ]
  },
  {
   "cell_type": "markdown",
   "metadata": {},
   "source": [
    "**Note:** *In order to exit out of `help()` in your terminal, you can press the letter `q`.*"
   ]
  },
  {
   "cell_type": "markdown",
   "metadata": {},
   "source": [
    "Holy cow that's a lot of words.  If we scroll down to the word capitalize, things begin to make more sense.  For example, for capitalize, this is what it says"
   ]
  },
  {
   "cell_type": "markdown",
   "metadata": {},
   "source": [
    "\n",
    "capitalize(...)\n",
    "\n",
    "    S.capitalize() -> str\n",
    "    Return a capitalized version of S, i.e. make the first character\n",
    "    have upper case and the rest lower case."
   ]
  },
  {
   "cell_type": "markdown",
   "metadata": {},
   "source": [
    "Our next step is to use our formula of datatype-dot-method name-parentheses, and see what happens next."
   ]
  },
  {
   "cell_type": "code",
   "execution_count": 13,
   "metadata": {},
   "outputs": [
    {
     "data": {
      "text/plain": [
       "'Smithers'"
      ]
     },
     "execution_count": 13,
     "metadata": {},
     "output_type": "execute_result"
    }
   ],
   "source": [
    "\"smithers\".capitalize()"
   ]
  },
  {
   "cell_type": "markdown",
   "metadata": {},
   "source": [
    "Excellent.  Just like we thought."
   ]
  },
  {
   "cell_type": "markdown",
   "metadata": {},
   "source": [
    "### Tips going forward "
   ]
  },
  {
   "cell_type": "markdown",
   "metadata": {},
   "source": [
    "That's really it for this lesson on strings, and it's easy to feel a little unsatisfied with just a few methods on the datatype.  What's more important with programming is mechanisms of discovery and experimentation beyond just memorizing a list of features.\n",
    "\n",
    "In this lesson, we already saw a few of them.  \n",
    "* Guess: We just tried something and looked to the error message for clues as to what to do next.\n",
    "* help(str): We saw a nice way to learn about new methods, then we took a guess to test our understanding\n",
    "* Following a pattern: We started with a simple method like calling upper, took a moment to break this down into a pattern, and then tried this pattern again to call other methods \n",
    "\n",
    "Here is one more method of discovery:  just ask Google.  For example, look what happens when we ask Google about capitalization."
   ]
  },
  {
   "cell_type": "markdown",
   "metadata": {},
   "source": [
    "![](https://learn-verified.s3.amazonaws.com/data-science-assets/ask-google.png)"
   ]
  },
  {
   "cell_type": "markdown",
   "metadata": {},
   "source": [
    "[A great link with a detailed answer.](https://stackoverflow.com/a/1549644)"
   ]
  },
  {
   "cell_type": "markdown",
   "metadata": {},
   "source": [
    "![](https://learn-verified.s3.amazonaws.com/data-science-assets/stack-overflow.png)"
   ]
  },
  {
   "cell_type": "markdown",
   "metadata": {},
   "source": [
    "Then we try this new method out ourselves, to see if this user on StackOverFlow is right (they normally are)."
   ]
  },
  {
   "cell_type": "code",
   "execution_count": 14,
   "metadata": {},
   "outputs": [
    {
     "data": {
      "text/plain": [
       "'Hello World'"
      ]
     },
     "execution_count": 14,
     "metadata": {},
     "output_type": "execute_result"
    }
   ],
   "source": [
    "\"hello world\".title()"
   ]
  },
  {
   "cell_type": "markdown",
   "metadata": {},
   "source": [
    "And our work is done."
   ]
  },
  {
   "cell_type": "markdown",
   "metadata": {},
   "source": [
    "Feel free to look at [other common string operations here.](https://docs.python.org/2/library/string.html)"
   ]
  },
  {
   "cell_type": "markdown",
   "metadata": {},
   "source": [
    "### Summary"
   ]
  },
  {
   "cell_type": "markdown",
   "metadata": {},
   "source": [
    "In this lesson, we learned about our first datatype in Python: the string.  A string is just text. We indicate to Python that we are writing a string by surrounding our content with quotation marks. Once we do this, we can operate on this string by calling methods like `upper` or `endswith`. We identified a general pattern for calling methods on datatypes: 'datatype-dot-method name-parentheses'.\n",
    "\n",
    "The second thing we learned was different mechanisms for learning about methods.  We saw the importance of guessing and experimentation, and how doing so can give us error messages, which provide clues. We also saw how to ask questions about a datatype by calling 'help' followed by the datatype name like `help(str)`.  Finally, we saw we can ask Google.  This mechanism of exploration is a skill we'll build up over time and this course will provide guidance and practice on along the way."
   ]
  }
 ],
 "metadata": {
  "kernelspec": {
   "display_name": "Python 2",
   "language": "python",
   "name": "python2"
  },
  "language_info": {
   "codemirror_mode": {
    "name": "ipython",
    "version": 2
   },
   "file_extension": ".py",
   "mimetype": "text/x-python",
   "name": "python",
   "nbconvert_exporter": "python",
   "pygments_lexer": "ipython2",
   "version": "2.7.14"
  }
 },
 "nbformat": 4,
 "nbformat_minor": 2
}
