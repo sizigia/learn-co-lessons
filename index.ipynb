{
 "cells": [
  {
   "cell_type": "markdown",
   "metadata": {},
   "source": [
    "# Map and Filter in Python Lab"
   ]
  },
  {
   "cell_type": "markdown",
   "metadata": {},
   "source": [
    "### Introduction"
   ]
  },
  {
   "cell_type": "markdown",
   "metadata": {},
   "source": [
    "In this lab, we'll put our new knowledge about map and filter to the test. We'll also get back to working with Yelp again. Let's get started!"
   ]
  },
  {
   "cell_type": "code",
   "execution_count": null,
   "metadata": {},
   "outputs": [],
   "source": [
    "from restaurants import yelp_restaurants # in this line we are simply importing our data we gathered from Yelp."
   ]
  },
  {
   "cell_type": "code",
   "execution_count": null,
   "metadata": {},
   "outputs": [],
   "source": [
    "restaurants = list(map(lambda restaurant: dict(name=restaurant['name'], \n",
    "                                           price=restaurant['price'], \n",
    "                                           is_closed=restaurant['is_closed'],\n",
    "                                           review_count=restaurant['review_count'],\n",
    "                                          ), yelp_restaurants))"
   ]
  },
  {
   "cell_type": "markdown",
   "metadata": {},
   "source": [
    "We have a list of five restaurants from the Yelp Api.  Let's take a look at the list."
   ]
  },
  {
   "cell_type": "code",
   "execution_count": null,
   "metadata": {},
   "outputs": [],
   "source": [
    "restaurants"
   ]
  },
  {
   "cell_type": "markdown",
   "metadata": {},
   "source": [
    "### Using map"
   ]
  },
  {
   "cell_type": "markdown",
   "metadata": {},
   "source": [
    "As you can see, it's a little tricky to see the names of all of the restaurants.  Assign a variable `names` to equal the list of names of the functions.  Use the `map` function to do so."
   ]
  },
  {
   "cell_type": "code",
   "execution_count": null,
   "metadata": {},
   "outputs": [],
   "source": [
    "names = None\n",
    "names\n",
    "# ['Fork & Fig',\n",
    "#  'Salt And Board',\n",
    "#  'Frontier Restaurant',\n",
    "#  'Nexus Brewery',\n",
    "#  \"Devon's Pop Smoke\",\n",
    "#  'Cocina Azul',\n",
    "#  'Philly Steaks',\n",
    "#  'Stripes Biscuit']"
   ]
  },
  {
   "cell_type": "markdown",
   "metadata": {},
   "source": [
    "Let's get a sense of how many reviews were written for each of the restaurants.  Assign a variable `review_counts` to equal a list of the `review_count` for each restaurant.  "
   ]
  },
  {
   "cell_type": "code",
   "execution_count": null,
   "metadata": {},
   "outputs": [],
   "source": [
    "review_counts = None\n",
    "review_counts # [610, 11, 1373, 680, 54, 647, 25, 20]"
   ]
  },
  {
   "cell_type": "markdown",
   "metadata": {},
   "source": [
    "Now add up the elements in the list, and assign the result to a variable named `total_reviews`."
   ]
  },
  {
   "cell_type": "code",
   "execution_count": null,
   "metadata": {},
   "outputs": [],
   "source": [
    "total_reviews = None\n",
    "total_reviews # 3420"
   ]
  },
  {
   "cell_type": "markdown",
   "metadata": {},
   "source": [
    "It's a little tricky to work with the price in the format of dollars signs.  So write a function called `format_restaurants` that changes each restaurant to have the attribute `'price'` point to the number of dollar signs.  We'll get you started with the function, `format_restaurant`."
   ]
  },
  {
   "cell_type": "code",
   "execution_count": null,
   "metadata": {},
   "outputs": [],
   "source": [
    "def format_restaurant(restaurant):\n",
    "    if type(restaurant['price']) == str:\n",
    "        restaurant['price'] = len(restaurant['price'])\n",
    "    return restaurant"
   ]
  },
  {
   "cell_type": "code",
   "execution_count": null,
   "metadata": {},
   "outputs": [],
   "source": [
    "format_restaurant(restaurants[0]) # {'is_closed': False, 'name': 'Fork & Fig', 'price': 2, 'review_count': 610}"
   ]
  },
  {
   "cell_type": "markdown",
   "metadata": {},
   "source": [
    "Now write a function called `format_restaurants`, that returns a list of restaurants with each of them formatted with price pointing to the respective number."
   ]
  },
  {
   "cell_type": "code",
   "execution_count": null,
   "metadata": {},
   "outputs": [],
   "source": [
    "def format_restaurants(restaurants):\n",
    "    pass"
   ]
  },
  {
   "cell_type": "code",
   "execution_count": null,
   "metadata": {
    "scrolled": true
   },
   "outputs": [],
   "source": [
    "format_restaurants(restaurants)\n",
    "\n",
    "# [{'is_closed': False, 'name': 'Fork & Fig', 'price': 2, 'review_count': 610},\n",
    "#  {'is_closed': False,\n",
    "#   'name': 'Salt And Board',\n",
    "#   'price': 2,\n",
    "#   'review_count': 11},\n",
    "#  {'is_closed': False,\n",
    "#   'name': 'Frontier Restaurant',\n",
    "#   'price': 1,\n",
    "#   'review_count': 1373},\n",
    "#  {'is_closed': False,\n",
    "#   'name': 'Nexus Brewery',\n",
    "#   'price': 2,\n",
    "#   'review_count': 680},\n",
    "#  {'is_closed': False,\n",
    "#   'name': \"Devon's Pop Smoke\",\n",
    "#   'price': 2,\n",
    "#   'review_count': 54},\n",
    "#  {'is_closed': True, 'name': 'Cocina Azul', 'price': 2, 'review_count': 647},\n",
    "#  {'is_closed': False, 'name': 'Philly Steaks', 'price': 2, 'review_count': 25},\n",
    "#  {'is_closed': True,\n",
    "#   'name': 'Stripes Biscuit',\n",
    "#   'price': 2,\n",
    "#   'review_count': 20}]"
   ]
  },
  {
   "cell_type": "markdown",
   "metadata": {},
   "source": [
    "### Filter"
   ]
  },
  {
   "cell_type": "markdown",
   "metadata": {},
   "source": [
    "Now let's search for restaurants based on specific criteria.  \n",
    "\n",
    "Write a function called `open_restaurants` that takes in a list of restaurants and only returns those that are open."
   ]
  },
  {
   "cell_type": "code",
   "execution_count": null,
   "metadata": {},
   "outputs": [],
   "source": [
    "def open_restaurants(restaurants):\n",
    "    pass"
   ]
  },
  {
   "cell_type": "code",
   "execution_count": null,
   "metadata": {},
   "outputs": [],
   "source": [
    "open_restaurants(restaurants)\n",
    "\n",
    "# [{'is_closed': False, 'name': 'Fork & Fig', 'price': 2, 'review_count': 610},\n",
    "#  {'is_closed': False,\n",
    "#   'name': 'Salt And Board',\n",
    "#   'price': 2,\n",
    "#   'review_count': 11},\n",
    "#  {'is_closed': False,\n",
    "#   'name': 'Frontier Restaurant',\n",
    "#   'price': 1,\n",
    "#   'review_count': 1373},\n",
    "#  {'is_closed': False,\n",
    "#   'name': 'Nexus Brewery',\n",
    "#   'price': 2,\n",
    "#   'review_count': 680},\n",
    "#  {'is_closed': False,\n",
    "#   'name': \"Devon's Pop Smoke\",\n",
    "#   'price': 2,\n",
    "#   'review_count': 54},\n",
    "#  {'is_closed': False, 'name': 'Philly Steaks', 'price': 2, 'review_count': 25}]"
   ]
  },
  {
   "cell_type": "markdown",
   "metadata": {},
   "source": [
    "Now write a function called `cheapest_restaurants` that returns the restaurants that have a price of  1, or '$'.  "
   ]
  },
  {
   "cell_type": "code",
   "execution_count": null,
   "metadata": {},
   "outputs": [],
   "source": [
    "def cheapest_restaurants(restaurants):\n",
    "    pass"
   ]
  },
  {
   "cell_type": "code",
   "execution_count": null,
   "metadata": {
    "scrolled": true
   },
   "outputs": [],
   "source": [
    "cheapest_restaurants(restaurants)\n",
    "\n",
    "# [{'is_closed': False,\n",
    "#   'name': 'Frontier Restaurant',\n",
    "#   'price': 1,\n",
    "#   'review_count': 1373}]"
   ]
  },
  {
   "cell_type": "markdown",
   "metadata": {},
   "source": [
    "Next, write a function that filters out only those restaurants that have 100 reviews or more, since we want to make sure there are some solid data points backing the reviews -- we are burgeoning data scientists after all!"
   ]
  },
  {
   "cell_type": "code",
   "execution_count": null,
   "metadata": {},
   "outputs": [],
   "source": [
    "def sufficiently_reviewed_restaurants(restaurants):\n",
    "    pass"
   ]
  },
  {
   "cell_type": "code",
   "execution_count": null,
   "metadata": {},
   "outputs": [],
   "source": [
    "sufficiently_reviewed_restaurants(restaurants)\n",
    "\n",
    "# [{'name': 'Fork & Fig', 'price': 2, 'is_closed': False, 'review_count': 610},\n",
    "#  {'name': 'Frontier Restaurant', 'price': 1, 'is_closed': False,  'review_count': 1373},\n",
    "#  {'name': 'Nexus Brewery', 'price': 2, 'is_closed': False, 'review_count': 680},\n",
    "#  {'name': 'Cocina Azul', 'price': 2, 'is_closed': True, 'review_count': 647}]"
   ]
  },
  {
   "cell_type": "markdown",
   "metadata": {},
   "source": [
    "### Summary"
   ]
  },
  {
   "cell_type": "markdown",
   "metadata": {},
   "source": [
    "Neat! In this lab, we successfully proved our prowess when it comes to iterating over each element of a list with both `map` and `filter`! We used `map` to format our data into ways that better help us answer questions and extrapolate insights. We used `filter` to return subsets of our data like our restaurants that were only one $ or our restaurants that had 100 or more reviews."
   ]
  }
 ],
 "metadata": {
  "kernelspec": {
   "display_name": "Python 3",
   "language": "python",
   "name": "python3"
  },
  "language_info": {
   "codemirror_mode": {
    "name": "ipython",
    "version": 3
   },
   "file_extension": ".py",
   "mimetype": "text/x-python",
   "name": "python",
   "nbconvert_exporter": "python",
   "pygments_lexer": "ipython3",
   "version": "3.6.4"
  }
 },
 "nbformat": 4,
 "nbformat_minor": 2
}
