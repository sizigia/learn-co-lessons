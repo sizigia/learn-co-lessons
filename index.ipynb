{
 "cells": [
  {
   "cell_type": "markdown",
   "metadata": {},
   "source": [
    "# Practice with datatypes"
   ]
  },
  {
   "cell_type": "markdown",
   "metadata": {},
   "source": [
    "### Introduction"
   ]
  },
  {
   "cell_type": "markdown",
   "metadata": {},
   "source": [
    "In the past few lessons, we have learned about working with different types of data in Python: strings, numbers (ints and floats), and booleans.  Now let's put that knowledge into action.\n",
    "\n",
    "In this lesson we'll imagine that you just stopped by an Python programming conference and met a few people there.  You exchanged some information with a very industrious person who you met, and want to use your programming skills to format this information correctly.  "
   ]
  },
  {
   "cell_type": "markdown",
   "metadata": {},
   "source": [
    "### Learning Objectives\n",
    "* Manipulate strings with built-in methods\n",
    "* Practice coercing data types and changing numbers"
   ]
  },
  {
   "cell_type": "markdown",
   "metadata": {},
   "source": [
    "### Here to mingle "
   ]
  },
  {
   "cell_type": "markdown",
   "metadata": {},
   "source": [
    "The next morning you take out the business card, ready to format it using your programming skills, and here is what you find."
   ]
  },
  {
   "cell_type": "markdown",
   "metadata": {},
   "source": [
    "![](./biz-card-mistakes.jpg)"
   ]
  },
  {
   "cell_type": "markdown",
   "metadata": {},
   "source": [
    "Yea, he may not be the best person to get to know.  But we know that when people fill out forms, they misenter information all of the time.  As a celebrity once said, \"I'm really getting into the Internet lately, I just wish it were more organized.\"\n",
    "\n",
    "And as data scientists, we also see the need of organizing and cleaning data to then make sense of it.  So let's get to work."
   ]
  },
  {
   "cell_type": "markdown",
   "metadata": {},
   "source": [
    "### Solving your first lab"
   ]
  },
  {
   "cell_type": "markdown",
   "metadata": {},
   "source": [
    "This is your first lab, and here you'll see that we have provided some data for you.  Next to the data, you will see a comment indicating what the data should look after you change it.  Let's do the first one together.  For example, let's say we want to capitalize all of the letters of \"art vandlay\" (to remind ourselves of how he made his introduction).  You'll see the following:"
   ]
  },
  {
   "cell_type": "code",
   "execution_count": 1,
   "metadata": {},
   "outputs": [
    {
     "data": {
      "text/plain": [
       "'art vandelay'"
      ]
     },
     "execution_count": 1,
     "metadata": {},
     "output_type": "execute_result"
    }
   ],
   "source": [
    "\"art vandelay\" # 'ART VANDELAY'"
   ]
  },
  {
   "cell_type": "markdown",
   "metadata": {},
   "source": [
    "That hash tag to the right is a comment.  Comments are used for programmers to annotate their code.  But a comment has no impact on the code."
   ]
  },
  {
   "cell_type": "code",
   "execution_count": 2,
   "metadata": {},
   "outputs": [
    {
     "data": {
      "text/plain": [
       "'hello'"
      ]
     },
     "execution_count": 2,
     "metadata": {},
     "output_type": "execute_result"
    }
   ],
   "source": [
    "'hello'\n",
    "### whattttt"
   ]
  },
  {
   "cell_type": "markdown",
   "metadata": {},
   "source": [
    "If you press shift+enter to run the code in the cell, you will see that Python happily ignores the comment.  So in labs, we provide the comment to indicate what you should see as the return value of your code.  When you press shift+enter, and the output below matches the comment to the right of your code, you did it correctly."
   ]
  },
  {
   "cell_type": "markdown",
   "metadata": {},
   "source": [
    "> In future labs, Learn will check your code to ensure that you did it correctly.  But for your first lab, this works fine."
   ]
  },
  {
   "cell_type": "markdown",
   "metadata": {},
   "source": [
    "And change it to the following:"
   ]
  },
  {
   "cell_type": "code",
   "execution_count": 3,
   "metadata": {},
   "outputs": [
    {
     "data": {
      "text/plain": [
       "'ART VANDELAY'"
      ]
     },
     "execution_count": 3,
     "metadata": {},
     "output_type": "execute_result"
    }
   ],
   "source": [
    "\"art vandelay\".upper() # 'ART VANDELAY'"
   ]
  },
  {
   "cell_type": "markdown",
   "metadata": {},
   "source": [
    "### Get going with strings"
   ]
  },
  {
   "cell_type": "markdown",
   "metadata": {},
   "source": [
    "First use the `title` method to capitalize the first letter of each word in \"art vandelay\"`."
   ]
  },
  {
   "cell_type": "code",
   "execution_count": 4,
   "metadata": {},
   "outputs": [
    {
     "data": {
      "text/plain": [
       "'art vandelay'"
      ]
     },
     "execution_count": 4,
     "metadata": {},
     "output_type": "execute_result"
    }
   ],
   "source": [
    "\"art vandelay\" # 'Art Vandelay'"
   ]
  },
  {
   "cell_type": "markdown",
   "metadata": {},
   "source": [
    "Now let's uppercase all of the letters of \"Ceo\"."
   ]
  },
  {
   "cell_type": "code",
   "execution_count": 5,
   "metadata": {},
   "outputs": [
    {
     "data": {
      "text/plain": [
       "'Ceo'"
      ]
     },
     "execution_count": 5,
     "metadata": {},
     "output_type": "execute_result"
    }
   ],
   "source": [
    "\"Ceo\" # 'CEO'"
   ]
  },
  {
   "cell_type": "markdown",
   "metadata": {},
   "source": [
    "Now write a method that answers a question about our email addresses.  Every email address should end with \".com\".  Use your knowledge of string methods to check if the email address ends with \".com\" and return `True` or `False` accordingly. "
   ]
  },
  {
   "cell_type": "code",
   "execution_count": 6,
   "metadata": {},
   "outputs": [
    {
     "data": {
      "text/plain": [
       "'art.vandelay@vandelay.cop'"
      ]
     },
     "execution_count": 6,
     "metadata": {},
     "output_type": "execute_result"
    }
   ],
   "source": [
    "\"art.vandelay@vandelay.cop\" # False"
   ]
  },
  {
   "cell_type": "markdown",
   "metadata": {},
   "source": [
    "As you can see, the website \"vandelay.com\" is not preceded by `\"www.\"`.  Use the plus sign to change the website 'vandelay.com' to the string `'www.vandelay.com'`."
   ]
  },
  {
   "cell_type": "code",
   "execution_count": 7,
   "metadata": {
    "scrolled": true
   },
   "outputs": [
    {
     "data": {
      "text/plain": [
       "'vandelay.com'"
      ]
     },
     "execution_count": 7,
     "metadata": {},
     "output_type": "execute_result"
    }
   ],
   "source": [
    "'vandelay.com' # 'www.vandelay.com'"
   ]
  },
  {
   "cell_type": "markdown",
   "metadata": {},
   "source": [
    "### Working with numbers"
   ]
  },
  {
   "cell_type": "markdown",
   "metadata": {},
   "source": [
    "Finally, Mr. Vandelay gave us his phone number, but he actually has a second number different ones listed.  All three numbers are the same except for the ending.  Coerce the string of his phone number to an `int` and add one, then add two to change the number.  "
   ]
  },
  {
   "cell_type": "code",
   "execution_count": 8,
   "metadata": {},
   "outputs": [
    {
     "data": {
      "text/plain": [
       "'7285553334'"
      ]
     },
     "execution_count": 8,
     "metadata": {},
     "output_type": "execute_result"
    }
   ],
   "source": [
    "\"7285553334\" # 7285553335"
   ]
  },
  {
   "cell_type": "code",
   "execution_count": 9,
   "metadata": {},
   "outputs": [
    {
     "data": {
      "text/plain": [
       "'7285553334'"
      ]
     },
     "execution_count": 9,
     "metadata": {},
     "output_type": "execute_result"
    }
   ],
   "source": [
    "\"7285553334\" # 7285553336"
   ]
  },
  {
   "cell_type": "markdown",
   "metadata": {},
   "source": [
    "### Summary"
   ]
  },
  {
   "cell_type": "markdown",
   "metadata": {},
   "source": [
    "Your first lab done!  Sweet.  In this lab, you practiced working with string methods to operate on and answer questions about strings.  You wrote methods that return Booleans.  And you changed strings to an `int` to then perform addition.  So much of working with data, is ensuring that our data is properly formatted so we can then operate on it and in this lab you saw how to use code to just that."
   ]
  }
 ],
 "metadata": {
  "kernelspec": {
   "display_name": "Python 3",
   "language": "python",
   "name": "python3"
  },
  "language_info": {
   "codemirror_mode": {
    "name": "ipython",
    "version": 3
   },
   "file_extension": ".py",
   "mimetype": "text/x-python",
   "name": "python",
   "nbconvert_exporter": "python",
   "pygments_lexer": "ipython3",
   "version": "3.6.4"
  }
 },
 "nbformat": 4,
 "nbformat_minor": 2
}
