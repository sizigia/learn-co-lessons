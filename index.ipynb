{
 "cells": [
  {
   "cell_type": "markdown",
   "metadata": {},
   "source": [
    "# Introduction to Data Science"
   ]
  },
  {
   "cell_type": "markdown",
   "metadata": {},
   "source": [
    "### Welcome"
   ]
  },
  {
   "cell_type": "markdown",
   "metadata": {},
   "source": [
    "Congratulations on signing up for  Flatiron School's Data Science Bootcamp Prep course on Learn.co. You’re in the right place to begin learning key foundational skills data scientists use every day."
   ]
  },
  {
   "cell_type": "markdown",
   "metadata": {},
   "source": [
    "### Why Data Science"
   ]
  },
  {
   "cell_type": "markdown",
   "metadata": {},
   "source": [
    "Simply put, data science is where it’s at."
   ]
  },
  {
   "cell_type": "markdown",
   "metadata": {},
   "source": [
    "![](https://s3.amazonaws.com/learn-verified/data-science-assets/structured-unstructured.png)"
   ]
  },
  {
   "cell_type": "markdown",
   "metadata": {},
   "source": [
    "The amount of captured data is increasing each year, and data scientists like us will be needed to collect and interpret this data.\n",
    "\n",
    "As such, more companies are looking for data scientists who have the necessary skills to collect this information and turn them into meaningful insights."
   ]
  },
  {
   "cell_type": "markdown",
   "metadata": {},
   "source": [
    "![](https://s3.amazonaws.com/learn-verified/data-science-assets/data-science-postings.png)"
   ]
  },
  {
   "cell_type": "markdown",
   "metadata": {},
   "source": [
    "Take a look at the chart above from indeed.com. In 2017, there were five times the number of data science job postings as there were three years earlier. \n",
    "And it's not just businesses that are seeking to employ positions in data science.\n",
    "\n",
    "* In 2015, forty percent of federal agencies had a chief data officer.\n",
    "* Data science has been used to forecast episodes of civil unrest and detect outbreaks of health crises like Ebola."
   ]
  },
  {
   "cell_type": "markdown",
   "metadata": {},
   "source": [
    "### What is data science?"
   ]
  },
  {
   "cell_type": "markdown",
   "metadata": {},
   "source": [
    "For our purposes, data science involves the following fields: programming, machine learning or statistical algorithms, and business intelligence.\n",
    "\n",
    "Let's see this as a Venn diagram:"
   ]
  },
  {
   "cell_type": "markdown",
   "metadata": {},
   "source": [
    "<img src=\"https://s3.amazonaws.com/learn-verified/data-science-assets/VennDiagram_v2.png\" alt=\"Drawing\" style=\"width: 300px;\"/>"
   ]
  },
  {
   "cell_type": "markdown",
   "metadata": {},
   "source": [
    "You can see from this diagram that data scientists need a range of skills. Let’s break those skills down a bit and review how they work together:\n",
    "\n",
    "**Programming Skills** -- to collect data, we need programming or coding skills to gather it. \n",
    "**Business Intelligence** -- to explore the data, we need a background in the data we are reviewing to provide context on how best to organize it. \n",
    "**Math & Statistics Knowledge** -- to make predictions with the data, we need to use statistics and machine learning to build a model.\n",
    "\n",
    "This course will teach you the necessary programming skills in Python, as well as the math and statistical skills you’ll need to build prediction models. \n",
    "\n",
    "Ultimately, Business Intelligence will be determined by the job, industry, agency, or area of expertise you’ll be hired into as a data scientist. For the purposes of this course though, we’ll walk you through the background of a given project and describe what we’re aiming to solve. \n",
    "\n",
    "In the process, we’ll explore a number of different subject areas (music, movies, even New York City taxi data!) giving you real-world practice so you can leverage data science as a skill for any organization capturing data."
   ]
  },
  {
   "cell_type": "markdown",
   "metadata": {},
   "source": [
    "### Next Up"
   ]
  },
  {
   "cell_type": "markdown",
   "metadata": {},
   "source": [
    "As a Flatiron School course, we designed the course to provide the following: \n",
    "\n",
    "**1. Practice with Theory**\n",
    "\n",
    "*Practice*: The course is written to give you the skills to become a successful data scientist.  To do that, we have you code in Python every step of the way.  And we teach you techniques that practitioners use every step of the way.\n",
    "\n",
    "*Theory*:  But your knowledge of data science should not end with this course.  The field of data science will continue to evolve, and you'll need to understand the reasoning and shifts in the future.  For that, we need you to reach to the reasoning behind the techniques, and yes that includes the underlying mathematics. \n",
    "\n",
    "**2. Accessible**\n",
    "\n",
    "This course was designed to be accessible to everyone. \n",
    "\n",
    "*Math is a four letter word*:  Listen up, we do not expect you to walk in here a math person.  We know that just the word *math* provokes fear and boredom -- somehow simultaneously!  Still, we won't shy away from it.  Chances are you learned math through pencil and paper, not through programming graphs and equations that automatically respond to your inputs.  It's time to give it an honest try.\n",
    "\n",
    "*Computer Science is a liberal art*.  We also don't expect you to have any knowledge of programming.  We'll get you there, and show you how to use it to make sense of data.\n",
    "\n",
    "**3. Fall in Love**\n",
    "\n",
    "Finally, we know that the best way to teach a subject is to get you to fall in love with it.  So that's why we make sure to show you the power of each new skill you are learning, and the rich ideas underneath each new concept.  And it's why we have you code on our Learn platform that allows you to tap into the broader community of learners."
   ]
  },
  {
   "cell_type": "markdown",
   "metadata": {},
   "source": [
    "### Dive in "
   ]
  },
  {
   "cell_type": "markdown",
   "metadata": {},
   "source": [
    "Next up, we'll take a tour of the Python skills we will be utilizing as a data scientist.  Our overall recommendation is to stick with it. You’ve already done the hardest part of getting started. Log in here each day and you’ll be amazed at how quickly you’ll make progress towards becoming a data scientist."
   ]
  }
 ],
 "metadata": {
  "kernelspec": {
   "display_name": "Python 3",
   "language": "python",
   "name": "python3"
  },
  "language_info": {
   "codemirror_mode": {
    "name": "ipython",
    "version": 3
   },
   "file_extension": ".py",
   "mimetype": "text/x-python",
   "name": "python",
   "nbconvert_exporter": "python",
   "pygments_lexer": "ipython3",
   "version": "3.6.4"
  }
 },
 "nbformat": 4,
 "nbformat_minor": 2
}
