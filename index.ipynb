{
 "cells": [
  {
   "cell_type": "markdown",
   "metadata": {},
   "source": [
    "# Introduction to data science"
   ]
  },
  {
   "cell_type": "markdown",
   "metadata": {},
   "source": [
    "Data Science means a variety of terms based who you talk to.  For our purposes, data science involves the fields of programming, machine learning or statistics, and business intelligence to make predictions using data.  \n",
    "\n",
    "As a data scientist, you will follow a process to make predictions using data: \n",
    "\n",
    "* Understand the business problem\n",
    "* Collect raw data and clean the data\n",
    "* Explore the data\n",
    "* Select a machine learning or statistical model to make predictions with the data\n",
    "* Apply the results to business either by delivering to stakeholders or incorporate model into data product  "
   ]
  },
  {
   "cell_type": "markdown",
   "metadata": {},
   "source": [
    "This course will cover many of the fundamental skills required for moving through this process.  \n",
    "\n",
    "The first section of the course focuses on collecting and cleaning data, and will also show how to use visualizations to explore the data.  The second part of the course will introduce two machine learning models to show how to make predictions using these algorithms.  Along the way, this course will cover the math and programming fundamentals required to continue to pursue data science and machine learning. "
   ]
  }
 ],
 "metadata": {
  "kernelspec": {
   "display_name": "Python 3",
   "language": "python",
   "name": "python3"
  },
  "language_info": {
   "codemirror_mode": {
    "name": "ipython",
    "version": 3
   },
   "file_extension": ".py",
   "mimetype": "text/x-python",
   "name": "python",
   "nbconvert_exporter": "python",
   "pygments_lexer": "ipython3",
   "version": "3.6.1"
  }
 },
 "nbformat": 4,
 "nbformat_minor": 2
}
