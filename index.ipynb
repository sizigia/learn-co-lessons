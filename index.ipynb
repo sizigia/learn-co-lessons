{
 "cells": [
  {
   "cell_type": "markdown",
   "metadata": {},
   "source": [
    "# Instant Data Science"
   ]
  },
  {
   "cell_type": "markdown",
   "metadata": {},
   "source": [
    "When starting any course, you likely look at the syllabus to see what's covered and ask yourself if you can do it. In this lesson, we'll hope to give you a sense of how, with just a little bit of knowledge, you can make some real progress in using programs to answer questions with data.  \n",
    "\n",
    "To do so, we will be introducing the following topics: \n",
    "* Data types: working with text and data \n",
    "* Variables: storing data\n",
    "* Lists: working with data in an ordered collection\n",
    "* Dictionaries: representing data as a collection of attributes   \n",
    "* Loops and iteration: repeating a sequence of instructions  \n",
    "* Data visualization: using plots to display data\n",
    "* Functions: defining and running specific procedures in code \n",
    "\n",
    "This lesson will offer a brief glimpse into each of these topics.  In the rest of the course, we will provide lessons and labs on each of these topics to break down the material step by step.  "
   ]
  },
  {
   "cell_type": "markdown",
   "metadata": {},
   "source": [
    "### Song Analysis"
   ]
  },
  {
   "cell_type": "markdown",
   "metadata": {},
   "source": [
    "What makes a hit record?  Does repetitiveness help?  Is our music getting more repetitive over time?  Questions like these were asked by the great computer scientist Donald Knuth in 1977, and then they were reasked and answered, by Colin Morris in [this article](https://pudding.cool/2017/05/song-repetition/)."
   ]
  },
  {
   "cell_type": "markdown",
   "metadata": {},
   "source": [
    "Here is a chart that Colin Morris produced showing some of the most repetitive popular artists.  How was something like this made and calculated?"
   ]
  },
  {
   "cell_type": "markdown",
   "metadata": {},
   "source": [
    "![](https://learn-verified.s3.amazonaws.com/data-science-assets/song-chart.png)"
   ]
  },
  {
   "cell_type": "markdown",
   "metadata": {},
   "source": [
    "### Analyzing one song"
   ]
  },
  {
   "cell_type": "markdown",
   "metadata": {},
   "source": [
    "Let's take the song *Barbara Ann*, the most repetitive song of the Beach Boys which was remastered by the cast of *Saved by the Bell* in 1990.  "
   ]
  },
  {
   "cell_type": "markdown",
   "metadata": {},
   "source": [
    "![](https://learn-verified.s3.amazonaws.com/data-science-assets/saved-by-bell.gif)"
   ]
  },
  {
   "cell_type": "markdown",
   "metadata": {},
   "source": [
    "How did the cast learn all of the words so easily?  Repetition. Here are some of the lyrics."
   ]
  },
  {
   "cell_type": "markdown",
   "metadata": {},
   "source": [
    "    Ah, ba ba ba ba Barbara Ann\n",
    "    Ba ba ba ba Barbara Ann\n",
    "\n",
    "    Oh Barbara Ann, take my hand\n",
    "    Barbara Ann\n",
    "    You got me rockin' and a-rollin'\n",
    "    Rockin' and a-reelin'\n",
    "    Barbara Ann ba ba\n",
    "    Ba Barbara Ann\n",
    "\n",
    "    Went to a dance, lookin' for romance\n",
    "    Saw Barbara Ann, so I thought I'd take a chance\n",
    "    With Barbara Ann, Barbara Ann\n",
    "    Take my hand\n",
    "    You got me rockin' and a-rollin'\n",
    "    (Oh! Oh!)\n",
    "    Rockin' and a-reelin'\n",
    "    Barbara Ann ba ba\n",
    "    Ba ba ba ba black sheep\n",
    "\n",
    "    Ba ba ba ba Barbara Ann\n",
    "    Ba ba ba ba Barbara Ann"
   ]
  },
  {
   "cell_type": "markdown",
   "metadata": {},
   "source": [
    "It keeps going, but you get the point.  Now let's say that we wanted to count up how many times each word in the above selection appears.  Without a computer, we could do the following: \n",
    "\n",
    "* Place each of the words on a separate index card\n",
    "* Designate a spot for each unique word in our index cards\n",
    "* Then, flip through the index cards one by one\n",
    "* While flipping through each index card, find its designated pile and increase the size by one\n"
   ]
  },
  {
   "cell_type": "markdown",
   "metadata": {},
   "source": [
    "Let's call these steps above **our plan**.  Now that we have a plan, let's translate this into code."
   ]
  },
  {
   "cell_type": "markdown",
   "metadata": {},
   "source": [
    "### Strings and Variables"
   ]
  },
  {
   "cell_type": "markdown",
   "metadata": {},
   "source": [
    "To solve this problem with code, we do something similar.  We start with our words in a **string**, which is a data structure that represents text.  This is how it looks:"
   ]
  },
  {
   "cell_type": "code",
   "execution_count": 2,
   "metadata": {},
   "outputs": [
    {
     "data": {
      "text/plain": [
       "\"Ah, ba ba ba ba Barbara Ann Ba ba ba ba Barbara Ann Oh Barbara Ann, take my hand Barbara Ann You got me rockin' and a-rollin' Rockin' and a-reelin' Barbara Ann ba ba Ba Barbara Ann Went to a dance, lookin' for romance Saw Barbara Ann, so I thought I'd take a chance With Barbara Ann, Barbara Ann Take my hand You got me rockin' and a-rollin' (Oh! Oh!) Rockin' and a-reelin' Barbara Ann ba ba Ba ba ba ba black sheep Ba ba ba ba Barbara Ann Ba ba ba ba Barbara Ann\""
      ]
     },
     "execution_count": 2,
     "metadata": {},
     "output_type": "execute_result"
    }
   ],
   "source": [
    "\"Ah, ba ba ba ba Barbara Ann Ba ba ba ba Barbara Ann Oh Barbara Ann, take my hand Barbara Ann You got me rockin' and a-rollin' Rockin' and a-reelin' Barbara Ann ba ba Ba Barbara Ann Went to a dance, lookin' for romance Saw Barbara Ann, so I thought I'd take a chance With Barbara Ann, Barbara Ann Take my hand You got me rockin' and a-rollin' (Oh! Oh!) Rockin' and a-reelin' Barbara Ann ba ba Ba ba ba ba black sheep Ba ba ba ba Barbara Ann Ba ba ba ba Barbara Ann\""
   ]
  },
  {
   "cell_type": "markdown",
   "metadata": {},
   "source": [
    "> **Note:** What you see above in the first gray box is Python code.  The content in this box is the code you would write.  What comes below this first box is the **output** of running the code.  So the output of creating a string, is just that same string - not very interesting. "
   ]
  },
  {
   "cell_type": "markdown",
   "metadata": {},
   "source": [
    "To create a **string** in Python, notice that we place quotes at the start and end of text.  If we don't do this, Python will give us an error."
   ]
  },
  {
   "cell_type": "code",
   "execution_count": 3,
   "metadata": {},
   "outputs": [
    {
     "ename": "SyntaxError",
     "evalue": "invalid syntax (<ipython-input-3-44af718de734>, line 1)",
     "output_type": "error",
     "traceback": [
      "\u001b[0;36m  File \u001b[0;32m\"<ipython-input-3-44af718de734>\"\u001b[0;36m, line \u001b[0;32m1\u001b[0m\n\u001b[0;31m    Ah, ba ba ba ba Barbara Ann Ba ba ba ba Barbara Ann Oh Barbara Ann, take my hand Barbara Ann You got me rockin' and a-rollin' Rockin' and a-reelin' Barbara Ann ba ba Ba Barbara Ann Went to a dance, lookin' for romance Saw Barbara Ann, so I thought I'd take a chance With Barbara Ann, Barbara Ann Take my hand You got me rockin' and a-rollin' (Oh! Oh!) Rockin' and a-reelin' Barbara Ann ba ba Ba ba ba ba black sheep Ba ba ba ba Barbara Ann Ba ba ba ba Barbara Ann\u001b[0m\n\u001b[0m            ^\u001b[0m\n\u001b[0;31mSyntaxError\u001b[0m\u001b[0;31m:\u001b[0m invalid syntax\n"
     ]
    }
   ],
   "source": [
    "Ah, ba ba ba ba Barbara Ann Ba ba ba ba Barbara Ann Oh Barbara Ann, take my hand Barbara Ann You got me rockin' and a-rollin' Rockin' and a-reelin' Barbara Ann ba ba Ba Barbara Ann Went to a dance, lookin' for romance Saw Barbara Ann, so I thought I'd take a chance With Barbara Ann, Barbara Ann Take my hand You got me rockin' and a-rollin' (Oh! Oh!) Rockin' and a-reelin' Barbara Ann ba ba Ba ba ba ba black sheep Ba ba ba ba Barbara Ann Ba ba ba ba Barbara Ann"
   ]
  },
  {
   "cell_type": "markdown",
   "metadata": {},
   "source": [
    "> Notice the output of the code in the gray box is an error - more interesting.  But let's move on."
   ]
  },
  {
   "cell_type": "markdown",
   "metadata": {},
   "source": [
    "Ok, so we need the quotes for a string, but to hold on to this string and reference it later, we assign it to a variable.  "
   ]
  },
  {
   "cell_type": "code",
   "execution_count": 4,
   "metadata": {
    "collapsed": true
   },
   "outputs": [],
   "source": [
    "lyrics = \"Ah, ba ba ba ba Barbara Ann Ba ba ba ba Barbara Ann Oh Barbara Ann, take my hand Barbara Ann You got me rockin' and a-rollin' Rockin' and a-reelin' Barbara Ann ba ba Ba Barbara Ann Went to a dance, lookin' for romance Saw Barbara Ann, so I thought I'd take a chance With Barbara Ann, Barbara Ann Take my hand You got me rockin' and a-rollin' (Oh! Oh!) Rockin' and a-reelin' Barbara Ann ba ba Ba ba ba ba black sheep Ba ba ba ba Barbara Ann Ba ba ba ba Barbara Ann\""
   ]
  },
  {
   "cell_type": "markdown",
   "metadata": {},
   "source": [
    "Now whenever we type the word `lyrics` into Python we reference our string."
   ]
  },
  {
   "cell_type": "code",
   "execution_count": 5,
   "metadata": {},
   "outputs": [
    {
     "data": {
      "text/plain": [
       "\"Ah, ba ba ba ba Barbara Ann Ba ba ba ba Barbara Ann Oh Barbara Ann, take my hand Barbara Ann You got me rockin' and a-rollin' Rockin' and a-reelin' Barbara Ann ba ba Ba Barbara Ann Went to a dance, lookin' for romance Saw Barbara Ann, so I thought I'd take a chance With Barbara Ann, Barbara Ann Take my hand You got me rockin' and a-rollin' (Oh! Oh!) Rockin' and a-reelin' Barbara Ann ba ba Ba ba ba ba black sheep Ba ba ba ba Barbara Ann Ba ba ba ba Barbara Ann\""
      ]
     },
     "execution_count": 5,
     "metadata": {},
     "output_type": "execute_result"
    }
   ],
   "source": [
    "lyrics"
   ]
  },
  {
   "cell_type": "markdown",
   "metadata": {},
   "source": [
    "Ok, so strings are great for performing operations on text. For example, we can call a method `title` on a string to capitalize the first letter of each word."
   ]
  },
  {
   "cell_type": "code",
   "execution_count": 6,
   "metadata": {},
   "outputs": [
    {
     "data": {
      "text/plain": [
       "\"Ah, Ba Ba Ba Ba Barbara Ann Ba Ba Ba Ba Barbara Ann Oh Barbara Ann, Take My Hand Barbara Ann You Got Me Rockin' And A-Rollin' Rockin' And A-Reelin' Barbara Ann Ba Ba Ba Barbara Ann Went To A Dance, Lookin' For Romance Saw Barbara Ann, So I Thought I'D Take A Chance With Barbara Ann, Barbara Ann Take My Hand You Got Me Rockin' And A-Rollin' (Oh! Oh!) Rockin' And A-Reelin' Barbara Ann Ba Ba Ba Ba Ba Ba Black Sheep Ba Ba Ba Ba Barbara Ann Ba Ba Ba Ba Barbara Ann\""
      ]
     },
     "execution_count": 6,
     "metadata": {},
     "output_type": "execute_result"
    }
   ],
   "source": [
    "lyrics.title()"
   ]
  },
  {
   "cell_type": "markdown",
   "metadata": {},
   "source": [
    "This is a good change.  Let's store it in a new variable called `titled_lyrics`."
   ]
  },
  {
   "cell_type": "code",
   "execution_count": 7,
   "metadata": {},
   "outputs": [
    {
     "data": {
      "text/plain": [
       "\"Ah, Ba Ba Ba Ba Barbara Ann Ba Ba Ba Ba Barbara Ann Oh Barbara Ann, Take My Hand Barbara Ann You Got Me Rockin' And A-Rollin' Rockin' And A-Reelin' Barbara Ann Ba Ba Ba Barbara Ann Went To A Dance, Lookin' For Romance Saw Barbara Ann, So I Thought I'D Take A Chance With Barbara Ann, Barbara Ann Take My Hand You Got Me Rockin' And A-Rollin' (Oh! Oh!) Rockin' And A-Reelin' Barbara Ann Ba Ba Ba Ba Ba Ba Black Sheep Ba Ba Ba Ba Barbara Ann Ba Ba Ba Ba Barbara Ann\""
      ]
     },
     "execution_count": 7,
     "metadata": {},
     "output_type": "execute_result"
    }
   ],
   "source": [
    "titled_lyrics = lyrics.title()\n",
    "titled_lyrics"
   ]
  },
  {
   "cell_type": "markdown",
   "metadata": {},
   "source": [
    "Not bad at all.  Strings are great at manipulating all of our text at once.  However, if you remember **our plan**, the first step was to place each word on a separate index card.  But strings are **not** good at separating our text into individual words.  For that, we need a new data structure called a **list**."
   ]
  },
  {
   "cell_type": "markdown",
   "metadata": {},
   "source": [
    "### Lists"
   ]
  },
  {
   "cell_type": "markdown",
   "metadata": {},
   "source": [
    "To separate our string into individual words, we need to change this continuous string into a list.  Here is how we tell the computer to do this: split the string into a different entity every time you see a space.  Here are those directions in code."
   ]
  },
  {
   "cell_type": "code",
   "execution_count": 8,
   "metadata": {
    "collapsed": true
   },
   "outputs": [],
   "source": [
    "list_of_lyrics = titled_lyrics.split(' ')"
   ]
  },
  {
   "cell_type": "markdown",
   "metadata": {},
   "source": [
    "Ok, let's see what `list_of_lyrics` looks like.  You're about to see a lot of words, so just scroll through them, and we'll meet up afterwards."
   ]
  },
  {
   "cell_type": "code",
   "execution_count": 9,
   "metadata": {},
   "outputs": [
    {
     "data": {
      "text/plain": [
       "['Ah,',\n",
       " 'Ba',\n",
       " 'Ba',\n",
       " 'Ba',\n",
       " 'Ba',\n",
       " 'Barbara',\n",
       " 'Ann',\n",
       " 'Ba',\n",
       " 'Ba',\n",
       " 'Ba',\n",
       " 'Ba',\n",
       " 'Barbara',\n",
       " 'Ann',\n",
       " 'Oh',\n",
       " 'Barbara',\n",
       " 'Ann,',\n",
       " 'Take',\n",
       " 'My',\n",
       " 'Hand',\n",
       " 'Barbara',\n",
       " 'Ann',\n",
       " 'You',\n",
       " 'Got',\n",
       " 'Me',\n",
       " \"Rockin'\",\n",
       " 'And',\n",
       " \"A-Rollin'\",\n",
       " \"Rockin'\",\n",
       " 'And',\n",
       " \"A-Reelin'\",\n",
       " 'Barbara',\n",
       " 'Ann',\n",
       " 'Ba',\n",
       " 'Ba',\n",
       " 'Ba',\n",
       " 'Barbara',\n",
       " 'Ann',\n",
       " 'Went',\n",
       " 'To',\n",
       " 'A',\n",
       " 'Dance,',\n",
       " \"Lookin'\",\n",
       " 'For',\n",
       " 'Romance',\n",
       " 'Saw',\n",
       " 'Barbara',\n",
       " 'Ann,',\n",
       " 'So',\n",
       " 'I',\n",
       " 'Thought',\n",
       " \"I'D\",\n",
       " 'Take',\n",
       " 'A',\n",
       " 'Chance',\n",
       " 'With',\n",
       " 'Barbara',\n",
       " 'Ann,',\n",
       " 'Barbara',\n",
       " 'Ann',\n",
       " 'Take',\n",
       " 'My',\n",
       " 'Hand',\n",
       " 'You',\n",
       " 'Got',\n",
       " 'Me',\n",
       " \"Rockin'\",\n",
       " 'And',\n",
       " \"A-Rollin'\",\n",
       " '(Oh!',\n",
       " 'Oh!)',\n",
       " \"Rockin'\",\n",
       " 'And',\n",
       " \"A-Reelin'\",\n",
       " 'Barbara',\n",
       " 'Ann',\n",
       " 'Ba',\n",
       " 'Ba',\n",
       " 'Ba',\n",
       " 'Ba',\n",
       " 'Ba',\n",
       " 'Ba',\n",
       " 'Black',\n",
       " 'Sheep',\n",
       " 'Ba',\n",
       " 'Ba',\n",
       " 'Ba',\n",
       " 'Ba',\n",
       " 'Barbara',\n",
       " 'Ann',\n",
       " 'Ba',\n",
       " 'Ba',\n",
       " 'Ba',\n",
       " 'Ba',\n",
       " 'Barbara',\n",
       " 'Ann']"
      ]
     },
     "execution_count": 9,
     "metadata": {},
     "output_type": "execute_result"
    }
   ],
   "source": [
    "list_of_lyrics"
   ]
  },
  {
   "cell_type": "markdown",
   "metadata": {},
   "source": [
    "Ok, so this is a list.  It's an ordered collection, and as you can see we are now treating each word as an individual **entity**.  Each individual entity of a list is called an element.  How many elements are there in this list?"
   ]
  },
  {
   "cell_type": "code",
   "execution_count": 10,
   "metadata": {},
   "outputs": [
    {
     "data": {
      "text/plain": [
       "95"
      ]
     },
     "execution_count": 10,
     "metadata": {},
     "output_type": "execute_result"
    }
   ],
   "source": [
    "len(list_of_lyrics)"
   ]
  },
  {
   "cell_type": "markdown",
   "metadata": {},
   "source": [
    "Ok, but remember the second step of our plan was to allocate space for each unique word. Now that we have a list of all words, let's see just the unique words."
   ]
  },
  {
   "cell_type": "code",
   "execution_count": 11,
   "metadata": {
    "collapsed": true
   },
   "outputs": [],
   "source": [
    "unique_words = set(list_of_lyrics)"
   ]
  },
  {
   "cell_type": "code",
   "execution_count": 12,
   "metadata": {},
   "outputs": [
    {
     "data": {
      "text/plain": [
       "{'(Oh!',\n",
       " 'A',\n",
       " \"A-Reelin'\",\n",
       " \"A-Rollin'\",\n",
       " 'Ah,',\n",
       " 'And',\n",
       " 'Ann',\n",
       " 'Ann,',\n",
       " 'Ba',\n",
       " 'Barbara',\n",
       " 'Black',\n",
       " 'Chance',\n",
       " 'Dance,',\n",
       " 'For',\n",
       " 'Got',\n",
       " 'Hand',\n",
       " 'I',\n",
       " \"I'D\",\n",
       " \"Lookin'\",\n",
       " 'Me',\n",
       " 'My',\n",
       " 'Oh',\n",
       " 'Oh!)',\n",
       " \"Rockin'\",\n",
       " 'Romance',\n",
       " 'Saw',\n",
       " 'Sheep',\n",
       " 'So',\n",
       " 'Take',\n",
       " 'Thought',\n",
       " 'To',\n",
       " 'Went',\n",
       " 'With',\n",
       " 'You'}"
      ]
     },
     "execution_count": 12,
     "metadata": {},
     "output_type": "execute_result"
    }
   ],
   "source": [
    "unique_words"
   ]
  },
  {
   "cell_type": "markdown",
   "metadata": {},
   "source": [
    "Ok, you may have noticed that our list of unique words is significantly smaller than our total list of words.  How much smaller?"
   ]
  },
  {
   "cell_type": "code",
   "execution_count": 13,
   "metadata": {},
   "outputs": [
    {
     "data": {
      "text/plain": [
       "34"
      ]
     },
     "execution_count": 13,
     "metadata": {},
     "output_type": "execute_result"
    }
   ],
   "source": [
    "len(unique_words)"
   ]
  },
  {
   "cell_type": "markdown",
   "metadata": {},
   "source": [
    "A lot."
   ]
  },
  {
   "cell_type": "markdown",
   "metadata": {},
   "source": [
    "So, there's a lot of repetition in `Barbara Ann`.  It's time to keep track of each word and the number of occurrences of each word."
   ]
  },
  {
   "cell_type": "markdown",
   "metadata": {},
   "source": [
    "### Using dictionaries"
   ]
  },
  {
   "cell_type": "markdown",
   "metadata": {},
   "source": [
    "Our ultimate goal is to present our list of repetitions almost as a table, with a word to the left and the number of occurrences to the right.  "
   ]
  },
  {
   "cell_type": "markdown",
   "metadata": {},
   "source": [
    "| Word        | Count           |\n",
    "| ------------- |:-------------:|\n",
    "| Ann     | 2 |\n",
    "| Barbara     | 3 |\n",
    "| Ba     | 8 |"
   ]
  },
  {
   "cell_type": "markdown",
   "metadata": {},
   "source": [
    "In Python, this looks like a dictionary."
   ]
  },
  {
   "cell_type": "code",
   "execution_count": 14,
   "metadata": {
    "collapsed": true
   },
   "outputs": [],
   "source": [
    "word_counts =  {'Ann': 2, 'Barbara': 3, 'Ba': 8}"
   ]
  },
  {
   "cell_type": "markdown",
   "metadata": {},
   "source": [
    "A dictionary is a collection of key-value pairs, and we use them to store associated data.  Here, each word is associated with its count. And we can use the key to access the associated value."
   ]
  },
  {
   "cell_type": "code",
   "execution_count": 15,
   "metadata": {},
   "outputs": [
    {
     "data": {
      "text/plain": [
       "2"
      ]
     },
     "execution_count": 15,
     "metadata": {},
     "output_type": "execute_result"
    }
   ],
   "source": [
    "word_counts['Ann']"
   ]
  },
  {
   "cell_type": "markdown",
   "metadata": {},
   "source": [
    "And also use the key to reassign that value."
   ]
  },
  {
   "cell_type": "code",
   "execution_count": 16,
   "metadata": {
    "collapsed": true
   },
   "outputs": [],
   "source": [
    "word_counts['Ann'] = 33"
   ]
  },
  {
   "cell_type": "code",
   "execution_count": 17,
   "metadata": {},
   "outputs": [
    {
     "data": {
      "text/plain": [
       "{'Ann': 33, 'Ba': 8, 'Barbara': 3}"
      ]
     },
     "execution_count": 17,
     "metadata": {},
     "output_type": "execute_result"
    }
   ],
   "source": [
    "word_counts"
   ]
  },
  {
   "cell_type": "markdown",
   "metadata": {},
   "source": [
    "So that's the form we want.  How do we get there?"
   ]
  },
  {
   "cell_type": "markdown",
   "metadata": {},
   "source": [
    "Well we start by creating a dictionary with each key as a separate word, and then set the corresponding value to zero.  Kind of like allocating a region on a table for each of our words.  We do this with the `unique_words` list and the `fromkeys` method, whose second argument is the value we set for each key."
   ]
  },
  {
   "cell_type": "code",
   "execution_count": 18,
   "metadata": {},
   "outputs": [
    {
     "data": {
      "text/plain": [
       "{'(Oh!': 0,\n",
       " 'A': 0,\n",
       " \"A-Reelin'\": 0,\n",
       " \"A-Rollin'\": 0,\n",
       " 'Ah,': 0,\n",
       " 'And': 0,\n",
       " 'Ann': 0,\n",
       " 'Ann,': 0,\n",
       " 'Ba': 0,\n",
       " 'Barbara': 0,\n",
       " 'Black': 0,\n",
       " 'Chance': 0,\n",
       " 'Dance,': 0,\n",
       " 'For': 0,\n",
       " 'Got': 0,\n",
       " 'Hand': 0,\n",
       " 'I': 0,\n",
       " \"I'D\": 0,\n",
       " \"Lookin'\": 0,\n",
       " 'Me': 0,\n",
       " 'My': 0,\n",
       " 'Oh': 0,\n",
       " 'Oh!)': 0,\n",
       " \"Rockin'\": 0,\n",
       " 'Romance': 0,\n",
       " 'Saw': 0,\n",
       " 'Sheep': 0,\n",
       " 'So': 0,\n",
       " 'Take': 0,\n",
       " 'Thought': 0,\n",
       " 'To': 0,\n",
       " 'Went': 0,\n",
       " 'With': 0,\n",
       " 'You': 0}"
      ]
     },
     "execution_count": 18,
     "metadata": {},
     "output_type": "execute_result"
    }
   ],
   "source": [
    "word_histogram = dict.fromkeys(unique_words, 0)\n",
    "word_histogram"
   ]
  },
  {
   "cell_type": "markdown",
   "metadata": {},
   "source": [
    "### Loops"
   ]
  },
  {
   "cell_type": "markdown",
   "metadata": {},
   "source": [
    "Ok, now we have two nice data structures.  A `list_of_lyrics` of all of our words, and a `word_histogram` to keep track of the amount of words.  It seems like we're making good progress.  Let's look again at our plan.\n",
    "\n",
    "* Place each of the words on a separate index card. \n",
    "    * **Complete** as `list_of_lyrics`\n",
    "* Allocate space for a small pile for each unique word\n",
    "    * **Complete** as `word_histogram`\n",
    "* Then, go through the index cards one by one\n",
    "* And for each index card, increase the size of its related pile by one\n"
   ]
  },
  {
   "cell_type": "markdown",
   "metadata": {},
   "source": [
    "So looking through the steps, all that's left are the last two steps."
   ]
  },
  {
   "cell_type": "markdown",
   "metadata": {},
   "source": [
    "In Python, to go through elements of a list one by one, we use a `for` loop."
   ]
  },
  {
   "cell_type": "code",
   "execution_count": 19,
   "metadata": {},
   "outputs": [
    {
     "name": "stdout",
     "output_type": "stream",
     "text": [
      "11\n",
      "12\n",
      "13\n",
      "14\n"
     ]
    }
   ],
   "source": [
    "for number in [1,2,3,4]:\n",
    "    print(number + 10)"
   ]
  },
  {
   "cell_type": "markdown",
   "metadata": {},
   "source": [
    "Ok, so here we want to go through the elements of our `list_of_lyrics` one by one. For each word in `list_of_lyrics`, we want to find the related key in the dictionary, `word_histogram`, and increase the value by one. So now, instead of looping through a list of numbers, we will loop through each of our words in `list_of_lyrics`, find the related value in the dictionary, and increase it by one.\n",
    "\n",
    "> **Deep breath** These next lines of code may look like magic.  The lessons that follow will explain them."
   ]
  },
  {
   "cell_type": "code",
   "execution_count": 20,
   "metadata": {
    "collapsed": true
   },
   "outputs": [],
   "source": [
    "word_histogram = dict.fromkeys(unique_words, 0)\n",
    "for word in list_of_lyrics:\n",
    "    word_histogram[word] = word_histogram[word]+ 1 "
   ]
  },
  {
   "cell_type": "markdown",
   "metadata": {},
   "source": [
    "> We said it would be confusing.  Good thing there are more lessons to explain it.  Let's see if it worked."
   ]
  },
  {
   "cell_type": "code",
   "execution_count": 21,
   "metadata": {},
   "outputs": [
    {
     "data": {
      "text/plain": [
       "{'(Oh!': 1,\n",
       " 'A': 2,\n",
       " \"A-Reelin'\": 2,\n",
       " \"A-Rollin'\": 2,\n",
       " 'Ah,': 1,\n",
       " 'And': 4,\n",
       " 'Ann': 9,\n",
       " 'Ann,': 3,\n",
       " 'Ba': 25,\n",
       " 'Barbara': 12,\n",
       " 'Black': 1,\n",
       " 'Chance': 1,\n",
       " 'Dance,': 1,\n",
       " 'For': 1,\n",
       " 'Got': 2,\n",
       " 'Hand': 2,\n",
       " 'I': 1,\n",
       " \"I'D\": 1,\n",
       " \"Lookin'\": 1,\n",
       " 'Me': 2,\n",
       " 'My': 2,\n",
       " 'Oh': 1,\n",
       " 'Oh!)': 1,\n",
       " \"Rockin'\": 4,\n",
       " 'Romance': 1,\n",
       " 'Saw': 1,\n",
       " 'Sheep': 1,\n",
       " 'So': 1,\n",
       " 'Take': 3,\n",
       " 'Thought': 1,\n",
       " 'To': 1,\n",
       " 'Went': 1,\n",
       " 'With': 1,\n",
       " 'You': 2}"
      ]
     },
     "execution_count": 21,
     "metadata": {},
     "output_type": "execute_result"
    }
   ],
   "source": [
    "word_histogram"
   ]
  },
  {
   "cell_type": "markdown",
   "metadata": {},
   "source": [
    "Ok, that's it.  Now if we want to see how many times 'Rockin' appears, we can do so easily."
   ]
  },
  {
   "cell_type": "code",
   "execution_count": null,
   "metadata": {},
   "outputs": [],
   "source": [
    "word_histogram[\"Rockin'\"]"
   ]
  },
  {
   "cell_type": "markdown",
   "metadata": {},
   "source": [
    "### Visualizing the data"
   ]
  },
  {
   "cell_type": "markdown",
   "metadata": {},
   "source": [
    "We've got our answer in code.  The final step is to turn it into a chart.  We'll use a library -- which is a collection of code we get from the Internet that does not come with Python -- called Plotly to make our charts. "
   ]
  },
  {
   "cell_type": "markdown",
   "metadata": {},
   "source": [
    "In the first four lines we tell Python to get ready to use this library.  And in the last line we tell Python to plot our `trace`.\n",
    "\n",
    "The meat of the code, the part that we will be changing, is our `trace`.  Trace points to a dictionary with a key of `x` that points to a list of x_values, and a key of `y` that points to y_values.  And a `type` to indicate that this will be a bar chart."
   ]
  },
  {
   "cell_type": "code",
   "execution_count": null,
   "metadata": {},
   "outputs": [],
   "source": [
    "import plotly\n",
    "from plotly.offline import iplot, init_notebook_mode\n",
    "from plotly import tools\n",
    "import plotly.graph_objs as go\n",
    "init_notebook_mode(connected=True)\n",
    "\n",
    "\n",
    "trace = {\n",
    " 'type': 'bar',\n",
    " 'x': ['Barbara', 'Ann'],\n",
    " 'y': [12, 3]}\n",
    "plotly.offline.iplot({'data': [trace]})"
   ]
  },
  {
   "cell_type": "markdown",
   "metadata": {},
   "source": [
    "![](https://learn-verified.s3.amazonaws.com/data-science-assets/first-plot.png)"
   ]
  },
  {
   "cell_type": "code",
   "execution_count": null,
   "metadata": {},
   "outputs": [],
   "source": [
    "trace"
   ]
  },
  {
   "cell_type": "markdown",
   "metadata": {},
   "source": [
    "Above you can see that `x` points to an array of the x values, our list of words, and `y` points to an array of y values, the number of times each word appears. So, let's then set `x` and `y` equal to our `unique_words` and the amount of times those words appear:"
   ]
  },
  {
   "cell_type": "code",
   "execution_count": null,
   "metadata": {},
   "outputs": [],
   "source": [
    "import plotly\n",
    "from plotly.offline import iplot, init_notebook_mode\n",
    "from plotly import tools\n",
    "import plotly.graph_objs as go\n",
    "init_notebook_mode(connected=True)\n",
    "\n",
    "\n",
    "trace = {\n",
    "    'type': 'bar', \n",
    "    'x': list(unique_words), \n",
    "    'y': list(word_histogram.values())\n",
    "    }\n",
    "\n",
    "plotly.offline.iplot({'data': [trace]})"
   ]
  },
  {
   "cell_type": "markdown",
   "metadata": {},
   "source": [
    "![](https://learn-verified.s3.amazonaws.com/data-science-assets/histogram.png)"
   ]
  },
  {
   "cell_type": "markdown",
   "metadata": {},
   "source": [
    "We now have plotted our words. The Beach Boys say \"Ba\" 25 times and remember we only copied over some of the lyrics.  Repetitive indeed."
   ]
  },
  {
   "cell_type": "markdown",
   "metadata": {},
   "source": [
    "### Summary"
   ]
  },
  {
   "cell_type": "markdown",
   "metadata": {},
   "source": [
    "In the first twenty lessons, we will cover these topics and more.  Hopefully, in this section you can see that even with just a bit of knowledge you can really put code to use.  It may have seemed like a lot of work, but the work was in the learning, not the code.  \n",
    "\n",
    "All of the code written so far was really just ten lines of code."
   ]
  },
  {
   "cell_type": "code",
   "execution_count": null,
   "metadata": {
    "collapsed": true
   },
   "outputs": [],
   "source": [
    "lyrics = \"Ah, ba ba ba ba Barbara Ann Ba ba ba ba Barbara Ann Oh Barbara Ann, take my hand Barbara Ann You got me rockin' and a-rollin' Rockin' and a-reelin' Barbara Ann ba ba Ba Barbara Ann Went to a dance, lookin' for romance Saw Barbara Ann, so I thought I'd take a chance With Barbara Ann, Barbara Ann Take my hand You got me rockin' and a-rollin' (Oh! Oh!) Rockin' and a-reelin' Barbara Ann ba ba Ba ba ba ba black sheep Ba ba ba ba Barbara Ann Ba ba ba ba Barbara Ann\"\n",
    "titled_lyrics = lyrics.title()\n",
    "\n",
    "\n",
    "list_of_lyrics = titled_lyrics.split(' ')\n",
    "unique_words = set(list_of_lyrics)\n",
    "word_histogram = dict.fromkeys(unique_words, 0)\n",
    "\n",
    "for word in list_of_lyrics:\n",
    "    word_histogram[word] = word_histogram[word] + 1"
   ]
  },
  {
   "cell_type": "markdown",
   "metadata": {},
   "source": [
    "And another 8 lines to plot."
   ]
  },
  {
   "cell_type": "code",
   "execution_count": null,
   "metadata": {},
   "outputs": [],
   "source": [
    "import plotly\n",
    "from plotly.offline import iplot, init_notebook_mode\n",
    "from plotly import tools\n",
    "import plotly.graph_objs as go\n",
    "init_notebook_mode(connected=True)\n",
    "\n",
    "trace = {'type': 'bar', 'x': list(unique_words), 'y': list(word_histogram.values())}\n"
   ]
  },
  {
   "cell_type": "markdown",
   "metadata": {},
   "source": [
    "![](https://learn-verified.s3.amazonaws.com/data-science-assets/histogram.png)"
   ]
  },
  {
   "cell_type": "markdown",
   "metadata": {},
   "source": [
    "These next sections will go through each of the topics above, so that we can use the tools above to explore information with code."
   ]
  }
 ],
 "metadata": {
  "kernelspec": {
   "display_name": "Python 2",
   "language": "python",
   "name": "python2"
  },
  "language_info": {
   "codemirror_mode": {
    "name": "ipython",
    "version": 2
   },
   "file_extension": ".py",
   "mimetype": "text/x-python",
   "name": "python",
   "nbconvert_exporter": "python",
   "pygments_lexer": "ipython2",
   "version": "2.7.14"
  }
 },
 "nbformat": 4,
 "nbformat_minor": 2
}
