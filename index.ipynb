{
 "cells": [
  {
   "cell_type": "markdown",
   "metadata": {},
   "source": [
    "# Derivatives of curved lines"
   ]
  },
  {
   "cell_type": "markdown",
   "metadata": {},
   "source": [
    "### Learning objectives"
   ]
  },
  {
   "cell_type": "markdown",
   "metadata": {},
   "source": [
    "* Understand that derivatives are the instantaneous rate of change of a function\n",
    "* Understand how to calculate a derivative \n",
    "* Understand how to express taking a derivative at a given point, and evaluating a function at a given point mathematically"
   ]
  },
  {
   "cell_type": "markdown",
   "metadata": {},
   "source": [
    "### Introduction"
   ]
  },
  {
   "cell_type": "markdown",
   "metadata": {},
   "source": [
    "In the last lesson, we saw that the derivative was the rate of change."
   ]
  },
  {
   "cell_type": "markdown",
   "metadata": {},
   "source": [
    "![](./fxderivative.png)"
   ]
  },
  {
   "cell_type": "markdown",
   "metadata": {},
   "source": [
    "We saw multiple ways of calculating this rate of change.  \n",
    "*  Essentially, the derivative is the rate of change of a function\n",
    "* Graphically this is rise over run\n",
    "* Which can be calcuated by taking two points, $(x_1, y_1)$ and $(x_2, y_2)$ and calculating $\\frac{y_2 - y_1}{x_2 - x_1}$\n",
    "\n",
    "Finally, we said that when we have a function $f(x)$, we can calculate the derivative with knowing the starting point and the change in our input, $x$: \n",
    "\n",
    "$$ \\frac{f(x_1 + \\Delta x) - f(x_1)}{\\Delta x} $$\n"
   ]
  },
  {
   "cell_type": "markdown",
   "metadata": {},
   "source": [
    "### Derivatives of non-linear functions"
   ]
  },
  {
   "cell_type": "markdown",
   "metadata": {},
   "source": [
    "So we saw previously that the derivative is the rate of change of our function.  We express this as $ f'(x) = \\frac{\\Delta f}{\\Delta x}$. So far we have only calculated the derivatives with linear functions. As we'll see, things becomes trickier when working with more complicated functions.\n",
    "\n",
    "For example, let's imagine that we are coaching our runner to perform in a track meet.  "
   ]
  },
  {
   "cell_type": "markdown",
   "metadata": {},
   "source": [
    "![](./sprint.gif)"
   ]
  },
  {
   "cell_type": "markdown",
   "metadata": {},
   "source": [
    "We may want to know how well our track start does at one part of the race, say the starting point, versus the a different point.  Then we know what to focus on in practice.  We can imagine the distance travelled by our track star as looking like the following: "
   ]
  },
  {
   "cell_type": "code",
   "execution_count": 1,
   "metadata": {
    "collapsed": true
   },
   "outputs": [],
   "source": [
    "def trace_values(x_values, y_values, mode = 'markers', name=\"data\", text = [], options = {}):\n",
    "    trace = {'x': x_values, 'y': y_values, 'mode': mode, 'name': name, 'text': text}\n",
    "    trace.update(options)\n",
    "    return trace\n",
    "\n",
    "def build_layout(x_axis = None, y_axis = None, options = {}):\n",
    "    layout = {}\n",
    "    if isinstance(x_axis, dict): layout.update({'xaxis': x_axis})\n",
    "    if isinstance(y_axis, dict): layout.update({'yaxis': y_axis})\n",
    "    layout.update(options)\n",
    "    return layout\n",
    "\n",
    "def term_output(term, x_value):\n",
    "    return term[0]*x_value**term[1]\n",
    "\n",
    "def output_at(list_of_terms, x_value):\n",
    "    outputs = list(map(lambda term: term_output(term, x_value), list_of_terms))\n",
    "    return sum(outputs)"
   ]
  },
  {
   "cell_type": "code",
   "execution_count": 5,
   "metadata": {},
   "outputs": [
    {
     "data": {
      "application/vnd.plotly.v1+json": {
       "data": [
        {
         "mode": "line",
         "name": "data",
         "text": [],
         "x": [
          0,
          1,
          2,
          3,
          4,
          5,
          6
         ],
         "y": [
          0,
          1,
          4,
          9,
          16,
          25,
          36
         ]
        }
       ],
       "layout": {
        "xaxis": {
         "title": "number of seconds"
        },
        "yaxis": {
         "title": "distance"
        }
       }
      },
      "text/html": [
       "<div id=\"f40b6211-ac68-4226-9aa8-953476bae21e\" style=\"height: 525px; width: 100%;\" class=\"plotly-graph-div\"></div><script type=\"text/javascript\">require([\"plotly\"], function(Plotly) { window.PLOTLYENV=window.PLOTLYENV || {};window.PLOTLYENV.BASE_URL=\"https://plot.ly\";Plotly.newPlot(\"f40b6211-ac68-4226-9aa8-953476bae21e\", [{\"x\": [0, 1, 2, 3, 4, 5, 6], \"y\": [0, 1, 4, 9, 16, 25, 36], \"mode\": \"line\", \"name\": \"data\", \"text\": []}], {\"xaxis\": {\"title\": \"number of seconds\"}, \"yaxis\": {\"title\": \"distance\"}}, {\"showLink\": true, \"linkText\": \"Export to plot.ly\"})});</script>"
      ],
      "text/vnd.plotly.v1+html": [
       "<div id=\"f40b6211-ac68-4226-9aa8-953476bae21e\" style=\"height: 525px; width: 100%;\" class=\"plotly-graph-div\"></div><script type=\"text/javascript\">require([\"plotly\"], function(Plotly) { window.PLOTLYENV=window.PLOTLYENV || {};window.PLOTLYENV.BASE_URL=\"https://plot.ly\";Plotly.newPlot(\"f40b6211-ac68-4226-9aa8-953476bae21e\", [{\"x\": [0, 1, 2, 3, 4, 5, 6], \"y\": [0, 1, 4, 9, 16, 25, 36], \"mode\": \"line\", \"name\": \"data\", \"text\": []}], {\"xaxis\": {\"title\": \"number of seconds\"}, \"yaxis\": {\"title\": \"distance\"}}, {\"showLink\": true, \"linkText\": \"Export to plot.ly\"})});</script>"
      ]
     },
     "metadata": {},
     "output_type": "display_data"
    }
   ],
   "source": [
    "import plotly\n",
    "from plotly.offline import iplot, init_notebook_mode\n",
    "from graph import plot\n",
    "\n",
    "x_squared = [(1, 2)]\n",
    "\n",
    "six_seconds = list(range(0, 7))\n",
    "x_squared_outputs = list(map(lambda number: output_at(x_squared, number), six_seconds))\n",
    "trace_x_squared = trace_values(six_seconds, x_squared_outputs, mode = 'line')\n",
    "layout = build_layout(x_axis = {'title': 'number of seconds'}, y_axis = {'title': 'distance'})\n",
    "plot([trace_x_squared], layout)"
   ]
  },
  {
   "cell_type": "markdown",
   "metadata": {},
   "source": [
    "> The graph shows that from seconds zero through six, our track runner gets faster over time.  \n",
    "\n",
    "\n",
    "#### Calculating speed at second two\n",
    "Now if we want to see how quickly our track star at second number two as opposed to some other second, what would we do?  Well we get a stop watch and at second 2 would use it to calculate the speed.  Let's say that we start and stop our stop watch after 1 second."
   ]
  },
  {
   "cell_type": "code",
   "execution_count": 13,
   "metadata": {},
   "outputs": [
    {
     "data": {
      "application/vnd.plotly.v1+json": {
       "data": [
        {
         "mode": "line",
         "name": "data",
         "text": [],
         "x": [
          0,
          0.25,
          0.5,
          0.75,
          1,
          1.25,
          1.5,
          1.75,
          2,
          2.25,
          2.5,
          2.75,
          3,
          3.25,
          3.5,
          3.75,
          4
         ],
         "y": [
          0,
          0.0625,
          0.25,
          0.5625,
          1,
          1.5625,
          2.25,
          3.0625,
          4,
          5.0625,
          6.25,
          7.5625,
          9,
          10.5625,
          12.25,
          14.0625,
          16
         ]
        },
        {
         "mode": "lines+text",
         "name": "x2 - x1 = 5 - 4 = 1",
         "text": [
          "2",
          "3"
         ],
         "textposition": "bottom",
         "x": [
          2,
          3
         ],
         "y": [
          4,
          4
         ]
        },
        {
         "mode": "lines+text",
         "name": "y2 - y1 = 9 - 4 = 5",
         "text": [
          "4",
          "9"
         ],
         "textposition": "right",
         "x": [
          3,
          3
         ],
         "y": [
          4,
          9
         ]
        }
       ],
       "layout": {
        "xaxis": {
         "title": "number of seconds"
        },
        "yaxis": {
         "title": "distance"
        }
       }
      },
      "text/html": [
       "<div id=\"fdee00c0-fd6f-4885-8450-95bd9aaa7081\" style=\"height: 525px; width: 100%;\" class=\"plotly-graph-div\"></div><script type=\"text/javascript\">require([\"plotly\"], function(Plotly) { window.PLOTLYENV=window.PLOTLYENV || {};window.PLOTLYENV.BASE_URL=\"https://plot.ly\";Plotly.newPlot(\"fdee00c0-fd6f-4885-8450-95bd9aaa7081\", [{\"x\": [0.0, 0.25, 0.5, 0.75, 1.0, 1.25, 1.5, 1.75, 2.0, 2.25, 2.5, 2.75, 3.0, 3.25, 3.5, 3.75, 4.0], \"y\": [0.0, 0.0625, 0.25, 0.5625, 1.0, 1.5625, 2.25, 3.0625, 4.0, 5.0625, 6.25, 7.5625, 9.0, 10.5625, 12.25, 14.0625, 16.0], \"mode\": \"line\", \"name\": \"data\", \"text\": []}, {\"x\": [2, 3], \"y\": [4, 4], \"mode\": \"lines+text\", \"name\": \"x2 - x1 = 5 - 4 = 1\", \"text\": [\"2\", \"3\"], \"textposition\": \"bottom\"}, {\"x\": [3, 3], \"y\": [4, 9], \"mode\": \"lines+text\", \"name\": \"y2 - y1 = 9 - 4 = 5\", \"text\": [\"4\", \"9\"], \"textposition\": \"right\"}], {\"xaxis\": {\"title\": \"number of seconds\"}, \"yaxis\": {\"title\": \"distance\"}}, {\"showLink\": true, \"linkText\": \"Export to plot.ly\"})});</script>"
      ],
      "text/vnd.plotly.v1+html": [
       "<div id=\"fdee00c0-fd6f-4885-8450-95bd9aaa7081\" style=\"height: 525px; width: 100%;\" class=\"plotly-graph-div\"></div><script type=\"text/javascript\">require([\"plotly\"], function(Plotly) { window.PLOTLYENV=window.PLOTLYENV || {};window.PLOTLYENV.BASE_URL=\"https://plot.ly\";Plotly.newPlot(\"fdee00c0-fd6f-4885-8450-95bd9aaa7081\", [{\"x\": [0.0, 0.25, 0.5, 0.75, 1.0, 1.25, 1.5, 1.75, 2.0, 2.25, 2.5, 2.75, 3.0, 3.25, 3.5, 3.75, 4.0], \"y\": [0.0, 0.0625, 0.25, 0.5625, 1.0, 1.5625, 2.25, 3.0625, 4.0, 5.0625, 6.25, 7.5625, 9.0, 10.5625, 12.25, 14.0625, 16.0], \"mode\": \"line\", \"name\": \"data\", \"text\": []}, {\"x\": [2, 3], \"y\": [4, 4], \"mode\": \"lines+text\", \"name\": \"x2 - x1 = 5 - 4 = 1\", \"text\": [\"2\", \"3\"], \"textposition\": \"bottom\"}, {\"x\": [3, 3], \"y\": [4, 9], \"mode\": \"lines+text\", \"name\": \"y2 - y1 = 9 - 4 = 5\", \"text\": [\"4\", \"9\"], \"textposition\": \"right\"}], {\"xaxis\": {\"title\": \"number of seconds\"}, \"yaxis\": {\"title\": \"distance\"}}, {\"showLink\": true, \"linkText\": \"Export to plot.ly\"})});</script>"
      ]
     },
     "metadata": {},
     "output_type": "display_data"
    }
   ],
   "source": [
    "def delta_f(list_of_terms, x_value, h):\n",
    "    return output_at(list_of_terms, x_value + h) - output_at(list_of_terms, x_value)\n",
    "\n",
    "def delta_f_trace(list_of_terms, x_value, delta_x):\n",
    "    initial_f = output_at(list_of_terms, x_value)\n",
    "    delta_y = delta_f(list_of_terms, x_value, delta_x)\n",
    "    return trace_values(x_values=[x_value + delta_x, x_value + delta_x], y_values=[initial_f, initial_f + delta_y], text=[str(initial_f), str(initial_f + delta_y)], mode = 'lines+text', name = 'y2 - y1 = ' + str(initial_f + delta_y) + ' - '  + str(initial_f) + ' = ' + str(delta_y), options = {'textposition': 'right'})\n",
    "\n",
    "def delta_x_trace(list_of_terms, x_value, delta):\n",
    "    initial_f = output_at(list_of_terms, x_value)\n",
    "    return trace_values(x_values=[x_value, x_value + delta], text=[str(x_value), str(x_value + delta)], y_values=[initial_f, initial_f], mode = 'lines+text', name = 'x2 - x1 = ' + str(initial_f + delta) + ' - '  + str(initial_f) + ' = ' + str(delta), options = {'textposition': 'bottom'})\n",
    "\n",
    "x_squared_delta_x = delta_x_trace([(1, 2)], 2, 1)\n",
    "x_squared_delta_f = delta_f_trace([(1, 2)], 2, 1)\n",
    "plot([trace_x_squared, x_squared_delta_x, x_squared_delta_f], layout)"
   ]
  },
  {
   "cell_type": "markdown",
   "metadata": {},
   "source": [
    "As the graph above shows, we measure the change at second two by starting and stopping our watch after one second. \n",
    "\n",
    "So: \n",
    "* We set $x_1 = 2$, as that's the point we want to calculate the rate of change at \n",
    "* We set $\\Delta x = 1$, as that's change in number of seconds we'll allow\n",
    "\n",
    "And plugging this into our formula we have: \n",
    "\n",
    "$$ f'(x) = \\frac{f(x + \\Delta x) - f(x)}{\\Delta x}  $$\n",
    "\n",
    "and calculating this at second number 2, with $\\Delta x = 1$ we have: \n",
    "\n",
    "$$ f'(2) =  \\frac{f(2 + 1) - f(2)}{ 1} =  f(3) - f(2) $$ "
   ]
  },
  {
   "cell_type": "markdown",
   "metadata": {},
   "source": [
    "Simplifying our calculation of $f'(x)$ further by calculating $f(3)$ and $f(2)$ we have:"
   ]
  },
  {
   "cell_type": "markdown",
   "metadata": {},
   "source": [
    "* $f(3) = x^2 = 9$ and \n",
    "* $f(2) = x^2 = 4$ so \n",
    "\n",
    "$$f'(x) =  9 - 4 = 5 $$"
   ]
  },
  {
   "cell_type": "code",
   "execution_count": 16,
   "metadata": {},
   "outputs": [
    {
     "data": {
      "application/vnd.plotly.v1+json": {
       "data": [
        {
         "mode": "line",
         "name": "data",
         "text": [],
         "x": [
          0,
          0.25,
          0.5,
          0.75,
          1,
          1.25,
          1.5,
          1.75,
          2,
          2.25,
          2.5,
          2.75,
          3,
          3.25,
          3.5,
          3.75,
          4
         ],
         "y": [
          0,
          0.0625,
          0.25,
          0.5625,
          1,
          1.5625,
          2.25,
          3.0625,
          4,
          5.0625,
          6.25,
          7.5625,
          9,
          10.5625,
          12.25,
          14.0625,
          16
         ]
        },
        {
         "mode": "text+lines",
         "text": [
          "",
          "f' = 5.0",
          ""
         ],
         "textposition": "bottom",
         "x": [
          1.5,
          2,
          2.5
         ],
         "y": [
          1.5,
          4,
          6.5
         ]
        },
        {
         "mode": "lines+text",
         "name": "x2 - x1 = 5 - 4 = 1",
         "text": [
          "2",
          "3"
         ],
         "textposition": "bottom",
         "x": [
          2,
          3
         ],
         "y": [
          4,
          4
         ]
        },
        {
         "mode": "lines+text",
         "name": "y2 - y1 = 9 - 4 = 5",
         "text": [
          "4",
          "9"
         ],
         "textposition": "right",
         "x": [
          3,
          3
         ],
         "y": [
          4,
          9
         ]
        }
       ],
       "layout": {
        "xaxis": {
         "range": [
          0,
          3
         ],
         "title": "number of seconds"
        },
        "yaxis": {
         "title": "distance"
        }
       }
      },
      "text/html": [
       "<div id=\"8d2cd7ef-3b11-4cac-b89b-295ca5722aa8\" style=\"height: 525px; width: 100%;\" class=\"plotly-graph-div\"></div><script type=\"text/javascript\">require([\"plotly\"], function(Plotly) { window.PLOTLYENV=window.PLOTLYENV || {};window.PLOTLYENV.BASE_URL=\"https://plot.ly\";Plotly.newPlot(\"8d2cd7ef-3b11-4cac-b89b-295ca5722aa8\", [{\"x\": [0.0, 0.25, 0.5, 0.75, 1.0, 1.25, 1.5, 1.75, 2.0, 2.25, 2.5, 2.75, 3.0, 3.25, 3.5, 3.75, 4.0], \"y\": [0.0, 0.0625, 0.25, 0.5625, 1.0, 1.5625, 2.25, 3.0625, 4.0, 5.0625, 6.25, 7.5625, 9.0, 10.5625, 12.25, 14.0625, 16.0], \"mode\": \"line\", \"name\": \"data\", \"text\": []}, {\"x\": [1.5, 2, 2.5], \"y\": [1.5, 4, 6.5], \"text\": [\"\", \"f' = 5.0\", \"\"], \"mode\": \"text+lines\", \"textposition\": \"bottom\"}, {\"x\": [2, 3], \"y\": [4, 4], \"mode\": \"lines+text\", \"name\": \"x2 - x1 = 5 - 4 = 1\", \"text\": [\"2\", \"3\"], \"textposition\": \"bottom\"}, {\"x\": [3, 3], \"y\": [4, 9], \"mode\": \"lines+text\", \"name\": \"y2 - y1 = 9 - 4 = 5\", \"text\": [\"4\", \"9\"], \"textposition\": \"right\"}], {\"xaxis\": {\"title\": \"number of seconds\", \"range\": [0, 3]}, \"yaxis\": {\"title\": \"distance\"}}, {\"showLink\": true, \"linkText\": \"Export to plot.ly\"})});</script>"
      ],
      "text/vnd.plotly.v1+html": [
       "<div id=\"8d2cd7ef-3b11-4cac-b89b-295ca5722aa8\" style=\"height: 525px; width: 100%;\" class=\"plotly-graph-div\"></div><script type=\"text/javascript\">require([\"plotly\"], function(Plotly) { window.PLOTLYENV=window.PLOTLYENV || {};window.PLOTLYENV.BASE_URL=\"https://plot.ly\";Plotly.newPlot(\"8d2cd7ef-3b11-4cac-b89b-295ca5722aa8\", [{\"x\": [0.0, 0.25, 0.5, 0.75, 1.0, 1.25, 1.5, 1.75, 2.0, 2.25, 2.5, 2.75, 3.0, 3.25, 3.5, 3.75, 4.0], \"y\": [0.0, 0.0625, 0.25, 0.5625, 1.0, 1.5625, 2.25, 3.0625, 4.0, 5.0625, 6.25, 7.5625, 9.0, 10.5625, 12.25, 14.0625, 16.0], \"mode\": \"line\", \"name\": \"data\", \"text\": []}, {\"x\": [1.5, 2, 2.5], \"y\": [1.5, 4, 6.5], \"text\": [\"\", \"f' = 5.0\", \"\"], \"mode\": \"text+lines\", \"textposition\": \"bottom\"}, {\"x\": [2, 3], \"y\": [4, 4], \"mode\": \"lines+text\", \"name\": \"x2 - x1 = 5 - 4 = 1\", \"text\": [\"2\", \"3\"], \"textposition\": \"bottom\"}, {\"x\": [3, 3], \"y\": [4, 9], \"mode\": \"lines+text\", \"name\": \"y2 - y1 = 9 - 4 = 5\", \"text\": [\"4\", \"9\"], \"textposition\": \"right\"}], {\"xaxis\": {\"title\": \"number of seconds\", \"range\": [0, 3]}, \"yaxis\": {\"title\": \"distance\"}}, {\"showLink\": true, \"linkText\": \"Export to plot.ly\"})});</script>"
      ]
     },
     "metadata": {},
     "output_type": "display_data"
    }
   ],
   "source": [
    "from graph import plot\n",
    "x_squared = [(1, 2)]\n",
    "\n",
    "def df_dx(function_terms, x_value, delta):\n",
    "    delta_f = output_at(function_terms, x_value + delta) - output_at(function_terms, x_value)\n",
    "    return round(delta_f/delta, 3)\n",
    "\n",
    "def tangent_line_delta(list_of_terms, x_value, line_length = 4, delta = .01):\n",
    "    derivative_at = df_dx(list_of_terms, x_value, delta)\n",
    "    y = output_at(list_of_terms, x_value)\n",
    "    x_minus = x_value - line_length/2\n",
    "    x_plus = x_value + line_length/2\n",
    "    y_minus = y - derivative_at * line_length/2\n",
    "    y_plus = y + derivative_at * line_length/2\n",
    "    return {'x': [x_minus, x_value, x_plus], 'y': [y_minus, y, y_plus], 'text': ['', \"f' = \" +  str(derivative_at), ''], 'mode': 'text+lines', 'textposition': 'bottom'}\n",
    "\n",
    "sixteen =list(range(0, 17))\n",
    "four_seconds = list(map(lambda number: number/4.0 ,sixteen))\n",
    "x_squared_outputs = list(map(lambda number: output_at(x_squared, number), four_seconds))\n",
    "trace_x_squared = trace_values(four_seconds, x_squared_outputs, mode = 'line')\n",
    "\n",
    "tangent_x_squared = tangent_line_delta(x_squared, 2, 1, 1)\n",
    "layout = build_layout(x_axis = {'title': 'number of seconds', 'range': [0, 3]}, y_axis = {'title': 'distance'})\n",
    "plot([trace_x_squared, tangent_x_squared, x_squared_delta_x, x_squared_delta_f], layout)"
   ]
  },
  {
   "cell_type": "markdown",
   "metadata": {},
   "source": [
    "### The problem with our derivative formula"
   ]
  },
  {
   "cell_type": "markdown",
   "metadata": {},
   "source": [
    "Take a close look at the straight line in the graph above.  That straight line is a supposed to be the rate of change of the function at the point $x = 2$.  And it comes close.  But it doesn't exactly line up.  Our orange line quickly moves above the blue line, indicating that it has a faster rate of change than the blue line at $x = 2$.  So this means that our calculation that $f'(1) = 5 $ is a little high."
   ]
  },
  {
   "cell_type": "markdown",
   "metadata": {},
   "source": [
    "This is **the problem:**\n",
    "\n",
    "* in our formula of $ f'(x) = \\frac{f(x_1 + \\Delta x) - f(x_1)}{\\Delta x} $, we are seeing the rate of change not just where x = 2, but from the period from $x = 2$ to $x = 3$.  "
   ]
  },
  {
   "cell_type": "code",
   "execution_count": 23,
   "metadata": {},
   "outputs": [
    {
     "data": {
      "application/vnd.plotly.v1+json": {
       "data": [
        {
         "mode": "line",
         "name": "data",
         "text": [],
         "x": [
          0,
          0.25,
          0.5,
          0.75,
          1,
          1.25,
          1.5,
          1.75,
          2,
          2.25,
          2.5,
          2.75,
          3,
          3.25,
          3.5,
          3.75,
          4
         ],
         "y": [
          0,
          0.0625,
          0.25,
          0.5625,
          1,
          1.5625,
          2.25,
          3.0625,
          4,
          5.0625,
          6.25,
          7.5625,
          9,
          10.5625,
          12.25,
          14.0625,
          16
         ]
        },
        {
         "mode": "text+lines",
         "text": [
          "",
          "f' = 5.0",
          ""
         ],
         "textposition": "bottom",
         "x": [
          1,
          2,
          3
         ],
         "y": [
          -1,
          4,
          9
         ]
        },
        {
         "mode": "lines+text",
         "name": "x2 - x1 = 5 - 4 = 1",
         "text": [
          "2",
          "3"
         ],
         "textposition": "bottom",
         "x": [
          2,
          3
         ],
         "y": [
          4,
          4
         ]
        },
        {
         "mode": "lines+text",
         "name": "y2 - y1 = 9 - 4 = 5",
         "text": [
          "4",
          "9"
         ],
         "textposition": "right",
         "x": [
          3,
          3
         ],
         "y": [
          4,
          9
         ]
        }
       ],
       "layout": {
        "xaxis": {
         "range": [
          0,
          3
         ],
         "title": "number of seconds"
        },
        "yaxis": {
         "title": "distance"
        }
       }
      },
      "text/html": [
       "<div id=\"a80e5773-373b-45ac-a995-67edf7ee074b\" style=\"height: 525px; width: 100%;\" class=\"plotly-graph-div\"></div><script type=\"text/javascript\">require([\"plotly\"], function(Plotly) { window.PLOTLYENV=window.PLOTLYENV || {};window.PLOTLYENV.BASE_URL=\"https://plot.ly\";Plotly.newPlot(\"a80e5773-373b-45ac-a995-67edf7ee074b\", [{\"x\": [0.0, 0.25, 0.5, 0.75, 1.0, 1.25, 1.5, 1.75, 2.0, 2.25, 2.5, 2.75, 3.0, 3.25, 3.5, 3.75, 4.0], \"y\": [0.0, 0.0625, 0.25, 0.5625, 1.0, 1.5625, 2.25, 3.0625, 4.0, 5.0625, 6.25, 7.5625, 9.0, 10.5625, 12.25, 14.0625, 16.0], \"mode\": \"line\", \"name\": \"data\", \"text\": []}, {\"x\": [1.0, 2, 3.0], \"y\": [-1.0, 4, 9.0], \"text\": [\"\", \"f' = 5.0\", \"\"], \"mode\": \"text+lines\", \"textposition\": \"bottom\"}, {\"x\": [2, 3], \"y\": [4, 4], \"mode\": \"lines+text\", \"name\": \"x2 - x1 = 5 - 4 = 1\", \"text\": [\"2\", \"3\"], \"textposition\": \"bottom\"}, {\"x\": [3, 3], \"y\": [4, 9], \"mode\": \"lines+text\", \"name\": \"y2 - y1 = 9 - 4 = 5\", \"text\": [\"4\", \"9\"], \"textposition\": \"right\"}], {\"xaxis\": {\"title\": \"number of seconds\", \"range\": [0, 3]}, \"yaxis\": {\"title\": \"distance\"}}, {\"showLink\": true, \"linkText\": \"Export to plot.ly\"})});</script>"
      ],
      "text/vnd.plotly.v1+html": [
       "<div id=\"a80e5773-373b-45ac-a995-67edf7ee074b\" style=\"height: 525px; width: 100%;\" class=\"plotly-graph-div\"></div><script type=\"text/javascript\">require([\"plotly\"], function(Plotly) { window.PLOTLYENV=window.PLOTLYENV || {};window.PLOTLYENV.BASE_URL=\"https://plot.ly\";Plotly.newPlot(\"a80e5773-373b-45ac-a995-67edf7ee074b\", [{\"x\": [0.0, 0.25, 0.5, 0.75, 1.0, 1.25, 1.5, 1.75, 2.0, 2.25, 2.5, 2.75, 3.0, 3.25, 3.5, 3.75, 4.0], \"y\": [0.0, 0.0625, 0.25, 0.5625, 1.0, 1.5625, 2.25, 3.0625, 4.0, 5.0625, 6.25, 7.5625, 9.0, 10.5625, 12.25, 14.0625, 16.0], \"mode\": \"line\", \"name\": \"data\", \"text\": []}, {\"x\": [1.0, 2, 3.0], \"y\": [-1.0, 4, 9.0], \"text\": [\"\", \"f' = 5.0\", \"\"], \"mode\": \"text+lines\", \"textposition\": \"bottom\"}, {\"x\": [2, 3], \"y\": [4, 4], \"mode\": \"lines+text\", \"name\": \"x2 - x1 = 5 - 4 = 1\", \"text\": [\"2\", \"3\"], \"textposition\": \"bottom\"}, {\"x\": [3, 3], \"y\": [4, 9], \"mode\": \"lines+text\", \"name\": \"y2 - y1 = 9 - 4 = 5\", \"text\": [\"4\", \"9\"], \"textposition\": \"right\"}], {\"xaxis\": {\"title\": \"number of seconds\", \"range\": [0, 3]}, \"yaxis\": {\"title\": \"distance\"}}, {\"showLink\": true, \"linkText\": \"Export to plot.ly\"})});</script>"
      ]
     },
     "metadata": {},
     "output_type": "display_data"
    }
   ],
   "source": [
    "tangent_x_squared_longer = tangent_line_delta(x_squared, 2, 2, 1)\n",
    "plot([trace_x_squared, tangent_x_squared_longer, x_squared_delta_x, x_squared_delta_f], layout)"
   ]
  },
  {
   "cell_type": "markdown",
   "metadata": {},
   "source": [
    "In other words, **the runner would tell us** that we are not capturing their speed at precisely second two: \n",
    "\n",
    "> This is because in between the clicks of our stopwatch from seconds two to three, our runner is getting faster and while we are supposed to be calculating his speed just at second 2, our calculation includes his increase in speed from seconds two to three.\n",
    "\n",
    "> So that's why our orange line has a larger rate of change than the blue line at that point."
   ]
  },
  {
   "cell_type": "markdown",
   "metadata": {},
   "source": [
    "**A mathematician, would make the same point**, that we are not calculating the derivative: \n",
    "\n",
    "> Our derivative means we are calculating how fast a function is changing at any given moment, and precisely at that moment.  And unlike in where our functions were linear, here the rate of change of our function is always changing.  The larger our value of $\\Delta x$, the less our derivative reflects the rate of change at just that point. "
   ]
  },
  {
   "cell_type": "markdown",
   "metadata": {},
   "source": [
    "### The solution: Decrease the change in x"
   ]
  },
  {
   "cell_type": "markdown",
   "metadata": {},
   "source": [
    "So if you were holding a stopwatch, and someone asked you to calculate their speed at second number 2, how would you make it more accurate.  Well, you would want narrow the change in seconds.  Of course our runner could continue to protest and say that we are still influenced by the speed at other times.\n",
    "\n",
    "So the mathematician has a solution to this. To calculate the rate of change at precisely one point, we must use our imagination.  Really.  We calculate the derivative with a $\\Delta $ of .1, then calculate it again with a $\\Delta $ of .01, then again with $\\Delta $ .001.  Our derivative calculation should show convergance on a single number as our $\\Delta $ approaches zero and that number is our derivative.\n",
    "\n",
    "> ** That is, the derivative of a function is a change in the function's output across $\\Delta x$, as $\\Delta x $ approaches zero **.    "
   ]
  },
  {
   "cell_type": "code",
   "execution_count": 40,
   "metadata": {
    "collapsed": true
   },
   "outputs": [],
   "source": [
    "def plot_figure(figure):\n",
    "    plotly.offline.iplot(figure)\n",
    "\n",
    "def make_subplots(one_one_traces = [], one_two_traces = [], two_one_traces = [], two_two_traces = []):\n",
    "    if two_one_traces or two_two_traces:\n",
    "        fig = tools.make_subplots(rows=2, cols=2)\n",
    "    else:\n",
    "        fig = tools.make_subplots(rows=1, cols=2)\n",
    "    for trace in one_one_traces:\n",
    "        fig.append_trace(trace, 1, 1)\n",
    "    for trace in one_two_traces:\n",
    "        fig.append_trace(trace, 1, 2)\n",
    "    for trace in two_one_traces:\n",
    "        fig.append_trace(trace, 1, 1)\n",
    "    for trace in two_two_traces:\n",
    "        fig.append_trace(trace, 1, 2)\n",
    "    return fig\n",
    "\n",
    "\n",
    "sixteen =list(range(0, 17))\n",
    "four_seconds = list(map(lambda number: number/4.0 ,sixteen))\n",
    "x_squared_outputs = list(map(lambda number: output_at(x_squared, number), four_seconds))\n",
    "trace_x_squared = trace_values(four_seconds, x_squared_outputs, mode = 'line')"
   ]
  },
  {
   "cell_type": "markdown",
   "metadata": {},
   "source": [
    "Let's see this graphically.\n",
    "\n"
   ]
  },
  {
   "cell_type": "markdown",
   "metadata": {},
   "source": [
    "When $\\Delta x = 1$  and when $\\Delta x = .1$ "
   ]
  },
  {
   "cell_type": "code",
   "execution_count": 41,
   "metadata": {},
   "outputs": [
    {
     "name": "stdout",
     "output_type": "stream",
     "text": [
      "This is the format of your plot grid:\n",
      "[ (1,1) x1,y1 ]  [ (1,2) x2,y2 ]\n",
      "\n"
     ]
    },
    {
     "data": {
      "application/vnd.plotly.v1+json": {
       "data": [
        {
         "mode": "line",
         "name": "data",
         "text": [],
         "type": "scatter",
         "x": [
          0,
          0.25,
          0.5,
          0.75,
          1,
          1.25,
          1.5,
          1.75,
          2,
          2.25,
          2.5,
          2.75,
          3,
          3.25,
          3.5,
          3.75,
          4
         ],
         "xaxis": "x1",
         "y": [
          0,
          0.0625,
          0.25,
          0.5625,
          1,
          1.5625,
          2.25,
          3.0625,
          4,
          5.0625,
          6.25,
          7.5625,
          9,
          10.5625,
          12.25,
          14.0625,
          16
         ],
         "yaxis": "y1"
        },
        {
         "mode": "text+lines",
         "text": [
          "",
          "f' = 5.0",
          ""
         ],
         "textposition": "bottom",
         "type": "scatter",
         "x": [
          1.5,
          2,
          2.5
         ],
         "xaxis": "x1",
         "y": [
          1.5,
          4,
          6.5
         ],
         "yaxis": "y1"
        },
        {
         "mode": "line",
         "name": "data",
         "text": [],
         "type": "scatter",
         "x": [
          0,
          0.25,
          0.5,
          0.75,
          1,
          1.25,
          1.5,
          1.75,
          2,
          2.25,
          2.5,
          2.75,
          3,
          3.25,
          3.5,
          3.75,
          4
         ],
         "xaxis": "x2",
         "y": [
          0,
          0.0625,
          0.25,
          0.5625,
          1,
          1.5625,
          2.25,
          3.0625,
          4,
          5.0625,
          6.25,
          7.5625,
          9,
          10.5625,
          12.25,
          14.0625,
          16
         ],
         "yaxis": "y2"
        },
        {
         "mode": "text+lines",
         "text": [
          "",
          "f' = 4.1",
          ""
         ],
         "textposition": "bottom",
         "type": "scatter",
         "x": [
          1.5,
          2,
          2.5
         ],
         "xaxis": "x2",
         "y": [
          1.9500000000000002,
          4,
          6.05
         ],
         "yaxis": "y2"
        }
       ],
       "layout": {
        "xaxis1": {
         "anchor": "y1",
         "domain": [
          0,
          0.45
         ]
        },
        "xaxis2": {
         "anchor": "y2",
         "domain": [
          0.55,
          1
         ]
        },
        "yaxis1": {
         "anchor": "x1",
         "domain": [
          0,
          1
         ]
        },
        "yaxis2": {
         "anchor": "x2",
         "domain": [
          0,
          1
         ]
        }
       }
      },
      "text/html": [
       "<div id=\"16cda0a8-4c47-4c7e-b814-ba011bd1ad3c\" style=\"height: 525px; width: 100%;\" class=\"plotly-graph-div\"></div><script type=\"text/javascript\">require([\"plotly\"], function(Plotly) { window.PLOTLYENV=window.PLOTLYENV || {};window.PLOTLYENV.BASE_URL=\"https://plot.ly\";Plotly.newPlot(\"16cda0a8-4c47-4c7e-b814-ba011bd1ad3c\", [{\"type\": \"scatter\", \"x\": [0.0, 0.25, 0.5, 0.75, 1.0, 1.25, 1.5, 1.75, 2.0, 2.25, 2.5, 2.75, 3.0, 3.25, 3.5, 3.75, 4.0], \"y\": [0.0, 0.0625, 0.25, 0.5625, 1.0, 1.5625, 2.25, 3.0625, 4.0, 5.0625, 6.25, 7.5625, 9.0, 10.5625, 12.25, 14.0625, 16.0], \"mode\": \"line\", \"name\": \"data\", \"text\": [], \"xaxis\": \"x1\", \"yaxis\": \"y1\"}, {\"type\": \"scatter\", \"x\": [1.5, 2, 2.5], \"y\": [1.5, 4, 6.5], \"text\": [\"\", \"f' = 5.0\", \"\"], \"mode\": \"text+lines\", \"textposition\": \"bottom\", \"xaxis\": \"x1\", \"yaxis\": \"y1\"}, {\"type\": \"scatter\", \"x\": [0.0, 0.25, 0.5, 0.75, 1.0, 1.25, 1.5, 1.75, 2.0, 2.25, 2.5, 2.75, 3.0, 3.25, 3.5, 3.75, 4.0], \"y\": [0.0, 0.0625, 0.25, 0.5625, 1.0, 1.5625, 2.25, 3.0625, 4.0, 5.0625, 6.25, 7.5625, 9.0, 10.5625, 12.25, 14.0625, 16.0], \"mode\": \"line\", \"name\": \"data\", \"text\": [], \"xaxis\": \"x2\", \"yaxis\": \"y2\"}, {\"type\": \"scatter\", \"x\": [1.5, 2, 2.5], \"y\": [1.9500000000000002, 4, 6.05], \"text\": [\"\", \"f' = 4.1\", \"\"], \"mode\": \"text+lines\", \"textposition\": \"bottom\", \"xaxis\": \"x2\", \"yaxis\": \"y2\"}], {\"xaxis1\": {\"domain\": [0.0, 0.45], \"anchor\": \"y1\"}, \"yaxis1\": {\"domain\": [0.0, 1.0], \"anchor\": \"x1\"}, \"xaxis2\": {\"domain\": [0.55, 1.0], \"anchor\": \"y2\"}, \"yaxis2\": {\"domain\": [0.0, 1.0], \"anchor\": \"x2\"}}, {\"showLink\": true, \"linkText\": \"Export to plot.ly\"})});</script>"
      ],
      "text/vnd.plotly.v1+html": [
       "<div id=\"16cda0a8-4c47-4c7e-b814-ba011bd1ad3c\" style=\"height: 525px; width: 100%;\" class=\"plotly-graph-div\"></div><script type=\"text/javascript\">require([\"plotly\"], function(Plotly) { window.PLOTLYENV=window.PLOTLYENV || {};window.PLOTLYENV.BASE_URL=\"https://plot.ly\";Plotly.newPlot(\"16cda0a8-4c47-4c7e-b814-ba011bd1ad3c\", [{\"type\": \"scatter\", \"x\": [0.0, 0.25, 0.5, 0.75, 1.0, 1.25, 1.5, 1.75, 2.0, 2.25, 2.5, 2.75, 3.0, 3.25, 3.5, 3.75, 4.0], \"y\": [0.0, 0.0625, 0.25, 0.5625, 1.0, 1.5625, 2.25, 3.0625, 4.0, 5.0625, 6.25, 7.5625, 9.0, 10.5625, 12.25, 14.0625, 16.0], \"mode\": \"line\", \"name\": \"data\", \"text\": [], \"xaxis\": \"x1\", \"yaxis\": \"y1\"}, {\"type\": \"scatter\", \"x\": [1.5, 2, 2.5], \"y\": [1.5, 4, 6.5], \"text\": [\"\", \"f' = 5.0\", \"\"], \"mode\": \"text+lines\", \"textposition\": \"bottom\", \"xaxis\": \"x1\", \"yaxis\": \"y1\"}, {\"type\": \"scatter\", \"x\": [0.0, 0.25, 0.5, 0.75, 1.0, 1.25, 1.5, 1.75, 2.0, 2.25, 2.5, 2.75, 3.0, 3.25, 3.5, 3.75, 4.0], \"y\": [0.0, 0.0625, 0.25, 0.5625, 1.0, 1.5625, 2.25, 3.0625, 4.0, 5.0625, 6.25, 7.5625, 9.0, 10.5625, 12.25, 14.0625, 16.0], \"mode\": \"line\", \"name\": \"data\", \"text\": [], \"xaxis\": \"x2\", \"yaxis\": \"y2\"}, {\"type\": \"scatter\", \"x\": [1.5, 2, 2.5], \"y\": [1.9500000000000002, 4, 6.05], \"text\": [\"\", \"f' = 4.1\", \"\"], \"mode\": \"text+lines\", \"textposition\": \"bottom\", \"xaxis\": \"x2\", \"yaxis\": \"y2\"}], {\"xaxis1\": {\"domain\": [0.0, 0.45], \"anchor\": \"y1\"}, \"yaxis1\": {\"domain\": [0.0, 1.0], \"anchor\": \"x1\"}, \"xaxis2\": {\"domain\": [0.55, 1.0], \"anchor\": \"y2\"}, \"yaxis2\": {\"domain\": [0.0, 1.0], \"anchor\": \"x2\"}}, {\"showLink\": true, \"linkText\": \"Export to plot.ly\"})});</script>"
      ]
     },
     "metadata": {},
     "output_type": "display_data"
    }
   ],
   "source": [
    "tangent_x_squared = tangent_line_delta(x_squared, 2, 1, 1)\n",
    "tangent_x_squared_delta_tenth = tangent_line_delta(x_squared, 2, 1, .1)\n",
    "tangent_x_squared_delta_hundredth = tangent_line_delta(x_squared, 2, 1, .01)\n",
    "subplots = make_subplots([trace_x_squared, tangent_x_squared], [trace_x_squared, tangent_x_squared_delta_tenth])\n",
    "plot_figure(subplots)"
   ]
  },
  {
   "cell_type": "markdown",
   "metadata": {},
   "source": [
    "> The graphs above illustrate when $\\Delta x = 1$  and when $\\Delta x = .1$"
   ]
  },
  {
   "cell_type": "code",
   "execution_count": 42,
   "metadata": {},
   "outputs": [
    {
     "name": "stdout",
     "output_type": "stream",
     "text": [
      "This is the format of your plot grid:\n",
      "[ (1,1) x1,y1 ]  [ (1,2) x2,y2 ]\n",
      "\n"
     ]
    },
    {
     "data": {
      "application/vnd.plotly.v1+json": {
       "data": [
        {
         "mode": "line",
         "name": "data",
         "text": [],
         "type": "scatter",
         "x": [
          0,
          0.25,
          0.5,
          0.75,
          1,
          1.25,
          1.5,
          1.75,
          2,
          2.25,
          2.5,
          2.75,
          3,
          3.25,
          3.5,
          3.75,
          4
         ],
         "xaxis": "x1",
         "y": [
          0,
          0.0625,
          0.25,
          0.5625,
          1,
          1.5625,
          2.25,
          3.0625,
          4,
          5.0625,
          6.25,
          7.5625,
          9,
          10.5625,
          12.25,
          14.0625,
          16
         ],
         "yaxis": "y1"
        },
        {
         "mode": "text+lines",
         "text": [
          "",
          "f' = 4.01",
          ""
         ],
         "textposition": "bottom",
         "type": "scatter",
         "x": [
          1.5,
          2,
          2.5
         ],
         "xaxis": "x1",
         "y": [
          1.995,
          4,
          6.005
         ],
         "yaxis": "y1"
        },
        {
         "mode": "line",
         "name": "data",
         "text": [],
         "type": "scatter",
         "x": [
          0,
          0.25,
          0.5,
          0.75,
          1,
          1.25,
          1.5,
          1.75,
          2,
          2.25,
          2.5,
          2.75,
          3,
          3.25,
          3.5,
          3.75,
          4
         ],
         "xaxis": "x2",
         "y": [
          0,
          0.0625,
          0.25,
          0.5625,
          1,
          1.5625,
          2.25,
          3.0625,
          4,
          5.0625,
          6.25,
          7.5625,
          9,
          10.5625,
          12.25,
          14.0625,
          16
         ],
         "yaxis": "y2"
        },
        {
         "mode": "text+lines",
         "text": [
          "",
          "f' = 4.001",
          ""
         ],
         "textposition": "bottom",
         "type": "scatter",
         "x": [
          1.5,
          2,
          2.5
         ],
         "xaxis": "x2",
         "y": [
          1.9994999999999998,
          4,
          6.000500000000001
         ],
         "yaxis": "y2"
        }
       ],
       "layout": {
        "xaxis1": {
         "anchor": "y1",
         "domain": [
          0,
          0.45
         ]
        },
        "xaxis2": {
         "anchor": "y2",
         "domain": [
          0.55,
          1
         ]
        },
        "yaxis1": {
         "anchor": "x1",
         "domain": [
          0,
          1
         ]
        },
        "yaxis2": {
         "anchor": "x2",
         "domain": [
          0,
          1
         ]
        }
       }
      },
      "text/html": [
       "<div id=\"8341c4f5-2eee-40ef-b9bb-48e29b226e86\" style=\"height: 525px; width: 100%;\" class=\"plotly-graph-div\"></div><script type=\"text/javascript\">require([\"plotly\"], function(Plotly) { window.PLOTLYENV=window.PLOTLYENV || {};window.PLOTLYENV.BASE_URL=\"https://plot.ly\";Plotly.newPlot(\"8341c4f5-2eee-40ef-b9bb-48e29b226e86\", [{\"type\": \"scatter\", \"x\": [0.0, 0.25, 0.5, 0.75, 1.0, 1.25, 1.5, 1.75, 2.0, 2.25, 2.5, 2.75, 3.0, 3.25, 3.5, 3.75, 4.0], \"y\": [0.0, 0.0625, 0.25, 0.5625, 1.0, 1.5625, 2.25, 3.0625, 4.0, 5.0625, 6.25, 7.5625, 9.0, 10.5625, 12.25, 14.0625, 16.0], \"mode\": \"line\", \"name\": \"data\", \"text\": [], \"xaxis\": \"x1\", \"yaxis\": \"y1\"}, {\"type\": \"scatter\", \"x\": [1.5, 2, 2.5], \"y\": [1.995, 4, 6.005], \"text\": [\"\", \"f' = 4.01\", \"\"], \"mode\": \"text+lines\", \"textposition\": \"bottom\", \"xaxis\": \"x1\", \"yaxis\": \"y1\"}, {\"type\": \"scatter\", \"x\": [0.0, 0.25, 0.5, 0.75, 1.0, 1.25, 1.5, 1.75, 2.0, 2.25, 2.5, 2.75, 3.0, 3.25, 3.5, 3.75, 4.0], \"y\": [0.0, 0.0625, 0.25, 0.5625, 1.0, 1.5625, 2.25, 3.0625, 4.0, 5.0625, 6.25, 7.5625, 9.0, 10.5625, 12.25, 14.0625, 16.0], \"mode\": \"line\", \"name\": \"data\", \"text\": [], \"xaxis\": \"x2\", \"yaxis\": \"y2\"}, {\"type\": \"scatter\", \"x\": [1.5, 2, 2.5], \"y\": [1.9994999999999998, 4, 6.000500000000001], \"text\": [\"\", \"f' = 4.001\", \"\"], \"mode\": \"text+lines\", \"textposition\": \"bottom\", \"xaxis\": \"x2\", \"yaxis\": \"y2\"}], {\"xaxis1\": {\"domain\": [0.0, 0.45], \"anchor\": \"y1\"}, \"yaxis1\": {\"domain\": [0.0, 1.0], \"anchor\": \"x1\"}, \"xaxis2\": {\"domain\": [0.55, 1.0], \"anchor\": \"y2\"}, \"yaxis2\": {\"domain\": [0.0, 1.0], \"anchor\": \"x2\"}}, {\"showLink\": true, \"linkText\": \"Export to plot.ly\"})});</script>"
      ],
      "text/vnd.plotly.v1+html": [
       "<div id=\"8341c4f5-2eee-40ef-b9bb-48e29b226e86\" style=\"height: 525px; width: 100%;\" class=\"plotly-graph-div\"></div><script type=\"text/javascript\">require([\"plotly\"], function(Plotly) { window.PLOTLYENV=window.PLOTLYENV || {};window.PLOTLYENV.BASE_URL=\"https://plot.ly\";Plotly.newPlot(\"8341c4f5-2eee-40ef-b9bb-48e29b226e86\", [{\"type\": \"scatter\", \"x\": [0.0, 0.25, 0.5, 0.75, 1.0, 1.25, 1.5, 1.75, 2.0, 2.25, 2.5, 2.75, 3.0, 3.25, 3.5, 3.75, 4.0], \"y\": [0.0, 0.0625, 0.25, 0.5625, 1.0, 1.5625, 2.25, 3.0625, 4.0, 5.0625, 6.25, 7.5625, 9.0, 10.5625, 12.25, 14.0625, 16.0], \"mode\": \"line\", \"name\": \"data\", \"text\": [], \"xaxis\": \"x1\", \"yaxis\": \"y1\"}, {\"type\": \"scatter\", \"x\": [1.5, 2, 2.5], \"y\": [1.995, 4, 6.005], \"text\": [\"\", \"f' = 4.01\", \"\"], \"mode\": \"text+lines\", \"textposition\": \"bottom\", \"xaxis\": \"x1\", \"yaxis\": \"y1\"}, {\"type\": \"scatter\", \"x\": [0.0, 0.25, 0.5, 0.75, 1.0, 1.25, 1.5, 1.75, 2.0, 2.25, 2.5, 2.75, 3.0, 3.25, 3.5, 3.75, 4.0], \"y\": [0.0, 0.0625, 0.25, 0.5625, 1.0, 1.5625, 2.25, 3.0625, 4.0, 5.0625, 6.25, 7.5625, 9.0, 10.5625, 12.25, 14.0625, 16.0], \"mode\": \"line\", \"name\": \"data\", \"text\": [], \"xaxis\": \"x2\", \"yaxis\": \"y2\"}, {\"type\": \"scatter\", \"x\": [1.5, 2, 2.5], \"y\": [1.9994999999999998, 4, 6.000500000000001], \"text\": [\"\", \"f' = 4.001\", \"\"], \"mode\": \"text+lines\", \"textposition\": \"bottom\", \"xaxis\": \"x2\", \"yaxis\": \"y2\"}], {\"xaxis1\": {\"domain\": [0.0, 0.45], \"anchor\": \"y1\"}, \"yaxis1\": {\"domain\": [0.0, 1.0], \"anchor\": \"x1\"}, \"xaxis2\": {\"domain\": [0.55, 1.0], \"anchor\": \"y2\"}, \"yaxis2\": {\"domain\": [0.0, 1.0], \"anchor\": \"x2\"}}, {\"showLink\": true, \"linkText\": \"Export to plot.ly\"})});</script>"
      ]
     },
     "metadata": {},
     "output_type": "display_data"
    }
   ],
   "source": [
    "tangent_x_squared_delta_hundredth = tangent_line_delta(x_squared, 2, 1, .01)\n",
    "tangent_x_squared_delta_thousandth = tangent_line_delta(x_squared, 2, 1, .001)\n",
    "subplots = make_subplots([trace_x_squared, tangent_x_squared_delta_hundredth], [trace_x_squared, tangent_x_squared_delta_thousandth])\n",
    "plot_figure(subplots)"
   ]
  },
  {
   "cell_type": "markdown",
   "metadata": {},
   "source": [
    ">  $\\Delta x = .01$ and $\\Delta x = .001$"
   ]
  },
  {
   "cell_type": "markdown",
   "metadata": {},
   "source": [
    "Notice that our curves approach being tangent to the line as we decrease $\\Delta x$.  In addition, our slopes converge to one number.  In fact, by decreasing $\\Delta x$ we can see a fairly clear pattern.\n",
    "\n",
    "| $ \\Delta x $        | $ \\frac{\\Delta y}{\\Delta x} $|\n",
    "| ------------- |:-------------:|\n",
    "| 1      | 5      |\n",
    "| .1      | 4.1|\n",
    "| .01 | 4.01     |\n",
    "| .001 | 4.001      |\n"
   ]
  },
  {
   "cell_type": "markdown",
   "metadata": {},
   "source": [
    "As you can see, as $\\Delta x $ approaches zero, $f'(2) $ approaches $ 4 $.  This convergance around one number as we change another number, is the **limit **.  "
   ]
  },
  {
   "cell_type": "code",
   "execution_count": 89,
   "metadata": {},
   "outputs": [
    {
     "data": {
      "application/vnd.plotly.v1+json": {
       "data": [
        {
         "mode": "line",
         "name": "data",
         "text": [],
         "x": [
          0,
          0.25,
          0.5,
          0.75,
          1,
          1.25,
          1.5,
          1.75,
          2,
          2.25,
          2.5,
          2.75,
          3,
          3.25,
          3.5,
          3.75,
          4
         ],
         "y": [
          0,
          0.0625,
          0.25,
          0.5625,
          1,
          1.5625,
          2.25,
          3.0625,
          4,
          5.0625,
          6.25,
          7.5625,
          9,
          10.5625,
          12.25,
          14.0625,
          16
         ]
        },
        {
         "mode": "lines+text",
         "name": "x2 - x1 = 6 - 4 = 2",
         "text": [
          "2",
          "4"
         ],
         "textposition": "bottom",
         "x": [
          2,
          4
         ],
         "y": [
          4,
          4
         ]
        },
        {
         "mode": "lines+text",
         "name": "y2 - y1 = 16 - 4 = 12",
         "text": [
          "4",
          "16"
         ],
         "textposition": "right",
         "x": [
          4,
          4
         ],
         "y": [
          4,
          16
         ]
        },
        {
         "mode": "text+lines",
         "text": [
          "",
          "f' = 6.0",
          ""
         ],
         "textposition": "bottom",
         "x": [
          0,
          2,
          4
         ],
         "y": [
          -8,
          4,
          16
         ]
        }
       ],
       "layout": {
        "xaxis": {
         "range": [
          1.5,
          9
         ],
         "title": "number of seconds"
        },
        "yaxis": {
         "range": [
          0,
          15
         ],
         "title": "distance"
        }
       }
      },
      "text/html": [
       "<div id=\"f1e2ccc1-9b08-4d26-9f2e-0605482d96c2\" style=\"height: 525px; width: 100%;\" class=\"plotly-graph-div\"></div><script type=\"text/javascript\">require([\"plotly\"], function(Plotly) { window.PLOTLYENV=window.PLOTLYENV || {};window.PLOTLYENV.BASE_URL=\"https://plot.ly\";Plotly.newPlot(\"f1e2ccc1-9b08-4d26-9f2e-0605482d96c2\", [{\"x\": [0.0, 0.25, 0.5, 0.75, 1.0, 1.25, 1.5, 1.75, 2.0, 2.25, 2.5, 2.75, 3.0, 3.25, 3.5, 3.75, 4.0], \"y\": [0.0, 0.0625, 0.25, 0.5625, 1.0, 1.5625, 2.25, 3.0625, 4.0, 5.0625, 6.25, 7.5625, 9.0, 10.5625, 12.25, 14.0625, 16.0], \"mode\": \"line\", \"name\": \"data\", \"text\": []}, {\"x\": [2, 4], \"y\": [4, 4], \"mode\": \"lines+text\", \"name\": \"x2 - x1 = 6 - 4 = 2\", \"text\": [\"2\", \"4\"], \"textposition\": \"bottom\"}, {\"x\": [4, 4], \"y\": [4, 16], \"mode\": \"lines+text\", \"name\": \"y2 - y1 = 16 - 4 = 12\", \"text\": [\"4\", \"16\"], \"textposition\": \"right\"}, {\"x\": [0.0, 2, 4.0], \"y\": [-8.0, 4, 16.0], \"text\": [\"\", \"f' = 6.0\", \"\"], \"mode\": \"text+lines\", \"textposition\": \"bottom\"}], {\"xaxis\": {\"title\": \"number of seconds\", \"range\": [1.5, 9.0]}, \"yaxis\": {\"title\": \"distance\", \"range\": [0, 15]}}, {\"showLink\": true, \"linkText\": \"Export to plot.ly\"})});</script>"
      ],
      "text/vnd.plotly.v1+html": [
       "<div id=\"f1e2ccc1-9b08-4d26-9f2e-0605482d96c2\" style=\"height: 525px; width: 100%;\" class=\"plotly-graph-div\"></div><script type=\"text/javascript\">require([\"plotly\"], function(Plotly) { window.PLOTLYENV=window.PLOTLYENV || {};window.PLOTLYENV.BASE_URL=\"https://plot.ly\";Plotly.newPlot(\"f1e2ccc1-9b08-4d26-9f2e-0605482d96c2\", [{\"x\": [0.0, 0.25, 0.5, 0.75, 1.0, 1.25, 1.5, 1.75, 2.0, 2.25, 2.5, 2.75, 3.0, 3.25, 3.5, 3.75, 4.0], \"y\": [0.0, 0.0625, 0.25, 0.5625, 1.0, 1.5625, 2.25, 3.0625, 4.0, 5.0625, 6.25, 7.5625, 9.0, 10.5625, 12.25, 14.0625, 16.0], \"mode\": \"line\", \"name\": \"data\", \"text\": []}, {\"x\": [2, 4], \"y\": [4, 4], \"mode\": \"lines+text\", \"name\": \"x2 - x1 = 6 - 4 = 2\", \"text\": [\"2\", \"4\"], \"textposition\": \"bottom\"}, {\"x\": [4, 4], \"y\": [4, 16], \"mode\": \"lines+text\", \"name\": \"y2 - y1 = 16 - 4 = 12\", \"text\": [\"4\", \"16\"], \"textposition\": \"right\"}, {\"x\": [0.0, 2, 4.0], \"y\": [-8.0, 4, 16.0], \"text\": [\"\", \"f' = 6.0\", \"\"], \"mode\": \"text+lines\", \"textposition\": \"bottom\"}], {\"xaxis\": {\"title\": \"number of seconds\", \"range\": [1.5, 9.0]}, \"yaxis\": {\"title\": \"distance\", \"range\": [0, 15]}}, {\"showLink\": true, \"linkText\": \"Export to plot.ly\"})});</script>"
      ]
     },
     "metadata": {},
     "output_type": "display_data"
    }
   ],
   "source": [
    "from graph import plot\n",
    "\n",
    "### See what happens as we make this number closer and closer to zero\n",
    "# from 2 to 1 to .5 to .1 to .01\n",
    "delta_x = 2\n",
    "\n",
    "# plotting our initial function\n",
    "four_seconds = list(map(lambda number: number/4.0 ,sixteen))\n",
    "x_squared_outputs = list(map(lambda number: output_at(x_squared, number), four_seconds))\n",
    "trace_x_squared = trace_values(four_seconds, x_squared_outputs, mode = 'line')\n",
    "\n",
    "\n",
    "# plotting our delta_x, delta_f, and rate of change\n",
    "x_squared_delta_x_at_2 = delta_x_trace([(1, 2)], 2, delta_x)\n",
    "x_squared_delta_f_at_2 = delta_f_trace([(1, 2)], 2, delta_x)\n",
    "tangent_x_squared_longer = tangent_line_delta([(1, 2)], 2, 4, delta_x)\n",
    "\n",
    "layout = build_layout(x_axis = {'title': 'number of seconds', \n",
    "                                'range': [1.5, 1.5 + 7.5]}, \n",
    "                      y_axis = {'title': 'distance', 'range': [0, 15]})\n",
    "\n",
    "plot([trace_x_squared, x_squared_delta_x_at_2, x_squared_delta_f_at_2, tangent_x_squared_longer], layout)"
   ]
  },
  {
   "cell_type": "markdown",
   "metadata": {},
   "source": [
    "### Approaching our formula for a derivative"
   ]
  },
  {
   "cell_type": "markdown",
   "metadata": {},
   "source": [
    "So to describe the above, we would say, at the point $x = 2 $, the limit of $\\frac{\\Delta y}{\\Delta x} $ -- that is the number $\\frac{\\Delta y}{\\Delta x} $ approaches -- as  $ \\Delta x $ approaches zero is 4.  We can abbreviate this into the following expression: "
   ]
  },
  {
   "cell_type": "markdown",
   "metadata": {},
   "source": [
    "When $x = 2,\\lim_{\\Delta x\\to0} \\frac{\\Delta y}{\\Delta x} = 4  $.\n",
    "\n",
    "Or, better yet, we can update and correct our definition of derivative to equal:\n",
    "\n",
    "$$ f'(x) = \\lim_{ \\Delta x \\to0} \\frac{f(x + \\Delta x) - f(x)}{\\Delta x} $$ \n",
    "\n",
    "So the derivative is the change in output as we *just nudge* our input.  That is how we calculate *instantaneous rate of change*.  That is how we can determine the runners speed at precisely second number 2, by calculating the runner's speed over shorter and shorter periods of time, to see what that number approaches."
   ]
  },
  {
   "cell_type": "markdown",
   "metadata": {},
   "source": [
    "### Summary"
   ]
  },
  {
   "cell_type": "markdown",
   "metadata": {
    "collapsed": true
   },
   "source": [
    "In this section, we learned about derivatives.  A derivative is the instantaneous rate of change of a function.  To calculate the instantaneous rate of change of a function, we see the value that $\\frac{\\Delta y}{\\Delta x} $ approaches as $\\Delta x $ approaches zero.  This way, we are not calculating the rate of change of a function across a given distance, but rather are finding the rate of change instantaneously. "
   ]
  },
  {
   "cell_type": "code",
   "execution_count": 43,
   "metadata": {
    "collapsed": true
   },
   "outputs": [],
   "source": [
    "from graph import build_layout\n",
    "\n",
    "def delta_f(list_of_terms, x_value, h):\n",
    "    return output_at(list_of_terms, x_value + h) - output_at(list_of_terms, x_value)\n",
    "\n",
    "def delta_f_trace(list_of_terms, x_value, delta_x):\n",
    "    initial_f = output_at(list_of_terms, x_value)\n",
    "    delta_y = delta_f(list_of_terms, x_value, delta_x)\n",
    "    return trace_values(x_values=[x_value + delta_x, x_value + delta_x], y_values=[initial_f, initial_f + delta_y], text=[str(initial_f), str(initial_f + delta_y)], mode = 'lines+text', name = 'y2 - y1 = ' + str(initial_f + delta_y) + ' - '  + str(initial_f) + ' = ' + str(delta_y), options = {'textposition': 'right'})\n",
    "\n",
    "def delta_x_trace(list_of_terms, x_value, delta):\n",
    "    initial_f = output_at(list_of_terms, x_value)\n",
    "    return trace_values(x_values=[x_value, x_value + delta], text=[str(x_value), str(x_value + delta)], y_values=[initial_f, initial_f], mode = 'lines+text', name = 'x2 - x1 = ' + str(initial_f + delta) + ' - '  + str(initial_f) + ' = ' + str(delta), options = {'textposition': 'bottom'})"
   ]
  }
 ],
 "metadata": {
  "kernelspec": {
   "display_name": "Python 3",
   "language": "python",
   "name": "python3"
  },
  "language_info": {
   "codemirror_mode": {
    "name": "ipython",
    "version": 3
   },
   "file_extension": ".py",
   "mimetype": "text/x-python",
   "name": "python",
   "nbconvert_exporter": "python",
   "pygments_lexer": "ipython3",
   "version": "3.6.1"
  }
 },
 "nbformat": 4,
 "nbformat_minor": 2
}
