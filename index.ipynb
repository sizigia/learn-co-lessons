{
 "cells": [
  {
   "cell_type": "markdown",
   "metadata": {},
   "source": [
    "# Introduction to Data Science"
   ]
  },
  {
   "cell_type": "markdown",
   "metadata": {},
   "source": [
    "### Welcome"
   ]
  },
  {
   "cell_type": "markdown",
   "metadata": {},
   "source": [
    "Nice job, the hardest part is over!  You made it here, to Flatiron School's Data Science course."
   ]
  },
  {
   "cell_type": "markdown",
   "metadata": {},
   "source": [
    "### Why Data Science"
   ]
  },
  {
   "cell_type": "markdown",
   "metadata": {},
   "source": [
    "Data science is a good place to be.  "
   ]
  },
  {
   "cell_type": "markdown",
   "metadata": {},
   "source": [
    "![](./structured-unstructured.png)"
   ]
  },
  {
   "cell_type": "markdown",
   "metadata": {},
   "source": [
    "The **amount** of is increasing each year, and data scientists like us will be needed to collect and interpret this data.\n",
    "\n",
    "As you may have guessed, more companies are looking for data scientists who have the skills to collect this information and turn them into insights."
   ]
  },
  {
   "cell_type": "markdown",
   "metadata": {},
   "source": [
    "![](./data-science-postings.png)"
   ]
  },
  {
   "cell_type": "markdown",
   "metadata": {},
   "source": [
    "Let's spend take another look at this chart.  In 2017, there were *five times* number of data science job postings as in there were three years earlier."
   ]
  },
  {
   "cell_type": "markdown",
   "metadata": {},
   "source": [
    "And it's not just businesses that make use of this information.  \n",
    "* In 2015, forty percent of federal agencies had a chief data officer.  \n",
    "* Data science has been used to forecast episodes of civil unrest and detect outbreaks of health crises like Ebola."
   ]
  },
  {
   "cell_type": "markdown",
   "metadata": {},
   "source": [
    "### What is data science?"
   ]
  },
  {
   "cell_type": "markdown",
   "metadata": {},
   "source": [
    "For our purposes, data science involves the following fields: programming, machine learning or statistical algorithms, and business intelligence.  \n",
    "\n",
    "Let's see this as a venn diagram:"
   ]
  },
  {
   "cell_type": "markdown",
   "metadata": {},
   "source": [
    "<img src=\"./VennDiagram_v2.png\" alt=\"Drawing\" style=\"width: 300px;\"/>"
   ]
  },
  {
   "cell_type": "markdown",
   "metadata": {},
   "source": [
    "And, in solving problems, we will use the following process:\n",
    "\n",
    "* **Collect**: Gather and clean the relevant data\n",
    "* **Explore**: Make sense of the data\n",
    "* **Train**: Choose  statistical or machine learning model and optimize the model based on the existing data\n",
    "* **Predict**: Make predictions with the trained model"
   ]
  },
  {
   "cell_type": "markdown",
   "metadata": {},
   "source": [
    "So now you may have a sense of why data scientists need a range of skills:\n",
    "\n",
    "* To *collect* the data, \n",
    "    * we need **programming** to gather and organize the data\n",
    "\n",
    "\n",
    "* In *exploring* the data\n",
    "    * we use **programming** and **business intelligence** skills\n",
    "\n",
    "\n",
    "* And in * training * and * predicting * \n",
    "    * we use **statistics and machine learning** to build a model that makes predictions, \n",
    "    * and **business intelligence** to provide context throughout this step"
   ]
  },
  {
   "cell_type": "markdown",
   "metadata": {},
   "source": [
    "### Data Science at Flatiron School"
   ]
  },
  {
   "cell_type": "markdown",
   "metadata": {},
   "source": [
    "As a Flatiron School course, we designed the course to provide the following: \n",
    "\n",
    "**1. Practice with Theory**\n",
    "\n",
    "*Practice*: The course is written to give you the skills to become a successful data scientist.  To do that, we have you code in Python every step of the way.  And we teach you techniques that practitioners use every step of the way.\n",
    "\n",
    "*Theory*:  But your knowledge of data science should not end with this course.  The field of data science will continue to evolve, and you'll need to understand the reasoning and shifts in the future.  For that, we need you to reach to the reasoning behind the techniques, and yes that includes the underlying mathematics. \n",
    "\n",
    "**2. Accessible **\n",
    "\n",
    "This course was designed to be accessible to everyone. \n",
    "\n",
    "*Math is a four letter word*:  Listen up, we do not expect you to walk in here a math person.  We know that the just the word *math* provokes fear and boredom -- somehow simultaneously!  Still, we won't shy away from it.  Chances are you learned math through pencil and paper, not through programming graphs and equations that automatically respond to your inputs.  It's time to give it a honest try.\n",
    "\n",
    "*Computer Science is a liberal art*.  We also don't expect you to have any knowledge of programming.  We'll get you there, and show you how to use it to make sense of data.\n",
    "\n",
    "**3. Fall in Love **\n",
    "\n",
    "Finally, we know that the best way to teach a subject is to get you to fall in love with it.  So that's why we make sure to show you the power of each new skill you are learning, and the rich ideas underneath each new concept.  And it's why we have you code on our Learn platform that allows you to tap into the broader community of learners."
   ]
  },
  {
   "cell_type": "markdown",
   "metadata": {},
   "source": [
    "### Dive in "
   ]
  },
  {
   "cell_type": "markdown",
   "metadata": {},
   "source": [
    "The first section of the course focuses on the first steps of our data science process: collecting and exploring data.  Python and Python libraries will be our tool of choice.  We'll show you how to gather, organize and plot data with Python in these first lessons.\n",
    "\n",
    "The second part of the introductory course goes deeper into exploring and make predictions with our models.  This means that we will go deeper into data visualization and graphs, and then learn some machine learning algorithms for making predictions from our data. \n",
    "\n",
    "Ok, let's dive in!"
   ]
  }
 ],
 "metadata": {
  "kernelspec": {
   "display_name": "Python 3",
   "language": "python",
   "name": "python3"
  },
  "language_info": {
   "codemirror_mode": {
    "name": "ipython",
    "version": 3
   },
   "file_extension": ".py",
   "mimetype": "text/x-python",
   "name": "python",
   "nbconvert_exporter": "python",
   "pygments_lexer": "ipython3",
   "version": "3.6.1"
  }
 },
 "nbformat": 4,
 "nbformat_minor": 2
}
