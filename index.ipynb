{
 "cells": [
  {
   "cell_type": "markdown",
   "metadata": {},
   "source": [
    "### Reviewing our Nearest Neighbors Function"
   ]
  },
  {
   "cell_type": "markdown",
   "metadata": {},
   "source": [
    "Previously, we used the Pythagorean Theorem to calculate distances between individuals.  Ultimately we used this to write a nearest neighbors function to return an array of the closest neighbors to a given individual.  Let's review that now."
   ]
  },
  {
   "cell_type": "markdown",
   "metadata": {},
   "source": [
    "Once again, here were the locations of Bob and our customers:\n",
    "\n",
    "| Name | Avenue #| Block # | \n",
    "|------|------| ------     |\n",
    "| Bob    | 4  |     8     | \n",
    "| Suzie  | 1  |     11     | \n",
    "| Fred   | 5  |     8     | \n",
    "| Edgar  | 6  |     13     | \n",
    "| Steven | 3  |     6     | \n",
    "| Natalie| 5  |     4     | "
   ]
  },
  {
   "cell_type": "markdown",
   "metadata": {},
   "source": [
    "And we represent these individuals in Python with the following:"
   ]
  },
  {
   "cell_type": "code",
   "execution_count": 1,
   "metadata": {
    "collapsed": true
   },
   "outputs": [],
   "source": [
    "neighbors = [{'name': 'Bob', 'x': 4, 'y': 8}, {'name': 'Suzie', 'x': 1, 'y': 11}, \n",
    "             {'name': 'Fred', 'x': 5, 'y': 8}, {'name': 'Edgar', 'x': 6, 'y': 13},\n",
    "             {'name': 'Steven', 'x': 3, 'y': 6}, {'name': 'Natalie', 'x': 5, 'y': 4}]\n",
    "bob = neighbors[0]\n",
    "suzie = neighbors[1]"
   ]
  },
  {
   "cell_type": "markdown",
   "metadata": {},
   "source": [
    "To write a `nearest_neighbors` function, we break this into steps.  \n",
    "\n",
    "**First**, we write a function that calculates the distance between one individual and another.  This function is a translation of our Pythagorean Theorem, which says that given a first individual with coordinates $(x_{1}, y_{1})$, and a second individual with coordinates $(x_{2}, y_{2})$, then $distance = \\sqrt{(x_{2} - x_{1})^2 + (y_{2} - y_{1})^2}$."
   ]
  },
  {
   "cell_type": "code",
   "execution_count": 2,
   "metadata": {
    "collapsed": true
   },
   "outputs": [],
   "source": [
    "import math\n",
    "\n",
    "def distance(selected_individual, neighbor):\n",
    "   distance_squared = (neighbor['x'] - selected_individual['x'])**2 + (neighbor['y'] - selected_individual['y'])**2\n",
    "   return math.sqrt(distance_squared)"
   ]
  },
  {
   "cell_type": "code",
   "execution_count": 3,
   "metadata": {
    "collapsed": true
   },
   "outputs": [],
   "source": [
    "def distance_between_neighbors(selected_individual, neighbor):\n",
    "    neighbor_with_distance = neighbor.copy()\n",
    "    neighbor_with_distance['distance'] = distance(selected_individual, neighbor)\n",
    "    return neighbor_with_distance"
   ]
  },
  {
   "cell_type": "code",
   "execution_count": 5,
   "metadata": {},
   "outputs": [
    {
     "data": {
      "text/plain": [
       "{'distance': 4.242640687119285, 'name': 'Suzie', 'x': 1, 'y': 11}"
      ]
     },
     "execution_count": 5,
     "metadata": {},
     "output_type": "execute_result"
    }
   ],
   "source": [
    "distance_between_neighbors(bob, suzie)"
   ]
  },
  {
   "cell_type": "markdown",
   "metadata": {},
   "source": [
    "The `distance_between_neighbors` function makes a copy of the neighbor object and then adds a new attribute called distance using the previous `distance` function.  We separate out the functions to keep our functions small, which is generally a good practice."
   ]
  },
  {
   "cell_type": "markdown",
   "metadata": {},
   "source": [
    "**Second**, we calculate the distance between a selected_individual, and all of the other neighbors.  We do this by calling our `distance_between_neighbors` function with the `selected_individual` and each of the rest of the neighbors.  Then once we calculate all of the distances, we sort the neighbors by their distances from the `selected_individual`, and select the closest neighbors.   "
   ]
  },
  {
   "cell_type": "markdown",
   "metadata": {},
   "source": [
    "In the `distance_all` function, we first filter out the `selected_individual`, and then calculate the distance between the `selected_individual` and the rest of the individuals.  Then for each of the remaining neighbors, we transform each neighbor to add in a distance attribute, by calling our `distance_between_neighbors` method."
   ]
  },
  {
   "cell_type": "code",
   "execution_count": 7,
   "metadata": {
    "collapsed": true
   },
   "outputs": [],
   "source": [
    "def distance_all(selected_individual, neighbors):\n",
    "    remaining_neighbors = filter(lambda neighbor: neighbor != selected_individual, neighbors)\n",
    "    return list(map(lambda neighbor: distance_between_neighbors(selected_individual, neighbor), remaining_neighbors))"
   ]
  },
  {
   "cell_type": "markdown",
   "metadata": {},
   "source": [
    "Finally, we write our `nearest_neighbors` function.  The function takes an optional argument of `number`, which represents the number of \"near\" neighbors to return.  When set to `None`, `number` is reassigned to equal the length of the `neighbors` list.  The `nearest_neighbors` function finishes by sorting the the \"neighbors\" by their distance and then slicing the list to return the correct number of neighbors.     "
   ]
  },
  {
   "cell_type": "code",
   "execution_count": 8,
   "metadata": {
    "collapsed": true
   },
   "outputs": [],
   "source": [
    "def nearest_neighbors(selected_individual, neighbors, number = None):\n",
    "    number = number or len(neighbors)\n",
    "    neighbor_distances = distance_all(selected_individual, neighbors)\n",
    "    sorted_neighbors = sorted(neighbor_distances, key=lambda neighbor: neighbor['distance'])\n",
    "    return sorted_neighbors[:number]"
   ]
  },
  {
   "cell_type": "code",
   "execution_count": 10,
   "metadata": {},
   "outputs": [
    {
     "data": {
      "text/plain": [
       "[{'distance': 1.0, 'name': 'Fred', 'x': 5, 'y': 8},\n",
       " {'distance': 2.23606797749979, 'name': 'Steven', 'x': 3, 'y': 6},\n",
       " {'distance': 4.123105625617661, 'name': 'Natalie', 'x': 5, 'y': 4},\n",
       " {'distance': 4.242640687119285, 'name': 'Suzie', 'x': 1, 'y': 11},\n",
       " {'distance': 5.385164807134504, 'name': 'Edgar', 'x': 6, 'y': 13}]"
      ]
     },
     "execution_count": 10,
     "metadata": {},
     "output_type": "execute_result"
    }
   ],
   "source": [
    "nearest_neighbors(bob, neighbors)"
   ]
  },
  {
   "cell_type": "code",
   "execution_count": 12,
   "metadata": {},
   "outputs": [
    {
     "data": {
      "text/plain": [
       "[{'distance': 1.0, 'name': 'Fred', 'x': 5, 'y': 8},\n",
       " {'distance': 2.23606797749979, 'name': 'Steven', 'x': 3, 'y': 6}]"
      ]
     },
     "execution_count": 12,
     "metadata": {},
     "output_type": "execute_result"
    }
   ],
   "source": [
    "nearest_neighbors(bob, neighbors, 2)"
   ]
  },
  {
   "cell_type": "markdown",
   "metadata": {},
   "source": [
    "### Summary"
   ]
  },
  {
   "cell_type": "markdown",
   "metadata": {},
   "source": [
    "In this lesson, we reviewed the nearest neighbors function and saw how it derives from calculating the distance using the Pythagorean Theorem to then sorting neighbors by that interest.  \n",
    "\n"
   ]
  }
 ],
 "metadata": {
  "kernelspec": {
   "display_name": "Python 3",
   "language": "python",
   "name": "python3"
  },
  "language_info": {
   "codemirror_mode": {
    "name": "ipython",
    "version": 3
   },
   "file_extension": ".py",
   "mimetype": "text/x-python",
   "name": "python",
   "nbconvert_exporter": "python",
   "pygments_lexer": "ipython3",
   "version": "3.6.1"
  }
 },
 "nbformat": 4,
 "nbformat_minor": 2
}
