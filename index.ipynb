{
 "cells": [
  {
   "cell_type": "markdown",
   "metadata": {},
   "source": [
    "# Visualizing Data with Graphs"
   ]
  },
  {
   "cell_type": "markdown",
   "metadata": {},
   "source": [
    "### Learning Objectives"
   ]
  },
  {
   "cell_type": "markdown",
   "metadata": {},
   "source": [
    "* Understand the components of a point in a graph, an $x$ value, and a $y$ value \n",
    "* Understand where to place a point on a graph, from knowing a point's $x$ and $y$ value\n",
    "* Get a sense of how to use a graphing library, like Plotly, to answer questions about our data"
   ]
  },
  {
   "cell_type": "markdown",
   "metadata": {},
   "source": [
    "### A common problem"
   ]
  },
  {
   "cell_type": "markdown",
   "metadata": {},
   "source": [
    "Imagine that Molly is selling cupcakes out of her kitchen.  She gains more and more customers, and so, she decides to hire a delivery person, Bob.  Molly asks us to calculate which customers are closest and furthest from Bob.  This way, she can pay him appropriately.\n",
    "\n",
    "Molly gives us a list of all of the customer locations, along with Bob's.  Here they are:"
   ]
  },
  {
   "cell_type": "markdown",
   "metadata": {},
   "source": [
    "| Name | Avenue #| Block # | \n",
    "|------|------| ------     |\n",
    "| Bob    | 4  |     8     | \n",
    "| Suzie  | 1  |     11     | \n",
    "| Fred   | 5  |     8     | \n",
    "| Edgar  | 6  |     13     | \n",
    "| Steven | 3  |     6     | \n",
    "| Natalie| 5  |     4     | "
   ]
  },
  {
   "cell_type": "markdown",
   "metadata": {},
   "source": [
    "Now to figure out is who is closest to Bob you decide to make a graph of each customer's locations, as well as Bob's, in a graph."
   ]
  },
  {
   "cell_type": "markdown",
   "metadata": {},
   "source": [
    "### Visualizing Data with Graphs"
   ]
  },
  {
   "cell_type": "markdown",
   "metadata": {},
   "source": [
    "Before plotting everyone's locations, let's start off with a scatter plot of just one random point, the point $(2, 1)$."
   ]
  },
  {
   "cell_type": "markdown",
   "metadata": {},
   "source": [
    "![](./plot-one-point.png)"
   ]
  },
  {
   "cell_type": "markdown",
   "metadata": {},
   "source": [
    "Ok so that graph above uses the cartesian coordinate system.  The coordinate system is used to display data along both an x-axis and y-axis.  The **x-axis** runs horizontally, from left to right, and you can see it as the labeled gray line along the bottom.  The **y-axis** runs vertically, from the bottom to the top.  You can see it labeled on the far left of our graph.\n",
    "\n",
    "In the graph above, it shows the x-axis starting at -4 and the y-axis starting at -1, but that's just to make things easy to see.  In reality, you can imagine the x-axis and y-axis both including all numbers from negative infinity to positive infinity.  And that blue marker in top right portion of our graph represents the point where $x = 2 $ and $y = 1$.  Do you see why?  Well it's the place where the $x$ value is $2$, and the $y$ value is $1$.  As a shorthand, we mathematicians express this point as $(2, 1)$.  So the format is $(x, y) $, with the $x$ coordinate always coming first.\n",
    "\n",
    "The light-gray lines forming a grid on the graph to help us see where any given **point** is on a graph.  A point in geometry just means a location.  Now, test your knowledge by moving your mouse to the point $(4, 2)$.  Did you get it?  It's the spot at the top right of the graph."
   ]
  },
  {
   "cell_type": "markdown",
   "metadata": {},
   "source": [
    "### Plotting our data"
   ]
  },
  {
   "cell_type": "markdown",
   "metadata": {},
   "source": [
    "Ok, now let's plot the data given.  \n",
    "\n",
    "\n",
    "| Name | Avenue #| Block # | \n",
    "|------|------| ------     |\n",
    "| Bob    | 4  |     8     | \n",
    "| Suzie  | 1  |     11     | \n",
    "| Fred   | 5  |     8     | \n",
    "| Edgar  | 6  |     13     | \n",
    "| Steven | 3  |     6     | \n",
    "| Natalie| 5  |     4     | \n"
   ]
  },
  {
   "cell_type": "markdown",
   "metadata": {},
   "source": [
    "We cannot graph the data with python itself, so we need to download a library from the Internet.  This is easy enough.  Simply go to your terminal and type in `pip install plotly` followed, by the enter key.  Or you can press shift enter on the cell below.  If you already have `plotly` installed, you will see a message saying that it's already installed -- which you can safely ignore."
   ]
  },
  {
   "cell_type": "code",
   "execution_count": null,
   "metadata": {
    "collapsed": true
   },
   "outputs": [],
   "source": [
    "!pip install plotly"
   ]
  },
  {
   "cell_type": "markdown",
   "metadata": {},
   "source": [
    "Now we have `plotly` on our computer.  The next step is to get it into this notebook.  We do so with the following two lines."
   ]
  },
  {
   "cell_type": "code",
   "execution_count": 2,
   "metadata": {},
   "outputs": [
    {
     "data": {
      "text/html": [
       "<script>requirejs.config({paths: { 'plotly': ['https://cdn.plot.ly/plotly-latest.min']},});if(!window.Plotly) {{require(['plotly'],function(plotly) {window.Plotly=plotly;});}}</script>"
      ],
      "text/vnd.plotly.v1+html": [
       "<script>requirejs.config({paths: { 'plotly': ['https://cdn.plot.ly/plotly-latest.min']},});if(!window.Plotly) {{require(['plotly'],function(plotly) {window.Plotly=plotly;});}}</script>"
      ]
     },
     "metadata": {},
     "output_type": "display_data"
    }
   ],
   "source": [
    "import plotly\n",
    "\n",
    "plotly.offline.init_notebook_mode(connected=True)\n",
    "# use offline mode to avoid initial registration"
   ]
  },
  {
   "cell_type": "markdown",
   "metadata": {},
   "source": [
    "We bring in the `plotly` library by using the keyword `import` followed by our library name, `plotly`.  We create new dictionary in python with the `dict` constructor.  Then we pass through **named arguments** to the constructor to create a dictionary with an $x$ key that points to a list of $x$ values.  Similarly, we create a $y$ key with a value of a list of $y$ values. Note that the $x$ values match avenue numbers and the $y$ values match the block numbers.  We display this data by assigning our dictionary to the variable of `trace0`, and passing it through as an argument to the `plotly.offline.iplot` method.  "
   ]
  },
  {
   "cell_type": "code",
   "execution_count": 3,
   "metadata": {},
   "outputs": [
    {
     "data": {
      "text/html": [
       "<script>requirejs.config({paths: { 'plotly': ['https://cdn.plot.ly/plotly-latest.min']},});if(!window.Plotly) {{require(['plotly'],function(plotly) {window.Plotly=plotly;});}}</script>"
      ],
      "text/vnd.plotly.v1+html": [
       "<script>requirejs.config({paths: { 'plotly': ['https://cdn.plot.ly/plotly-latest.min']},});if(!window.Plotly) {{require(['plotly'],function(plotly) {window.Plotly=plotly;});}}</script>"
      ]
     },
     "metadata": {},
     "output_type": "display_data"
    },
    {
     "data": {
      "application/vnd.plotly.v1+json": {
       "data": [
        {
         "x": [
          4,
          1,
          5,
          6,
          3,
          2
         ],
         "y": [
          8,
          11,
          8,
          13,
          6,
          4
         ]
        }
       ],
       "layout": {}
      },
      "text/html": [
       "<div id=\"7ced2553-80d5-423b-8431-769638f32d3f\" style=\"height: 525px; width: 100%;\" class=\"plotly-graph-div\"></div><script type=\"text/javascript\">require([\"plotly\"], function(Plotly) { window.PLOTLYENV=window.PLOTLYENV || {};window.PLOTLYENV.BASE_URL=\"https://plot.ly\";Plotly.newPlot(\"7ced2553-80d5-423b-8431-769638f32d3f\", [{\"x\": [4, 1, 5, 6, 3, 2], \"y\": [8, 11, 8, 13, 6, 4]}], {}, {\"showLink\": true, \"linkText\": \"Export to plot.ly\"})});</script>"
      ],
      "text/vnd.plotly.v1+html": [
       "<div id=\"7ced2553-80d5-423b-8431-769638f32d3f\" style=\"height: 525px; width: 100%;\" class=\"plotly-graph-div\"></div><script type=\"text/javascript\">require([\"plotly\"], function(Plotly) { window.PLOTLYENV=window.PLOTLYENV || {};window.PLOTLYENV.BASE_URL=\"https://plot.ly\";Plotly.newPlot(\"7ced2553-80d5-423b-8431-769638f32d3f\", [{\"x\": [4, 1, 5, 6, 3, 2], \"y\": [8, 11, 8, 13, 6, 4]}], {}, {\"showLink\": true, \"linkText\": \"Export to plot.ly\"})});</script>"
      ]
     },
     "metadata": {},
     "output_type": "display_data"
    }
   ],
   "source": [
    "import plotly\n",
    "plotly.offline.init_notebook_mode(connected=True)\n",
    "# we repeat these first lines just to keep the code together  \n",
    "\n",
    "trace0 = dict(x=[4, 1, 5, 6, 3, 2], y=[8, 11, 8, 13, 6, 4])\n",
    "\n",
    "# All that, and it doesn't even look good :(\n",
    "plotly.offline.iplot([trace0])"
   ]
  },
  {
   "cell_type": "markdown",
   "metadata": {},
   "source": [
    "The points were plotted correctly, but they are connected by a line, which doesn't represent anything in particular."
   ]
  },
  {
   "cell_type": "markdown",
   "metadata": {},
   "source": [
    "The lines are getting in the way.  Let's remove all of the connecting lines by setting `mode = \"markers\"`.  Then, let's also set labels to each of the dots, by setting `text` equal to a list of our names.  "
   ]
  },
  {
   "cell_type": "code",
   "execution_count": 4,
   "metadata": {},
   "outputs": [
    {
     "data": {
      "application/vnd.plotly.v1+json": {
       "data": [
        {
         "mode": "markers",
         "text": [
          "bob",
          "suzie",
          "fred",
          "edgar",
          "steven",
          "natalie"
         ],
         "x": [
          4,
          1,
          5,
          6,
          3,
          2
         ],
         "y": [
          8,
          11,
          8,
          13,
          6,
          4
         ]
        }
       ],
       "layout": {}
      },
      "text/html": [
       "<div id=\"89a3bef8-0617-4e87-a9e4-df420522fd1f\" style=\"height: 525px; width: 100%;\" class=\"plotly-graph-div\"></div><script type=\"text/javascript\">require([\"plotly\"], function(Plotly) { window.PLOTLYENV=window.PLOTLYENV || {};window.PLOTLYENV.BASE_URL=\"https://plot.ly\";Plotly.newPlot(\"89a3bef8-0617-4e87-a9e4-df420522fd1f\", [{\"x\": [4, 1, 5, 6, 3, 2], \"y\": [8, 11, 8, 13, 6, 4], \"mode\": \"markers\", \"text\": [\"bob\", \"suzie\", \"fred\", \"edgar\", \"steven\", \"natalie\"]}], {}, {\"showLink\": true, \"linkText\": \"Export to plot.ly\"})});</script>"
      ],
      "text/vnd.plotly.v1+html": [
       "<div id=\"89a3bef8-0617-4e87-a9e4-df420522fd1f\" style=\"height: 525px; width: 100%;\" class=\"plotly-graph-div\"></div><script type=\"text/javascript\">require([\"plotly\"], function(Plotly) { window.PLOTLYENV=window.PLOTLYENV || {};window.PLOTLYENV.BASE_URL=\"https://plot.ly\";Plotly.newPlot(\"89a3bef8-0617-4e87-a9e4-df420522fd1f\", [{\"x\": [4, 1, 5, 6, 3, 2], \"y\": [8, 11, 8, 13, 6, 4], \"mode\": \"markers\", \"text\": [\"bob\", \"suzie\", \"fred\", \"edgar\", \"steven\", \"natalie\"]}], {}, {\"showLink\": true, \"linkText\": \"Export to plot.ly\"})});</script>"
      ]
     },
     "metadata": {},
     "output_type": "display_data"
    }
   ],
   "source": [
    "trace1 = dict(x=[4, 1, 5, 6, 3, 2],\n",
    "              y=[8, 11, 8, 13, 6, 4], \n",
    "              mode=\"markers\", \n",
    "              text=[\"bob\", \"suzie\", \"fred\", \"edgar\", \"steven\", \"natalie\"],)\n",
    "\n",
    "\n",
    "plotly.offline.iplot([trace1])\n",
    "\n",
    "# much better :)"
   ]
  },
  {
   "cell_type": "markdown",
   "metadata": {},
   "source": [
    "Ok, so if you move your mouse over the dots, you can see the names that correspond to each point.  Also, when we hover over the dot at the x axis of point four, we can see that is Bob's point, just like it should be.  Now, who is closest to Bob?  It looks like Fred is, so that is the delivery that is easiest for Bob."
   ]
  },
  {
   "cell_type": "markdown",
   "metadata": {},
   "source": [
    "### Summary"
   ]
  },
  {
   "cell_type": "markdown",
   "metadata": {},
   "source": [
    "In this section, we saw how we use data visualisations to better understand the data.  A cartesian coordinate system nicely represents two dimensional data.  It allows us to represent a point's $x$ value by placing the point horizontally at the correct spot on the x-axis.  It represents a point's $y$ value by placing the point at the correct spot along the y-axis.\n",
    "\n",
    "To display the data with `plotly` we need to do a couple of things.  First, we install plotly by going to our terminal and running `pip install plotly`.  Then to use the library, we import the `plotly` library into our notebook.  Once the library is loaded in our notebook, it's time to use it.  We create a new dictionary with keys of $x$ and $y$, with each key pointing to a list of the $x$ or $y$ values of our points.  To clean up the appearance we set the `mode` attribute equal to `'markers'`."
   ]
  }
 ],
 "metadata": {
  "kernelspec": {
   "display_name": "Python 3",
   "language": "python",
   "name": "python3"
  },
  "language_info": {
   "codemirror_mode": {
    "name": "ipython",
    "version": 3
   },
   "file_extension": ".py",
   "mimetype": "text/x-python",
   "name": "python",
   "nbconvert_exporter": "python",
   "pygments_lexer": "ipython3",
   "version": "3.6.1"
  }
 },
 "nbformat": 4,
 "nbformat_minor": 2
}
