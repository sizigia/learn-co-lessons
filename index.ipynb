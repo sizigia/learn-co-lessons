{
 "cells": [
  {
   "cell_type": "markdown",
   "metadata": {},
   "source": [
    "# Plotting Data Lab"
   ]
  },
  {
   "cell_type": "markdown",
   "metadata": {},
   "source": [
    "### Learning Objectives"
   ]
  },
  {
   "cell_type": "markdown",
   "metadata": {},
   "source": [
    "* Understand the components of a point in a graph, an $x$ value, and a $y$ value \n",
    "* Understand how to plot a point on a graph, from a point's $x$ and $y$ value\n",
    "* Get a sense of how to use a graphing library, like Plotly, to answer questions about our data"
   ]
  },
  {
   "cell_type": "markdown",
   "metadata": {},
   "source": [
    "### Working again with our travel data"
   ]
  },
  {
   "cell_type": "markdown",
   "metadata": {},
   "source": [
    "Let's again get our travel data from our excel spreadsheet.  If we do not already have `pandas` and `xldr` for retrieving data from excel, we should install it now."
   ]
  },
  {
   "cell_type": "code",
   "execution_count": null,
   "metadata": {},
   "outputs": [],
   "source": [
    "!pip install pandas\n",
    "!pip install xlrd"
   ]
  },
  {
   "cell_type": "code",
   "execution_count": 22,
   "metadata": {
    "collapsed": true
   },
   "outputs": [],
   "source": [
    "import pandas\n",
    "file_name = './cities.xlsx'\n",
    "travel_df = pandas.read_excel(file_name)\n",
    "cities = travel_df.to_dict('records')"
   ]
  },
  {
   "cell_type": "markdown",
   "metadata": {},
   "source": [
    "> Press shift + enter to run the code above."
   ]
  },
  {
   "cell_type": "code",
   "execution_count": 23,
   "metadata": {},
   "outputs": [
    {
     "data": {
      "text/plain": [
       "[{'Area': 4758,\n",
       "  'City': 'Buenos Aires',\n",
       "  'Country': 'Argentina',\n",
       "  'Population': 2891000},\n",
       " {'Area': 2731571,\n",
       "  'City': 'Toronto',\n",
       "  'Country': 'Canada',\n",
       "  'Population': 2800000},\n",
       " {'Area': 3194,\n",
       "  'City': 'Pyeongchang',\n",
       "  'Country': 'South Korea',\n",
       "  'Population': 2581000},\n",
       " {'Area': 200, 'City': 'Marakesh', 'Country': 'Morocco', 'Population': 928850},\n",
       " {'Area': 491,\n",
       "  'City': 'Albuquerque',\n",
       "  'Country': 'New Mexico',\n",
       "  'Population': 559277},\n",
       " {'Area': 3750,\n",
       "  'City': 'Los Cabos',\n",
       "  'Country': 'Mexico',\n",
       "  'Population': 287651},\n",
       " {'Area': 68, 'City': 'Greenville', 'Country': 'USA', 'Population': 84554},\n",
       " {'Area': 8300,\n",
       "  'City': 'Archipelago Sea',\n",
       "  'Country': 'Finland',\n",
       "  'Population': 60000},\n",
       " {'Area': 33,\n",
       "  'City': 'Walla Walla Valley',\n",
       "  'Country': 'USA',\n",
       "  'Population': 32237},\n",
       " {'Area': 27, 'City': 'Salina Island', 'Country': 'Italy', 'Population': 4000},\n",
       " {'Area': 59, 'City': 'Solta', 'Country': 'Croatia', 'Population': 1700},\n",
       " {'Area': 672,\n",
       "  'City': 'Iguazu Falls',\n",
       "  'Country': 'Argentina',\n",
       "  'Population': 0}]"
      ]
     },
     "execution_count": 23,
     "metadata": {},
     "output_type": "execute_result"
    }
   ],
   "source": [
    "cities"
   ]
  },
  {
   "cell_type": "markdown",
   "metadata": {},
   "source": [
    "### Plotting our first graph"
   ]
  },
  {
   "cell_type": "markdown",
   "metadata": {},
   "source": [
    "As we can see, in our list of cities, each city has a population number.  Our first task will be to display the populations of our first three cities in a bar chart."
   ]
  },
  {
   "cell_type": "markdown",
   "metadata": {},
   "source": [
    "First we load the plotly library into our notebook, and we initialize this offline mode."
   ]
  },
  {
   "cell_type": "code",
   "execution_count": 12,
   "metadata": {},
   "outputs": [
    {
     "data": {
      "text/html": [
       "<script>requirejs.config({paths: { 'plotly': ['https://cdn.plot.ly/plotly-latest.min']},});if(!window.Plotly) {{require(['plotly'],function(plotly) {window.Plotly=plotly;});}}</script>"
      ],
      "text/vnd.plotly.v1+html": [
       "<script>requirejs.config({paths: { 'plotly': ['https://cdn.plot.ly/plotly-latest.min']},});if(!window.Plotly) {{require(['plotly'],function(plotly) {window.Plotly=plotly;});}}</script>"
      ]
     },
     "metadata": {},
     "output_type": "display_data"
    }
   ],
   "source": [
    "import plotly\n",
    "\n",
    "plotly.offline.init_notebook_mode(connected=True)\n",
    "# use offline mode to avoid initial registration"
   ]
  },
  {
   "cell_type": "markdown",
   "metadata": {},
   "source": [
    "Now the next step is to build a trace.  As we know our trace is a dictionary with a key of `x` and a key of `y`.  We have set up a trace to look like the following: `trace_first_three = {'x': x_values, 'y': y_values}`.  \n",
    "\n",
    "First define `x_values` so that it is a list of names of the first three cities.  Use what we learned about accessing information from lists and dictionaries to assign `x_values` equal to those three cities."
   ]
  },
  {
   "cell_type": "code",
   "execution_count": 25,
   "metadata": {},
   "outputs": [],
   "source": [
    "x_values = [cities[0]['City'], cities[1]['City'], cities[2]['City']]"
   ]
  },
  {
   "cell_type": "markdown",
   "metadata": {},
   "source": [
    "Now use list and dictionary accessors to set `y_values` equal to the first three populations."
   ]
  },
  {
   "cell_type": "code",
   "execution_count": 26,
   "metadata": {
    "collapsed": true
   },
   "outputs": [],
   "source": [
    "y_values = [cities[0]['Population'], cities[1]['Population'], cities[2]['Population']]"
   ]
  },
  {
   "cell_type": "markdown",
   "metadata": {},
   "source": [
    "Now let's plot our data."
   ]
  },
  {
   "cell_type": "code",
   "execution_count": 27,
   "metadata": {},
   "outputs": [
    {
     "data": {
      "application/vnd.plotly.v1+json": {
       "data": [
        {
         "x": [
          "Buenos Aires",
          "Toronto",
          "Pyeongchang"
         ],
         "y": [
          2891000,
          2800000,
          2581000
         ]
        }
       ],
       "layout": {}
      },
      "text/html": [
       "<div id=\"3d7c19c6-26a4-41ad-8022-81fab6ed9857\" style=\"height: 525px; width: 100%;\" class=\"plotly-graph-div\"></div><script type=\"text/javascript\">require([\"plotly\"], function(Plotly) { window.PLOTLYENV=window.PLOTLYENV || {};window.PLOTLYENV.BASE_URL=\"https://plot.ly\";Plotly.newPlot(\"3d7c19c6-26a4-41ad-8022-81fab6ed9857\", [{\"x\": [\"Buenos Aires\", \"Toronto\", \"Pyeongchang\"], \"y\": [2891000, 2800000, 2581000]}], {}, {\"showLink\": true, \"linkText\": \"Export to plot.ly\"})});</script>"
      ],
      "text/vnd.plotly.v1+html": [
       "<div id=\"3d7c19c6-26a4-41ad-8022-81fab6ed9857\" style=\"height: 525px; width: 100%;\" class=\"plotly-graph-div\"></div><script type=\"text/javascript\">require([\"plotly\"], function(Plotly) { window.PLOTLYENV=window.PLOTLYENV || {};window.PLOTLYENV.BASE_URL=\"https://plot.ly\";Plotly.newPlot(\"3d7c19c6-26a4-41ad-8022-81fab6ed9857\", [{\"x\": [\"Buenos Aires\", \"Toronto\", \"Pyeongchang\"], \"y\": [2891000, 2800000, 2581000]}], {}, {\"showLink\": true, \"linkText\": \"Export to plot.ly\"})});</script>"
      ]
     },
     "metadata": {},
     "output_type": "display_data"
    }
   ],
   "source": [
    "trace_first_three_pops = {'x': x_values, 'y': y_values}\n",
    "\n",
    "\n",
    "plotly.offline.iplot([trace_first_three_pops])"
   ]
  },
  {
   "cell_type": "markdown",
   "metadata": {},
   "source": [
    "### Modifying our first trace"
   ]
  },
  {
   "cell_type": "markdown",
   "metadata": {},
   "source": [
    "Note that by default, plotly sets the type of trace as a line trace.  Let's make our trace a bar trace by setting the key of `'type'` equal to `'bar'`.  We can continue to use the lists of `x_values` and `y_values` that we defined about in our new trace.  Also, we can have the label match the names of the cities, by setting the key of `text` equal to a list of the names of the cities.  \n",
    "\n",
    "Assign a our variable `text_values` equal to a list of names of the first three cities.  Then we pass the information as the appropriate dictionary value in our trace."
   ]
  },
  {
   "cell_type": "code",
   "execution_count": 28,
   "metadata": {
    "collapsed": true
   },
   "outputs": [],
   "source": [
    "text_values = []\n",
    "bar_trace_first_three_pops = {'type': 'scatter', 'text': text_values}"
   ]
  },
  {
   "cell_type": "code",
   "execution_count": 29,
   "metadata": {},
   "outputs": [
    {
     "data": {
      "text/plain": [
       "'scatter'"
      ]
     },
     "execution_count": 29,
     "metadata": {},
     "output_type": "execute_result"
    }
   ],
   "source": [
    "bar_trace_first_three_pops['type'] # 'bar'"
   ]
  },
  {
   "cell_type": "code",
   "execution_count": 30,
   "metadata": {},
   "outputs": [
    {
     "data": {
      "application/vnd.plotly.v1+json": {
       "data": [
        {
         "text": [],
         "type": "scatter"
        }
       ],
       "layout": {}
      },
      "text/html": [
       "<div id=\"cd55774c-4425-40e5-920d-e260f0dc4b65\" style=\"height: 525px; width: 100%;\" class=\"plotly-graph-div\"></div><script type=\"text/javascript\">require([\"plotly\"], function(Plotly) { window.PLOTLYENV=window.PLOTLYENV || {};window.PLOTLYENV.BASE_URL=\"https://plot.ly\";Plotly.newPlot(\"cd55774c-4425-40e5-920d-e260f0dc4b65\", [{\"type\": \"scatter\", \"text\": []}], {}, {\"showLink\": true, \"linkText\": \"Export to plot.ly\"})});</script>"
      ],
      "text/vnd.plotly.v1+html": [
       "<div id=\"cd55774c-4425-40e5-920d-e260f0dc4b65\" style=\"height: 525px; width: 100%;\" class=\"plotly-graph-div\"></div><script type=\"text/javascript\">require([\"plotly\"], function(Plotly) { window.PLOTLYENV=window.PLOTLYENV || {};window.PLOTLYENV.BASE_URL=\"https://plot.ly\";Plotly.newPlot(\"cd55774c-4425-40e5-920d-e260f0dc4b65\", [{\"type\": \"scatter\", \"text\": []}], {}, {\"showLink\": true, \"linkText\": \"Export to plot.ly\"})});</script>"
      ]
     },
     "metadata": {},
     "output_type": "display_data"
    }
   ],
   "source": [
    "plotly.offline.iplot([bar_trace_first_three_pops])"
   ]
  },
  {
   "cell_type": "markdown",
   "metadata": {},
   "source": [
    "### Adding a second trace to plot side by side"
   ]
  },
  {
   "cell_type": "markdown",
   "metadata": {},
   "source": [
    "Ok, now let's plot two different traces side by side.  Create another trace called `bar_trace_first_three_areas` that is like our `bar_trace_first_three_pops` except the values are a list of areas.  We will display this side by side along our `bar_trace_first_three_pops` in the plot below."
   ]
  },
  {
   "cell_type": "code",
   "execution_count": 1,
   "metadata": {
    "collapsed": true
   },
   "outputs": [],
   "source": [
    "bar_trace_first_three_areas = {'type': 'scatter', 'x': [], 'y': [], 'text': []}"
   ]
  },
  {
   "cell_type": "code",
   "execution_count": 18,
   "metadata": {},
   "outputs": [
    {
     "data": {
      "application/vnd.plotly.v1+json": {
       "data": [
        {
         "type": "scatter"
        },
        {
         "text": [],
         "type": "scatter",
         "x": [],
         "y": []
        }
       ],
       "layout": {}
      },
      "text/html": [
       "<div id=\"ffce7095-55c1-44d8-9461-48f534d0b63a\" style=\"height: 525px; width: 100%;\" class=\"plotly-graph-div\"></div><script type=\"text/javascript\">require([\"plotly\"], function(Plotly) { window.PLOTLYENV=window.PLOTLYENV || {};window.PLOTLYENV.BASE_URL=\"https://plot.ly\";Plotly.newPlot(\"ffce7095-55c1-44d8-9461-48f534d0b63a\", [{\"type\": \"scatter\"}, {\"type\": \"scatter\", \"x\": [], \"y\": [], \"text\": []}], {}, {\"showLink\": true, \"linkText\": \"Export to plot.ly\"})});</script>"
      ],
      "text/vnd.plotly.v1+html": [
       "<div id=\"ffce7095-55c1-44d8-9461-48f534d0b63a\" style=\"height: 525px; width: 100%;\" class=\"plotly-graph-div\"></div><script type=\"text/javascript\">require([\"plotly\"], function(Plotly) { window.PLOTLYENV=window.PLOTLYENV || {};window.PLOTLYENV.BASE_URL=\"https://plot.ly\";Plotly.newPlot(\"ffce7095-55c1-44d8-9461-48f534d0b63a\", [{\"type\": \"scatter\"}, {\"type\": \"scatter\", \"x\": [], \"y\": [], \"text\": []}], {}, {\"showLink\": true, \"linkText\": \"Export to plot.ly\"})});</script>"
      ]
     },
     "metadata": {},
     "output_type": "display_data"
    }
   ],
   "source": [
    "plotly.offline.iplot([bar_trace_first_three_pops, bar_trace_first_three_areas])"
   ]
  },
  {
   "cell_type": "markdown",
   "metadata": {},
   "source": [
    "### Summary"
   ]
  },
  {
   "cell_type": "markdown",
   "metadata": {},
   "source": [
    "In this section, we saw how we use data visualisations to better understand the data.  We do the following.  Import plotly:\n",
    "\n",
    "\n",
    "    import plotly\n",
    "\n",
    "    plotly.offline.init_notebook_mode(connected=True)\n",
    "\n",
    "Then we define a trace, which is a Python dictionary.\n",
    "\n",
    "    trace = {'x': [], 'y': [], 'text': [], 'type': 'bar'}\n",
    "    \n",
    "Finally, we display our trace with a call to the following method:\n",
    "\n",
    "    plotly.offline.iplot([trace])\n",
    "    \n",
    "Easy peasy, quick and easy!"
   ]
  }
 ],
 "metadata": {
  "kernelspec": {
   "display_name": "Python 3",
   "language": "python",
   "name": "python3"
  },
  "language_info": {
   "codemirror_mode": {
    "name": "ipython",
    "version": 3
   },
   "file_extension": ".py",
   "mimetype": "text/x-python",
   "name": "python",
   "nbconvert_exporter": "python",
   "pygments_lexer": "ipython3",
   "version": "3.6.1"
  }
 },
 "nbformat": 4,
 "nbformat_minor": 2
}
