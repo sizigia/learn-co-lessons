{
 "cells": [
  {
   "cell_type": "markdown",
   "metadata": {},
   "source": [
    "### Introduction"
   ]
  },
  {
   "cell_type": "markdown",
   "metadata": {},
   "source": [
    "In the last lesson, we filled in some more information on how to find \"best fit\" regression line with gradient descent.  Namely, we more carefully change our y-intercept or slope value of the regression line to minimize the residual sum of squares.  We do this by calibrating both the direction and size of of our change in $b$ or $m$ to the slope of the tangent line to the cost curve at that point. "
   ]
  },
  {
   "cell_type": "markdown",
   "metadata": {},
   "source": [
    "![](./tangent-lines.png)"
   ]
  },
  {
   "cell_type": "markdown",
   "metadata": {},
   "source": [
    "So when our slope is negative we increase our $m$ or $b$ variable, and vice versa.  Also, the larger the absolute value of the slope, the larger our change in our variable -- that is, the larger our step size.  So a lot of our gradient descent technique depends of finding the slope of a curve at a specific point.  In this lesson, we'll learn different approaches for finding this slope."
   ]
  },
  {
   "cell_type": "markdown",
   "metadata": {},
   "source": [
    "## Talking about derivatives"
   ]
  },
  {
   "cell_type": "markdown",
   "metadata": {},
   "source": [
    "The slope of a tangent line to a function is called the **derivative**.  A derivative answers questions about change.  For example, if you look at our blue curve above, the various slopes indicate how much is our output changing (in this case, our RSS), changing as we increase our input (here, our value of $b$).  At the point $b = 70$, the cost curve decreases a lot as you move forward.  At the point, $b = 90$ the cost curve is still decreasing as you move $b$ forward, but significantly less.  Thus at both $b = 90$ and $b = 70$ the derivative is negative as the change to cost is downward.  But the magnitude of change at the two points varies: when $b = 70 $ the derivative is -146.17 versus a derivative of -21.07 to reflect the smaller rate of change when $b = 90$."
   ]
  },
  {
   "cell_type": "markdown",
   "metadata": {},
   "source": [
    "Ok, so the derivative of a function is the rate of change of a function.  But how do we calculate the rate of change of a function?"
   ]
  },
  {
   "cell_type": "markdown",
   "metadata": {},
   "source": [
    "### Calculating a derivative"
   ]
  },
  {
   "cell_type": "markdown",
   "metadata": {},
   "source": [
    "> For this section, let's go back to move away from talking about derivatives just in the context of our cost curve, and talk about the derivatives of functions in general.  So instead of talking about our input as a value of $b$, let it be a value of $x$.  And instead of our output being a value RSS, let it be a value $y$.  "
   ]
  },
  {
   "cell_type": "markdown",
   "metadata": {},
   "source": [
    "By way of explaining how to calculate a derivative, it's worth pointing out the notation for a derivative: $\\frac{dy}{dx}$.  You can read that as the change in $y$ with respect to a change in $x$.  So if we want to denote that we are taking the derivative a of a function, like the function $ y = 3x$, we would write $\\frac{dy}{dx}(y)$ where $y = 3x$.  Ok so now to actually calculate the derivative of that function, we have to answer the question what is a change in $y$ for a change in $x$.     "
   ]
  },
  {
   "cell_type": "code",
   "execution_count": 1,
   "metadata": {},
   "outputs": [
    {
     "data": {
      "text/html": [
       "<script>requirejs.config({paths: { 'plotly': ['https://cdn.plot.ly/plotly-latest.min']},});if(!window.Plotly) {{require(['plotly'],function(plotly) {window.Plotly=plotly;});}}</script>"
      ],
      "text/vnd.plotly.v1+html": [
       "<script>requirejs.config({paths: { 'plotly': ['https://cdn.plot.ly/plotly-latest.min']},});if(!window.Plotly) {{require(['plotly'],function(plotly) {window.Plotly=plotly;});}}</script>"
      ]
     },
     "metadata": {},
     "output_type": "display_data"
    },
    {
     "data": {
      "application/vnd.plotly.v1+json": {
       "data": [
        {
         "x": [
          0,
          1,
          2,
          3,
          4,
          5,
          6,
          7,
          8,
          9,
          10
         ],
         "y": [
          0,
          3,
          6,
          9,
          12,
          15,
          18,
          21,
          24,
          27,
          30
         ]
        }
       ],
       "layout": {}
      },
      "text/html": [
       "<div id=\"04e5e309-13cc-49a2-b815-f4a098c53ccc\" style=\"height: 525px; width: 100%;\" class=\"plotly-graph-div\"></div><script type=\"text/javascript\">require([\"plotly\"], function(Plotly) { window.PLOTLYENV=window.PLOTLYENV || {};window.PLOTLYENV.BASE_URL=\"https://plot.ly\";Plotly.newPlot(\"04e5e309-13cc-49a2-b815-f4a098c53ccc\", [{\"x\": [0, 1, 2, 3, 4, 5, 6, 7, 8, 9, 10], \"y\": [0, 3, 6, 9, 12, 15, 18, 21, 24, 27, 30]}], {}, {\"showLink\": true, \"linkText\": \"Export to plot.ly\"})});</script>"
      ],
      "text/vnd.plotly.v1+html": [
       "<div id=\"04e5e309-13cc-49a2-b815-f4a098c53ccc\" style=\"height: 525px; width: 100%;\" class=\"plotly-graph-div\"></div><script type=\"text/javascript\">require([\"plotly\"], function(Plotly) { window.PLOTLYENV=window.PLOTLYENV || {};window.PLOTLYENV.BASE_URL=\"https://plot.ly\";Plotly.newPlot(\"04e5e309-13cc-49a2-b815-f4a098c53ccc\", [{\"x\": [0, 1, 2, 3, 4, 5, 6, 7, 8, 9, 10], \"y\": [0, 3, 6, 9, 12, 15, 18, 21, 24, 27, 30]}], {}, {\"showLink\": true, \"linkText\": \"Export to plot.ly\"})});</script>"
      ]
     },
     "metadata": {},
     "output_type": "display_data"
    }
   ],
   "source": [
    "import plotly\n",
    "from plotly.offline import iplot, init_notebook_mode\n",
    "init_notebook_mode(connected=True)\n",
    "\n",
    "def y(x):\n",
    "    return 3*x\n",
    "\n",
    "def line_function_data(line_function, x_values):\n",
    "    y_values = list(map(lambda x: line_function(x), x_values))\n",
    "    return {'x': x_values, 'y': y_values}\n",
    "\n",
    "def plot(traces):\n",
    "    plotly.offline.iplot(traces)\n",
    "\n",
    "y_3x_trace = line_function_data(y, list(range(0, 11)))\n",
    "\n",
    "plot([y_3x_trace])"
   ]
  },
  {
   "cell_type": "markdown",
   "metadata": {},
   "source": [
    "Ok to measure $\\frac{dy}{dx}(y)$ where $y = 3(x)$, we can simply choose a value of $x$, increase that value, and then see how $y$ changes as we increase $x$.  That is the amount that $y$ changes given a change in $x$.  Let's do it by choosing the $x$ = 4.  \n",
    "\n",
    "* $ y_{x=4} = 3*4 = 12 $\n",
    "* Then we change our value of $x$, so let's change $x$ from 4 to 5\n",
    "* $ y_{x=5} = 3*5 = 15 $\n",
    "\n",
    "Now our derivative, $\\frac{dy}{dx}$ of the function, is the proportion of change in $y$ divided by change in $x$.  So here, we have change in $y$ over change in change in $x$: \n",
    "\n",
    "$(\\Delta y)/(\\Delta x) = (15 - 12)/(5 - 4) = 3/1 = 3 $\n",
    "\n",
    "This makes sense, with the formula $y = 3x$,  for every unit of $x$ that we increase, $y$ increases by 3.  So this means $\\frac{dy}{dx}(3x) = 3$.  \n",
    "\n"
   ]
  },
  {
   "cell_type": "code",
   "execution_count": 12,
   "metadata": {},
   "outputs": [
    {
     "data": {
      "application/vnd.plotly.v1+json": {
       "data": [
        {
         "x": [
          0,
          1,
          2,
          3,
          4,
          5,
          6,
          7,
          8,
          9,
          10
         ],
         "y": [
          0,
          3,
          6,
          9,
          12,
          15,
          18,
          21,
          24,
          27,
          30
         ]
        },
        {
         "mode": "lines+text",
         "text": [
          "    slope:3.00"
         ],
         "textposition": "right",
         "x": [
          3.5,
          4,
          4.5
         ],
         "y": [
          10.500000000000032,
          12,
          13.499999999999968
         ]
        },
        {
         "mode": "lines+text",
         "text": [
          "    slope:3.00"
         ],
         "textposition": "right",
         "x": [
          7.5,
          8,
          8.5
         ],
         "y": [
          22.499999999999943,
          24,
          25.500000000000057
         ]
        }
       ],
       "layout": {}
      },
      "text/html": [
       "<div id=\"a0cd3e03-73cb-4717-83fb-d290afa12924\" style=\"height: 525px; width: 100%;\" class=\"plotly-graph-div\"></div><script type=\"text/javascript\">require([\"plotly\"], function(Plotly) { window.PLOTLYENV=window.PLOTLYENV || {};window.PLOTLYENV.BASE_URL=\"https://plot.ly\";Plotly.newPlot(\"a0cd3e03-73cb-4717-83fb-d290afa12924\", [{\"x\": [0, 1, 2, 3, 4, 5, 6, 7, 8, 9, 10], \"y\": [0, 3, 6, 9, 12, 15, 18, 21, 24, 27, 30]}, {\"x\": [3.5, 4, 4.5], \"y\": [10.500000000000032, 12, 13.499999999999968], \"mode\": \"lines+text\", \"text\": [\"    slope:3.00\"], \"textposition\": \"right\"}, {\"x\": [7.5, 8, 8.5], \"y\": [22.499999999999943, 24, 25.500000000000057], \"mode\": \"lines+text\", \"text\": [\"    slope:3.00\"], \"textposition\": \"right\"}], {}, {\"showLink\": true, \"linkText\": \"Export to plot.ly\"})});</script>"
      ],
      "text/vnd.plotly.v1+html": [
       "<div id=\"a0cd3e03-73cb-4717-83fb-d290afa12924\" style=\"height: 525px; width: 100%;\" class=\"plotly-graph-div\"></div><script type=\"text/javascript\">require([\"plotly\"], function(Plotly) { window.PLOTLYENV=window.PLOTLYENV || {};window.PLOTLYENV.BASE_URL=\"https://plot.ly\";Plotly.newPlot(\"a0cd3e03-73cb-4717-83fb-d290afa12924\", [{\"x\": [0, 1, 2, 3, 4, 5, 6, 7, 8, 9, 10], \"y\": [0, 3, 6, 9, 12, 15, 18, 21, 24, 27, 30]}, {\"x\": [3.5, 4, 4.5], \"y\": [10.500000000000032, 12, 13.499999999999968], \"mode\": \"lines+text\", \"text\": [\"    slope:3.00\"], \"textposition\": \"right\"}, {\"x\": [7.5, 8, 8.5], \"y\": [22.499999999999943, 24, 25.500000000000057], \"mode\": \"lines+text\", \"text\": [\"    slope:3.00\"], \"textposition\": \"right\"}], {}, {\"showLink\": true, \"linkText\": \"Export to plot.ly\"})});</script>"
      ]
     },
     "metadata": {},
     "output_type": "display_data"
    }
   ],
   "source": [
    "def build_tangent_line(original_function, x, line_length = 5, delta = .01):\n",
    "    curve_at_point = derivative_at(original_function, x, delta)\n",
    "    slope = curve_at_point['slope']\n",
    "    x_minus = x - line_length\n",
    "    x_plus = x + line_length\n",
    "    y = original_function(x)\n",
    "    y_minus = y - slope * line_length\n",
    "    y_plus = y + slope * line_length\n",
    "    text = '    slope:' + format(slope, '.2f')\n",
    "    return {'x': [x_minus, x, x_plus], 'y': [y_minus, y, y_plus], 'mode': 'lines+text', 'text': [text], 'textposition': 'right'}\n",
    "\n",
    "def derivative_at(original_function, x, delta = .01):\n",
    "    numerator = original_function(x + delta) - original_function(x)\n",
    "    slope = numerator/delta\n",
    "    return {'value': x, 'slope': slope}\n",
    "\n",
    "tangent_at_four = build_tangent_line(y, 4, .5, .01)\n",
    "tangent_at_eight = build_tangent_line(y, 8, .5, .01)\n",
    "plot([y_3x_trace, tangent_at_four, tangent_at_eight])"
   ]
  },
  {
   "cell_type": "markdown",
   "metadata": {},
   "source": [
    "As you can see above, the derivative of a function at a certain point is really the slope of the function at that point.  And when our function is $y = 3x $ that slope is the for every $x$ value of the function.  "
   ]
  },
  {
   "cell_type": "markdown",
   "metadata": {},
   "source": [
    "### Derivatives of non-linear functions"
   ]
  },
  {
   "cell_type": "markdown",
   "metadata": {},
   "source": [
    "But things quickly becomes trickier when working with more complicated functions.  And we will run into these functions.  For example, let's consider how to take the derivative of something resembles our cost curve.  After all, figuring out the slope at a given point of a cost curve is what led us here."
   ]
  },
  {
   "cell_type": "code",
   "execution_count": 19,
   "metadata": {},
   "outputs": [
    {
     "data": {
      "text/html": [
       "<script>requirejs.config({paths: { 'plotly': ['https://cdn.plot.ly/plotly-latest.min']},});if(!window.Plotly) {{require(['plotly'],function(plotly) {window.Plotly=plotly;});}}</script>"
      ],
      "text/vnd.plotly.v1+html": [
       "<script>requirejs.config({paths: { 'plotly': ['https://cdn.plot.ly/plotly-latest.min']},});if(!window.Plotly) {{require(['plotly'],function(plotly) {window.Plotly=plotly;});}}</script>"
      ]
     },
     "metadata": {},
     "output_type": "display_data"
    },
    {
     "data": {
      "application/vnd.plotly.v1+json": {
       "data": [
        {
         "x": [
          -3,
          -2.9,
          -2.8,
          -2.7,
          -2.6,
          -2.5,
          -2.4,
          -2.3,
          -2.2,
          -2.1,
          -2,
          -1.9,
          -1.8,
          -1.7,
          -1.6,
          -1.5,
          -1.4,
          -1.3,
          -1.2,
          -1.1,
          -1,
          -0.9,
          -0.8,
          -0.7,
          -0.6,
          -0.5,
          -0.4,
          -0.3,
          -0.2,
          -0.1,
          0,
          0.1,
          0.2,
          0.3,
          0.4,
          0.5,
          0.6,
          0.7,
          0.8,
          0.9,
          1,
          1.1,
          1.2,
          1.3,
          1.4,
          1.5,
          1.6,
          1.7,
          1.8,
          1.9,
          2,
          2.1,
          2.2,
          2.3,
          2.4,
          2.5,
          2.6,
          2.7,
          2.8,
          2.9,
          3,
          3.1,
          3.2,
          3.3,
          3.4,
          3.5,
          3.6,
          3.7,
          3.8,
          3.9,
          4,
          4.1,
          4.2,
          4.3,
          4.4,
          4.5,
          4.6,
          4.7,
          4.8,
          4.9
         ],
         "y": [
          1440000,
          1368900,
          1299600,
          1232100,
          1166400,
          1102500,
          1040400,
          980100,
          921600,
          864900,
          810000,
          756900,
          705600,
          656100,
          608400,
          562500,
          518400,
          476100,
          435600,
          396900,
          360000,
          324900,
          291600,
          260100,
          230400,
          202500,
          176400,
          152100,
          129600,
          108900,
          90000,
          72900,
          57600,
          44100,
          32400,
          22500,
          14400,
          8100,
          3600,
          900,
          0,
          900,
          3600,
          8100,
          14400,
          22500,
          32400,
          44100,
          57600,
          72900,
          90000,
          108900,
          129600,
          152100,
          176400,
          202500,
          230400,
          260100,
          291600,
          324900,
          360000,
          396900,
          435600,
          476100,
          518400,
          562500,
          608400,
          656100,
          705600,
          756900,
          810000,
          864900,
          921600,
          980100,
          1040400,
          1102500,
          1166400,
          1232100,
          1299600,
          1368900
         ]
        }
       ],
       "layout": {}
      },
      "text/html": [
       "<div id=\"44c21fa4-f31d-4002-b366-9779dbbcf47c\" style=\"height: 525px; width: 100%;\" class=\"plotly-graph-div\"></div><script type=\"text/javascript\">require([\"plotly\"], function(Plotly) { window.PLOTLYENV=window.PLOTLYENV || {};window.PLOTLYENV.BASE_URL=\"https://plot.ly\";Plotly.newPlot(\"44c21fa4-f31d-4002-b366-9779dbbcf47c\", [{\"x\": [-3.0, -2.9, -2.8, -2.7, -2.6, -2.5, -2.4, -2.3, -2.2, -2.1, -2.0, -1.9, -1.8, -1.7, -1.6, -1.5, -1.4, -1.3, -1.2, -1.1, -1.0, -0.9, -0.8, -0.7, -0.6, -0.5, -0.4, -0.3, -0.2, -0.1, 0.0, 0.1, 0.2, 0.3, 0.4, 0.5, 0.6, 0.7, 0.8, 0.9, 1.0, 1.1, 1.2, 1.3, 1.4, 1.5, 1.6, 1.7, 1.8, 1.9, 2.0, 2.1, 2.2, 2.3, 2.4, 2.5, 2.6, 2.7, 2.8, 2.9, 3.0, 3.1, 3.2, 3.3, 3.4, 3.5, 3.6, 3.7, 3.8, 3.9, 4.0, 4.1, 4.2, 4.3, 4.4, 4.5, 4.6, 4.7, 4.8, 4.9], \"y\": [1440000.0, 1368900.0, 1299600.0, 1232100.0, 1166400.0, 1102500.0, 1040400.0, 980100.0, 921600.0, 864900.0, 810000.0, 756900.0, 705600.0, 656100.0, 608400.0, 562500.0, 518400.0, 476100.0, 435600.0, 396900.0, 360000.0, 324900.0, 291600.0, 260100.0, 230400.0, 202500.0, 176400.0, 152100.0, 129600.0, 108900.0, 90000.0, 72900.0, 57600.0, 44100.0, 32400.0, 22500.0, 14400.0, 8100.0, 3600.0, 900.0, 0.0, 900.0, 3600.0, 8100.0, 14400.0, 22500.0, 32400.0, 44100.0, 57600.0, 72900.0, 90000.0, 108900.0, 129600.0, 152100.0, 176400.0, 202500.0, 230400.0, 260100.0, 291600.0, 324900.0, 360000.0, 396900.0, 435600.0, 476100.0, 518400.0, 562500.0, 608400.0, 656100.0, 705600.0, 756900.0, 810000.0, 864900.0, 921600.0, 980100.0, 1040400.0, 1102500.0, 1166400.0, 1232100.0, 1299600.0, 1368900.0]}], {}, {\"showLink\": true, \"linkText\": \"Export to plot.ly\"})});</script>"
      ],
      "text/vnd.plotly.v1+html": [
       "<div id=\"44c21fa4-f31d-4002-b366-9779dbbcf47c\" style=\"height: 525px; width: 100%;\" class=\"plotly-graph-div\"></div><script type=\"text/javascript\">require([\"plotly\"], function(Plotly) { window.PLOTLYENV=window.PLOTLYENV || {};window.PLOTLYENV.BASE_URL=\"https://plot.ly\";Plotly.newPlot(\"44c21fa4-f31d-4002-b366-9779dbbcf47c\", [{\"x\": [-3.0, -2.9, -2.8, -2.7, -2.6, -2.5, -2.4, -2.3, -2.2, -2.1, -2.0, -1.9, -1.8, -1.7, -1.6, -1.5, -1.4, -1.3, -1.2, -1.1, -1.0, -0.9, -0.8, -0.7, -0.6, -0.5, -0.4, -0.3, -0.2, -0.1, 0.0, 0.1, 0.2, 0.3, 0.4, 0.5, 0.6, 0.7, 0.8, 0.9, 1.0, 1.1, 1.2, 1.3, 1.4, 1.5, 1.6, 1.7, 1.8, 1.9, 2.0, 2.1, 2.2, 2.3, 2.4, 2.5, 2.6, 2.7, 2.8, 2.9, 3.0, 3.1, 3.2, 3.3, 3.4, 3.5, 3.6, 3.7, 3.8, 3.9, 4.0, 4.1, 4.2, 4.3, 4.4, 4.5, 4.6, 4.7, 4.8, 4.9], \"y\": [1440000.0, 1368900.0, 1299600.0, 1232100.0, 1166400.0, 1102500.0, 1040400.0, 980100.0, 921600.0, 864900.0, 810000.0, 756900.0, 705600.0, 656100.0, 608400.0, 562500.0, 518400.0, 476100.0, 435600.0, 396900.0, 360000.0, 324900.0, 291600.0, 260100.0, 230400.0, 202500.0, 176400.0, 152100.0, 129600.0, 108900.0, 90000.0, 72900.0, 57600.0, 44100.0, 32400.0, 22500.0, 14400.0, 8100.0, 3600.0, 900.0, 0.0, 900.0, 3600.0, 8100.0, 14400.0, 22500.0, 32400.0, 44100.0, 57600.0, 72900.0, 90000.0, 108900.0, 129600.0, 152100.0, 176400.0, 202500.0, 230400.0, 260100.0, 291600.0, 324900.0, 360000.0, 396900.0, 435600.0, 476100.0, 518400.0, 562500.0, 608400.0, 656100.0, 705600.0, 756900.0, 810000.0, 864900.0, 921600.0, 980100.0, 1040400.0, 1102500.0, 1166400.0, 1232100.0, 1299600.0, 1368900.0]}], {}, {\"showLink\": true, \"linkText\": \"Export to plot.ly\"})});</script>"
      ]
     },
     "metadata": {},
     "output_type": "display_data"
    }
   ],
   "source": [
    "import plotly\n",
    "from plotly.offline import iplot, init_notebook_mode\n",
    "init_notebook_mode(connected=True)\n",
    "\n",
    "def fake_cost_curve(x):\n",
    "    return (300*x - 300)**2\n",
    "\n",
    "def line_function_data(line_function, x_values):\n",
    "    y_values = list(map(lambda x: line_function(x), x_values))\n",
    "    return {'x': x_values, 'y': y_values}\n",
    "\n",
    "def plot(traces):\n",
    "    plotly.offline.iplot(traces)\n",
    "\n",
    "\n",
    "unscaled_values = list(range(-30, 50, 1))\n",
    "x_values = list(map(lambda point: point/10, unscaled_values))\n",
    "y_x_squared_trace = line_function_data(fake_cost_curve, x_values)\n",
    "\n",
    "plot([y_x_squared_trace])"
   ]
  },
  {
   "cell_type": "markdown",
   "metadata": {},
   "source": [
    "This is the graph of the function $y = (300*x - 300)^2 $.  How do we take the derivative when our function looks like this? Let's start by using our earlier technique to calculate the derivative at the point $x = 0$.\n",
    "\n",
    "* when $x = 0$ then $y = 90,000 $\n",
    "* when $x = 1 $ then $y = 0 $\n",
    "* $(\\Delta y)/(\\Delta x) = (0 - 90,000)/(1- 0) = -90,000 $"
   ]
  },
  {
   "cell_type": "code",
   "execution_count": 20,
   "metadata": {},
   "outputs": [
    {
     "data": {
      "application/vnd.plotly.v1+json": {
       "data": [
        {
         "x": [
          -3,
          -2.9,
          -2.8,
          -2.7,
          -2.6,
          -2.5,
          -2.4,
          -2.3,
          -2.2,
          -2.1,
          -2,
          -1.9,
          -1.8,
          -1.7,
          -1.6,
          -1.5,
          -1.4,
          -1.3,
          -1.2,
          -1.1,
          -1,
          -0.9,
          -0.8,
          -0.7,
          -0.6,
          -0.5,
          -0.4,
          -0.3,
          -0.2,
          -0.1,
          0,
          0.1,
          0.2,
          0.3,
          0.4,
          0.5,
          0.6,
          0.7,
          0.8,
          0.9,
          1,
          1.1,
          1.2,
          1.3,
          1.4,
          1.5,
          1.6,
          1.7,
          1.8,
          1.9,
          2,
          2.1,
          2.2,
          2.3,
          2.4,
          2.5,
          2.6,
          2.7,
          2.8,
          2.9,
          3,
          3.1,
          3.2,
          3.3,
          3.4,
          3.5,
          3.6,
          3.7,
          3.8,
          3.9,
          4,
          4.1,
          4.2,
          4.3,
          4.4,
          4.5,
          4.6,
          4.7,
          4.8,
          4.9
         ],
         "y": [
          1440000,
          1368900,
          1299600,
          1232100,
          1166400,
          1102500,
          1040400,
          980100,
          921600,
          864900,
          810000,
          756900,
          705600,
          656100,
          608400,
          562500,
          518400,
          476100,
          435600,
          396900,
          360000,
          324900,
          291600,
          260100,
          230400,
          202500,
          176400,
          152100,
          129600,
          108900,
          90000,
          72900,
          57600,
          44100,
          32400,
          22500,
          14400,
          8100,
          3600,
          900,
          0,
          900,
          3600,
          8100,
          14400,
          22500,
          32400,
          44100,
          57600,
          72900,
          90000,
          108900,
          129600,
          152100,
          176400,
          202500,
          230400,
          260100,
          291600,
          324900,
          360000,
          396900,
          435600,
          476100,
          518400,
          562500,
          608400,
          656100,
          705600,
          756900,
          810000,
          864900,
          921600,
          980100,
          1040400,
          1102500,
          1166400,
          1232100,
          1299600,
          1368900
         ]
        },
        {
         "mode": "lines+text",
         "text": [
          "    slope:-90000.00"
         ],
         "textposition": "right",
         "x": [
          -1,
          0,
          1
         ],
         "y": [
          180000,
          90000,
          0
         ]
        }
       ],
       "layout": {}
      },
      "text/html": [
       "<div id=\"d896a28f-aae1-41fc-9fc7-2ebf6a06cd0f\" style=\"height: 525px; width: 100%;\" class=\"plotly-graph-div\"></div><script type=\"text/javascript\">require([\"plotly\"], function(Plotly) { window.PLOTLYENV=window.PLOTLYENV || {};window.PLOTLYENV.BASE_URL=\"https://plot.ly\";Plotly.newPlot(\"d896a28f-aae1-41fc-9fc7-2ebf6a06cd0f\", [{\"x\": [-3.0, -2.9, -2.8, -2.7, -2.6, -2.5, -2.4, -2.3, -2.2, -2.1, -2.0, -1.9, -1.8, -1.7, -1.6, -1.5, -1.4, -1.3, -1.2, -1.1, -1.0, -0.9, -0.8, -0.7, -0.6, -0.5, -0.4, -0.3, -0.2, -0.1, 0.0, 0.1, 0.2, 0.3, 0.4, 0.5, 0.6, 0.7, 0.8, 0.9, 1.0, 1.1, 1.2, 1.3, 1.4, 1.5, 1.6, 1.7, 1.8, 1.9, 2.0, 2.1, 2.2, 2.3, 2.4, 2.5, 2.6, 2.7, 2.8, 2.9, 3.0, 3.1, 3.2, 3.3, 3.4, 3.5, 3.6, 3.7, 3.8, 3.9, 4.0, 4.1, 4.2, 4.3, 4.4, 4.5, 4.6, 4.7, 4.8, 4.9], \"y\": [1440000.0, 1368900.0, 1299600.0, 1232100.0, 1166400.0, 1102500.0, 1040400.0, 980100.0, 921600.0, 864900.0, 810000.0, 756900.0, 705600.0, 656100.0, 608400.0, 562500.0, 518400.0, 476100.0, 435600.0, 396900.0, 360000.0, 324900.0, 291600.0, 260100.0, 230400.0, 202500.0, 176400.0, 152100.0, 129600.0, 108900.0, 90000.0, 72900.0, 57600.0, 44100.0, 32400.0, 22500.0, 14400.0, 8100.0, 3600.0, 900.0, 0.0, 900.0, 3600.0, 8100.0, 14400.0, 22500.0, 32400.0, 44100.0, 57600.0, 72900.0, 90000.0, 108900.0, 129600.0, 152100.0, 176400.0, 202500.0, 230400.0, 260100.0, 291600.0, 324900.0, 360000.0, 396900.0, 435600.0, 476100.0, 518400.0, 562500.0, 608400.0, 656100.0, 705600.0, 756900.0, 810000.0, 864900.0, 921600.0, 980100.0, 1040400.0, 1102500.0, 1166400.0, 1232100.0, 1299600.0, 1368900.0]}, {\"x\": [-1, 0, 1], \"y\": [180000.0, 90000, 0.0], \"mode\": \"lines+text\", \"text\": [\"    slope:-90000.00\"], \"textposition\": \"right\"}], {}, {\"showLink\": true, \"linkText\": \"Export to plot.ly\"})});</script>"
      ],
      "text/vnd.plotly.v1+html": [
       "<div id=\"d896a28f-aae1-41fc-9fc7-2ebf6a06cd0f\" style=\"height: 525px; width: 100%;\" class=\"plotly-graph-div\"></div><script type=\"text/javascript\">require([\"plotly\"], function(Plotly) { window.PLOTLYENV=window.PLOTLYENV || {};window.PLOTLYENV.BASE_URL=\"https://plot.ly\";Plotly.newPlot(\"d896a28f-aae1-41fc-9fc7-2ebf6a06cd0f\", [{\"x\": [-3.0, -2.9, -2.8, -2.7, -2.6, -2.5, -2.4, -2.3, -2.2, -2.1, -2.0, -1.9, -1.8, -1.7, -1.6, -1.5, -1.4, -1.3, -1.2, -1.1, -1.0, -0.9, -0.8, -0.7, -0.6, -0.5, -0.4, -0.3, -0.2, -0.1, 0.0, 0.1, 0.2, 0.3, 0.4, 0.5, 0.6, 0.7, 0.8, 0.9, 1.0, 1.1, 1.2, 1.3, 1.4, 1.5, 1.6, 1.7, 1.8, 1.9, 2.0, 2.1, 2.2, 2.3, 2.4, 2.5, 2.6, 2.7, 2.8, 2.9, 3.0, 3.1, 3.2, 3.3, 3.4, 3.5, 3.6, 3.7, 3.8, 3.9, 4.0, 4.1, 4.2, 4.3, 4.4, 4.5, 4.6, 4.7, 4.8, 4.9], \"y\": [1440000.0, 1368900.0, 1299600.0, 1232100.0, 1166400.0, 1102500.0, 1040400.0, 980100.0, 921600.0, 864900.0, 810000.0, 756900.0, 705600.0, 656100.0, 608400.0, 562500.0, 518400.0, 476100.0, 435600.0, 396900.0, 360000.0, 324900.0, 291600.0, 260100.0, 230400.0, 202500.0, 176400.0, 152100.0, 129600.0, 108900.0, 90000.0, 72900.0, 57600.0, 44100.0, 32400.0, 22500.0, 14400.0, 8100.0, 3600.0, 900.0, 0.0, 900.0, 3600.0, 8100.0, 14400.0, 22500.0, 32400.0, 44100.0, 57600.0, 72900.0, 90000.0, 108900.0, 129600.0, 152100.0, 176400.0, 202500.0, 230400.0, 260100.0, 291600.0, 324900.0, 360000.0, 396900.0, 435600.0, 476100.0, 518400.0, 562500.0, 608400.0, 656100.0, 705600.0, 756900.0, 810000.0, 864900.0, 921600.0, 980100.0, 1040400.0, 1102500.0, 1166400.0, 1232100.0, 1299600.0, 1368900.0]}, {\"x\": [-1, 0, 1], \"y\": [180000.0, 90000, 0.0], \"mode\": \"lines+text\", \"text\": [\"    slope:-90000.00\"], \"textposition\": \"right\"}], {}, {\"showLink\": true, \"linkText\": \"Export to plot.ly\"})});</script>"
      ]
     },
     "metadata": {},
     "output_type": "display_data"
    }
   ],
   "source": [
    "y_x_squared_trace = line_function_data(fake_cost_curve, x_values)\n",
    "tangent_at_zero = build_tangent_line(fake_cost_curve, 0, 1, 1)\n",
    "plot([y_x_squared_trace, tangent_at_zero])"
   ]
  },
  {
   "cell_type": "markdown",
   "metadata": {},
   "source": [
    "Take a look at the straight line in the graph above.  The straight line is a supposed to have the same slope as the blue curve at the point $x = 0 $.  But it doesn't seem to be doing a good job.  The slope should be point more downwards.  How did that happen?  After all, the slope of the line equals the slope from our calculation above.  Let's take another look at our calculation of the derivative. \n",
    "\n",
    "* when $x = 0$ then $y = 90,000 $\n",
    "* when $x = 1 $ then $y = 0 $\n",
    "* $(\\Delta y)/(\\Delta x) = (0 - 90,000)/(1- 0) = -90,000 $\n",
    "\n",
    "The problem is that if we calculate change in y/change in x, and change x by one, then we are really calculating the rate of change of the function from zero to one.  But what we **want** to do is calculate the rate of change at just that point x = 0 - and that is a different matter.  Unlike in our function of the line $y = 3x $, here the amount that $y$ decreases or increases is always changing.  The larger our delta, the less our derivative reflects the rate of change at just that point.    \n",
    "\n",
    "\n",
    "So what we need to do is decrease our Delta ( $\\Delta $) to such a small number that it is zero.  But it's ludicrous to calculate the amount of change in $y$ when the change in our input is zero.  When change in our input is zero, it means there is no change.  So we use imagination.  We calculate the derivative with a $\\Delta $ of .1, then calculate it again with a $\\Delta $ of .01, then again with $\\Delta $ .001.  Our derivative calculation should show convergance on a single number as our $\\Delta $ approaches zero and that number is our derivative.  ** The derivative of a function is a change in the function's output as the change in the input variable approaches zero **.    "
   ]
  },
  {
   "cell_type": "code",
   "execution_count": 57,
   "metadata": {},
   "outputs": [
    {
     "data": {
      "application/vnd.plotly.v1+json": {
       "data": [
        {
         "x": [
          -3,
          -2.9,
          -2.8,
          -2.7,
          -2.6,
          -2.5,
          -2.4,
          -2.3,
          -2.2,
          -2.1,
          -2,
          -1.9,
          -1.8,
          -1.7,
          -1.6,
          -1.5,
          -1.4,
          -1.3,
          -1.2,
          -1.1,
          -1,
          -0.9,
          -0.8,
          -0.7,
          -0.6,
          -0.5,
          -0.4,
          -0.3,
          -0.2,
          -0.1,
          0,
          0.1,
          0.2,
          0.3,
          0.4,
          0.5,
          0.6,
          0.7,
          0.8,
          0.9,
          1,
          1.1,
          1.2,
          1.3,
          1.4,
          1.5,
          1.6,
          1.7,
          1.8,
          1.9,
          2,
          2.1,
          2.2,
          2.3,
          2.4,
          2.5,
          2.6,
          2.7,
          2.8,
          2.9,
          3,
          3.1,
          3.2,
          3.3,
          3.4,
          3.5,
          3.6,
          3.7,
          3.8,
          3.9,
          4,
          4.1,
          4.2,
          4.3,
          4.4,
          4.5,
          4.6,
          4.7,
          4.8,
          4.9
         ],
         "y": [
          1440000,
          1368900,
          1299600,
          1232100,
          1166400,
          1102500,
          1040400,
          980100,
          921600,
          864900,
          810000,
          756900,
          705600,
          656100,
          608400,
          562500,
          518400,
          476100,
          435600,
          396900,
          360000,
          324900,
          291600,
          260100,
          230400,
          202500,
          176400,
          152100,
          129600,
          108900,
          90000,
          72900,
          57600,
          44100,
          32400,
          22500,
          14400,
          8100,
          3600,
          900,
          0,
          900,
          3600,
          8100,
          14400,
          22500,
          32400,
          44100,
          57600,
          72900,
          90000,
          108900,
          129600,
          152100,
          176400,
          202500,
          230400,
          260100,
          291600,
          324900,
          360000,
          396900,
          435600,
          476100,
          518400,
          562500,
          608400,
          656100,
          705600,
          756900,
          810000,
          864900,
          921600,
          980100,
          1040400,
          1102500,
          1166400,
          1232100,
          1299600,
          1368900
         ]
        },
        {
         "mode": "lines+text",
         "text": [
          "    slope:-179910.00"
         ],
         "textposition": "right",
         "x": [
          -1,
          0,
          1
         ],
         "y": [
          269910.0000000035,
          90000,
          -89910.00000000349
         ]
        }
       ],
       "layout": {}
      },
      "text/html": [
       "<div id=\"b43e88e1-e188-4960-a6da-b82bd2fad867\" style=\"height: 525px; width: 100%;\" class=\"plotly-graph-div\"></div><script type=\"text/javascript\">require([\"plotly\"], function(Plotly) { window.PLOTLYENV=window.PLOTLYENV || {};window.PLOTLYENV.BASE_URL=\"https://plot.ly\";Plotly.newPlot(\"b43e88e1-e188-4960-a6da-b82bd2fad867\", [{\"x\": [-3.0, -2.9, -2.8, -2.7, -2.6, -2.5, -2.4, -2.3, -2.2, -2.1, -2.0, -1.9, -1.8, -1.7, -1.6, -1.5, -1.4, -1.3, -1.2, -1.1, -1.0, -0.9, -0.8, -0.7, -0.6, -0.5, -0.4, -0.3, -0.2, -0.1, 0.0, 0.1, 0.2, 0.3, 0.4, 0.5, 0.6, 0.7, 0.8, 0.9, 1.0, 1.1, 1.2, 1.3, 1.4, 1.5, 1.6, 1.7, 1.8, 1.9, 2.0, 2.1, 2.2, 2.3, 2.4, 2.5, 2.6, 2.7, 2.8, 2.9, 3.0, 3.1, 3.2, 3.3, 3.4, 3.5, 3.6, 3.7, 3.8, 3.9, 4.0, 4.1, 4.2, 4.3, 4.4, 4.5, 4.6, 4.7, 4.8, 4.9], \"y\": [1440000.0, 1368900.0, 1299600.0, 1232100.0, 1166400.0, 1102500.0, 1040400.0, 980100.0, 921600.0, 864900.0, 810000.0, 756900.0, 705600.0, 656100.0, 608400.0, 562500.0, 518400.0, 476100.0, 435600.0, 396900.0, 360000.0, 324900.0, 291600.0, 260100.0, 230400.0, 202500.0, 176400.0, 152100.0, 129600.0, 108900.0, 90000.0, 72900.0, 57600.0, 44100.0, 32400.0, 22500.0, 14400.0, 8100.0, 3600.0, 900.0, 0.0, 900.0, 3600.0, 8100.0, 14400.0, 22500.0, 32400.0, 44100.0, 57600.0, 72900.0, 90000.0, 108900.0, 129600.0, 152100.0, 176400.0, 202500.0, 230400.0, 260100.0, 291600.0, 324900.0, 360000.0, 396900.0, 435600.0, 476100.0, 518400.0, 562500.0, 608400.0, 656100.0, 705600.0, 756900.0, 810000.0, 864900.0, 921600.0, 980100.0, 1040400.0, 1102500.0, 1166400.0, 1232100.0, 1299600.0, 1368900.0]}, {\"x\": [-1, 0, 1], \"y\": [269910.0000000035, 90000, -89910.00000000349], \"mode\": \"lines+text\", \"text\": [\"    slope:-179910.00\"], \"textposition\": \"right\"}], {}, {\"showLink\": true, \"linkText\": \"Export to plot.ly\"})});</script>"
      ],
      "text/vnd.plotly.v1+html": [
       "<div id=\"b43e88e1-e188-4960-a6da-b82bd2fad867\" style=\"height: 525px; width: 100%;\" class=\"plotly-graph-div\"></div><script type=\"text/javascript\">require([\"plotly\"], function(Plotly) { window.PLOTLYENV=window.PLOTLYENV || {};window.PLOTLYENV.BASE_URL=\"https://plot.ly\";Plotly.newPlot(\"b43e88e1-e188-4960-a6da-b82bd2fad867\", [{\"x\": [-3.0, -2.9, -2.8, -2.7, -2.6, -2.5, -2.4, -2.3, -2.2, -2.1, -2.0, -1.9, -1.8, -1.7, -1.6, -1.5, -1.4, -1.3, -1.2, -1.1, -1.0, -0.9, -0.8, -0.7, -0.6, -0.5, -0.4, -0.3, -0.2, -0.1, 0.0, 0.1, 0.2, 0.3, 0.4, 0.5, 0.6, 0.7, 0.8, 0.9, 1.0, 1.1, 1.2, 1.3, 1.4, 1.5, 1.6, 1.7, 1.8, 1.9, 2.0, 2.1, 2.2, 2.3, 2.4, 2.5, 2.6, 2.7, 2.8, 2.9, 3.0, 3.1, 3.2, 3.3, 3.4, 3.5, 3.6, 3.7, 3.8, 3.9, 4.0, 4.1, 4.2, 4.3, 4.4, 4.5, 4.6, 4.7, 4.8, 4.9], \"y\": [1440000.0, 1368900.0, 1299600.0, 1232100.0, 1166400.0, 1102500.0, 1040400.0, 980100.0, 921600.0, 864900.0, 810000.0, 756900.0, 705600.0, 656100.0, 608400.0, 562500.0, 518400.0, 476100.0, 435600.0, 396900.0, 360000.0, 324900.0, 291600.0, 260100.0, 230400.0, 202500.0, 176400.0, 152100.0, 129600.0, 108900.0, 90000.0, 72900.0, 57600.0, 44100.0, 32400.0, 22500.0, 14400.0, 8100.0, 3600.0, 900.0, 0.0, 900.0, 3600.0, 8100.0, 14400.0, 22500.0, 32400.0, 44100.0, 57600.0, 72900.0, 90000.0, 108900.0, 129600.0, 152100.0, 176400.0, 202500.0, 230400.0, 260100.0, 291600.0, 324900.0, 360000.0, 396900.0, 435600.0, 476100.0, 518400.0, 562500.0, 608400.0, 656100.0, 705600.0, 756900.0, 810000.0, 864900.0, 921600.0, 980100.0, 1040400.0, 1102500.0, 1166400.0, 1232100.0, 1299600.0, 1368900.0]}, {\"x\": [-1, 0, 1], \"y\": [269910.0000000035, 90000, -89910.00000000349], \"mode\": \"lines+text\", \"text\": [\"    slope:-179910.00\"], \"textposition\": \"right\"}], {}, {\"showLink\": true, \"linkText\": \"Export to plot.ly\"})});</script>"
      ]
     },
     "metadata": {},
     "output_type": "display_data"
    }
   ],
   "source": [
    "y_x_squared_trace = line_function_data(fake_cost_curve, x_values)\n",
    "# delta = 1\n",
    "# delta = .1\n",
    "# delta = .01\n",
    "delta = .001\n",
    "tangent_at_delta = build_tangent_line(fake_cost_curve, 0, 1, delta)\n",
    "plot([y_x_squared_trace, tangent_at_delta])"
   ]
  },
  {
   "cell_type": "markdown",
   "metadata": {},
   "source": [
    "In the curve above, you can change the tangent line simply by changing the value of Delta.  Give it a shot!.  What you'll see is the following:\n",
    "\n",
    "| $ \\Delta x $        | $ \\Delta y/\\Delta x $|\n",
    "| ------------- |:-------------:|\n",
    "| .1      | -171,000      |\n",
    "| .01 | -179,100     |\n",
    "| .001 | -179,910      |\n",
    "| .0001 | -179,991      |\n"
   ]
  },
  {
   "cell_type": "markdown",
   "metadata": {},
   "source": [
    "As you can see, as $\\Delta x $ approaches zero, $\\Delta y / \\Delta x $ approaches $ -180,000 $.  This convergance around one number as we change another number, is called the **limit **.  So to describe the above, we would say, the limit of $\\Delta y / \\Delta x $ -- that is the number $\\Delta y / \\Delta x $ approaches -- as  $ \\Delta x $ approaches zero is -180,000.  We can abbreviate this into the following expression: "
   ]
  },
  {
   "cell_type": "markdown",
   "metadata": {},
   "source": [
    "When $x = 0,\\lim_{\\Delta x\\to0} \\Delta y / \\Delta x = -180,000  $."
   ]
  },
  {
   "cell_type": "markdown",
   "metadata": {},
   "source": [
    "### Summary"
   ]
  },
  {
   "cell_type": "code",
   "execution_count": null,
   "metadata": {
    "collapsed": true
   },
   "outputs": [],
   "source": []
  },
  {
   "cell_type": "markdown",
   "metadata": {},
   "source": [
    "### Our rules for calculating the derivative"
   ]
  },
  {
   "cell_type": "markdown",
   "metadata": {},
   "source": [
    "From the above section you know that the derivative is equal to the slope of the tangent line along a graph.  The importance of the derivative is that it tells us the rate of change at a given point.  Or in the context of our cost curve, how much will our error change with a nudge of one of our values.\n",
    "\n",
    "The derivative is the change in the value of an output with an infintessimally small increase of an input.  Notice that, the numbers we used above in calculating our derivative above were not very good.  The reason is because we had a change of x of about 2, that is way too large.  The change in x should be much less than one -- instead, .0001 is more like it. "
   ]
  },
  {
   "cell_type": "markdown",
   "metadata": {},
   "source": [
    "Luckily for us, we can follow some simple rules for calculating the derivative.\n",
    "\n",
    "##### The power rule\n",
    "\n",
    "The first rule for us to learn is the power rule.  The power rule states that given a function $f(x) = x^r$ then the derivative of $f(x)$, denoted $f'(x)$ is:\n",
    "\n",
    "$ f'(x) = r*x^r-1 $\n",
    "\n",
    "So for example, with the function above, $f(x) = x^2 $, so this means that $f'(x) = 2*x^{2-1} = 2*x^1 = 2*x$.  Another way to read this is that a small increase in x will produce an increase in y equal to 2 times the x value.  So when x = 2, we solve for the derivative at that point by simply plugging in 2 whenever we see x.  This gives us $f'(2) = 2*2 = f'(2) = 4 $.  And when x = 10, then $f'(10) = 2*10 = 20$.  So our calculations from above were close, but these are more accurate.  The derivative of $f(x) = x^2$ is $2*x$."
   ]
  },
  {
   "cell_type": "markdown",
   "metadata": {},
   "source": [
    "We won't prove the power rule here.  But hopefully you can see that it does seem to fit our view of $f(x) = x^2$ well.  It seems reasonable that the slope of the line tangent to a curve is $2*x$.  For example, let's assume that our error changes in the following as we change b, e = 3b.  Now a plot of e = 3b, looks like the following:"
   ]
  },
  {
   "cell_type": "code",
   "execution_count": 3,
   "metadata": {},
   "outputs": [
    {
     "data": {
      "text/html": [
       "<script>requirejs.config({paths: { 'plotly': ['https://cdn.plot.ly/plotly-latest.min']},});if(!window.Plotly) {{require(['plotly'],function(plotly) {window.Plotly=plotly;});}}</script>"
      ],
      "text/vnd.plotly.v1+html": [
       "<script>requirejs.config({paths: { 'plotly': ['https://cdn.plot.ly/plotly-latest.min']},});if(!window.Plotly) {{require(['plotly'],function(plotly) {window.Plotly=plotly;});}}</script>"
      ]
     },
     "metadata": {},
     "output_type": "display_data"
    },
    {
     "data": {
      "application/vnd.plotly.v1+json": {
       "data": [
        {
         "name": "markers",
         "type": "scatter",
         "x": [
          0,
          1,
          2,
          3,
          4,
          5,
          6,
          7,
          8,
          9,
          10,
          11,
          12,
          13,
          14,
          15,
          16,
          17,
          18,
          19
         ],
         "y": [
          0,
          3,
          6,
          9,
          12,
          15,
          18,
          21,
          24,
          27,
          30,
          33,
          36,
          39,
          42,
          45,
          48,
          51,
          54,
          57
         ]
        }
       ],
       "layout": {
        "title": "Error Values For line f(b) = 3*b"
       }
      },
      "text/html": [
       "<div id=\"d07ddb1c-cc72-4929-9b24-b4eea286de45\" style=\"height: 525px; width: 100%;\" class=\"plotly-graph-div\"></div><script type=\"text/javascript\">require([\"plotly\"], function(Plotly) { window.PLOTLYENV=window.PLOTLYENV || {};window.PLOTLYENV.BASE_URL=\"https://plot.ly\";Plotly.newPlot(\"d07ddb1c-cc72-4929-9b24-b4eea286de45\", [{\"type\": \"scatter\", \"x\": [0, 1, 2, 3, 4, 5, 6, 7, 8, 9, 10, 11, 12, 13, 14, 15, 16, 17, 18, 19], \"y\": [0, 3, 6, 9, 12, 15, 18, 21, 24, 27, 30, 33, 36, 39, 42, 45, 48, 51, 54, 57], \"name\": \"markers\"}], {\"title\": \"Error Values For line f(b) = 3*b\"}, {\"showLink\": true, \"linkText\": \"Export to plot.ly\"})});</script>"
      ],
      "text/vnd.plotly.v1+html": [
       "<div id=\"d07ddb1c-cc72-4929-9b24-b4eea286de45\" style=\"height: 525px; width: 100%;\" class=\"plotly-graph-div\"></div><script type=\"text/javascript\">require([\"plotly\"], function(Plotly) { window.PLOTLYENV=window.PLOTLYENV || {};window.PLOTLYENV.BASE_URL=\"https://plot.ly\";Plotly.newPlot(\"d07ddb1c-cc72-4929-9b24-b4eea286de45\", [{\"type\": \"scatter\", \"x\": [0, 1, 2, 3, 4, 5, 6, 7, 8, 9, 10, 11, 12, 13, 14, 15, 16, 17, 18, 19], \"y\": [0, 3, 6, 9, 12, 15, 18, 21, 24, 27, 30, 33, 36, 39, 42, 45, 48, 51, 54, 57], \"name\": \"markers\"}], {\"title\": \"Error Values For line f(b) = 3*b\"}, {\"showLink\": true, \"linkText\": \"Export to plot.ly\"})});</script>"
      ]
     },
     "metadata": {},
     "output_type": "display_data"
    }
   ],
   "source": [
    "import plotly.plotly as py\n",
    "import plotly.graph_objs as go\n",
    "from plotly.offline import init_notebook_mode, iplot\n",
    "from IPython.display import display, HTML\n",
    "\n",
    "init_notebook_mode(connected=True)\n",
    "layout = dict(title = 'Error Values For line f(b) = 3*b')\n",
    "b_values = list(range(0, 20, 1))\n",
    "error_values = list(map(lambda b_value: b_value*3,b_values))\n",
    "trace0 = go.Scatter(\n",
    "    x = b_values,\n",
    "    y = error_values,\n",
    "    name = 'markers'\n",
    ")\n",
    "\n",
    "\n",
    "\n",
    "\n",
    "\n",
    "data = [trace0]\n",
    "fig = dict(data=data, layout=layout)\n",
    "iplot(fig)"
   ]
  },
  {
   "cell_type": "markdown",
   "metadata": {},
   "source": [
    "Notice that for the line e = 3b, the derivative is constant.  That is the rate of change in our function is stable for all values of x.  Unlike where $e = b^2$, and the slope constantly changed, here a nudge in the b direction will produce the same increase in the output, regardless of where we are on the curve.  For example, when b = 8, we can see the following: \n",
    "\n",
    "$ de/db = 24.0003 - 24/(8.0001 - 8) = .0003/.0001 = 3 $\n",
    "\n",
    "Note that our power rule also gives us a derivative of 3.\n",
    "\n",
    "$f(b) = 3b = 3b^1$ \n",
    "\n",
    "$f'(b) = 1*3b^{1-1} = 3b^{0} = 3$\n",
    "\n",
    "So our power rule shows that a change in b should produce a proportional increase of 3 times that change in our error.  And this is always the case for this error curve.\n",
    "\n",
    "One more, let's consider that our function is the following: \n",
    "\n",
    "$f(b) = 1000$\n",
    "\n",
    "In that case, our function is simply a constant line, no matter what the value of b, our error is always 1000."
   ]
  },
  {
   "cell_type": "code",
   "execution_count": 4,
   "metadata": {},
   "outputs": [
    {
     "data": {
      "text/html": [
       "<script>requirejs.config({paths: { 'plotly': ['https://cdn.plot.ly/plotly-latest.min']},});if(!window.Plotly) {{require(['plotly'],function(plotly) {window.Plotly=plotly;});}}</script>"
      ],
      "text/vnd.plotly.v1+html": [
       "<script>requirejs.config({paths: { 'plotly': ['https://cdn.plot.ly/plotly-latest.min']},});if(!window.Plotly) {{require(['plotly'],function(plotly) {window.Plotly=plotly;});}}</script>"
      ]
     },
     "metadata": {},
     "output_type": "display_data"
    },
    {
     "data": {
      "application/vnd.plotly.v1+json": {
       "data": [
        {
         "name": "markers",
         "type": "scatter",
         "x": [
          0,
          1,
          2,
          3,
          4,
          5,
          6,
          7,
          8,
          9,
          10,
          11,
          12,
          13,
          14,
          15,
          16,
          17,
          18,
          19
         ],
         "y": [
          1000,
          1000,
          1000,
          1000,
          1000,
          1000,
          1000,
          1000,
          1000,
          1000,
          1000,
          1000,
          1000,
          1000,
          1000,
          1000,
          1000,
          1000,
          1000,
          1000
         ]
        }
       ],
       "layout": {
        "title": "Error Values For line f(b) = 1000"
       }
      },
      "text/html": [
       "<div id=\"d774f984-8b62-44dd-a27c-be9f5b43a230\" style=\"height: 525px; width: 100%;\" class=\"plotly-graph-div\"></div><script type=\"text/javascript\">require([\"plotly\"], function(Plotly) { window.PLOTLYENV=window.PLOTLYENV || {};window.PLOTLYENV.BASE_URL=\"https://plot.ly\";Plotly.newPlot(\"d774f984-8b62-44dd-a27c-be9f5b43a230\", [{\"type\": \"scatter\", \"x\": [0, 1, 2, 3, 4, 5, 6, 7, 8, 9, 10, 11, 12, 13, 14, 15, 16, 17, 18, 19], \"y\": [1000, 1000, 1000, 1000, 1000, 1000, 1000, 1000, 1000, 1000, 1000, 1000, 1000, 1000, 1000, 1000, 1000, 1000, 1000, 1000], \"name\": \"markers\"}], {\"title\": \"Error Values For line f(b) = 1000\"}, {\"showLink\": true, \"linkText\": \"Export to plot.ly\"})});</script>"
      ],
      "text/vnd.plotly.v1+html": [
       "<div id=\"d774f984-8b62-44dd-a27c-be9f5b43a230\" style=\"height: 525px; width: 100%;\" class=\"plotly-graph-div\"></div><script type=\"text/javascript\">require([\"plotly\"], function(Plotly) { window.PLOTLYENV=window.PLOTLYENV || {};window.PLOTLYENV.BASE_URL=\"https://plot.ly\";Plotly.newPlot(\"d774f984-8b62-44dd-a27c-be9f5b43a230\", [{\"type\": \"scatter\", \"x\": [0, 1, 2, 3, 4, 5, 6, 7, 8, 9, 10, 11, 12, 13, 14, 15, 16, 17, 18, 19], \"y\": [1000, 1000, 1000, 1000, 1000, 1000, 1000, 1000, 1000, 1000, 1000, 1000, 1000, 1000, 1000, 1000, 1000, 1000, 1000, 1000], \"name\": \"markers\"}], {\"title\": \"Error Values For line f(b) = 1000\"}, {\"showLink\": true, \"linkText\": \"Export to plot.ly\"})});</script>"
      ]
     },
     "metadata": {},
     "output_type": "display_data"
    }
   ],
   "source": [
    "import plotly.plotly as py\n",
    "import plotly.graph_objs as go\n",
    "from plotly.offline import init_notebook_mode, iplot\n",
    "from IPython.display import display, HTML\n",
    "\n",
    "init_notebook_mode(connected=True)\n",
    "layout = dict(title = 'Error Values For line f(b) = 1000')\n",
    "b_values = list(range(0, 20, 1))\n",
    "error_values = list(map(lambda b_value: 1000,b_values))\n",
    "trace0 = go.Scatter(\n",
    "    x = b_values,\n",
    "    y = error_values,\n",
    "    name = 'markers'\n",
    ")\n",
    "\n",
    "\n",
    "\n",
    "\n",
    "\n",
    "data = [trace0]\n",
    "fig = dict(data=data, layout=layout)\n",
    "iplot(fig)"
   ]
  },
  {
   "cell_type": "markdown",
   "metadata": {},
   "source": [
    "Note that here, the change in the error as we change b is always the same: 0.\n",
    "\n",
    "So when f(b) = 1000, f'(b) = 0.  In fact, if the function is any constant, then the derivative of that function is zero. "
   ]
  },
  {
   "cell_type": "markdown",
   "metadata": {},
   "source": [
    "##### The constant factor rule"
   ]
  },
  {
   "cell_type": "markdown",
   "metadata": {},
   "source": [
    "The above made use of the constant factor rule.  The constant factor addresses how to take the derivative of a function multiplied by a constant. So in the above example, we had that with our function of $f(b) = 3*x$.  Now, the derivative of that function is the same as $ 3 * de/db(b) $ leading to $ 3*1 $ as we simply apply the power rule to b.\n",
    "\n",
    "In the general case, we can say, consider the function $a*f(b)$ where $a$ is a number.  Then the derivative $db/de(a*f(b)) = a * db/de(f(b) $.  \n",
    "\n",
    "Don't let the fancy equations confuse you.  The rule simply says to focus on the taking the derivative of the variable, and if it was multiplied by a number, then multiply that derivative of that by the same number.\n",
    "\n",
    "So if $f(b) = 2*b^2 $ this means that $f'(b) = 2*2*b $.  The constant factor rule in action."
   ]
  },
  {
   "cell_type": "markdown",
   "metadata": {},
   "source": [
    "##### The addition rule"
   ]
  },
  {
   "cell_type": "markdown",
   "metadata": {},
   "source": [
    "Now consider that we receive a function like the following: \n",
    "    \n",
    "$ f(b) = 4b^3 - b^2 + 3b $\n",
    "\n",
    "First, we say that this function has two terms.  A term is a constant or variable that is separated by a plus or minus sign.  Ok, so to take a derivative of a function that has multiple terms, simply take the derivative of each of the terms individually.  So $ f'(b) = 12b^2 - 2b + 3  $.  Do you see what we did there, we simply applied our previous rules to each of the terms individually and continued to add or subtract the terms accordingly."
   ]
  },
  {
   "cell_type": "markdown",
   "metadata": {},
   "source": [
    "### Summary"
   ]
  },
  {
   "cell_type": "markdown",
   "metadata": {},
   "source": [
    "In this section we saw that we can find the minimum error by following the line tangent to a graph.  And we can move along by following the line tangent to the spot we are currently located.  We then saw how this holds for a two-dimensional graph, by considering how our error changes with respect to a change in b.  We identified this change in output from an infintesimally small change in input as our derivative.  \n",
    "\n",
    "Then we considered three rules that allow us to calculate our derivative.  The most tricky of these is the power rule, which says that if $f(b) = b^n$, then $ f'(b) = n * b^{n -1} $.  We still haven't seen how derivativesgive us a way to understand gradient descent, but we will shortly when we consider how to take derivatives when we have functions with multiple variables, like an error function that is dependent on both m and b.\n",
    "\n",
    "But first, let's practice what we know about derivatives in a lab."
   ]
  }
 ],
 "metadata": {
  "kernelspec": {
   "display_name": "Python 3",
   "language": "python",
   "name": "python3"
  },
  "language_info": {
   "codemirror_mode": {
    "name": "ipython",
    "version": 3
   },
   "file_extension": ".py",
   "mimetype": "text/x-python",
   "name": "python",
   "nbconvert_exporter": "python",
   "pygments_lexer": "ipython3",
   "version": "3.6.1"
  }
 },
 "nbformat": 4,
 "nbformat_minor": 2
}
