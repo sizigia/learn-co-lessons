{
 "cells": [
  {
   "cell_type": "markdown",
   "metadata": {},
   "source": [
    "# Python For loops Lab"
   ]
  },
  {
   "cell_type": "markdown",
   "metadata": {},
   "source": [
    "### Learning Objectives"
   ]
  },
  {
   "cell_type": "markdown",
   "metadata": {},
   "source": [
    "* Understand how for loops can help us reduce repetition\n",
    "* Understand the syntax of for loops "
   ]
  },
  {
   "cell_type": "markdown",
   "metadata": {},
   "source": [
    "### Picking up where we last left off"
   ]
  },
  {
   "cell_type": "markdown",
   "metadata": {},
   "source": [
    "In the last lesson, we worked with some of our travel data.  Let's retrieve a list with our travel information again from excel.  First, we read the information from excel as a list of dictionaries, with each dictionary representing a location.  And we assign this list to the variable `cities`."
   ]
  },
  {
   "cell_type": "code",
   "execution_count": 1,
   "metadata": {},
   "outputs": [],
   "source": [
    "import pandas\n",
    "file_name = './cities.xlsx'\n",
    "travel_df = pandas.read_excel(file_name)\n",
    "cities = travel_df.to_dict('records')"
   ]
  },
  {
   "cell_type": "markdown",
   "metadata": {},
   "source": [
    "Next, we retrieve the first three city names, stored as the `'City'` attribute of each dictionary, and `'Population'` of each of the cities.  Then we plot the names as our `x_values` and the populations as our `y_values`."
   ]
  },
  {
   "cell_type": "code",
   "execution_count": 2,
   "metadata": {},
   "outputs": [
    {
     "data": {
      "text/html": [
       "<script>requirejs.config({paths: { 'plotly': ['https://cdn.plot.ly/plotly-latest.min']},});if(!window.Plotly) {{require(['plotly'],function(plotly) {window.Plotly=plotly;});}}</script>"
      ],
      "text/vnd.plotly.v1+html": [
       "<script>requirejs.config({paths: { 'plotly': ['https://cdn.plot.ly/plotly-latest.min']},});if(!window.Plotly) {{require(['plotly'],function(plotly) {window.Plotly=plotly;});}}</script>"
      ]
     },
     "metadata": {},
     "output_type": "display_data"
    },
    {
     "data": {
      "application/vnd.plotly.v1+json": {
       "data": [
        {
         "type": "bar",
         "uid": "1bcc3f14-bd44-11e9-a88c-235ce2680aa4",
         "x": [
          "Buenos Aires",
          "Toronto",
          "Pyeongchang"
         ],
         "y": [
          2891000,
          2800000,
          2581000
         ]
        }
       ],
       "layout": {}
      },
      "text/html": [
       "<div id=\"9a5c76f3-0150-47fd-a7b4-bf23830e90d0\" style=\"height: 525px; width: 100%;\" class=\"plotly-graph-div\"></div><script type=\"text/javascript\">require([\"plotly\"], function(Plotly) { window.PLOTLYENV=window.PLOTLYENV || {};window.PLOTLYENV.BASE_URL=\"https://plot.ly\";Plotly.newPlot(\"9a5c76f3-0150-47fd-a7b4-bf23830e90d0\", [{\"x\": [\"Buenos Aires\", \"Toronto\", \"Pyeongchang\"], \"y\": [2891000, 2800000, 2581000], \"type\": \"bar\", \"uid\": \"1c1e65d2-bd44-11e9-a88c-235ce2680aa4\"}], {}, {\"showLink\": true, \"linkText\": \"Export to plot.ly\"})});</script>"
      ],
      "text/vnd.plotly.v1+html": [
       "<div id=\"9a5c76f3-0150-47fd-a7b4-bf23830e90d0\" style=\"height: 525px; width: 100%;\" class=\"plotly-graph-div\"></div><script type=\"text/javascript\">require([\"plotly\"], function(Plotly) { window.PLOTLYENV=window.PLOTLYENV || {};window.PLOTLYENV.BASE_URL=\"https://plot.ly\";Plotly.newPlot(\"9a5c76f3-0150-47fd-a7b4-bf23830e90d0\", [{\"x\": [\"Buenos Aires\", \"Toronto\", \"Pyeongchang\"], \"y\": [2891000, 2800000, 2581000], \"type\": \"bar\", \"uid\": \"1c1e65d2-bd44-11e9-a88c-235ce2680aa4\"}], {}, {\"showLink\": true, \"linkText\": \"Export to plot.ly\"})});</script>"
      ]
     },
     "metadata": {},
     "output_type": "display_data"
    }
   ],
   "source": [
    "import plotly\n",
    "\n",
    "plotly.offline.init_notebook_mode(connected=True)\n",
    "\n",
    "x_values = [cities[0]['City'], cities[1]['City'], cities[2]['City']]\n",
    "y_values = [cities[0]['Population'], cities[1]['Population'], cities[2]['Population']]\n",
    "trace_first_three_pops = {'x': x_values, 'y': y_values, 'type': 'bar'}\n",
    "plotly.offline.iplot([trace_first_three_pops])"
   ]
  },
  {
   "cell_type": "markdown",
   "metadata": {},
   "source": [
    "Of course, as you may have spotted, there is a good amount of repetition in displaying this data.  Just take a look at how we retrieved the data for our `x_values` and `y_values`.  "
   ]
  },
  {
   "cell_type": "code",
   "execution_count": 3,
   "metadata": {},
   "outputs": [],
   "source": [
    "x_values = [cities[0]['City'], cities[1]['City'], cities[2]['City']]\n",
    "y_values = [cities[0]['Population'], cities[1]['Population'], cities[2]['Population']]"
   ]
  },
  {
   "cell_type": "markdown",
   "metadata": {},
   "source": [
    "So in this lesson, we will use our `for` loop to display information about our travel locations with less repetition."
   ]
  },
  {
   "cell_type": "markdown",
   "metadata": {},
   "source": [
    "### Working with the For Loop"
   ]
  },
  {
   "cell_type": "markdown",
   "metadata": {},
   "source": [
    "Our `cities` list contains information about the top 12 cities.  For our upcoming iteration tasks, it will be useful to have a list of the numbers 0 through 11.  Use what we know about `len` and `range`to generate a list of numbers 0 through 11.  Assign this to a variable called `city_indices`."
   ]
  },
  {
   "cell_type": "code",
   "execution_count": 5,
   "metadata": {},
   "outputs": [
    {
     "data": {
      "text/plain": [
       "[0, 1, 2, 3, 4, 5, 6, 7, 8, 9, 10, 11]"
      ]
     },
     "execution_count": 5,
     "metadata": {},
     "output_type": "execute_result"
    }
   ],
   "source": [
    "city_indices = list(range(0, len(cities)))\n",
    "city_indices # [0, 1, 2, 3, 4, 5, 6, 7, 8, 9, 10, 11]"
   ]
  },
  {
   "cell_type": "markdown",
   "metadata": {},
   "source": [
    "Now we want to create labels for each of the cities. We'll provide a list of the `city_names` for you. "
   ]
  },
  {
   "cell_type": "code",
   "execution_count": 6,
   "metadata": {},
   "outputs": [],
   "source": [
    "city_names = ['Buenos Aires',\n",
    " 'Toronto',\n",
    " 'Pyeongchang',\n",
    " 'Marakesh',\n",
    " 'Albuquerque',\n",
    " 'Los Cabos',\n",
    " 'Greenville',\n",
    " 'Archipelago Sea',\n",
    " 'Walla Walla Valley',\n",
    " 'Salina Island',\n",
    " 'Solta',\n",
    " 'Iguazu Falls']"
   ]
  },
  {
   "cell_type": "markdown",
   "metadata": {},
   "source": [
    "Your task is to assign the variable `names_and_ranks` to a list, with each element equal to the city name and it's corresponding rank.  For example, the first element would be, `\"1. Buenos Aires\"` and the second would be `\"2. Toronto\"`.  Use a `for` loop and the lists `city_indices` and `city_names` to accomplish this.  We'll need to perform some nifty string interpolation to format our strings properly.  Check out [f-string interpolation](https://www.programiz.com/python-programming/string-interpolation#f) to see how we can pass values into a string.  Remember that list indices start at zero, but we want our `names_and_ranks` list to start at one!"
   ]
  },
  {
   "cell_type": "code",
   "execution_count": 12,
   "metadata": {},
   "outputs": [],
   "source": [
    "names_and_ranks = []\n",
    "for city in list(range(0, len(city_names))):\n",
    "    num = city + 1\n",
    "    s = str(num) + '. ' + city_names[city]\n",
    "    names_and_ranks.append(s)\n",
    "# write a for loop that adds the properly formatted string to the names_and_ranks list"
   ]
  },
  {
   "cell_type": "code",
   "execution_count": 13,
   "metadata": {},
   "outputs": [
    {
     "name": "stdout",
     "output_type": "stream",
     "text": [
      "1. Buenos Aires\n",
      "2. Toronto\n",
      "3. Pyeongchang\n",
      "4. Marakesh\n",
      "5. Albuquerque\n",
      "6. Los Cabos\n",
      "7. Greenville\n",
      "8. Archipelago Sea\n",
      "9. Walla Walla Valley\n",
      "10. Salina Island\n",
      "11. Solta\n",
      "12. Iguazu Falls\n"
     ]
    }
   ],
   "source": [
    "names_and_ranks[0] # '1. Buenos Aires'\n",
    "names_and_ranks[1] # '2. Toronto'\n",
    "names_and_ranks[-1] # '12. Iguazu Falls'\n",
    "\n",
    "for rank in list(range(0, len(names_and_ranks))):\n",
    "    print(names_and_ranks[rank])"
   ]
  },
  {
   "cell_type": "markdown",
   "metadata": {},
   "source": [
    "Ok, now let's create a new variable called `city_populations`.  Use a `for` loop to iterate through `cities` and have `city_populations` equal to each of the populations."
   ]
  },
  {
   "cell_type": "code",
   "execution_count": 14,
   "metadata": {},
   "outputs": [],
   "source": [
    "city_populations = []\n",
    "for pop in list(range(0, len(cities))):\n",
    "    city_populations.append(cities[pop]['Population'])"
   ]
  },
  {
   "cell_type": "code",
   "execution_count": 15,
   "metadata": {},
   "outputs": [
    {
     "name": "stdout",
     "output_type": "stream",
     "text": [
      "2891000\n",
      "2800000\n",
      "2581000\n",
      "928850\n",
      "559277\n",
      "287651\n",
      "84554\n",
      "60000\n",
      "32237\n",
      "4000\n",
      "1700\n",
      "0\n"
     ]
    }
   ],
   "source": [
    "city_populations[0] # 2891000\n",
    "city_populations[1] # 2800000\n",
    "city_populations[-1] # 0\n",
    "\n",
    "for city in list(range(0, len(cities))):\n",
    "    print(city_populations[city])"
   ]
  },
  {
   "cell_type": "markdown",
   "metadata": {},
   "source": [
    "Great! Now we can begin to plot this data.  First, let's create a trace of our populations and set it to the variable `trace_populations`."
   ]
  },
  {
   "cell_type": "code",
   "execution_count": 16,
   "metadata": {},
   "outputs": [],
   "source": [
    "trace_populations = {'x': names_and_ranks, \n",
    "                     'y': city_populations, \n",
    "                     'text': names_and_ranks, \n",
    "                     'type': 'bar', \n",
    "                     'name': 'populations'}"
   ]
  },
  {
   "cell_type": "code",
   "execution_count": 17,
   "metadata": {},
   "outputs": [
    {
     "data": {
      "text/html": [
       "<script>requirejs.config({paths: { 'plotly': ['https://cdn.plot.ly/plotly-latest.min']},});if(!window.Plotly) {{require(['plotly'],function(plotly) {window.Plotly=plotly;});}}</script>"
      ],
      "text/vnd.plotly.v1+html": [
       "<script>requirejs.config({paths: { 'plotly': ['https://cdn.plot.ly/plotly-latest.min']},});if(!window.Plotly) {{require(['plotly'],function(plotly) {window.Plotly=plotly;});}}</script>"
      ]
     },
     "metadata": {},
     "output_type": "display_data"
    },
    {
     "data": {
      "application/vnd.plotly.v1+json": {
       "data": [
        {
         "name": "populations",
         "text": [
          "1. Buenos Aires",
          "2. Toronto",
          "3. Pyeongchang",
          "4. Marakesh",
          "5. Albuquerque",
          "6. Los Cabos",
          "7. Greenville",
          "8. Archipelago Sea",
          "9. Walla Walla Valley",
          "10. Salina Island",
          "11. Solta",
          "12. Iguazu Falls"
         ],
         "type": "bar",
         "uid": "17b3b258-bd45-11e9-a88c-235ce2680aa4",
         "x": [
          "1. Buenos Aires",
          "2. Toronto",
          "3. Pyeongchang",
          "4. Marakesh",
          "5. Albuquerque",
          "6. Los Cabos",
          "7. Greenville",
          "8. Archipelago Sea",
          "9. Walla Walla Valley",
          "10. Salina Island",
          "11. Solta",
          "12. Iguazu Falls"
         ],
         "y": [
          2891000,
          2800000,
          2581000,
          928850,
          559277,
          287651,
          84554,
          60000,
          32237,
          4000,
          1700,
          0
         ]
        }
       ],
       "layout": {}
      },
      "text/html": [
       "<div id=\"9c56ca53-7599-4c5a-b656-cc82d405dd71\" style=\"height: 525px; width: 100%;\" class=\"plotly-graph-div\"></div><script type=\"text/javascript\">require([\"plotly\"], function(Plotly) { window.PLOTLYENV=window.PLOTLYENV || {};window.PLOTLYENV.BASE_URL=\"https://plot.ly\";Plotly.newPlot(\"9c56ca53-7599-4c5a-b656-cc82d405dd71\", [{\"name\": \"populations\", \"text\": [\"1. Buenos Aires\", \"2. Toronto\", \"3. Pyeongchang\", \"4. Marakesh\", \"5. Albuquerque\", \"6. Los Cabos\", \"7. Greenville\", \"8. Archipelago Sea\", \"9. Walla Walla Valley\", \"10. Salina Island\", \"11. Solta\", \"12. Iguazu Falls\"], \"x\": [\"1. Buenos Aires\", \"2. Toronto\", \"3. Pyeongchang\", \"4. Marakesh\", \"5. Albuquerque\", \"6. Los Cabos\", \"7. Greenville\", \"8. Archipelago Sea\", \"9. Walla Walla Valley\", \"10. Salina Island\", \"11. Solta\", \"12. Iguazu Falls\"], \"y\": [2891000, 2800000, 2581000, 928850, 559277, 287651, 84554, 60000, 32237, 4000, 1700, 0], \"type\": \"bar\", \"uid\": \"17c2ef5c-bd45-11e9-a88c-235ce2680aa4\"}], {}, {\"showLink\": true, \"linkText\": \"Export to plot.ly\"})});</script>"
      ],
      "text/vnd.plotly.v1+html": [
       "<div id=\"9c56ca53-7599-4c5a-b656-cc82d405dd71\" style=\"height: 525px; width: 100%;\" class=\"plotly-graph-div\"></div><script type=\"text/javascript\">require([\"plotly\"], function(Plotly) { window.PLOTLYENV=window.PLOTLYENV || {};window.PLOTLYENV.BASE_URL=\"https://plot.ly\";Plotly.newPlot(\"9c56ca53-7599-4c5a-b656-cc82d405dd71\", [{\"name\": \"populations\", \"text\": [\"1. Buenos Aires\", \"2. Toronto\", \"3. Pyeongchang\", \"4. Marakesh\", \"5. Albuquerque\", \"6. Los Cabos\", \"7. Greenville\", \"8. Archipelago Sea\", \"9. Walla Walla Valley\", \"10. Salina Island\", \"11. Solta\", \"12. Iguazu Falls\"], \"x\": [\"1. Buenos Aires\", \"2. Toronto\", \"3. Pyeongchang\", \"4. Marakesh\", \"5. Albuquerque\", \"6. Los Cabos\", \"7. Greenville\", \"8. Archipelago Sea\", \"9. Walla Walla Valley\", \"10. Salina Island\", \"11. Solta\", \"12. Iguazu Falls\"], \"y\": [2891000, 2800000, 2581000, 928850, 559277, 287651, 84554, 60000, 32237, 4000, 1700, 0], \"type\": \"bar\", \"uid\": \"17c2ef5c-bd45-11e9-a88c-235ce2680aa4\"}], {}, {\"showLink\": true, \"linkText\": \"Export to plot.ly\"})});</script>"
      ]
     },
     "metadata": {},
     "output_type": "display_data"
    }
   ],
   "source": [
    "import plotly\n",
    "plotly.offline.init_notebook_mode(connected=True)\n",
    "plotly.offline.iplot([trace_populations])"
   ]
  },
  {
   "cell_type": "markdown",
   "metadata": {},
   "source": [
    "Now we want declare a variable called `city_areas` that points to a list of all of the areas of the cities.  Let's use a `for` loop to iterate through our `cities` and have `city_areas` equal to each area of the city.  "
   ]
  },
  {
   "cell_type": "code",
   "execution_count": 23,
   "metadata": {},
   "outputs": [],
   "source": [
    "city_areas = []\n",
    "\n",
    "for city in list(range(0, len(cities))):\n",
    "    city_areas.append(cities[city]['Area'])"
   ]
  },
  {
   "cell_type": "code",
   "execution_count": 19,
   "metadata": {},
   "outputs": [],
   "source": [
    "trace_areas = {'x': names_and_ranks, 'y': city_areas, 'text': names_and_ranks, 'type': 'bar', 'name': 'areas'}"
   ]
  },
  {
   "cell_type": "code",
   "execution_count": 20,
   "metadata": {},
   "outputs": [
    {
     "data": {
      "text/html": [
       "<script>requirejs.config({paths: { 'plotly': ['https://cdn.plot.ly/plotly-latest.min']},});if(!window.Plotly) {{require(['plotly'],function(plotly) {window.Plotly=plotly;});}}</script>"
      ],
      "text/vnd.plotly.v1+html": [
       "<script>requirejs.config({paths: { 'plotly': ['https://cdn.plot.ly/plotly-latest.min']},});if(!window.Plotly) {{require(['plotly'],function(plotly) {window.Plotly=plotly;});}}</script>"
      ]
     },
     "metadata": {},
     "output_type": "display_data"
    },
    {
     "data": {
      "application/vnd.plotly.v1+json": {
       "data": [
        {
         "name": "populations",
         "text": [
          "1. Buenos Aires",
          "2. Toronto",
          "3. Pyeongchang",
          "4. Marakesh",
          "5. Albuquerque",
          "6. Los Cabos",
          "7. Greenville",
          "8. Archipelago Sea",
          "9. Walla Walla Valley",
          "10. Salina Island",
          "11. Solta",
          "12. Iguazu Falls"
         ],
         "type": "bar",
         "uid": "3e20108a-bd45-11e9-a88c-235ce2680aa4",
         "x": [
          "1. Buenos Aires",
          "2. Toronto",
          "3. Pyeongchang",
          "4. Marakesh",
          "5. Albuquerque",
          "6. Los Cabos",
          "7. Greenville",
          "8. Archipelago Sea",
          "9. Walla Walla Valley",
          "10. Salina Island",
          "11. Solta",
          "12. Iguazu Falls"
         ],
         "y": [
          2891000,
          2800000,
          2581000,
          928850,
          559277,
          287651,
          84554,
          60000,
          32237,
          4000,
          1700,
          0
         ]
        },
        {
         "name": "areas",
         "text": [
          "1. Buenos Aires",
          "2. Toronto",
          "3. Pyeongchang",
          "4. Marakesh",
          "5. Albuquerque",
          "6. Los Cabos",
          "7. Greenville",
          "8. Archipelago Sea",
          "9. Walla Walla Valley",
          "10. Salina Island",
          "11. Solta",
          "12. Iguazu Falls"
         ],
         "type": "bar",
         "uid": "3e201558-bd45-11e9-a88c-235ce2680aa4",
         "x": [
          "1. Buenos Aires",
          "2. Toronto",
          "3. Pyeongchang",
          "4. Marakesh",
          "5. Albuquerque",
          "6. Los Cabos",
          "7. Greenville",
          "8. Archipelago Sea",
          "9. Walla Walla Valley",
          "10. Salina Island",
          "11. Solta",
          "12. Iguazu Falls"
         ],
         "y": [
          4758,
          2731,
          3194,
          200,
          491,
          3750,
          68,
          8300,
          33,
          27,
          59,
          672
         ]
        }
       ],
       "layout": {}
      },
      "text/html": [
       "<div id=\"c9dfc0d5-dcd6-4c20-909d-7095db5730c1\" style=\"height: 525px; width: 100%;\" class=\"plotly-graph-div\"></div><script type=\"text/javascript\">require([\"plotly\"], function(Plotly) { window.PLOTLYENV=window.PLOTLYENV || {};window.PLOTLYENV.BASE_URL=\"https://plot.ly\";Plotly.newPlot(\"c9dfc0d5-dcd6-4c20-909d-7095db5730c1\", [{\"name\": \"populations\", \"text\": [\"1. Buenos Aires\", \"2. Toronto\", \"3. Pyeongchang\", \"4. Marakesh\", \"5. Albuquerque\", \"6. Los Cabos\", \"7. Greenville\", \"8. Archipelago Sea\", \"9. Walla Walla Valley\", \"10. Salina Island\", \"11. Solta\", \"12. Iguazu Falls\"], \"x\": [\"1. Buenos Aires\", \"2. Toronto\", \"3. Pyeongchang\", \"4. Marakesh\", \"5. Albuquerque\", \"6. Los Cabos\", \"7. Greenville\", \"8. Archipelago Sea\", \"9. Walla Walla Valley\", \"10. Salina Island\", \"11. Solta\", \"12. Iguazu Falls\"], \"y\": [2891000, 2800000, 2581000, 928850, 559277, 287651, 84554, 60000, 32237, 4000, 1700, 0], \"type\": \"bar\", \"uid\": \"3e2d182a-bd45-11e9-a88c-235ce2680aa4\"}, {\"name\": \"areas\", \"text\": [\"1. Buenos Aires\", \"2. Toronto\", \"3. Pyeongchang\", \"4. Marakesh\", \"5. Albuquerque\", \"6. Los Cabos\", \"7. Greenville\", \"8. Archipelago Sea\", \"9. Walla Walla Valley\", \"10. Salina Island\", \"11. Solta\", \"12. Iguazu Falls\"], \"x\": [\"1. Buenos Aires\", \"2. Toronto\", \"3. Pyeongchang\", \"4. Marakesh\", \"5. Albuquerque\", \"6. Los Cabos\", \"7. Greenville\", \"8. Archipelago Sea\", \"9. Walla Walla Valley\", \"10. Salina Island\", \"11. Solta\", \"12. Iguazu Falls\"], \"y\": [4758, 2731, 3194, 200, 491, 3750, 68, 8300, 33, 27, 59, 672], \"type\": \"bar\", \"uid\": \"3e2d1d52-bd45-11e9-a88c-235ce2680aa4\"}], {}, {\"showLink\": true, \"linkText\": \"Export to plot.ly\"})});</script>"
      ],
      "text/vnd.plotly.v1+html": [
       "<div id=\"c9dfc0d5-dcd6-4c20-909d-7095db5730c1\" style=\"height: 525px; width: 100%;\" class=\"plotly-graph-div\"></div><script type=\"text/javascript\">require([\"plotly\"], function(Plotly) { window.PLOTLYENV=window.PLOTLYENV || {};window.PLOTLYENV.BASE_URL=\"https://plot.ly\";Plotly.newPlot(\"c9dfc0d5-dcd6-4c20-909d-7095db5730c1\", [{\"name\": \"populations\", \"text\": [\"1. Buenos Aires\", \"2. Toronto\", \"3. Pyeongchang\", \"4. Marakesh\", \"5. Albuquerque\", \"6. Los Cabos\", \"7. Greenville\", \"8. Archipelago Sea\", \"9. Walla Walla Valley\", \"10. Salina Island\", \"11. Solta\", \"12. Iguazu Falls\"], \"x\": [\"1. Buenos Aires\", \"2. Toronto\", \"3. Pyeongchang\", \"4. Marakesh\", \"5. Albuquerque\", \"6. Los Cabos\", \"7. Greenville\", \"8. Archipelago Sea\", \"9. Walla Walla Valley\", \"10. Salina Island\", \"11. Solta\", \"12. Iguazu Falls\"], \"y\": [2891000, 2800000, 2581000, 928850, 559277, 287651, 84554, 60000, 32237, 4000, 1700, 0], \"type\": \"bar\", \"uid\": \"3e2d182a-bd45-11e9-a88c-235ce2680aa4\"}, {\"name\": \"areas\", \"text\": [\"1. Buenos Aires\", \"2. Toronto\", \"3. Pyeongchang\", \"4. Marakesh\", \"5. Albuquerque\", \"6. Los Cabos\", \"7. Greenville\", \"8. Archipelago Sea\", \"9. Walla Walla Valley\", \"10. Salina Island\", \"11. Solta\", \"12. Iguazu Falls\"], \"x\": [\"1. Buenos Aires\", \"2. Toronto\", \"3. Pyeongchang\", \"4. Marakesh\", \"5. Albuquerque\", \"6. Los Cabos\", \"7. Greenville\", \"8. Archipelago Sea\", \"9. Walla Walla Valley\", \"10. Salina Island\", \"11. Solta\", \"12. Iguazu Falls\"], \"y\": [4758, 2731, 3194, 200, 491, 3750, 68, 8300, 33, 27, 59, 672], \"type\": \"bar\", \"uid\": \"3e2d1d52-bd45-11e9-a88c-235ce2680aa4\"}], {}, {\"showLink\": true, \"linkText\": \"Export to plot.ly\"})});</script>"
      ]
     },
     "metadata": {},
     "output_type": "display_data"
    }
   ],
   "source": [
    "import plotly\n",
    "plotly.offline.init_notebook_mode(connected=True)\n",
    "plotly.offline.iplot([trace_populations, trace_areas])"
   ]
  },
  {
   "cell_type": "markdown",
   "metadata": {},
   "source": [
    "### Summary"
   ]
  },
  {
   "cell_type": "markdown",
   "metadata": {},
   "source": [
    "In this section we saw how we can use `for` loops to go through elements of a list and perform the same operation on each.  By using `for` loops we were able to reduce the amount of code that we wrote and while also writing more expressive code."
   ]
  }
 ],
 "metadata": {
  "kernelspec": {
   "display_name": "Python 3",
   "language": "python",
   "name": "python3"
  },
  "language_info": {
   "codemirror_mode": {
    "name": "ipython",
    "version": 3
   },
   "file_extension": ".py",
   "mimetype": "text/x-python",
   "name": "python",
   "nbconvert_exporter": "python",
   "pygments_lexer": "ipython3",
   "version": "3.7.3"
  }
 },
 "nbformat": 4,
 "nbformat_minor": 2
}
