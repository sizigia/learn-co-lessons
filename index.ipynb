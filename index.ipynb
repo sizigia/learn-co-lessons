{
 "cells": [
  {
   "cell_type": "markdown",
   "metadata": {},
   "source": [
    "# Practice with datatypes"
   ]
  },
  {
   "cell_type": "markdown",
   "metadata": {},
   "source": [
    "### Introduction"
   ]
  },
  {
   "cell_type": "markdown",
   "metadata": {},
   "source": [
    "In the past few lessons, we have learned about working with different types of data in Python: strings, numbers (ints and floats), and booleans.  Now let's put that knowledge into action.\n",
    "\n",
    "In this lesson we'll imagine that just met Art Vandelay, a CEO of his own travel agency, Vandelay Industries.  He gave us his business card, and we would like to use our knowledge of strings to format his information properly before we file it away."
   ]
  },
  {
   "cell_type": "markdown",
   "metadata": {},
   "source": [
    "### Learning Objectives\n",
    "* Manipulate strings with built-in methods\n",
    "* Practice coercing data types and changing numbers"
   ]
  },
  {
   "cell_type": "markdown",
   "metadata": {},
   "source": [
    "### Here to mingle "
   ]
  },
  {
   "cell_type": "markdown",
   "metadata": {},
   "source": [
    "The next morning you take out the business card, ready to format it using your programming skills, and here is what you find."
   ]
  },
  {
   "cell_type": "markdown",
   "metadata": {},
   "source": [
    "![](./biz-card-mistakes.jpg)"
   ]
  },
  {
   "cell_type": "markdown",
   "metadata": {},
   "source": [
    "Yea, he may not be our first choice, but we said he'd give us a discount so we move ahead.  Plus his poor formatting on his card will give us practice with strings.  \n",
    "\n",
    "And we know that a lot of information online is mistyped.  Just think of when all the times people misenter information on forms.  So let's get to work."
   ]
  },
  {
   "cell_type": "markdown",
   "metadata": {},
   "source": [
    "### Solving your first lab"
   ]
  },
  {
   "cell_type": "markdown",
   "metadata": {},
   "source": [
    "This is your first lab, and here you'll see that we have provided some data for you.  Next to the data, you will see a comment indicating what the data should look like after you change it.  Let's do the first one together.  \n",
    "\n",
    "For example, let's say we want to capitalize all of the letters of \"art vandlay\".  You'll see the following:"
   ]
  },
  {
   "cell_type": "code",
   "execution_count": null,
   "metadata": {},
   "outputs": [],
   "source": [
    "\"art vandelay\" # 'ART VANDELAY'"
   ]
  },
  {
   "cell_type": "markdown",
   "metadata": {},
   "source": [
    "Notice that there is no output below the gray code below.  This is because Jupyter notebooks do not automatically run our code - so they do not automatically know the output.  To display the output, you must **run** the code by clicking on the gray cell and then pressing shift + enter.  Try it above and you will see output below the cell."
   ]
  },
  {
   "cell_type": "markdown",
   "metadata": {},
   "source": [
    "Ok, once you see the output take a look at the hash tag to the right of the string.  The hash tag to the right is a comment.  Comments are used for programmers to annotate their code.  But a comment has no impact on the code.  See this by running the next cell below (again, press shift + enter)."
   ]
  },
  {
   "cell_type": "code",
   "execution_count": null,
   "metadata": {},
   "outputs": [],
   "source": [
    "'hello'\n",
    "### whattttt"
   ]
  },
  {
   "cell_type": "markdown",
   "metadata": {},
   "source": [
    "If you press shift+enter on the cell above to run the code, you will see that Python happily ignores the comment.  So here (and in future labs), we will provide the comment to indicate what you should see as the return value of your code.  When you press shift+enter, and the output below matches the comment to the right of your code, you did it correctly."
   ]
  },
  {
   "cell_type": "markdown",
   "metadata": {},
   "source": [
    "> In future labs, Learn will check your code to ensure that you did it correctly.  But for your first lab, this works fine."
   ]
  },
  {
   "cell_type": "markdown",
   "metadata": {},
   "source": [
    "So to get our output to match comment we change it to the following:"
   ]
  },
  {
   "cell_type": "code",
   "execution_count": null,
   "metadata": {},
   "outputs": [],
   "source": [
    "\"art vandelay\".upper() # 'ART VANDELAY'"
   ]
  },
  {
   "cell_type": "markdown",
   "metadata": {},
   "source": [
    "### Get going with strings"
   ]
  },
  {
   "cell_type": "markdown",
   "metadata": {},
   "source": [
    "First use the `title` method to capitalize the first letter of each word in \"art vandelay\"`."
   ]
  },
  {
   "cell_type": "code",
   "execution_count": null,
   "metadata": {},
   "outputs": [],
   "source": [
    "\"art vandelay\" # 'Art Vandelay'"
   ]
  },
  {
   "cell_type": "markdown",
   "metadata": {},
   "source": [
    "Now let's uppercase all of the letters of \"Ceo\"."
   ]
  },
  {
   "cell_type": "code",
   "execution_count": null,
   "metadata": {},
   "outputs": [],
   "source": [
    "\"Ceo\" # 'CEO'"
   ]
  },
  {
   "cell_type": "markdown",
   "metadata": {},
   "source": [
    "Next, write a method that answers a question about our email addresses.  Every email address should end with \".com\".  Use your knowledge of string methods to check if the email address ends with \".com\" and return `True` or `False` accordingly. "
   ]
  },
  {
   "cell_type": "code",
   "execution_count": null,
   "metadata": {},
   "outputs": [],
   "source": [
    "\"art.vandelay@vandelay.co\" # False"
   ]
  },
  {
   "cell_type": "markdown",
   "metadata": {},
   "source": [
    "As you can see, the website \"vandelay.com\" is not preceded by `\"www.\"`.  Use the plus sign to change the website 'vandelay.com' to the string `'www.vandelay.com'`."
   ]
  },
  {
   "cell_type": "code",
   "execution_count": null,
   "metadata": {
    "scrolled": true
   },
   "outputs": [],
   "source": [
    "'vandelay.com' # 'www.vandelay.com'"
   ]
  },
  {
   "cell_type": "markdown",
   "metadata": {},
   "source": [
    "### Working with numbers"
   ]
  },
  {
   "cell_type": "markdown",
   "metadata": {},
   "source": [
    "Finally, Mr. Vandelay gave us his phone number, but he actually has a second number different ones listed.  All three numbers are the same except for the ending.  Coerce the string of his phone number to an `int` and add one, then add two to change the number.  "
   ]
  },
  {
   "cell_type": "code",
   "execution_count": null,
   "metadata": {},
   "outputs": [],
   "source": [
    "\"7285553334\" # 7285553335"
   ]
  },
  {
   "cell_type": "code",
   "execution_count": null,
   "metadata": {},
   "outputs": [],
   "source": [
    "\"7285553334\" # 7285553336"
   ]
  },
  {
   "cell_type": "markdown",
   "metadata": {},
   "source": [
    "### Summary"
   ]
  },
  {
   "cell_type": "markdown",
   "metadata": {},
   "source": [
    "Your first lab done!  Sweet.  In this lab, you practiced working with string methods to operate on and answer questions about strings.  You wrote methods that return Booleans.  And you changed strings to an `int` to then perform addition.  So much of working with data, is ensuring that our data is properly formatted so we can then operate on it and in this lab you saw how to use code to just that."
   ]
  }
 ],
 "metadata": {
  "kernelspec": {
   "display_name": "Python 3",
   "language": "python",
   "name": "python3"
  },
  "language_info": {
   "codemirror_mode": {
    "name": "ipython",
    "version": 3
   },
   "file_extension": ".py",
   "mimetype": "text/x-python",
   "name": "python",
   "nbconvert_exporter": "python",
   "pygments_lexer": "ipython3",
   "version": "3.6.1"
  }
 },
 "nbformat": 4,
 "nbformat_minor": 2
}
