{
 "cells": [
  {
   "cell_type": "markdown",
   "metadata": {},
   "source": [
    "# Conditionals in Python Lab"
   ]
  },
  {
   "cell_type": "markdown",
   "metadata": {},
   "source": [
    "### Introduction"
   ]
  },
  {
   "cell_type": "markdown",
   "metadata": {},
   "source": [
    "In our earlier lab on working with functional arguments, we found ways to work with food in Yelp.  In this lesson, we'll add new methods with our new knowledge of conditionals."
   ]
  },
  {
   "cell_type": "markdown",
   "metadata": {},
   "source": [
    "### Again, our two restuarants in Albuquerque"
   ]
  },
  {
   "cell_type": "markdown",
   "metadata": {},
   "source": [
    "Let's take another look at our data for a single restaurant.  Once again, we have Fork and Fig, as our sample of the data Yelp will provide on a restaurant."
   ]
  },
  {
   "cell_type": "code",
   "execution_count": 2,
   "metadata": {
    "collapsed": true
   },
   "outputs": [],
   "source": [
    "fork_fig = {'categories': [{'alias': 'burgers', 'title': 'Burgers'},\n",
    "  {'alias': 'sandwiches', 'title': 'Sandwiches'},\n",
    "  {'alias': 'salad', 'title': 'Salad'}],\n",
    " 'coordinates': {'latitude': 35.10871, 'longitude': -106.56739},\n",
    " 'display_phone': '(505) 881-5293',\n",
    " 'distance': 3571.724649307866,\n",
    " 'id': 'fork-and-fig-albuquerque',\n",
    " 'image_url': 'https://s3-media1.fl.yelpcdn.com/bphoto/_-DpXKfS3jv6DyA47g6Fxg/o.jpg',\n",
    " 'is_closed': False,\n",
    " 'location': {'address1': '6904 Menaul Blvd NE',\n",
    "  'address2': 'Ste C',\n",
    "  'address3': '',\n",
    "  'city': 'Albuquerque',\n",
    "  'country': 'US',\n",
    "  'display_address': ['6904 Menaul Blvd NE', 'Ste C', 'Albuquerque, NM 87110'],\n",
    "  'state': 'NM',\n",
    "  'zip_code': '87110'},\n",
    " 'name': 'Fork & Fig',\n",
    " 'phone': '+15058815293',\n",
    " 'price': '$$',\n",
    " 'rating': 4.5,\n",
    " 'review_count': 604,\n",
    " 'transactions': [],\n",
    " 'url': 'https://www.yelp.com/biz/fork-and-fig-albuquerque?adjust_creative=SYc8R4Gowqru5h4SBKZXsQ&utm_campaign=yelp_api_v3&utm_medium=api_v3_business_search&utm_source=SYc8R4Gowqru5h4SBKZXsQ'}"
   ]
  },
  {
   "cell_type": "markdown",
   "metadata": {},
   "source": [
    "And here is Frontier."
   ]
  },
  {
   "cell_type": "code",
   "execution_count": 16,
   "metadata": {
    "collapsed": true
   },
   "outputs": [],
   "source": [
    "frontier_restaurant = {'categories': [{'alias': 'mexican', 'title': 'Mexican'},\n",
    "  {'alias': 'diners', 'title': 'Diners'},\n",
    "  {'alias': 'tradamerican', 'title': 'American (Traditional)'}],\n",
    " 'coordinates': {'latitude': 35.0808088832532, 'longitude': -106.619402244687},\n",
    " 'display_phone': '(505) 266-0550',\n",
    " 'distance': 4033.6583235266075,\n",
    " 'id': 'frontier-restaurant-albuquerque-2',\n",
    " 'image_url': 'https://s3-media4.fl.yelpcdn.com/bphoto/M9L2z6-G0NobuDJ6YTh6VA/o.jpg',\n",
    " 'is_closed': True,\n",
    " 'location': {'address1': '2400 Central Ave SE',\n",
    "  'address2': '',\n",
    "  'address3': '',\n",
    "  'city': 'Albuquerque',\n",
    "  'country': 'US',\n",
    "  'display_address': ['2400 Central Ave SE', 'Albuquerque, NM 87106'],\n",
    "  'state': 'NM',\n",
    "  'zip_code': '87106'},\n",
    " 'name': 'Frontier Restaurant',\n",
    " 'phone': '+15052660550',\n",
    " 'price': '$',\n",
    " 'rating': 4.0,\n",
    " 'review_count': 1369,\n",
    " 'transactions': [],\n",
    " 'url': 'https://www.yelp.com/biz/frontier-restaurant-albuquerque-2?adjust_creative=SYc8R4Gowqru5h4SBKZXsQ&utm_campaign=yelp_api_v3&utm_medium=api_v3_business_search&utm_source=SYc8R4Gowqru5h4SBKZXsQ'}"
   ]
  },
  {
   "cell_type": "markdown",
   "metadata": {},
   "source": [
    "And once again, here are the keys of the dictionaries above."
   ]
  },
  {
   "cell_type": "code",
   "execution_count": 17,
   "metadata": {},
   "outputs": [
    {
     "data": {
      "text/plain": [
       "dict_keys(['categories', 'coordinates', 'display_phone', 'distance', 'id', 'image_url', 'is_closed', 'location', 'name', 'phone', 'price', 'rating', 'review_count', 'transactions', 'url'])"
      ]
     },
     "execution_count": 17,
     "metadata": {},
     "output_type": "execute_result"
    }
   ],
   "source": [
    "fork_fig.keys()"
   ]
  },
  {
   "cell_type": "markdown",
   "metadata": {},
   "source": [
    "### Writing functions with conditionals"
   ]
  },
  {
   "cell_type": "markdown",
   "metadata": {},
   "source": [
    "Now let's write a function called `better_restaurant` that provided two restaurants, resturns the restaurant with the better rating.  The first argument is `restaurant` and the second argument is `alternative`.  "
   ]
  },
  {
   "cell_type": "code",
   "execution_count": 18,
   "metadata": {
    "collapsed": true
   },
   "outputs": [],
   "source": [
    "def better_restaurant(restaurant, alternative):\n",
    "    if restaurant['rating'] > alternative['rating']:\n",
    "        return restaurant\n",
    "    else:\n",
    "        return alternative"
   ]
  },
  {
   "cell_type": "code",
   "execution_count": 19,
   "metadata": {},
   "outputs": [
    {
     "data": {
      "text/plain": [
       "'Fork & Fig'"
      ]
     },
     "execution_count": 19,
     "metadata": {},
     "output_type": "execute_result"
    }
   ],
   "source": [
    "better_restaurant(frontier_restaurant, fork_fig)['name'] # 'Fork & Fig'\n",
    "better_restaurant(fork_fig, frontier_restaurant)['name'] # 'Fork & Fig'"
   ]
  },
  {
   "cell_type": "markdown",
   "metadata": {},
   "source": [
    "Now let's write a function called `cheaper_restaurant` that returns the restaurant that has a higher price, that is the restaurant that has more `'$'` signs, than the alternative restaurant.  The first argument is `restaurant` and the second argument is `alternative`."
   ]
  },
  {
   "cell_type": "code",
   "execution_count": 20,
   "metadata": {},
   "outputs": [],
   "source": [
    "def cheaper_restaurant(restaurant, alternative):\n",
    "    if len(restaurant['price']) < len(alternative['price']):\n",
    "        return restaurant\n",
    "    else:\n",
    "        return alternative"
   ]
  },
  {
   "cell_type": "code",
   "execution_count": 21,
   "metadata": {},
   "outputs": [
    {
     "data": {
      "text/plain": [
       "'Frontier Restaurant'"
      ]
     },
     "execution_count": 21,
     "metadata": {},
     "output_type": "execute_result"
    }
   ],
   "source": [
    "cheaper_restaurant(fork_fig, frontier_restaurant)['name'] # 'Frontier Restaurant'\n",
    "cheaper_restaurant(frontier_restaurant, fork_fig)['name'] # 'Frontier Restaurant'"
   ]
  },
  {
   "cell_type": "markdown",
   "metadata": {},
   "source": [
    "### Conditionals and Loops"
   ]
  },
  {
   "cell_type": "markdown",
   "metadata": {},
   "source": [
    "Let's continue our work of conditionals by seeing how they can be combined with loops.  So write a function called `open_restaurants` that takes as an argument a list of restaurants and returns only a list of only the restaurants that are not closed.  "
   ]
  },
  {
   "cell_type": "code",
   "execution_count": 23,
   "metadata": {},
   "outputs": [
    {
     "data": {
      "text/plain": [
       "True"
      ]
     },
     "execution_count": 23,
     "metadata": {},
     "output_type": "execute_result"
    }
   ],
   "source": [
    "fork_fig['is_closed'] # False\n",
    "frontier_restaurant['is_closed'] # True"
   ]
  },
  {
   "cell_type": "code",
   "execution_count": 27,
   "metadata": {
    "collapsed": true
   },
   "outputs": [],
   "source": [
    "restaurants = [fork_fig, frontier_restaurant]"
   ]
  },
  {
   "cell_type": "code",
   "execution_count": 28,
   "metadata": {},
   "outputs": [],
   "source": [
    "def open_restaurants(restaurants):\n",
    "    selected = []\n",
    "    for restaurant in restaurants:\n",
    "        if not restaurant['is_closed']:\n",
    "            selected.append(restaurant)\n",
    "    return selected"
   ]
  },
  {
   "cell_type": "code",
   "execution_count": 34,
   "metadata": {},
   "outputs": [
    {
     "data": {
      "text/plain": [
       "'Fork & Fig'"
      ]
     },
     "execution_count": 34,
     "metadata": {},
     "output_type": "execute_result"
    }
   ],
   "source": [
    "len(open_restaurants(restaurants)) # 1\n",
    "open_restaurants(restaurants)[0]['name'] # 'Fork & Fig'"
   ]
  },
  {
   "cell_type": "markdown",
   "metadata": {},
   "source": [
    "### Summary"
   ]
  },
  {
   "cell_type": "markdown",
   "metadata": {},
   "source": [
    "Great!  Through this lab we saw how to pass arguments to functions, multiple arguments to functions, and how to implement functinons with default arguments."
   ]
  }
 ],
 "metadata": {
  "kernelspec": {
   "display_name": "Python 3",
   "language": "python",
   "name": "python3"
  },
  "language_info": {
   "codemirror_mode": {
    "name": "ipython",
    "version": 3
   },
   "file_extension": ".py",
   "mimetype": "text/x-python",
   "name": "python",
   "nbconvert_exporter": "python",
   "pygments_lexer": "ipython3",
   "version": "3.6.1"
  }
 },
 "nbformat": 4,
 "nbformat_minor": 2
}
