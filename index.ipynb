{
 "cells": [
  {
   "cell_type": "markdown",
   "metadata": {},
   "source": [
    "# Conditionals"
   ]
  },
  {
   "cell_type": "markdown",
   "metadata": {},
   "source": [
    "### Introduction"
   ]
  },
  {
   "cell_type": "markdown",
   "metadata": {},
   "source": [
    "So far, we have seen how retrieve data from our code, and manipulate that data.  What we have not learned, however, is how to make decisions with that data.  Making decisions is something that we do every day in the real world.  For example, if a restaurant is too expensive we may want to choose a different one.  If it's too cold outside, we should find something to do inside.  These are the types of decisions we want our code to make as well.  After learning about conditionals we can do just that.  "
   ]
  },
  {
   "cell_type": "markdown",
   "metadata": {},
   "source": [
    "### Learning Objectives"
   ]
  },
  {
   "cell_type": "markdown",
   "metadata": {},
   "source": [
    "* Understand how an `if` statement can change the execution flow of our code when certain conditions are met\n",
    "* Understand how the `if` keyword works with the `else` keyword in Python\n",
    "* See how select certain data by combining `if` statements in `for` loops "
   ]
  },
  {
   "cell_type": "markdown",
   "metadata": {},
   "source": [
    "### If statement and execution flow"
   ]
  },
  {
   "cell_type": "markdown",
   "metadata": {},
   "source": [
    "So far in Python, all of our lines of code run one after the other.  So in the code below, `vacation_days` is assigned to equal 0, then reassigned to incremented zero to one, and then increase it by one more to equal two."
   ]
  },
  {
   "cell_type": "code",
   "execution_count": 1,
   "metadata": {},
   "outputs": [
    {
     "data": {
      "text/plain": [
       "2"
      ]
     },
     "execution_count": 1,
     "metadata": {},
     "output_type": "execute_result"
    }
   ],
   "source": [
    "vacation_days = 0\n",
    "vacation_days += 1\n",
    "vacation_days += 1\n",
    "vacation_days"
   ]
  },
  {
   "cell_type": "markdown",
   "metadata": {},
   "source": [
    "> The += is used to increment.  The statement `vacation_days += 1` can be thought of as `vacation_days = vacation_days + 1`.  So before line 2, `vacation_days` is 0.  Then we reassign `vacation_days` to equal the previous value of `vacation_days`, 0, plus one.  And then increment `vacation_days` again.\n",
    "\n",
    "Contrast this with code that contains an `if` statement.  Code that is part of an `if` block runs does not run when the conditional argument is `False`.  So it is not necessarily the case that every line of code runs sequentially."
   ]
  },
  {
   "cell_type": "code",
   "execution_count": 34,
   "metadata": {
    "collapsed": true
   },
   "outputs": [],
   "source": [
    "vacation_days = 1\n",
    "if False:\n",
    "    # code does not run as conditional argument False\n",
    "    vacation_days += 1"
   ]
  },
  {
   "cell_type": "code",
   "execution_count": 32,
   "metadata": {},
   "outputs": [
    {
     "data": {
      "text/plain": [
       "1"
      ]
     },
     "execution_count": 32,
     "metadata": {},
     "output_type": "execute_result"
    }
   ],
   "source": [
    "vacation_days"
   ]
  },
  {
   "cell_type": "markdown",
   "metadata": {
    "collapsed": true
   },
   "source": [
    "Because above, the code after `if` equals `False`, the code directly underneath is not run.  So, `vacation_days` stays assigned to the number 1.  \n",
    "\n",
    "Just as we did with functions, we indicate that something is part of the block by indenting.  So the line `vacation_days += 1` is indented to ensure that whether it is run depends on the conditional argument above.  To end the block we simply stop indenting."
   ]
  },
  {
   "cell_type": "code",
   "execution_count": 35,
   "metadata": {},
   "outputs": [
    {
     "data": {
      "text/plain": [
       "3"
      ]
     },
     "execution_count": 35,
     "metadata": {},
     "output_type": "execute_result"
    }
   ],
   "source": [
    "vacation_days = 1\n",
    "if False:\n",
    "    # if block begins\n",
    "    vacation_days += 1\n",
    "# if block ends\n",
    "vacation_days += 2\n",
    "vacation_days"
   ]
  },
  {
   "cell_type": "markdown",
   "metadata": {},
   "source": [
    "So in the above cell, the last two lines are run because they are not part of the `if` block.\n",
    "\n",
    "And, as you may have guessed, when the conditional argument is `True`, the code in the conditional block **does** run.  "
   ]
  },
  {
   "cell_type": "code",
   "execution_count": 36,
   "metadata": {},
   "outputs": [
    {
     "data": {
      "text/plain": [
       "2"
      ]
     },
     "execution_count": 36,
     "metadata": {},
     "output_type": "execute_result"
    }
   ],
   "source": [
    "vacation_days = 1\n",
    "if True:\n",
    "    # code in if block runs, as True\n",
    "    vacation_days += 1\n",
    "vacation_days"
   ]
  },
  {
   "cell_type": "markdown",
   "metadata": {
    "collapsed": true
   },
   "source": [
    "### Code that sometimes runs"
   ]
  },
  {
   "cell_type": "markdown",
   "metadata": {},
   "source": [
    "Our code in conditional arguments becomes more interesting when we use conditional arguments that are less direct."
   ]
  },
  {
   "cell_type": "code",
   "execution_count": 37,
   "metadata": {
    "collapsed": true
   },
   "outputs": [],
   "source": [
    "def long_vacation(number_of_days):\n",
    "    if number_of_days > 4:\n",
    "        return 'that is a long vacation'"
   ]
  },
  {
   "cell_type": "code",
   "execution_count": 40,
   "metadata": {
    "collapsed": true
   },
   "outputs": [],
   "source": [
    "long_vacation(5) # 'that is a long vacation'\n",
    "long_vacation(3) # None"
   ]
  },
  {
   "cell_type": "markdown",
   "metadata": {},
   "source": [
    "In the code above, you can hopefully see the power of our `if` statement.  Our `if` argument is the expression `number_of_days > 4`, which sometimes evaluates to `True` and sometimes `False`, it depends on the number of days."
   ]
  },
  {
   "cell_type": "markdown",
   "metadata": {},
   "source": [
    "Now sometimes we want to say that when something is `True` do one thing, and when not `True` do something **else**."
   ]
  },
  {
   "cell_type": "code",
   "execution_count": 41,
   "metadata": {
    "collapsed": true
   },
   "outputs": [],
   "source": [
    "def vacation_length(number_of_days):\n",
    "    if number_of_days > 4:\n",
    "        return 'that is a long vacation'\n",
    "    else:\n",
    "        return 'not so long'"
   ]
  },
  {
   "cell_type": "code",
   "execution_count": 44,
   "metadata": {},
   "outputs": [
    {
     "data": {
      "text/plain": [
       "'that is a long vacation'"
      ]
     },
     "execution_count": 44,
     "metadata": {},
     "output_type": "execute_result"
    }
   ],
   "source": [
    "vacation_length(3) # 'not so long'\n",
    "vacation_length(5) # 'that is a long vacation'"
   ]
  },
  {
   "cell_type": "markdown",
   "metadata": {},
   "source": [
    "### Truthiness"
   ]
  },
  {
   "cell_type": "markdown",
   "metadata": {},
   "source": [
    "![truthiness](truthiness.png \"Truthiness\")"
   ]
  },
  {
   "cell_type": "markdown",
   "metadata": {},
   "source": [
    "So far our conditionals have depended on whether something exactly evaluates to `True` or `False`.  But conditionals don't force us to be so precise.  Conditionals also consider some values `True` whenever they are truthy.  Take a look at the following."
   ]
  },
  {
   "cell_type": "code",
   "execution_count": 1,
   "metadata": {},
   "outputs": [
    {
     "data": {
      "text/plain": [
       "2"
      ]
     },
     "execution_count": 1,
     "metadata": {},
     "output_type": "execute_result"
    }
   ],
   "source": [
    "vacation_days = 1\n",
    "if vacation_days:\n",
    "    # this is run\n",
    "    vacation_days += 1\n",
    "vacation_days"
   ]
  },
  {
   "cell_type": "markdown",
   "metadata": {},
   "source": [
    "Even through `vacation_days` did not equal `True` above, it still ran the code in the `if` block because `vacation_days` equaled 1 and 1 is considered truthy."
   ]
  },
  {
   "cell_type": "markdown",
   "metadata": {},
   "source": [
    "However, `0` is not considered truthy.  "
   ]
  },
  {
   "cell_type": "code",
   "execution_count": 2,
   "metadata": {},
   "outputs": [
    {
     "data": {
      "text/plain": [
       "0"
      ]
     },
     "execution_count": 2,
     "metadata": {},
     "output_type": "execute_result"
    }
   ],
   "source": [
    "vacation_days = 0\n",
    "if vacation_days:\n",
    "    # this is run\n",
    "    vacation_days += 1\n",
    "vacation_days"
   ]
  },
  {
   "cell_type": "markdown",
   "metadata": {},
   "source": [
    "So because of that, the `if` block is not run, `vacation_days` is not incremented, and it stays at 0, just as if `vacation_days` equaled `False`. \n",
    "\n",
    "So what is truthy and what is falsy in Python?  Zero is falsy, and `None` is falsy.  Also falsy is anything where `len` of that thing returns `False`, so `''`, `[]` are both falsy.  Let's see that. "
   ]
  },
  {
   "cell_type": "code",
   "execution_count": 3,
   "metadata": {
    "scrolled": true
   },
   "outputs": [
    {
     "data": {
      "text/plain": [
       "'Goodbye'"
      ]
     },
     "execution_count": 3,
     "metadata": {},
     "output_type": "execute_result"
    }
   ],
   "source": [
    "greeting = ''\n",
    "if greeting:\n",
    "    greeting += 'Hello'\n",
    "else:\n",
    "    greeting += 'Goodbye'\n",
    "greeting"
   ]
  },
  {
   "cell_type": "markdown",
   "metadata": {},
   "source": [
    "If we are ever curious about the whether something is truthy or falsy in Python, we can just ask with the `bool` function."
   ]
  },
  {
   "cell_type": "code",
   "execution_count": 7,
   "metadata": {},
   "outputs": [
    {
     "data": {
      "text/plain": [
       "True"
      ]
     },
     "execution_count": 7,
     "metadata": {},
     "output_type": "execute_result"
    }
   ],
   "source": [
    "bool(0) # False\n",
    "bool(1) # True"
   ]
  },
  {
   "cell_type": "markdown",
   "metadata": {},
   "source": [
    "### Conditionals in Loops"
   ]
  },
  {
   "cell_type": "markdown",
   "metadata": {},
   "source": [
    "Finally, we can use conditionals in loops.  This is great at filtering out certain elements and selecting just what we need.  Let's see this."
   ]
  },
  {
   "cell_type": "code",
   "execution_count": 13,
   "metadata": {
    "scrolled": true
   },
   "outputs": [
    {
     "data": {
      "text/plain": [
       "['hello', 'hola', 'hallo']"
      ]
     },
     "execution_count": 13,
     "metadata": {},
     "output_type": "execute_result"
    }
   ],
   "source": [
    "greetings = ['hello', 'bonjour', 'hola', 'hallo', 'ciao', 'ola', 'namaste', 'salam']\n",
    "\n",
    "def starts_with_h(words):\n",
    "    selected = []\n",
    "    for word in words:\n",
    "        if word.startswith('h'):\n",
    "            selected.append(word)\n",
    "    return selected \n",
    "\n",
    "starts_with_h(greetings)"
   ]
  },
  {
   "cell_type": "markdown",
   "metadata": {},
   "source": [
    "The above `starts_with_h` function uses a `for` loop to move through the list of words one by one.  For each word, it checks if the word starts with `h` and if it does, it adds that word to the `selected` list.  Finally, the function returns that list of selected elements.  So by using the `for` loop combined with `if` we can choose elements of a list based on a specific criteria."
   ]
  },
  {
   "cell_type": "markdown",
   "metadata": {},
   "source": [
    "### Summary"
   ]
  },
  {
   "cell_type": "markdown",
   "metadata": {},
   "source": [
    "In this lesson, we saw how conditionals allow us to make decisions with our code by only executing code under the `if` statement when the conditional argument is `True` or truthy.  We then saw how we can use the `else` statement to only run code when the conditional argument is `False` or falsy.  And as we know, code that is not in a conditional block is still run as normal.  \n",
    "\n",
    "We examined what is truthy or falsy, and saw that None, 0, and data with a length of zero are falsy.  If we are unsure, we can use the `bool` function to see a the boolean value of a piece of data.  Finally, we saw how by using `if` in a `for` loop we can return a subset of a collection that meets a criteria."
   ]
  }
 ],
 "metadata": {
  "kernelspec": {
   "display_name": "Python 3",
   "language": "python",
   "name": "python3"
  },
  "language_info": {
   "codemirror_mode": {
    "name": "ipython",
    "version": 3
   },
   "file_extension": ".py",
   "mimetype": "text/x-python",
   "name": "python",
   "nbconvert_exporter": "python",
   "pygments_lexer": "ipython3",
   "version": "3.6.5"
  }
 },
 "nbformat": 4,
 "nbformat_minor": 2
}
