{
 "cells": [
  {
   "cell_type": "markdown",
   "metadata": {},
   "source": [
    "# Being expressive with functions"
   ]
  },
  {
   "cell_type": "markdown",
   "metadata": {},
   "source": [
    "### Learning objectives"
   ]
  },
  {
   "cell_type": "markdown",
   "metadata": {},
   "source": [
    "* Understand what it means to say that a function is dependent on a variable\n",
    "* Understand how to express a multivariable function \n",
    "* Understand how to express a function that is composed of another function, and why we express functions that way  "
   ]
  },
  {
   "cell_type": "markdown",
   "metadata": {},
   "source": [
    "### Introduction"
   ]
  },
  {
   "cell_type": "markdown",
   "metadata": {},
   "source": [
    "Concepts in mathematics and in code tend to align.  Both are mechanisms to express an idea and model the world around it.  It's time we go off on a little bit of a tangent to explore how denoting functions in math aligns with denoting functions in code.  Some of these concepts may feel like review, but solidifying this foundation will provide clarity when we move on to explore other mathematical topics."
   ]
  },
  {
   "cell_type": "markdown",
   "metadata": {},
   "source": [
    "### Expressing functions"
   ]
  },
  {
   "cell_type": "markdown",
   "metadata": {},
   "source": [
    "Let's find a way to talk about functions in general.  We describe a function as $f(x)$.  $f(x)$ is our generic way to express a function.  We are not saying the output equals $y$ or anything else, we are just saying that the function returns an output.  For example, we can say the following:\n",
    "\n",
    "$$f(x) = 3x$$\n",
    "\n",
    "The expression above means that there is an output that equals 3 times $x$.  \n",
    "\n",
    "Note this *mathematical* expression of an output varying with an input lines up nicely with expressing *programmatically* how a function varies with an input.  In programming, we simply can use an argument to show that a function varies with an input."
   ]
  },
  {
   "cell_type": "code",
   "execution_count": 1,
   "metadata": {},
   "outputs": [],
   "source": [
    "def f(x):\n",
    "    return 3*x"
   ]
  },
  {
   "cell_type": "code",
   "execution_count": 2,
   "metadata": {},
   "outputs": [
    {
     "data": {
      "text/plain": [
       "9"
      ]
     },
     "execution_count": 2,
     "metadata": {},
     "output_type": "execute_result"
    }
   ],
   "source": [
    "f(3)"
   ]
  },
  {
   "cell_type": "markdown",
   "metadata": {},
   "source": [
    "### Evaluating functions at specific values"
   ]
  },
  {
   "cell_type": "markdown",
   "metadata": {},
   "source": [
    "Let's evaluate the function $f(x)$ at specific values of $x$.  So when $x = 3$, $f(x) = 3x = 3*3 = 9$.  And when $x = 4$,  $f(x) = 4*3 = 12$.  Another way of saying \"when $x = 3$ is simply to say $f(3)$.  So:\n",
    "$$f(3) = 9$$\n",
    "\n",
    "$$f(4) = 12$$\n",
    "\n",
    "That looks pretty similar to how we would evaluate a function at a specific value in code."
   ]
  },
  {
   "cell_type": "code",
   "execution_count": 3,
   "metadata": {},
   "outputs": [
    {
     "data": {
      "text/plain": [
       "9"
      ]
     },
     "execution_count": 3,
     "metadata": {},
     "output_type": "execute_result"
    }
   ],
   "source": [
    "f(3)"
   ]
  },
  {
   "cell_type": "code",
   "execution_count": 4,
   "metadata": {},
   "outputs": [
    {
     "data": {
      "text/plain": [
       "12"
      ]
     },
     "execution_count": 4,
     "metadata": {},
     "output_type": "execute_result"
    }
   ],
   "source": [
    "f(4)"
   ]
  },
  {
   "cell_type": "markdown",
   "metadata": {},
   "source": [
    "So far it feels like a small leap to go from expressing a function in math to expressing a function in code."
   ]
  },
  {
   "cell_type": "markdown",
   "metadata": {},
   "source": [
    "### Unpacking  the $x$ in  $f(x)$"
   ]
  },
  {
   "cell_type": "markdown",
   "metadata": {},
   "source": [
    "So the $x$ part of $f(x)$ indicates that the function produces different outputs with different values of $x$.  As our values of $x$ change, the output of the function also changes.  By describing our function as $f(x)$, or as \"a function of $x$\", we also indicate that the same $x$ input always returns the same output from the function.  \n",
    "\n",
    "Now take a look at another function:\n",
    "\n",
    "$$ f = 3x + y$$"
   ]
  },
  {
   "cell_type": "markdown",
   "metadata": {},
   "source": [
    "To determine this output, we need to know more than a specific value of $x$.  We also need to know the value of $y$.  So it's no longer the case that a specific input of $x$ always returns the same output from this function.  After all, if we fill in that x = 4, then $f = 3*4 + y$, and $f$ would still vary with different $y$ values. \n",
    "\n",
    "It is not just a specific input of $x$ that returns the same input, but specific inputs of $x$ *and $y$* that always return the same output.  We indicate this like so:"
   ]
  },
  {
   "cell_type": "markdown",
   "metadata": {},
   "source": [
    "$$ f(x,y) = 3x + y$$"
   ]
  },
  {
   "cell_type": "code",
   "execution_count": 5,
   "metadata": {},
   "outputs": [],
   "source": [
    "def f(x,y):\n",
    "    return 3*x + y"
   ]
  },
  {
   "cell_type": "markdown",
   "metadata": {},
   "source": [
    "And to indicate that we are evaluating the function at specific values of $x$ and $y$, we write the following: \n",
    "\n",
    "$$ f(3,4) = 3*3 + 4 = 13$$"
   ]
  },
  {
   "cell_type": "code",
   "execution_count": 6,
   "metadata": {},
   "outputs": [
    {
     "data": {
      "text/plain": [
       "13"
      ]
     },
     "execution_count": 6,
     "metadata": {},
     "output_type": "execute_result"
    }
   ],
   "source": [
    "f(3, 4)"
   ]
  },
  {
   "cell_type": "markdown",
   "metadata": {},
   "source": [
    "A function whose output depends on *multiple* variables, like $x$ and $y$, is called a **multivariable function**."
   ]
  },
  {
   "cell_type": "markdown",
   "metadata": {},
   "source": [
    "#### Test your knowledge"
   ]
  },
  {
   "cell_type": "markdown",
   "metadata": {},
   "source": [
    "Take a look at a new function.  How would we express the function:\n",
    "\n",
    "$$ f = 3x + 4$$\n",
    "\n",
    "Is that a multi-variable function?  Well, while the number 4 influences the output of the function, we do not need to know anything but the value of $x$ in order to determine the output of the function.  So we still would express that function as a single variable function:"
   ]
  },
  {
   "cell_type": "markdown",
   "metadata": {},
   "source": [
    "$$ f(x) = 3x + 4$$\n",
    "\n",
    "And in code:"
   ]
  },
  {
   "cell_type": "code",
   "execution_count": 7,
   "metadata": {},
   "outputs": [],
   "source": [
    "def f(x):\n",
    "    return 3*x + 4"
   ]
  },
  {
   "cell_type": "markdown",
   "metadata": {},
   "source": [
    "### Unpacking  the $f$ in  $f(x)$"
   ]
  },
  {
   "cell_type": "markdown",
   "metadata": {},
   "source": [
    "Now that we understand the significance of $x$ in $f(x)$ what does the $f$ mean?  Well not too much.  It just a label for a specific function.  We could easily written our previous function as:\n",
    "\n",
    "$$ g(x) = 3x + 4$$\n",
    "\n",
    "You will see functions labeled differently, $f(x)$, $g(x)$, $J(x)$.  This is just a way of labeling the function, similar to how we name our functions in code.  For example, we can assign:\n",
    "\n",
    "$$ f(x) = 10x + 12 $$\n",
    "\n",
    "$$ g(x) = x + 100 $$\n",
    "\n",
    "Later on, we can reference the second function, $g(x)$, and know which function we're referring to."
   ]
  },
  {
   "cell_type": "markdown",
   "metadata": {},
   "source": [
    "### Functions depending on other functions"
   ]
  },
  {
   "cell_type": "markdown",
   "metadata": {},
   "source": [
    "Now that we know how to label different functions, we can also take a look at what it means for functions to depend on other functions.  In code, we see this all of the time.  For example, here is a function that we have solved before."
   ]
  },
  {
   "cell_type": "code",
   "execution_count": 8,
   "metadata": {},
   "outputs": [
    {
     "data": {
      "text/plain": [
       "4"
      ]
     },
     "execution_count": 8,
     "metadata": {},
     "output_type": "execute_result"
    }
   ],
   "source": [
    "def squared_error(actual, expected):\n",
    "    return (actual - expected)**2\n",
    "\n",
    "squared_error(4, 2)"
   ]
  },
  {
   "cell_type": "markdown",
   "metadata": {},
   "source": [
    "But we can really break this function into two:"
   ]
  },
  {
   "cell_type": "code",
   "execution_count": 9,
   "metadata": {},
   "outputs": [
    {
     "data": {
      "text/plain": [
       "4"
      ]
     },
     "execution_count": 9,
     "metadata": {},
     "output_type": "execute_result"
    }
   ],
   "source": [
    "def error(actual, expected):\n",
    "    return actual - expected\n",
    "    \n",
    "def squared_error(actual, expected):\n",
    "    return error(actual, expected)**2\n",
    "\n",
    "squared_error(4, 2)"
   ]
  },
  {
   "cell_type": "markdown",
   "metadata": {},
   "source": [
    "In code, composing our functions from other functions helps us break down a problem.  It will be easier for us understand our code when we refer to it later on.  Similarly, functional composition in mathematics can also help break down problems and assist with readability.  Here is how we express it.  Let's represent the function `error` as $g(x, y) = x - y $, where $x$ represents actual and $y$ represents expected. "
   ]
  },
  {
   "cell_type": "markdown",
   "metadata": {},
   "source": [
    "$$g(x, y) = x - y  $$"
   ]
  },
  {
   "cell_type": "markdown",
   "metadata": {},
   "source": [
    "Now we can represent squared error as the following."
   ]
  },
  {
   "cell_type": "markdown",
   "metadata": {},
   "source": [
    "$$ f(g(x, y)) = g(x, y) ^2 $$"
   ]
  },
  {
   "cell_type": "markdown",
   "metadata": {},
   "source": [
    "Take a close look at this second function.  We are expressing that this second function, $f$, depends on $g(x, y)$ and thus also depends on $x$ and $y$.  The output of the function $f$ will vary according to a few inputs.  As we'll see soon, functional composition helps us break down some complex problems.  But really, we're just saying that to determine what $f(g(x,y))$ will output, we need to know the variables $x$ and $y$ as well as the function $g(x, y)$.  This relationship is similar to our `squared_error` function because we need to know the `error` function, as well as the arguments of `actual` and `expected`.  "
   ]
  },
  {
   "cell_type": "markdown",
   "metadata": {},
   "source": [
    "Let's see one more example to make sure that we have the hang of it.  Take the following function:\n",
    "\n",
    "$$z(x) = (3 + 4x)^2$$  \n",
    "\n",
    "Now let's try to represent with functional composition.  How?  Here's one way:\n",
    "\n",
    "$$f(x) = 3 + 4x $$ \n",
    "\n",
    "$$ g(f(x)) = f(x)^2 $$"
   ]
  },
  {
   "cell_type": "markdown",
   "metadata": {},
   "source": [
    "### Summary"
   ]
  },
  {
   "cell_type": "markdown",
   "metadata": {
    "collapsed": true
   },
   "source": [
    "In this section, we learned about expressing functions mathematically.  We saw that when what we call a function, the letter we use,whether $f$ or $g$ or $z$, doesn't matter.  We only are giving our function a name that we easily can refer to later on.  In the parentheses, we indicate what the output of the function is dependent on.  Sometimes the output of the function depends on one variable, and sometimes our function depends on multiple variables.  Sometimes our function depends on another *function*, whose output depends on other variables.  "
   ]
  }
 ],
 "metadata": {
  "kernelspec": {
   "display_name": "Python 3",
   "language": "python",
   "name": "python3"
  },
  "language_info": {
   "codemirror_mode": {
    "name": "ipython",
    "version": 3
   },
   "file_extension": ".py",
   "mimetype": "text/x-python",
   "name": "python",
   "nbconvert_exporter": "python",
   "pygments_lexer": "ipython3",
   "version": "3.6.4"
  }
 },
 "nbformat": 4,
 "nbformat_minor": 2
}
