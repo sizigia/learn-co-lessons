{
 "cells": [
  {
   "cell_type": "code",
   "execution_count": null,
   "metadata": {
    "collapsed": true
   },
   "outputs": [],
   "source": [
    "import plotly\n",
    "from plotly import graph_objs\n",
    "plotly.offline.init_notebook_mode(connected=True)\n",
    "\n",
    "# scatter plot of the data\n",
    "trace = graph_objs.Scatter(\n",
    "    x=list(map(lambda show: show['x'], shows)),\n",
    "    y=list(map(lambda show: show['y'], shows)),\n",
    "    mode=\"markers\"\n",
    ")\n",
    "\n",
    "layout= graph_objs.Layout(\n",
    "    xaxis= dict(\n",
    "        title= 'Movie Spend',\n",
    "        zeroline = True\n",
    "    ),\n",
    "    yaxis=dict(\n",
    "        title= 'Movie Revenue',\n",
    "        zeroline = True\n",
    "    ),\n",
    "    shapes=[\n",
    "        {\n",
    "            'type': 'line',\n",
    "            'x0': 0,\n",
    "            'y0': 100,\n",
    "            'x1': 400,\n",
    "            'y1': 700,\n",
    "            'line': {\n",
    "                'color': 'rgb(55, 128, 191)',\n",
    "                'width': 3,\n",
    "            },\n",
    "        },\n",
    "                {\n",
    "            'type': 'line',\n",
    "            'x0': 200,\n",
    "            'y0': 600,\n",
    "            'x1': 200,\n",
    "            'y1': 400,\n",
    "            'line': {\n",
    "                'color': 'rgb(178,34,34)',\n",
    "                'width': 3,\n",
    "            },\n",
    "        },\n",
    "        {\n",
    "            'type': 'line',\n",
    "            'x0': 100,\n",
    "            'y0': 150,\n",
    "            'x1': 100,\n",
    "            'y1': 250,\n",
    "            'line': {\n",
    "                'color': 'rgb(178,34,34)',\n",
    "                'width': 3,\n",
    "            },\n",
    "        }\n",
    "    ],\n",
    "    showlegend= False\n",
    ")\n",
    "\n",
    "plotly.offline.iplot(dict(data=[trace], layout=layout))"
   ]
  }
 ],
 "metadata": {
  "kernelspec": {
   "display_name": "Python 3",
   "language": "python",
   "name": "python3"
  },
  "language_info": {
   "codemirror_mode": {
    "name": "ipython",
    "version": 3
   },
   "file_extension": ".py",
   "mimetype": "text/x-python",
   "name": "python",
   "nbconvert_exporter": "python",
   "pygments_lexer": "ipython3",
   "version": "3.6.1"
  }
 },
 "nbformat": 4,
 "nbformat_minor": 2
}
