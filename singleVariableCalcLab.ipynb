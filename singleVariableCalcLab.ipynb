{
 "cells": [
  {
   "cell_type": "markdown",
   "metadata": {},
   "source": [
    "### Single Variable Calculus Lab"
   ]
  },
  {
   "cell_type": "markdown",
   "metadata": {},
   "source": [
    "In this lab, we will practice our knowledge of derivatives."
   ]
  },
  {
   "cell_type": "markdown",
   "metadata": {
    "collapsed": true
   },
   "source": [
    "Take a look at the below graph."
   ]
  },
  {
   "cell_type": "markdown",
   "metadata": {},
   "source": [
    "![](./tangentline.png)"
   ]
  },
  {
   "cell_type": "markdown",
   "metadata": {},
   "source": [
    "Now assume that the the blue line represents the function $f(b)$.  Also, assume that the orange line, labeled `trace 1`, is tangent to that line.  You are told that the orange tangent line can be represented by the formula y = 3x + 12.  In the below slot, write the derivative of the function $f(b)$ at the point of the tangent line.  For example write `derivative_for_first_problem = 18` if you believe that is the derivative. "
   ]
  },
  {
   "cell_type": "markdown",
   "metadata": {},
   "source": [
    "> Hint, the answer should be a number"
   ]
  },
  {
   "cell_type": "code",
   "execution_count": 2,
   "metadata": {
    "collapsed": true
   },
   "outputs": [],
   "source": [
    "derivative_for_first_problem = 3"
   ]
  },
  {
   "cell_type": "markdown",
   "metadata": {},
   "source": [
    "Now imagine that we have a new function, $f(b)$, and are given a new tangent line that is tangent to the function $f(b)$ when b = 3.  You can imagine still imagine that we are talking about the graph above, if it helps.  We are given `point_1` and `point_2`, which lie along that tangent line."
   ]
  },
  {
   "cell_type": "code",
   "execution_count": 11,
   "metadata": {
    "collapsed": true
   },
   "outputs": [],
   "source": [
    "point_1 = {'b': 3.0, 'y': 5}\n",
    "point_2 = {'b': 3.5, 'y': 7}"
   ]
  },
  {
   "cell_type": "markdown",
   "metadata": {},
   "source": [
    "Now write a function that takes point one and two as arguments and outputs the derivative of $f(b)$ when b = 3."
   ]
  },
  {
   "cell_type": "code",
   "execution_count": 12,
   "metadata": {
    "collapsed": true
   },
   "outputs": [],
   "source": [
    "def derivative_of_fb(point_1, point_2):\n",
    "    return (point_2['y'] - point_1['y'])/(point_2['b'] - point_1['b'])"
   ]
  },
  {
   "cell_type": "code",
   "execution_count": 13,
   "metadata": {},
   "outputs": [
    {
     "data": {
      "text/plain": [
       "4.0"
      ]
     },
     "execution_count": 13,
     "metadata": {},
     "output_type": "execute_result"
    }
   ],
   "source": [
    "derivative_of_fb(point_1, point_2) # 4.0"
   ]
  },
  {
   "cell_type": "markdown",
   "metadata": {},
   "source": [
    "Now imagine that we are told the following information.  We are told $f(b)$ at a point b outputs 10, and $f(b)$ at a point b + h outputs 15.  Imagine h = .0001.  In other words point is has a b value just a little bit larger than the first.  In code, you can we say we have the following."
   ]
  },
  {
   "cell_type": "code",
   "execution_count": 27,
   "metadata": {
    "collapsed": true
   },
   "outputs": [],
   "source": [
    "output_at_first_b = 10\n",
    "output_at_second_b = 10.5\n",
    "h = .0001"
   ]
  },
  {
   "cell_type": "markdown",
   "metadata": {},
   "source": [
    "Write a function that calculates the derivative of $f(b)$ at that first b value."
   ]
  },
  {
   "cell_type": "code",
   "execution_count": 28,
   "metadata": {
    "collapsed": true
   },
   "outputs": [],
   "source": [
    "def derivative_at_initial_point(output_at_first, output_at_second, h):\n",
    "    return (output_at_second_b - output_at_first_b)/h"
   ]
  },
  {
   "cell_type": "code",
   "execution_count": 29,
   "metadata": {},
   "outputs": [
    {
     "data": {
      "text/plain": [
       "5000.0"
      ]
     },
     "execution_count": 29,
     "metadata": {},
     "output_type": "execute_result"
    }
   ],
   "source": [
    "derivative_at_initial_point(output_at_first_b, output_at_second_b, h) # 5000.0"
   ]
  },
  {
   "cell_type": "markdown",
   "metadata": {},
   "source": [
    "#### Calculating with the derivative rules"
   ]
  },
  {
   "cell_type": "markdown",
   "metadata": {},
   "source": [
    "In the above examples, we were not given the underlying functions.  This time we will be.  However, it is a little tricky to write functions with multiple terms in code, and perform calculations on them in an easy way.  For example, how do we represent $f(b) = 2x^2 + 4x - 10 $.  We want to write it in a way that allows us to easily figure out how the exponent of each term."
   ]
  },
  {
   "cell_type": "markdown",
   "metadata": {},
   "source": [
    "Our technique will be the following.  We will write the formula as an array.  The index of the array will represent the exponent, and the value at that index will represent the constant the term is multiplied by.  For example, our formula $f(b) = 2x^2 + 4x - 10 $ is represented as the following:"
   ]
  },
  {
   "cell_type": "code",
   "execution_count": 30,
   "metadata": {
    "collapsed": true
   },
   "outputs": [],
   "source": [
    "first_terms = [-10, 4, 2]"
   ]
  },
  {
   "cell_type": "markdown",
   "metadata": {},
   "source": [
    "This works because our formula is really $-10*x^0 + 4*x^1 + 2*x^2 $, so each term has an index that corresponds to the value of the exponent."
   ]
  },
  {
   "cell_type": "markdown",
   "metadata": {},
   "source": [
    "Ok, so give this a shot. Write a new function $ f(b) = 3x^2 - 11 $ as an array which is assigned to the variable `second_terms`."
   ]
  },
  {
   "cell_type": "code",
   "execution_count": 31,
   "metadata": {
    "collapsed": true
   },
   "outputs": [],
   "source": [
    "second_terms = [-11, 0, 3]"
   ]
  },
  {
   "cell_type": "markdown",
   "metadata": {},
   "source": [
    "Ok, now write a function that given a function as an array, finds the constant multiplied by $x^2$.  Apply this to the function $ f(b) = 3x^2 - 11 $, which we represented as `second_terms`."
   ]
  },
  {
   "cell_type": "code",
   "execution_count": 35,
   "metadata": {
    "collapsed": true
   },
   "outputs": [],
   "source": [
    "def constant_mulitplied_by_x_squared(array_function):\n",
    "    return array_function[2]"
   ]
  },
  {
   "cell_type": "code",
   "execution_count": 33,
   "metadata": {},
   "outputs": [
    {
     "data": {
      "text/plain": [
       "3"
      ]
     },
     "execution_count": 33,
     "metadata": {},
     "output_type": "execute_result"
    }
   ],
   "source": [
    "constant_mulitplied_by_x_squared(second_terms)"
   ]
  },
  {
   "cell_type": "markdown",
   "metadata": {},
   "source": [
    "Ok, now let's apply this to finding the derivative.  Write a function called `single_term_derivative` that will find the derivative of any function with one term.  For example, apply it to the function $f(b) = x^3 $ which is represented by the following terms."
   ]
  },
  {
   "cell_type": "code",
   "execution_count": 36,
   "metadata": {
    "collapsed": true
   },
   "outputs": [],
   "source": [
    "single_term = [0, 0, 0, 1]"
   ]
  },
  {
   "cell_type": "code",
   "execution_count": 50,
   "metadata": {},
   "outputs": [
    {
     "data": {
      "text/plain": [
       "{'x^0': 0, 'x^1': 0, 'x^2': 3}"
      ]
     },
     "execution_count": 50,
     "metadata": {},
     "output_type": "execute_result"
    }
   ],
   "source": [
    "def single_term_derivative(array_function):\n",
    "    current_exponent = 0\n",
    "    derivitive_terms = {}\n",
    "    for i in range(len(array_function)):\n",
    "        current_constant = array_function[current_exponent]\n",
    "        exponent_term ='x^' + str(current_exponent - 1)\n",
    "        derivitive_terms[exponent_term] = current_constant * current_exponent\n",
    "        current_exponent+= 1\n",
    "    del derivitive_terms['x^-1']\n",
    "    return derivitive_terms"
   ]
  },
  {
   "cell_type": "code",
   "execution_count": null,
   "metadata": {
    "collapsed": true
   },
   "outputs": [],
   "source": [
    "single_term_derivative(single_term) # {'x^0': 0, 'x^1': 0, 'x^2': 3}"
   ]
  },
  {
   "cell_type": "code",
   "execution_count": 6,
   "metadata": {
    "collapsed": true
   },
   "outputs": [],
   "source": [
    "def mulit_term_derivative(array_function):\n",
    "    current_exponent = 0\n",
    "    derivitive_terms = {}\n",
    "    for i in range(len(array_function)):\n",
    "        current_constant = array_function[current_exponent]\n",
    "        exponent_term ='x^' + str(current_exponent - 1)\n",
    "        derivitive_terms[exponent_term] = current_constant * current_exponent\n",
    "        current_exponent+= 1\n",
    "    del derivitive_terms['x^-1']\n",
    "    return derivitive_terms "
   ]
  },
  {
   "cell_type": "markdown",
   "metadata": {},
   "source": [
    "Now make sure that your code works with multiterm derivatives."
   ]
  },
  {
   "cell_type": "code",
   "execution_count": 7,
   "metadata": {},
   "outputs": [
    {
     "data": {
      "text/plain": [
       "{'x^0': 0, 'x^1': 8, 'x^2': 9}"
      ]
     },
     "execution_count": 7,
     "metadata": {},
     "output_type": "execute_result"
    }
   ],
   "source": [
    "multiple_terms = [0, 0, 4, 3]\n",
    "mulit_term_derivative(multiple_terms) # {'x^0': 0, 'x^1': 8, 'x^2': 9}"
   ]
  },
  {
   "cell_type": "code",
   "execution_count": null,
   "metadata": {
    "collapsed": true
   },
   "outputs": [],
   "source": []
  }
 ],
 "metadata": {
  "kernelspec": {
   "display_name": "Python 3",
   "language": "python",
   "name": "python3"
  },
  "language_info": {
   "codemirror_mode": {
    "name": "ipython",
    "version": 3
   },
   "file_extension": ".py",
   "mimetype": "text/x-python",
   "name": "python",
   "nbconvert_exporter": "python",
   "pygments_lexer": "ipython3",
   "version": "3.6.1"
  }
 },
 "nbformat": 4,
 "nbformat_minor": 2
}
